{
 "cells": [
  {
   "cell_type": "code",
   "execution_count": 15,
   "id": "initial_id",
   "metadata": {
    "collapsed": true,
    "ExecuteTime": {
     "end_time": "2024-02-23T12:03:06.620891300Z",
     "start_time": "2024-02-23T12:03:06.611376100Z"
    }
   },
   "outputs": [],
   "source": [
    "import pandas as pd\n",
    "import Functions"
   ]
  },
  {
   "cell_type": "code",
   "execution_count": 16,
   "outputs": [
    {
     "name": "stderr",
     "output_type": "stream",
     "text": [
      "C:\\Users\\svenk\\Documents\\GitHub\\advanced_simulation\\Functions.py:219: FutureWarning: Series.__getitem__ treating keys as positions is deprecated. In a future version, integer keys will always be treated as labels (consistent with DataFrame behavior). To access a value by position, use `ser.iloc[pos]`\n",
      "  lsrp = row[i]\n",
      "C:\\Users\\svenk\\Documents\\GitHub\\advanced_simulation\\Functions.py:220: FutureWarning: Series.__getitem__ treating keys as positions is deprecated. In a future version, integer keys will always be treated as labels (consistent with DataFrame behavior). To access a value by position, use `ser.iloc[pos]`\n",
      "  lat = row[i + 1]\n",
      "C:\\Users\\svenk\\Documents\\GitHub\\advanced_simulation\\Functions.py:221: FutureWarning: Series.__getitem__ treating keys as positions is deprecated. In a future version, integer keys will always be treated as labels (consistent with DataFrame behavior). To access a value by position, use `ser.iloc[pos]`\n",
      "  lon = row[i + 2]\n",
      "C:\\Users\\svenk\\Documents\\GitHub\\advanced_simulation\\Functions.py:23: FutureWarning: Setting an item of incompatible dtype is deprecated and will raise in a future error of pandas. Value '[1076.58 1075.43]' has dtype incompatible with int64, please explicitly cast to a compatible dtype first.\n",
      "  df.loc[df['width'] > 45, df.select_dtypes(include=['number']).columns] = df.loc[df['width'] > 45,  df.select_dtypes(include=['number']).columns] / 100\n"
     ]
    }
   ],
   "source": [
    "bmms, df_rds, df_road_ranges, df_rds_restructured = Functions.clean('BMMS_overview.xlsx', '_roads.tsv')"
   ],
   "metadata": {
    "collapsed": false,
    "ExecuteTime": {
     "end_time": "2024-02-23T12:05:08.931380200Z",
     "start_time": "2024-02-23T12:03:07.122158400Z"
    }
   },
   "id": "587e7b9785c2874f"
  },
  {
   "cell_type": "code",
   "execution_count": 17,
   "outputs": [
    {
     "data": {
      "text/plain": "        road      km                   type  LRPName  \\\n0         N1   1.800            Box Culvert  LRP001a   \n1         N1   4.925            Box Culvert  LRP004b   \n2         N1   8.976       PC Girder Bridge  LRP008b   \n3         N1   8.976       PC Girder Bridge  LRP008b   \n4         N1  10.543            Box Culvert  LRP010a   \n...      ...     ...                    ...      ...   \n21397  Z8948   0.640            Box Culvert    LRPSb   \n21398  Z8948   1.010            Box Culvert  LRP001a   \n21399  Z8948   2.070  Baily with Steel Deck  LRP002a   \n21400  Z8948   2.070  Steel Beam & RCC Slab  LRP002a   \n21401  Z8948   2.100  Steel Beam & RCC Slab  LRP002c   \n\n                            name  length condition  structureNr  \\\n0                              .   11.30         A     117861.0   \n1                              .    6.60         A     117862.0   \n2              Kanch pur Bridge.  394.23         A     119889.0   \n3      KANCHPUR PC GIRDER BRIDGE  397.00         C     101102.0   \n4           KATCHPUR BOX CULVERT    8.00         B     101106.0   \n...                          ...     ...       ...          ...   \n21397                          .    2.00         A     116833.0   \n21398                          .    2.00         A     116834.0   \n21399                        NaN   27.36         A     119862.0   \n21400                          .   18.50         A     116835.0   \n21401                          .   18.50         A     116836.0   \n\n                                                roadName chainage  width  \\\n0      Dhaka (Jatrabari)-Comilla (Mainamati)-Chittago...      1.8  19.50   \n1      Dhaka (Jatrabari)-Comilla (Mainamati)-Chittago...    4.925  35.40   \n2      Dhaka (Jatrabari)-Comilla (Mainamati)-Chittago...    8.976    NaN   \n3      Dhaka (Jatrabari)-Comilla (Mainamati)-Chittago...    8.976  14.65   \n4      Dhaka (Jatrabari)-Comilla (Mainamati)-Chittago...   10.543  21.70   \n...                                                  ...      ...    ...   \n21397                           Fakirhat-Khasherhat Road     0.64  10.00   \n21398                           Fakirhat-Khasherhat Road     1.01   9.70   \n21399                           Fakirhat-Khasherhat Road     2.07    NaN   \n21400                           Fakirhat-Khasherhat Road     2.07   3.00   \n21401                           Fakirhat-Khasherhat Road      2.1   3.00   \n\n       constructionYear  spans     zone   circle     division   sub-division  \\\n0                2005.0    2.0    Dhaka    Dhaka  Narayanganj  Narayanganj-1   \n1                2006.0    1.0    Dhaka    Dhaka  Narayanganj  Narayanganj-1   \n2                   NaN    NaN    Dhaka    Dhaka  Narayanganj  Narayanganj-1   \n3                1986.0    8.0    Dhaka    Dhaka  Narayanganj  Narayanganj-1   \n4                1987.0    2.0    Dhaka    Dhaka  Narayanganj      Vitikandi   \n...                 ...    ...      ...      ...          ...            ...   \n21397            1998.0    1.0  Barisal  Barisal        Bhola          Bhola   \n21398            1995.0    1.0  Barisal  Barisal        Bhola          Bhola   \n21399               NaN    NaN  Barisal  Barisal        Bhola          Bhola   \n21400            1994.0    3.0  Barisal  Barisal        Bhola          Bhola   \n21401            1990.0    3.0  Barisal  Barisal        Bhola          Bhola   \n\n             lat        lon  EstimatedLoc  \n0      23.702889  90.450389          bcs1  \n1      23.693611  90.478833          bcs1  \n2      23.704583  90.518833  road_precise  \n3      23.702083  90.515917          bcs1  \n4      23.702056  90.528194          bcs1  \n...          ...        ...           ...  \n21397  22.422778  90.787222          bcs1  \n21398  22.419167  90.787500          bcs1  \n21399  22.416667  90.789583          bcs1  \n21400  22.414167  90.791667          bcs1  \n21401  22.414167  90.791944          bcs1  \n\n[21402 rows x 20 columns]",
      "text/html": "<div>\n<style scoped>\n    .dataframe tbody tr th:only-of-type {\n        vertical-align: middle;\n    }\n\n    .dataframe tbody tr th {\n        vertical-align: top;\n    }\n\n    .dataframe thead th {\n        text-align: right;\n    }\n</style>\n<table border=\"1\" class=\"dataframe\">\n  <thead>\n    <tr style=\"text-align: right;\">\n      <th></th>\n      <th>road</th>\n      <th>km</th>\n      <th>type</th>\n      <th>LRPName</th>\n      <th>name</th>\n      <th>length</th>\n      <th>condition</th>\n      <th>structureNr</th>\n      <th>roadName</th>\n      <th>chainage</th>\n      <th>width</th>\n      <th>constructionYear</th>\n      <th>spans</th>\n      <th>zone</th>\n      <th>circle</th>\n      <th>division</th>\n      <th>sub-division</th>\n      <th>lat</th>\n      <th>lon</th>\n      <th>EstimatedLoc</th>\n    </tr>\n  </thead>\n  <tbody>\n    <tr>\n      <th>0</th>\n      <td>N1</td>\n      <td>1.800</td>\n      <td>Box Culvert</td>\n      <td>LRP001a</td>\n      <td>.</td>\n      <td>11.30</td>\n      <td>A</td>\n      <td>117861.0</td>\n      <td>Dhaka (Jatrabari)-Comilla (Mainamati)-Chittago...</td>\n      <td>1.8</td>\n      <td>19.50</td>\n      <td>2005.0</td>\n      <td>2.0</td>\n      <td>Dhaka</td>\n      <td>Dhaka</td>\n      <td>Narayanganj</td>\n      <td>Narayanganj-1</td>\n      <td>23.702889</td>\n      <td>90.450389</td>\n      <td>bcs1</td>\n    </tr>\n    <tr>\n      <th>1</th>\n      <td>N1</td>\n      <td>4.925</td>\n      <td>Box Culvert</td>\n      <td>LRP004b</td>\n      <td>.</td>\n      <td>6.60</td>\n      <td>A</td>\n      <td>117862.0</td>\n      <td>Dhaka (Jatrabari)-Comilla (Mainamati)-Chittago...</td>\n      <td>4.925</td>\n      <td>35.40</td>\n      <td>2006.0</td>\n      <td>1.0</td>\n      <td>Dhaka</td>\n      <td>Dhaka</td>\n      <td>Narayanganj</td>\n      <td>Narayanganj-1</td>\n      <td>23.693611</td>\n      <td>90.478833</td>\n      <td>bcs1</td>\n    </tr>\n    <tr>\n      <th>2</th>\n      <td>N1</td>\n      <td>8.976</td>\n      <td>PC Girder Bridge</td>\n      <td>LRP008b</td>\n      <td>Kanch pur Bridge.</td>\n      <td>394.23</td>\n      <td>A</td>\n      <td>119889.0</td>\n      <td>Dhaka (Jatrabari)-Comilla (Mainamati)-Chittago...</td>\n      <td>8.976</td>\n      <td>NaN</td>\n      <td>NaN</td>\n      <td>NaN</td>\n      <td>Dhaka</td>\n      <td>Dhaka</td>\n      <td>Narayanganj</td>\n      <td>Narayanganj-1</td>\n      <td>23.704583</td>\n      <td>90.518833</td>\n      <td>road_precise</td>\n    </tr>\n    <tr>\n      <th>3</th>\n      <td>N1</td>\n      <td>8.976</td>\n      <td>PC Girder Bridge</td>\n      <td>LRP008b</td>\n      <td>KANCHPUR PC GIRDER BRIDGE</td>\n      <td>397.00</td>\n      <td>C</td>\n      <td>101102.0</td>\n      <td>Dhaka (Jatrabari)-Comilla (Mainamati)-Chittago...</td>\n      <td>8.976</td>\n      <td>14.65</td>\n      <td>1986.0</td>\n      <td>8.0</td>\n      <td>Dhaka</td>\n      <td>Dhaka</td>\n      <td>Narayanganj</td>\n      <td>Narayanganj-1</td>\n      <td>23.702083</td>\n      <td>90.515917</td>\n      <td>bcs1</td>\n    </tr>\n    <tr>\n      <th>4</th>\n      <td>N1</td>\n      <td>10.543</td>\n      <td>Box Culvert</td>\n      <td>LRP010a</td>\n      <td>KATCHPUR BOX CULVERT</td>\n      <td>8.00</td>\n      <td>B</td>\n      <td>101106.0</td>\n      <td>Dhaka (Jatrabari)-Comilla (Mainamati)-Chittago...</td>\n      <td>10.543</td>\n      <td>21.70</td>\n      <td>1987.0</td>\n      <td>2.0</td>\n      <td>Dhaka</td>\n      <td>Dhaka</td>\n      <td>Narayanganj</td>\n      <td>Vitikandi</td>\n      <td>23.702056</td>\n      <td>90.528194</td>\n      <td>bcs1</td>\n    </tr>\n    <tr>\n      <th>...</th>\n      <td>...</td>\n      <td>...</td>\n      <td>...</td>\n      <td>...</td>\n      <td>...</td>\n      <td>...</td>\n      <td>...</td>\n      <td>...</td>\n      <td>...</td>\n      <td>...</td>\n      <td>...</td>\n      <td>...</td>\n      <td>...</td>\n      <td>...</td>\n      <td>...</td>\n      <td>...</td>\n      <td>...</td>\n      <td>...</td>\n      <td>...</td>\n      <td>...</td>\n    </tr>\n    <tr>\n      <th>21397</th>\n      <td>Z8948</td>\n      <td>0.640</td>\n      <td>Box Culvert</td>\n      <td>LRPSb</td>\n      <td>.</td>\n      <td>2.00</td>\n      <td>A</td>\n      <td>116833.0</td>\n      <td>Fakirhat-Khasherhat Road</td>\n      <td>0.64</td>\n      <td>10.00</td>\n      <td>1998.0</td>\n      <td>1.0</td>\n      <td>Barisal</td>\n      <td>Barisal</td>\n      <td>Bhola</td>\n      <td>Bhola</td>\n      <td>22.422778</td>\n      <td>90.787222</td>\n      <td>bcs1</td>\n    </tr>\n    <tr>\n      <th>21398</th>\n      <td>Z8948</td>\n      <td>1.010</td>\n      <td>Box Culvert</td>\n      <td>LRP001a</td>\n      <td>.</td>\n      <td>2.00</td>\n      <td>A</td>\n      <td>116834.0</td>\n      <td>Fakirhat-Khasherhat Road</td>\n      <td>1.01</td>\n      <td>9.70</td>\n      <td>1995.0</td>\n      <td>1.0</td>\n      <td>Barisal</td>\n      <td>Barisal</td>\n      <td>Bhola</td>\n      <td>Bhola</td>\n      <td>22.419167</td>\n      <td>90.787500</td>\n      <td>bcs1</td>\n    </tr>\n    <tr>\n      <th>21399</th>\n      <td>Z8948</td>\n      <td>2.070</td>\n      <td>Baily with Steel Deck</td>\n      <td>LRP002a</td>\n      <td>NaN</td>\n      <td>27.36</td>\n      <td>A</td>\n      <td>119862.0</td>\n      <td>Fakirhat-Khasherhat Road</td>\n      <td>2.07</td>\n      <td>NaN</td>\n      <td>NaN</td>\n      <td>NaN</td>\n      <td>Barisal</td>\n      <td>Barisal</td>\n      <td>Bhola</td>\n      <td>Bhola</td>\n      <td>22.416667</td>\n      <td>90.789583</td>\n      <td>bcs1</td>\n    </tr>\n    <tr>\n      <th>21400</th>\n      <td>Z8948</td>\n      <td>2.070</td>\n      <td>Steel Beam &amp; RCC Slab</td>\n      <td>LRP002a</td>\n      <td>.</td>\n      <td>18.50</td>\n      <td>A</td>\n      <td>116835.0</td>\n      <td>Fakirhat-Khasherhat Road</td>\n      <td>2.07</td>\n      <td>3.00</td>\n      <td>1994.0</td>\n      <td>3.0</td>\n      <td>Barisal</td>\n      <td>Barisal</td>\n      <td>Bhola</td>\n      <td>Bhola</td>\n      <td>22.414167</td>\n      <td>90.791667</td>\n      <td>bcs1</td>\n    </tr>\n    <tr>\n      <th>21401</th>\n      <td>Z8948</td>\n      <td>2.100</td>\n      <td>Steel Beam &amp; RCC Slab</td>\n      <td>LRP002c</td>\n      <td>.</td>\n      <td>18.50</td>\n      <td>A</td>\n      <td>116836.0</td>\n      <td>Fakirhat-Khasherhat Road</td>\n      <td>2.1</td>\n      <td>3.00</td>\n      <td>1990.0</td>\n      <td>3.0</td>\n      <td>Barisal</td>\n      <td>Barisal</td>\n      <td>Bhola</td>\n      <td>Bhola</td>\n      <td>22.414167</td>\n      <td>90.791944</td>\n      <td>bcs1</td>\n    </tr>\n  </tbody>\n</table>\n<p>21402 rows × 20 columns</p>\n</div>"
     },
     "execution_count": 17,
     "metadata": {},
     "output_type": "execute_result"
    }
   ],
   "source": [
    "bmms"
   ],
   "metadata": {
    "collapsed": false,
    "ExecuteTime": {
     "end_time": "2024-02-23T12:05:08.956624600Z",
     "start_time": "2024-02-23T12:05:08.933316500Z"
    }
   },
   "id": "a9361bdc4bf2e708"
  },
  {
   "cell_type": "code",
   "execution_count": 18,
   "outputs": [
    {
     "data": {
      "text/plain": "        road     km                    type LRPName  \\\n10105  Z1124  0.285  Truss With Timber Deck   LRPSa   \n10106  Z1124  0.290  Baily with Timber Deck   LRPSa   \n\n                                name  length condition  structureNr  \\\n10105  Aziz Nagar Dokhin Para Bridge    21.4         D     121679.0   \n10106                              .    21.4         C     117761.0   \n\n                                roadName chainage  width  constructionYear  \\\n10105  Harbang-Villagerpara-Toitong Road    0.285    NaN               NaN   \n10106  Harbang-Villagerpara-Toitong Road     0.29    4.9            1960.0   \n\n       spans        zone      circle     division sub-division        lat  \\\n10105    NaN  Chittagong  Chittagong  Cox's Bazar     Chakoria  21.846472   \n10106    1.0  Chittagong  Chittagong  Cox's Bazar     Chakoria  21.895667   \n\n             lon  EstimatedLoc  \n10105  92.059556  road_precise  \n10106  92.059556          bcs1  ",
      "text/html": "<div>\n<style scoped>\n    .dataframe tbody tr th:only-of-type {\n        vertical-align: middle;\n    }\n\n    .dataframe tbody tr th {\n        vertical-align: top;\n    }\n\n    .dataframe thead th {\n        text-align: right;\n    }\n</style>\n<table border=\"1\" class=\"dataframe\">\n  <thead>\n    <tr style=\"text-align: right;\">\n      <th></th>\n      <th>road</th>\n      <th>km</th>\n      <th>type</th>\n      <th>LRPName</th>\n      <th>name</th>\n      <th>length</th>\n      <th>condition</th>\n      <th>structureNr</th>\n      <th>roadName</th>\n      <th>chainage</th>\n      <th>width</th>\n      <th>constructionYear</th>\n      <th>spans</th>\n      <th>zone</th>\n      <th>circle</th>\n      <th>division</th>\n      <th>sub-division</th>\n      <th>lat</th>\n      <th>lon</th>\n      <th>EstimatedLoc</th>\n    </tr>\n  </thead>\n  <tbody>\n    <tr>\n      <th>10105</th>\n      <td>Z1124</td>\n      <td>0.285</td>\n      <td>Truss With Timber Deck</td>\n      <td>LRPSa</td>\n      <td>Aziz Nagar Dokhin Para Bridge</td>\n      <td>21.4</td>\n      <td>D</td>\n      <td>121679.0</td>\n      <td>Harbang-Villagerpara-Toitong Road</td>\n      <td>0.285</td>\n      <td>NaN</td>\n      <td>NaN</td>\n      <td>NaN</td>\n      <td>Chittagong</td>\n      <td>Chittagong</td>\n      <td>Cox's Bazar</td>\n      <td>Chakoria</td>\n      <td>21.846472</td>\n      <td>92.059556</td>\n      <td>road_precise</td>\n    </tr>\n    <tr>\n      <th>10106</th>\n      <td>Z1124</td>\n      <td>0.290</td>\n      <td>Baily with Timber Deck</td>\n      <td>LRPSa</td>\n      <td>.</td>\n      <td>21.4</td>\n      <td>C</td>\n      <td>117761.0</td>\n      <td>Harbang-Villagerpara-Toitong Road</td>\n      <td>0.29</td>\n      <td>4.9</td>\n      <td>1960.0</td>\n      <td>1.0</td>\n      <td>Chittagong</td>\n      <td>Chittagong</td>\n      <td>Cox's Bazar</td>\n      <td>Chakoria</td>\n      <td>21.895667</td>\n      <td>92.059556</td>\n      <td>bcs1</td>\n    </tr>\n  </tbody>\n</table>\n</div>"
     },
     "execution_count": 18,
     "metadata": {},
     "output_type": "execute_result"
    }
   ],
   "source": [
    "bmms[bmms['road'] == 'Z1124']"
   ],
   "metadata": {
    "collapsed": false,
    "ExecuteTime": {
     "end_time": "2024-02-23T12:05:08.981832400Z",
     "start_time": "2024-02-23T12:05:08.952070800Z"
    }
   },
   "id": "7b38da093a9d32af"
  },
  {
   "cell_type": "code",
   "execution_count": 19,
   "outputs": [
    {
     "data": {
      "text/plain": "      road    min_lat    max_lat    min_lon    max_lon\n0       N1  20.862917  23.706083  90.443333  92.299639\n1     N101  23.451333  23.464028  91.211806  91.253389\n2     N102  23.478972  24.050611  91.021083  91.159139\n3     N103  23.957028  23.996889  91.109278  91.115528\n4     N104  22.825749  23.009861  91.096111  91.399416\n..     ...        ...        ...        ...        ...\n872  Z8910  22.418888  22.675916  90.408889  90.561417\n873  Z8913  22.335500  22.396083  90.682888  90.841611\n874  Z8915  22.589389  22.608972  90.619472  90.753167\n875  Z8916  22.595389  22.625499  90.661722  90.746666\n876  Z8943  22.423083  22.430249  90.768916  90.849472\n\n[877 rows x 5 columns]",
      "text/html": "<div>\n<style scoped>\n    .dataframe tbody tr th:only-of-type {\n        vertical-align: middle;\n    }\n\n    .dataframe tbody tr th {\n        vertical-align: top;\n    }\n\n    .dataframe thead th {\n        text-align: right;\n    }\n</style>\n<table border=\"1\" class=\"dataframe\">\n  <thead>\n    <tr style=\"text-align: right;\">\n      <th></th>\n      <th>road</th>\n      <th>min_lat</th>\n      <th>max_lat</th>\n      <th>min_lon</th>\n      <th>max_lon</th>\n    </tr>\n  </thead>\n  <tbody>\n    <tr>\n      <th>0</th>\n      <td>N1</td>\n      <td>20.862917</td>\n      <td>23.706083</td>\n      <td>90.443333</td>\n      <td>92.299639</td>\n    </tr>\n    <tr>\n      <th>1</th>\n      <td>N101</td>\n      <td>23.451333</td>\n      <td>23.464028</td>\n      <td>91.211806</td>\n      <td>91.253389</td>\n    </tr>\n    <tr>\n      <th>2</th>\n      <td>N102</td>\n      <td>23.478972</td>\n      <td>24.050611</td>\n      <td>91.021083</td>\n      <td>91.159139</td>\n    </tr>\n    <tr>\n      <th>3</th>\n      <td>N103</td>\n      <td>23.957028</td>\n      <td>23.996889</td>\n      <td>91.109278</td>\n      <td>91.115528</td>\n    </tr>\n    <tr>\n      <th>4</th>\n      <td>N104</td>\n      <td>22.825749</td>\n      <td>23.009861</td>\n      <td>91.096111</td>\n      <td>91.399416</td>\n    </tr>\n    <tr>\n      <th>...</th>\n      <td>...</td>\n      <td>...</td>\n      <td>...</td>\n      <td>...</td>\n      <td>...</td>\n    </tr>\n    <tr>\n      <th>872</th>\n      <td>Z8910</td>\n      <td>22.418888</td>\n      <td>22.675916</td>\n      <td>90.408889</td>\n      <td>90.561417</td>\n    </tr>\n    <tr>\n      <th>873</th>\n      <td>Z8913</td>\n      <td>22.335500</td>\n      <td>22.396083</td>\n      <td>90.682888</td>\n      <td>90.841611</td>\n    </tr>\n    <tr>\n      <th>874</th>\n      <td>Z8915</td>\n      <td>22.589389</td>\n      <td>22.608972</td>\n      <td>90.619472</td>\n      <td>90.753167</td>\n    </tr>\n    <tr>\n      <th>875</th>\n      <td>Z8916</td>\n      <td>22.595389</td>\n      <td>22.625499</td>\n      <td>90.661722</td>\n      <td>90.746666</td>\n    </tr>\n    <tr>\n      <th>876</th>\n      <td>Z8943</td>\n      <td>22.423083</td>\n      <td>22.430249</td>\n      <td>90.768916</td>\n      <td>90.849472</td>\n    </tr>\n  </tbody>\n</table>\n<p>877 rows × 5 columns</p>\n</div>"
     },
     "execution_count": 19,
     "metadata": {},
     "output_type": "execute_result"
    }
   ],
   "source": [
    "df_road_ranges"
   ],
   "metadata": {
    "collapsed": false,
    "ExecuteTime": {
     "end_time": "2024-02-23T12:05:09.008250700Z",
     "start_time": "2024-02-23T12:05:08.968718200Z"
    }
   },
   "id": "921e4746b6f3e8cd"
  },
  {
   "cell_type": "code",
   "execution_count": 19,
   "outputs": [],
   "source": [],
   "metadata": {
    "collapsed": false,
    "ExecuteTime": {
     "end_time": "2024-02-23T12:05:09.054695700Z",
     "start_time": "2024-02-23T12:05:08.980829500Z"
    }
   },
   "id": "fa8047e19ed3e019"
  },
  {
   "cell_type": "code",
   "execution_count": 20,
   "outputs": [
    {
     "data": {
      "text/plain": "      road      km                   type  LRPName                       name  \\\n4293  N809   0.265           Arch Masonry    LRPSa                          .   \n4294  N809   1.059           Arch Masonry  LRP001a                          .   \n4295  N809   1.378           Arch Masonry  LRP001b                          .   \n4296  N809   2.486           Arch Masonry  LRP002a                          .   \n4297  N809   4.033            Box Culvert  LRP004a                          .   \n4298  N809   4.620            Box Culvert  LRP004b                          .   \n4299  N809   6.108            Box Culvert  LRP006a                          .   \n4300  N809   6.269            Box Culvert  LRP006b                          .   \n4301  N809   7.900            Box Culvert  LRP007a                          .   \n4302  N809   8.842            Box Culvert  LRP008a                          .   \n4303  N809   9.737            Box Culvert  LRP009a                          .   \n4304  N809  10.733            Box Culvert  LRP010a                          .   \n4305  N809  11.583            Box Culvert  LRP011a                          .   \n4306  N809  12.106            Box Culvert  LRP012a                          .   \n4307  N809  12.648            Box Culvert  LRP012b                          .   \n4308  N809  13.104            Box Culvert  LRP013a                          .   \n4309  N809  13.291            Box Culvert  LRP013b                          .   \n4310  N809  13.696            Box Culvert  LRP013d                          .   \n4311  N809  14.114            Box Culvert  LRP014a                          .   \n4312  N809  14.922            Box Culvert  LRP014b                          .   \n4313  N809  15.290            Box Culvert  LRP015a                          .   \n4314  N809  15.647            Box Culvert  LRP015b                          .   \n4315  N809  26.642  Baily with Steel Deck  LRP026a                          .   \n4316  N809  28.999  Baily with Steel Deck  LRP028a                          .   \n4317  N809  28.999       PC Girder Bridge  LRP028a                        NaN   \n4318  N809  30.328            Box Culvert  LRP030a                          .   \n4319  N809  30.828            Box Culvert  LRP030b                          .   \n4320  N809  32.906            Box Culvert  LRP032a                          .   \n4321  N809  33.086            Box Culvert  LRP033a                          .   \n4322  N809  34.510             RCC Bridge  LRP034a                          .   \n4323  N809  36.219             RCC Bridge  LRP036a                          .   \n4324  N809  37.575             RCC Bridge  LRP037a                          .   \n4325  N809  38.484             RCC Bridge  LRP038a                          .   \n4326  N809  39.412             RCC Bridge  LRP039a                          .   \n4327  N809  61.899           Slab Culvert  LRP062a  SHAKCHORA-5- SLAB CULVERT   \n4328  N809  62.003            Box Culvert  LRP062b   DHAKSIN SHAKCHAR CULVERT   \n4329  N809  62.529           Slab Culvert  LRP062c              HAZILLA BAZAR   \n4330  N809  62.699           Slab Culvert  LRP063a  HAZILLA BABAYGOZA CULVERT   \n4331  N809  63.428           Slab Culvert  LRP063b                    TUMCHAR   \n4332  N809  63.580            Box Culvert  LRP064a       SHAKCHAR BOX CULVERT   \n4333  N809  63.772           Slab Culvert  LRP064b   SHAKCHAR-1- SLAB CULVERT   \n4334  N809  64.115           Slab Culvert  LRP064e       SAKSOR SLAVE CULVERT   \n4335  N809  65.754            Box Culvert  LRP066a       HAZIBARI BOX CULVERT   \n4336  N809  66.153            Box Culvert  LRP066d       BANCHA NAGAR CULVERT   \n\n      length condition  structureNr  \\\n4293    1.60         B     108019.0   \n4294    4.36         B     108020.0   \n4295    6.70         B     108021.0   \n4296    4.50         B     108022.0   \n4297    3.70         A     108025.0   \n4298    6.82         A     108026.0   \n4299    2.00         A     108122.0   \n4300    5.17         A     108029.0   \n4301    6.84         A     108030.0   \n4302   10.00         B     108032.0   \n4303    3.62         A     108124.0   \n4304   13.32         C     108035.0   \n4305    3.70         A     108039.0   \n4306    1.85         A     108041.0   \n4307    1.88         A     108044.0   \n4308    1.98         A     108045.0   \n4309   13.25         A     108048.0   \n4310    1.98         A     108051.0   \n4311    1.95         A     108053.0   \n4312    1.95         A     108057.0   \n4313    1.95         A     108059.0   \n4314    1.95         A     108061.0   \n4315   42.60         A     108064.0   \n4316  128.76         A     108067.0   \n4317  130.10         C     119770.0   \n4318    1.95         A     108068.0   \n4319    1.97         A     108072.0   \n4320    3.70         A     108074.0   \n4321    6.86         A     108077.0   \n4322    7.63         C     108080.0   \n4323    7.63         C     108086.0   \n4324    7.60         A     108088.0   \n4325   12.40         B     108094.0   \n4326    7.69         C     108097.0   \n4327    0.90         A     114145.0   \n4328    3.00         A     102307.0   \n4329    0.90         A     114146.0   \n4330    1.00         A     105281.0   \n4331    0.80         A     114147.0   \n4332    0.90         A     114143.0   \n4333    0.90         A     114144.0   \n4334    1.20         A     102316.0   \n4335    9.40         A     102309.0   \n4336    3.00         B     102312.0   \n\n                                               roadName chainage  width  \\\n4293  Barishal-Laherhat-Veduria-Bhola-Illisha-Maju C...    0.265   6.22   \n4294  Barishal-Laherhat-Veduria-Bhola-Illisha-Maju C...    1.059   7.00   \n4295  Barishal-Laherhat-Veduria-Bhola-Illisha-Maju C...    1.378   6.70   \n4296  Barishal-Laherhat-Veduria-Bhola-Illisha-Maju C...    2.486   6.88   \n4297  Barishal-Laherhat-Veduria-Bhola-Illisha-Maju C...    4.033   9.65   \n4298  Barishal-Laherhat-Veduria-Bhola-Illisha-Maju C...     4.62   9.65   \n4299  Barishal-Laherhat-Veduria-Bhola-Illisha-Maju C...    6.108   9.60   \n4300  Barishal-Laherhat-Veduria-Bhola-Illisha-Maju C...    6.269   9.65   \n4301  Barishal-Laherhat-Veduria-Bhola-Illisha-Maju C...      7.9   9.60   \n4302  Barishal-Laherhat-Veduria-Bhola-Illisha-Maju C...    8.842   9.62   \n4303  Barishal-Laherhat-Veduria-Bhola-Illisha-Maju C...    9.737   9.64   \n4304  Barishal-Laherhat-Veduria-Bhola-Illisha-Maju C...   10.733   9.70   \n4305  Barishal-Laherhat-Veduria-Bhola-Illisha-Maju C...   11.583   9.69   \n4306  Barishal-Laherhat-Veduria-Bhola-Illisha-Maju C...   12.106  13.30   \n4307  Barishal-Laherhat-Veduria-Bhola-Illisha-Maju C...   12.648  13.30   \n4308  Barishal-Laherhat-Veduria-Bhola-Illisha-Maju C...   13.104  10.85   \n4309  Barishal-Laherhat-Veduria-Bhola-Illisha-Maju C...   13.291   7.25   \n4310  Barishal-Laherhat-Veduria-Bhola-Illisha-Maju C...   13.696  10.95   \n4311  Barishal-Laherhat-Veduria-Bhola-Illisha-Maju C...   14.114   9.65   \n4312  Barishal-Laherhat-Veduria-Bhola-Illisha-Maju C...   14.922  10.80   \n4313  Barishal-Laherhat-Veduria-Bhola-Illisha-Maju C...    15.29   9.65   \n4314  Barishal-Laherhat-Veduria-Bhola-Illisha-Maju C...   15.647   9.65   \n4315  Barishal-Laherhat-Veduria-Bhola-Illisha-Maju C...   26.642   5.00   \n4316  Barishal-Laherhat-Veduria-Bhola-Illisha-Maju C...   28.999   5.00   \n4317  Barishal-Laherhat-Veduria-Bhola-Illisha-Maju C...   28.999    NaN   \n4318  Barishal-Laherhat-Veduria-Bhola-Illisha-Maju C...   30.328  18.10   \n4319  Barishal-Laherhat-Veduria-Bhola-Illisha-Maju C...   30.828  18.17   \n4320  Barishal-Laherhat-Veduria-Bhola-Illisha-Maju C...   32.906  10.93   \n4321  Barishal-Laherhat-Veduria-Bhola-Illisha-Maju C...   33.086   9.60   \n4322  Barishal-Laherhat-Veduria-Bhola-Illisha-Maju C...    34.51   4.30   \n4323  Barishal-Laherhat-Veduria-Bhola-Illisha-Maju C...   36.219   4.28   \n4324  Barishal-Laherhat-Veduria-Bhola-Illisha-Maju C...   37.575   4.23   \n4325  Barishal-Laherhat-Veduria-Bhola-Illisha-Maju C...   38.484   4.34   \n4326  Barishal-Laherhat-Veduria-Bhola-Illisha-Maju C...   39.412   4.28   \n4327  Barishal-Laherhat-Veduria-Bhola-Illisha-Maju C...   61.899  10.30   \n4328  Barishal-Laherhat-Veduria-Bhola-Illisha-Maju C...   62.003   7.30   \n4329  Barishal-Laherhat-Veduria-Bhola-Illisha-Maju C...   62.529  10.30   \n4330  Barishal-Laherhat-Veduria-Bhola-Illisha-Maju C...   62.699   9.70   \n4331  Barishal-Laherhat-Veduria-Bhola-Illisha-Maju C...   63.428  10.30   \n4332  Barishal-Laherhat-Veduria-Bhola-Illisha-Maju C...    63.58  10.30   \n4333  Barishal-Laherhat-Veduria-Bhola-Illisha-Maju C...   63.772  10.30   \n4334  Barishal-Laherhat-Veduria-Bhola-Illisha-Maju C...   64.115   9.10   \n4335  Barishal-Laherhat-Veduria-Bhola-Illisha-Maju C...   65.754   8.00   \n4336  Barishal-Laherhat-Veduria-Bhola-Illisha-Maju C...   66.153   8.00   \n\n      constructionYear  spans     zone    circle  division sub-division  \\\n4293            1955.0    1.0  Barisal   Barisal   Barisal    Barisal-2   \n4294            1957.0    1.0  Barisal   Barisal   Barisal    Barisal-2   \n4295            1958.0    1.0  Barisal   Barisal   Barisal    Barisal-2   \n4296            1957.0    1.0  Barisal   Barisal   Barisal    Barisal-2   \n4297            1995.0    1.0  Barisal   Barisal   Barisal    Barisal-2   \n4298            1998.0    1.0  Barisal   Barisal   Barisal    Barisal-2   \n4299            1997.0    1.0  Barisal   Barisal   Barisal    Barisal-2   \n4300            1996.0    1.0  Barisal   Barisal   Barisal    Barisal-2   \n4301            2000.0    1.0  Barisal   Barisal   Barisal    Barisal-2   \n4302            2000.0    2.0  Barisal   Barisal   Barisal    Barisal-2   \n4303            2000.0    1.0  Barisal   Barisal   Barisal    Barisal-2   \n4304            1995.0    2.0  Barisal   Barisal   Barisal    Barisal-2   \n4305            2000.0    1.0  Barisal   Barisal   Barisal    Barisal-2   \n4306            1999.0    1.0  Barisal   Barisal   Barisal    Barisal-2   \n4307            2000.0    1.0  Barisal   Barisal   Barisal    Barisal-2   \n4308            1999.0    1.0  Barisal   Barisal   Barisal    Barisal-2   \n4309            1995.0    2.0  Barisal   Barisal   Barisal    Barisal-2   \n4310            2000.0    1.0  Barisal   Barisal   Barisal    Barisal-2   \n4311            2000.0    1.0  Barisal   Barisal   Barisal    Barisal-2   \n4312            2000.0    1.0  Barisal   Barisal   Barisal    Barisal-2   \n4313            1999.0    1.0  Barisal   Barisal   Barisal    Barisal-2   \n4314            2000.0    1.0  Barisal   Barisal   Barisal    Barisal-2   \n4315            2000.0    1.0  Barisal   Barisal     Bhola        Bhola   \n4316            1997.0    3.0  Barisal   Barisal     Bhola        Bhola   \n4317               NaN    NaN  Barisal   Barisal     Bhola        Bhola   \n4318            2000.0    1.0  Barisal   Barisal     Bhola        Bhola   \n4319            2000.0    1.0  Barisal   Barisal     Bhola        Bhola   \n4320            1996.0    1.0  Barisal   Barisal     Bhola        Bhola   \n4321            2000.0    1.0  Barisal   Barisal     Bhola        Bhola   \n4322            1952.0    3.0  Barisal   Barisal     Bhola        Bhola   \n4323            1952.0    3.0  Barisal   Barisal     Bhola        Bhola   \n4324            1953.0    3.0  Barisal   Barisal     Bhola        Bhola   \n4325            1985.0    3.0  Barisal   Barisal     Bhola        Bhola   \n4326            1954.0    3.0  Barisal   Barisal     Bhola        Bhola   \n4327            1997.0    1.0  Comilla  Noakhali  Laxmipur     Laxmipur   \n4328            1995.0    1.0  Comilla  Noakhali  Laxmipur     Laxmipur   \n4329            1993.0    1.0  Comilla  Noakhali  Laxmipur     Laxmipur   \n4330            1996.0    1.0  Comilla  Noakhali  Laxmipur     Laxmipur   \n4331            1999.0    1.0  Comilla  Noakhali  Laxmipur     Laxmipur   \n4332            1990.0    1.0  Comilla  Noakhali  Laxmipur     Laxmipur   \n4333            1992.0    1.0  Comilla  Noakhali  Laxmipur     Laxmipur   \n4334            1994.0    1.0  Comilla  Noakhali  Laxmipur     Laxmipur   \n4335            1997.0    2.0  Comilla  Noakhali  Laxmipur     Laxmipur   \n4336            1993.0    1.0  Comilla  Noakhali  Laxmipur     Laxmipur   \n\n            lat        lon      EstimatedLoc  \n4293  22.684444  90.359167              bcs1  \n4294  22.687500  90.366111              bcs1  \n4295  22.689722  90.368056              bcs1  \n4296  22.698611  90.373056              bcs1  \n4297  22.692778  90.384167              bcs1  \n4298  22.689722  90.388611              bcs1  \n4299  22.690278  90.400833              bcs1  \n4300  22.691389  90.402222              bcs1  \n4301  22.703611  90.411111              bcs1  \n4302  22.701944  90.420167              bcs1  \n4303  22.703889  90.428333              bcs1  \n4304  22.701667  90.437500              bcs1  \n4305  22.697778  90.443611              bcs1  \n4306  22.696389  90.449167              bcs1  \n4307  22.695556  90.453611              bcs1  \n4308  22.695556  90.458333              bcs1  \n4309  22.695833  90.460833              bcs1  \n4310  22.694167  90.464167              bcs1  \n4311  22.692500  90.467222              bcs1  \n4312  22.691111  90.475000              bcs1  \n4313  22.690556  90.478611              bcs1  \n4314  22.690000  90.481944              bcs1  \n4315  22.723333  90.573889              bcs1  \n4316  22.738611  90.589167              bcs1  \n4317  22.730637  90.580032  road_interpolate  \n4318  22.736667  90.601944              bcs1  \n4319  22.736667  90.606944              bcs1  \n4320  22.731389  90.625833              bcs1  \n4321  22.730556  90.627778              bcs1  \n4322  22.735000  90.633333              bcs1  \n4323  22.750556  90.635083              bcs1  \n4324  22.762222  90.639722              bcs1  \n4325  22.769167  90.644444              bcs1  \n4326  22.777222  90.647222              bcs1  \n4327  22.777222  90.647222              bcs1  \n4328  22.777222  90.647222              bcs1  \n4329  22.777222  90.647222              bcs1  \n4330  22.777222  90.647222              bcs1  \n4331  22.777222  90.647222              bcs1  \n4332  22.777222  90.647222              bcs1  \n4333  22.777222  90.647222              bcs1  \n4334  22.777222  90.647222              bcs1  \n4335  22.777222  90.647222              bcs1  \n4336  22.777222  90.647222              bcs1  ",
      "text/html": "<div>\n<style scoped>\n    .dataframe tbody tr th:only-of-type {\n        vertical-align: middle;\n    }\n\n    .dataframe tbody tr th {\n        vertical-align: top;\n    }\n\n    .dataframe thead th {\n        text-align: right;\n    }\n</style>\n<table border=\"1\" class=\"dataframe\">\n  <thead>\n    <tr style=\"text-align: right;\">\n      <th></th>\n      <th>road</th>\n      <th>km</th>\n      <th>type</th>\n      <th>LRPName</th>\n      <th>name</th>\n      <th>length</th>\n      <th>condition</th>\n      <th>structureNr</th>\n      <th>roadName</th>\n      <th>chainage</th>\n      <th>width</th>\n      <th>constructionYear</th>\n      <th>spans</th>\n      <th>zone</th>\n      <th>circle</th>\n      <th>division</th>\n      <th>sub-division</th>\n      <th>lat</th>\n      <th>lon</th>\n      <th>EstimatedLoc</th>\n    </tr>\n  </thead>\n  <tbody>\n    <tr>\n      <th>4293</th>\n      <td>N809</td>\n      <td>0.265</td>\n      <td>Arch Masonry</td>\n      <td>LRPSa</td>\n      <td>.</td>\n      <td>1.60</td>\n      <td>B</td>\n      <td>108019.0</td>\n      <td>Barishal-Laherhat-Veduria-Bhola-Illisha-Maju C...</td>\n      <td>0.265</td>\n      <td>6.22</td>\n      <td>1955.0</td>\n      <td>1.0</td>\n      <td>Barisal</td>\n      <td>Barisal</td>\n      <td>Barisal</td>\n      <td>Barisal-2</td>\n      <td>22.684444</td>\n      <td>90.359167</td>\n      <td>bcs1</td>\n    </tr>\n    <tr>\n      <th>4294</th>\n      <td>N809</td>\n      <td>1.059</td>\n      <td>Arch Masonry</td>\n      <td>LRP001a</td>\n      <td>.</td>\n      <td>4.36</td>\n      <td>B</td>\n      <td>108020.0</td>\n      <td>Barishal-Laherhat-Veduria-Bhola-Illisha-Maju C...</td>\n      <td>1.059</td>\n      <td>7.00</td>\n      <td>1957.0</td>\n      <td>1.0</td>\n      <td>Barisal</td>\n      <td>Barisal</td>\n      <td>Barisal</td>\n      <td>Barisal-2</td>\n      <td>22.687500</td>\n      <td>90.366111</td>\n      <td>bcs1</td>\n    </tr>\n    <tr>\n      <th>4295</th>\n      <td>N809</td>\n      <td>1.378</td>\n      <td>Arch Masonry</td>\n      <td>LRP001b</td>\n      <td>.</td>\n      <td>6.70</td>\n      <td>B</td>\n      <td>108021.0</td>\n      <td>Barishal-Laherhat-Veduria-Bhola-Illisha-Maju C...</td>\n      <td>1.378</td>\n      <td>6.70</td>\n      <td>1958.0</td>\n      <td>1.0</td>\n      <td>Barisal</td>\n      <td>Barisal</td>\n      <td>Barisal</td>\n      <td>Barisal-2</td>\n      <td>22.689722</td>\n      <td>90.368056</td>\n      <td>bcs1</td>\n    </tr>\n    <tr>\n      <th>4296</th>\n      <td>N809</td>\n      <td>2.486</td>\n      <td>Arch Masonry</td>\n      <td>LRP002a</td>\n      <td>.</td>\n      <td>4.50</td>\n      <td>B</td>\n      <td>108022.0</td>\n      <td>Barishal-Laherhat-Veduria-Bhola-Illisha-Maju C...</td>\n      <td>2.486</td>\n      <td>6.88</td>\n      <td>1957.0</td>\n      <td>1.0</td>\n      <td>Barisal</td>\n      <td>Barisal</td>\n      <td>Barisal</td>\n      <td>Barisal-2</td>\n      <td>22.698611</td>\n      <td>90.373056</td>\n      <td>bcs1</td>\n    </tr>\n    <tr>\n      <th>4297</th>\n      <td>N809</td>\n      <td>4.033</td>\n      <td>Box Culvert</td>\n      <td>LRP004a</td>\n      <td>.</td>\n      <td>3.70</td>\n      <td>A</td>\n      <td>108025.0</td>\n      <td>Barishal-Laherhat-Veduria-Bhola-Illisha-Maju C...</td>\n      <td>4.033</td>\n      <td>9.65</td>\n      <td>1995.0</td>\n      <td>1.0</td>\n      <td>Barisal</td>\n      <td>Barisal</td>\n      <td>Barisal</td>\n      <td>Barisal-2</td>\n      <td>22.692778</td>\n      <td>90.384167</td>\n      <td>bcs1</td>\n    </tr>\n    <tr>\n      <th>4298</th>\n      <td>N809</td>\n      <td>4.620</td>\n      <td>Box Culvert</td>\n      <td>LRP004b</td>\n      <td>.</td>\n      <td>6.82</td>\n      <td>A</td>\n      <td>108026.0</td>\n      <td>Barishal-Laherhat-Veduria-Bhola-Illisha-Maju C...</td>\n      <td>4.62</td>\n      <td>9.65</td>\n      <td>1998.0</td>\n      <td>1.0</td>\n      <td>Barisal</td>\n      <td>Barisal</td>\n      <td>Barisal</td>\n      <td>Barisal-2</td>\n      <td>22.689722</td>\n      <td>90.388611</td>\n      <td>bcs1</td>\n    </tr>\n    <tr>\n      <th>4299</th>\n      <td>N809</td>\n      <td>6.108</td>\n      <td>Box Culvert</td>\n      <td>LRP006a</td>\n      <td>.</td>\n      <td>2.00</td>\n      <td>A</td>\n      <td>108122.0</td>\n      <td>Barishal-Laherhat-Veduria-Bhola-Illisha-Maju C...</td>\n      <td>6.108</td>\n      <td>9.60</td>\n      <td>1997.0</td>\n      <td>1.0</td>\n      <td>Barisal</td>\n      <td>Barisal</td>\n      <td>Barisal</td>\n      <td>Barisal-2</td>\n      <td>22.690278</td>\n      <td>90.400833</td>\n      <td>bcs1</td>\n    </tr>\n    <tr>\n      <th>4300</th>\n      <td>N809</td>\n      <td>6.269</td>\n      <td>Box Culvert</td>\n      <td>LRP006b</td>\n      <td>.</td>\n      <td>5.17</td>\n      <td>A</td>\n      <td>108029.0</td>\n      <td>Barishal-Laherhat-Veduria-Bhola-Illisha-Maju C...</td>\n      <td>6.269</td>\n      <td>9.65</td>\n      <td>1996.0</td>\n      <td>1.0</td>\n      <td>Barisal</td>\n      <td>Barisal</td>\n      <td>Barisal</td>\n      <td>Barisal-2</td>\n      <td>22.691389</td>\n      <td>90.402222</td>\n      <td>bcs1</td>\n    </tr>\n    <tr>\n      <th>4301</th>\n      <td>N809</td>\n      <td>7.900</td>\n      <td>Box Culvert</td>\n      <td>LRP007a</td>\n      <td>.</td>\n      <td>6.84</td>\n      <td>A</td>\n      <td>108030.0</td>\n      <td>Barishal-Laherhat-Veduria-Bhola-Illisha-Maju C...</td>\n      <td>7.9</td>\n      <td>9.60</td>\n      <td>2000.0</td>\n      <td>1.0</td>\n      <td>Barisal</td>\n      <td>Barisal</td>\n      <td>Barisal</td>\n      <td>Barisal-2</td>\n      <td>22.703611</td>\n      <td>90.411111</td>\n      <td>bcs1</td>\n    </tr>\n    <tr>\n      <th>4302</th>\n      <td>N809</td>\n      <td>8.842</td>\n      <td>Box Culvert</td>\n      <td>LRP008a</td>\n      <td>.</td>\n      <td>10.00</td>\n      <td>B</td>\n      <td>108032.0</td>\n      <td>Barishal-Laherhat-Veduria-Bhola-Illisha-Maju C...</td>\n      <td>8.842</td>\n      <td>9.62</td>\n      <td>2000.0</td>\n      <td>2.0</td>\n      <td>Barisal</td>\n      <td>Barisal</td>\n      <td>Barisal</td>\n      <td>Barisal-2</td>\n      <td>22.701944</td>\n      <td>90.420167</td>\n      <td>bcs1</td>\n    </tr>\n    <tr>\n      <th>4303</th>\n      <td>N809</td>\n      <td>9.737</td>\n      <td>Box Culvert</td>\n      <td>LRP009a</td>\n      <td>.</td>\n      <td>3.62</td>\n      <td>A</td>\n      <td>108124.0</td>\n      <td>Barishal-Laherhat-Veduria-Bhola-Illisha-Maju C...</td>\n      <td>9.737</td>\n      <td>9.64</td>\n      <td>2000.0</td>\n      <td>1.0</td>\n      <td>Barisal</td>\n      <td>Barisal</td>\n      <td>Barisal</td>\n      <td>Barisal-2</td>\n      <td>22.703889</td>\n      <td>90.428333</td>\n      <td>bcs1</td>\n    </tr>\n    <tr>\n      <th>4304</th>\n      <td>N809</td>\n      <td>10.733</td>\n      <td>Box Culvert</td>\n      <td>LRP010a</td>\n      <td>.</td>\n      <td>13.32</td>\n      <td>C</td>\n      <td>108035.0</td>\n      <td>Barishal-Laherhat-Veduria-Bhola-Illisha-Maju C...</td>\n      <td>10.733</td>\n      <td>9.70</td>\n      <td>1995.0</td>\n      <td>2.0</td>\n      <td>Barisal</td>\n      <td>Barisal</td>\n      <td>Barisal</td>\n      <td>Barisal-2</td>\n      <td>22.701667</td>\n      <td>90.437500</td>\n      <td>bcs1</td>\n    </tr>\n    <tr>\n      <th>4305</th>\n      <td>N809</td>\n      <td>11.583</td>\n      <td>Box Culvert</td>\n      <td>LRP011a</td>\n      <td>.</td>\n      <td>3.70</td>\n      <td>A</td>\n      <td>108039.0</td>\n      <td>Barishal-Laherhat-Veduria-Bhola-Illisha-Maju C...</td>\n      <td>11.583</td>\n      <td>9.69</td>\n      <td>2000.0</td>\n      <td>1.0</td>\n      <td>Barisal</td>\n      <td>Barisal</td>\n      <td>Barisal</td>\n      <td>Barisal-2</td>\n      <td>22.697778</td>\n      <td>90.443611</td>\n      <td>bcs1</td>\n    </tr>\n    <tr>\n      <th>4306</th>\n      <td>N809</td>\n      <td>12.106</td>\n      <td>Box Culvert</td>\n      <td>LRP012a</td>\n      <td>.</td>\n      <td>1.85</td>\n      <td>A</td>\n      <td>108041.0</td>\n      <td>Barishal-Laherhat-Veduria-Bhola-Illisha-Maju C...</td>\n      <td>12.106</td>\n      <td>13.30</td>\n      <td>1999.0</td>\n      <td>1.0</td>\n      <td>Barisal</td>\n      <td>Barisal</td>\n      <td>Barisal</td>\n      <td>Barisal-2</td>\n      <td>22.696389</td>\n      <td>90.449167</td>\n      <td>bcs1</td>\n    </tr>\n    <tr>\n      <th>4307</th>\n      <td>N809</td>\n      <td>12.648</td>\n      <td>Box Culvert</td>\n      <td>LRP012b</td>\n      <td>.</td>\n      <td>1.88</td>\n      <td>A</td>\n      <td>108044.0</td>\n      <td>Barishal-Laherhat-Veduria-Bhola-Illisha-Maju C...</td>\n      <td>12.648</td>\n      <td>13.30</td>\n      <td>2000.0</td>\n      <td>1.0</td>\n      <td>Barisal</td>\n      <td>Barisal</td>\n      <td>Barisal</td>\n      <td>Barisal-2</td>\n      <td>22.695556</td>\n      <td>90.453611</td>\n      <td>bcs1</td>\n    </tr>\n    <tr>\n      <th>4308</th>\n      <td>N809</td>\n      <td>13.104</td>\n      <td>Box Culvert</td>\n      <td>LRP013a</td>\n      <td>.</td>\n      <td>1.98</td>\n      <td>A</td>\n      <td>108045.0</td>\n      <td>Barishal-Laherhat-Veduria-Bhola-Illisha-Maju C...</td>\n      <td>13.104</td>\n      <td>10.85</td>\n      <td>1999.0</td>\n      <td>1.0</td>\n      <td>Barisal</td>\n      <td>Barisal</td>\n      <td>Barisal</td>\n      <td>Barisal-2</td>\n      <td>22.695556</td>\n      <td>90.458333</td>\n      <td>bcs1</td>\n    </tr>\n    <tr>\n      <th>4309</th>\n      <td>N809</td>\n      <td>13.291</td>\n      <td>Box Culvert</td>\n      <td>LRP013b</td>\n      <td>.</td>\n      <td>13.25</td>\n      <td>A</td>\n      <td>108048.0</td>\n      <td>Barishal-Laherhat-Veduria-Bhola-Illisha-Maju C...</td>\n      <td>13.291</td>\n      <td>7.25</td>\n      <td>1995.0</td>\n      <td>2.0</td>\n      <td>Barisal</td>\n      <td>Barisal</td>\n      <td>Barisal</td>\n      <td>Barisal-2</td>\n      <td>22.695833</td>\n      <td>90.460833</td>\n      <td>bcs1</td>\n    </tr>\n    <tr>\n      <th>4310</th>\n      <td>N809</td>\n      <td>13.696</td>\n      <td>Box Culvert</td>\n      <td>LRP013d</td>\n      <td>.</td>\n      <td>1.98</td>\n      <td>A</td>\n      <td>108051.0</td>\n      <td>Barishal-Laherhat-Veduria-Bhola-Illisha-Maju C...</td>\n      <td>13.696</td>\n      <td>10.95</td>\n      <td>2000.0</td>\n      <td>1.0</td>\n      <td>Barisal</td>\n      <td>Barisal</td>\n      <td>Barisal</td>\n      <td>Barisal-2</td>\n      <td>22.694167</td>\n      <td>90.464167</td>\n      <td>bcs1</td>\n    </tr>\n    <tr>\n      <th>4311</th>\n      <td>N809</td>\n      <td>14.114</td>\n      <td>Box Culvert</td>\n      <td>LRP014a</td>\n      <td>.</td>\n      <td>1.95</td>\n      <td>A</td>\n      <td>108053.0</td>\n      <td>Barishal-Laherhat-Veduria-Bhola-Illisha-Maju C...</td>\n      <td>14.114</td>\n      <td>9.65</td>\n      <td>2000.0</td>\n      <td>1.0</td>\n      <td>Barisal</td>\n      <td>Barisal</td>\n      <td>Barisal</td>\n      <td>Barisal-2</td>\n      <td>22.692500</td>\n      <td>90.467222</td>\n      <td>bcs1</td>\n    </tr>\n    <tr>\n      <th>4312</th>\n      <td>N809</td>\n      <td>14.922</td>\n      <td>Box Culvert</td>\n      <td>LRP014b</td>\n      <td>.</td>\n      <td>1.95</td>\n      <td>A</td>\n      <td>108057.0</td>\n      <td>Barishal-Laherhat-Veduria-Bhola-Illisha-Maju C...</td>\n      <td>14.922</td>\n      <td>10.80</td>\n      <td>2000.0</td>\n      <td>1.0</td>\n      <td>Barisal</td>\n      <td>Barisal</td>\n      <td>Barisal</td>\n      <td>Barisal-2</td>\n      <td>22.691111</td>\n      <td>90.475000</td>\n      <td>bcs1</td>\n    </tr>\n    <tr>\n      <th>4313</th>\n      <td>N809</td>\n      <td>15.290</td>\n      <td>Box Culvert</td>\n      <td>LRP015a</td>\n      <td>.</td>\n      <td>1.95</td>\n      <td>A</td>\n      <td>108059.0</td>\n      <td>Barishal-Laherhat-Veduria-Bhola-Illisha-Maju C...</td>\n      <td>15.29</td>\n      <td>9.65</td>\n      <td>1999.0</td>\n      <td>1.0</td>\n      <td>Barisal</td>\n      <td>Barisal</td>\n      <td>Barisal</td>\n      <td>Barisal-2</td>\n      <td>22.690556</td>\n      <td>90.478611</td>\n      <td>bcs1</td>\n    </tr>\n    <tr>\n      <th>4314</th>\n      <td>N809</td>\n      <td>15.647</td>\n      <td>Box Culvert</td>\n      <td>LRP015b</td>\n      <td>.</td>\n      <td>1.95</td>\n      <td>A</td>\n      <td>108061.0</td>\n      <td>Barishal-Laherhat-Veduria-Bhola-Illisha-Maju C...</td>\n      <td>15.647</td>\n      <td>9.65</td>\n      <td>2000.0</td>\n      <td>1.0</td>\n      <td>Barisal</td>\n      <td>Barisal</td>\n      <td>Barisal</td>\n      <td>Barisal-2</td>\n      <td>22.690000</td>\n      <td>90.481944</td>\n      <td>bcs1</td>\n    </tr>\n    <tr>\n      <th>4315</th>\n      <td>N809</td>\n      <td>26.642</td>\n      <td>Baily with Steel Deck</td>\n      <td>LRP026a</td>\n      <td>.</td>\n      <td>42.60</td>\n      <td>A</td>\n      <td>108064.0</td>\n      <td>Barishal-Laherhat-Veduria-Bhola-Illisha-Maju C...</td>\n      <td>26.642</td>\n      <td>5.00</td>\n      <td>2000.0</td>\n      <td>1.0</td>\n      <td>Barisal</td>\n      <td>Barisal</td>\n      <td>Bhola</td>\n      <td>Bhola</td>\n      <td>22.723333</td>\n      <td>90.573889</td>\n      <td>bcs1</td>\n    </tr>\n    <tr>\n      <th>4316</th>\n      <td>N809</td>\n      <td>28.999</td>\n      <td>Baily with Steel Deck</td>\n      <td>LRP028a</td>\n      <td>.</td>\n      <td>128.76</td>\n      <td>A</td>\n      <td>108067.0</td>\n      <td>Barishal-Laherhat-Veduria-Bhola-Illisha-Maju C...</td>\n      <td>28.999</td>\n      <td>5.00</td>\n      <td>1997.0</td>\n      <td>3.0</td>\n      <td>Barisal</td>\n      <td>Barisal</td>\n      <td>Bhola</td>\n      <td>Bhola</td>\n      <td>22.738611</td>\n      <td>90.589167</td>\n      <td>bcs1</td>\n    </tr>\n    <tr>\n      <th>4317</th>\n      <td>N809</td>\n      <td>28.999</td>\n      <td>PC Girder Bridge</td>\n      <td>LRP028a</td>\n      <td>NaN</td>\n      <td>130.10</td>\n      <td>C</td>\n      <td>119770.0</td>\n      <td>Barishal-Laherhat-Veduria-Bhola-Illisha-Maju C...</td>\n      <td>28.999</td>\n      <td>NaN</td>\n      <td>NaN</td>\n      <td>NaN</td>\n      <td>Barisal</td>\n      <td>Barisal</td>\n      <td>Bhola</td>\n      <td>Bhola</td>\n      <td>22.730637</td>\n      <td>90.580032</td>\n      <td>road_interpolate</td>\n    </tr>\n    <tr>\n      <th>4318</th>\n      <td>N809</td>\n      <td>30.328</td>\n      <td>Box Culvert</td>\n      <td>LRP030a</td>\n      <td>.</td>\n      <td>1.95</td>\n      <td>A</td>\n      <td>108068.0</td>\n      <td>Barishal-Laherhat-Veduria-Bhola-Illisha-Maju C...</td>\n      <td>30.328</td>\n      <td>18.10</td>\n      <td>2000.0</td>\n      <td>1.0</td>\n      <td>Barisal</td>\n      <td>Barisal</td>\n      <td>Bhola</td>\n      <td>Bhola</td>\n      <td>22.736667</td>\n      <td>90.601944</td>\n      <td>bcs1</td>\n    </tr>\n    <tr>\n      <th>4319</th>\n      <td>N809</td>\n      <td>30.828</td>\n      <td>Box Culvert</td>\n      <td>LRP030b</td>\n      <td>.</td>\n      <td>1.97</td>\n      <td>A</td>\n      <td>108072.0</td>\n      <td>Barishal-Laherhat-Veduria-Bhola-Illisha-Maju C...</td>\n      <td>30.828</td>\n      <td>18.17</td>\n      <td>2000.0</td>\n      <td>1.0</td>\n      <td>Barisal</td>\n      <td>Barisal</td>\n      <td>Bhola</td>\n      <td>Bhola</td>\n      <td>22.736667</td>\n      <td>90.606944</td>\n      <td>bcs1</td>\n    </tr>\n    <tr>\n      <th>4320</th>\n      <td>N809</td>\n      <td>32.906</td>\n      <td>Box Culvert</td>\n      <td>LRP032a</td>\n      <td>.</td>\n      <td>3.70</td>\n      <td>A</td>\n      <td>108074.0</td>\n      <td>Barishal-Laherhat-Veduria-Bhola-Illisha-Maju C...</td>\n      <td>32.906</td>\n      <td>10.93</td>\n      <td>1996.0</td>\n      <td>1.0</td>\n      <td>Barisal</td>\n      <td>Barisal</td>\n      <td>Bhola</td>\n      <td>Bhola</td>\n      <td>22.731389</td>\n      <td>90.625833</td>\n      <td>bcs1</td>\n    </tr>\n    <tr>\n      <th>4321</th>\n      <td>N809</td>\n      <td>33.086</td>\n      <td>Box Culvert</td>\n      <td>LRP033a</td>\n      <td>.</td>\n      <td>6.86</td>\n      <td>A</td>\n      <td>108077.0</td>\n      <td>Barishal-Laherhat-Veduria-Bhola-Illisha-Maju C...</td>\n      <td>33.086</td>\n      <td>9.60</td>\n      <td>2000.0</td>\n      <td>1.0</td>\n      <td>Barisal</td>\n      <td>Barisal</td>\n      <td>Bhola</td>\n      <td>Bhola</td>\n      <td>22.730556</td>\n      <td>90.627778</td>\n      <td>bcs1</td>\n    </tr>\n    <tr>\n      <th>4322</th>\n      <td>N809</td>\n      <td>34.510</td>\n      <td>RCC Bridge</td>\n      <td>LRP034a</td>\n      <td>.</td>\n      <td>7.63</td>\n      <td>C</td>\n      <td>108080.0</td>\n      <td>Barishal-Laherhat-Veduria-Bhola-Illisha-Maju C...</td>\n      <td>34.51</td>\n      <td>4.30</td>\n      <td>1952.0</td>\n      <td>3.0</td>\n      <td>Barisal</td>\n      <td>Barisal</td>\n      <td>Bhola</td>\n      <td>Bhola</td>\n      <td>22.735000</td>\n      <td>90.633333</td>\n      <td>bcs1</td>\n    </tr>\n    <tr>\n      <th>4323</th>\n      <td>N809</td>\n      <td>36.219</td>\n      <td>RCC Bridge</td>\n      <td>LRP036a</td>\n      <td>.</td>\n      <td>7.63</td>\n      <td>C</td>\n      <td>108086.0</td>\n      <td>Barishal-Laherhat-Veduria-Bhola-Illisha-Maju C...</td>\n      <td>36.219</td>\n      <td>4.28</td>\n      <td>1952.0</td>\n      <td>3.0</td>\n      <td>Barisal</td>\n      <td>Barisal</td>\n      <td>Bhola</td>\n      <td>Bhola</td>\n      <td>22.750556</td>\n      <td>90.635083</td>\n      <td>bcs1</td>\n    </tr>\n    <tr>\n      <th>4324</th>\n      <td>N809</td>\n      <td>37.575</td>\n      <td>RCC Bridge</td>\n      <td>LRP037a</td>\n      <td>.</td>\n      <td>7.60</td>\n      <td>A</td>\n      <td>108088.0</td>\n      <td>Barishal-Laherhat-Veduria-Bhola-Illisha-Maju C...</td>\n      <td>37.575</td>\n      <td>4.23</td>\n      <td>1953.0</td>\n      <td>3.0</td>\n      <td>Barisal</td>\n      <td>Barisal</td>\n      <td>Bhola</td>\n      <td>Bhola</td>\n      <td>22.762222</td>\n      <td>90.639722</td>\n      <td>bcs1</td>\n    </tr>\n    <tr>\n      <th>4325</th>\n      <td>N809</td>\n      <td>38.484</td>\n      <td>RCC Bridge</td>\n      <td>LRP038a</td>\n      <td>.</td>\n      <td>12.40</td>\n      <td>B</td>\n      <td>108094.0</td>\n      <td>Barishal-Laherhat-Veduria-Bhola-Illisha-Maju C...</td>\n      <td>38.484</td>\n      <td>4.34</td>\n      <td>1985.0</td>\n      <td>3.0</td>\n      <td>Barisal</td>\n      <td>Barisal</td>\n      <td>Bhola</td>\n      <td>Bhola</td>\n      <td>22.769167</td>\n      <td>90.644444</td>\n      <td>bcs1</td>\n    </tr>\n    <tr>\n      <th>4326</th>\n      <td>N809</td>\n      <td>39.412</td>\n      <td>RCC Bridge</td>\n      <td>LRP039a</td>\n      <td>.</td>\n      <td>7.69</td>\n      <td>C</td>\n      <td>108097.0</td>\n      <td>Barishal-Laherhat-Veduria-Bhola-Illisha-Maju C...</td>\n      <td>39.412</td>\n      <td>4.28</td>\n      <td>1954.0</td>\n      <td>3.0</td>\n      <td>Barisal</td>\n      <td>Barisal</td>\n      <td>Bhola</td>\n      <td>Bhola</td>\n      <td>22.777222</td>\n      <td>90.647222</td>\n      <td>bcs1</td>\n    </tr>\n    <tr>\n      <th>4327</th>\n      <td>N809</td>\n      <td>61.899</td>\n      <td>Slab Culvert</td>\n      <td>LRP062a</td>\n      <td>SHAKCHORA-5- SLAB CULVERT</td>\n      <td>0.90</td>\n      <td>A</td>\n      <td>114145.0</td>\n      <td>Barishal-Laherhat-Veduria-Bhola-Illisha-Maju C...</td>\n      <td>61.899</td>\n      <td>10.30</td>\n      <td>1997.0</td>\n      <td>1.0</td>\n      <td>Comilla</td>\n      <td>Noakhali</td>\n      <td>Laxmipur</td>\n      <td>Laxmipur</td>\n      <td>22.777222</td>\n      <td>90.647222</td>\n      <td>bcs1</td>\n    </tr>\n    <tr>\n      <th>4328</th>\n      <td>N809</td>\n      <td>62.003</td>\n      <td>Box Culvert</td>\n      <td>LRP062b</td>\n      <td>DHAKSIN SHAKCHAR CULVERT</td>\n      <td>3.00</td>\n      <td>A</td>\n      <td>102307.0</td>\n      <td>Barishal-Laherhat-Veduria-Bhola-Illisha-Maju C...</td>\n      <td>62.003</td>\n      <td>7.30</td>\n      <td>1995.0</td>\n      <td>1.0</td>\n      <td>Comilla</td>\n      <td>Noakhali</td>\n      <td>Laxmipur</td>\n      <td>Laxmipur</td>\n      <td>22.777222</td>\n      <td>90.647222</td>\n      <td>bcs1</td>\n    </tr>\n    <tr>\n      <th>4329</th>\n      <td>N809</td>\n      <td>62.529</td>\n      <td>Slab Culvert</td>\n      <td>LRP062c</td>\n      <td>HAZILLA BAZAR</td>\n      <td>0.90</td>\n      <td>A</td>\n      <td>114146.0</td>\n      <td>Barishal-Laherhat-Veduria-Bhola-Illisha-Maju C...</td>\n      <td>62.529</td>\n      <td>10.30</td>\n      <td>1993.0</td>\n      <td>1.0</td>\n      <td>Comilla</td>\n      <td>Noakhali</td>\n      <td>Laxmipur</td>\n      <td>Laxmipur</td>\n      <td>22.777222</td>\n      <td>90.647222</td>\n      <td>bcs1</td>\n    </tr>\n    <tr>\n      <th>4330</th>\n      <td>N809</td>\n      <td>62.699</td>\n      <td>Slab Culvert</td>\n      <td>LRP063a</td>\n      <td>HAZILLA BABAYGOZA CULVERT</td>\n      <td>1.00</td>\n      <td>A</td>\n      <td>105281.0</td>\n      <td>Barishal-Laherhat-Veduria-Bhola-Illisha-Maju C...</td>\n      <td>62.699</td>\n      <td>9.70</td>\n      <td>1996.0</td>\n      <td>1.0</td>\n      <td>Comilla</td>\n      <td>Noakhali</td>\n      <td>Laxmipur</td>\n      <td>Laxmipur</td>\n      <td>22.777222</td>\n      <td>90.647222</td>\n      <td>bcs1</td>\n    </tr>\n    <tr>\n      <th>4331</th>\n      <td>N809</td>\n      <td>63.428</td>\n      <td>Slab Culvert</td>\n      <td>LRP063b</td>\n      <td>TUMCHAR</td>\n      <td>0.80</td>\n      <td>A</td>\n      <td>114147.0</td>\n      <td>Barishal-Laherhat-Veduria-Bhola-Illisha-Maju C...</td>\n      <td>63.428</td>\n      <td>10.30</td>\n      <td>1999.0</td>\n      <td>1.0</td>\n      <td>Comilla</td>\n      <td>Noakhali</td>\n      <td>Laxmipur</td>\n      <td>Laxmipur</td>\n      <td>22.777222</td>\n      <td>90.647222</td>\n      <td>bcs1</td>\n    </tr>\n    <tr>\n      <th>4332</th>\n      <td>N809</td>\n      <td>63.580</td>\n      <td>Box Culvert</td>\n      <td>LRP064a</td>\n      <td>SHAKCHAR BOX CULVERT</td>\n      <td>0.90</td>\n      <td>A</td>\n      <td>114143.0</td>\n      <td>Barishal-Laherhat-Veduria-Bhola-Illisha-Maju C...</td>\n      <td>63.58</td>\n      <td>10.30</td>\n      <td>1990.0</td>\n      <td>1.0</td>\n      <td>Comilla</td>\n      <td>Noakhali</td>\n      <td>Laxmipur</td>\n      <td>Laxmipur</td>\n      <td>22.777222</td>\n      <td>90.647222</td>\n      <td>bcs1</td>\n    </tr>\n    <tr>\n      <th>4333</th>\n      <td>N809</td>\n      <td>63.772</td>\n      <td>Slab Culvert</td>\n      <td>LRP064b</td>\n      <td>SHAKCHAR-1- SLAB CULVERT</td>\n      <td>0.90</td>\n      <td>A</td>\n      <td>114144.0</td>\n      <td>Barishal-Laherhat-Veduria-Bhola-Illisha-Maju C...</td>\n      <td>63.772</td>\n      <td>10.30</td>\n      <td>1992.0</td>\n      <td>1.0</td>\n      <td>Comilla</td>\n      <td>Noakhali</td>\n      <td>Laxmipur</td>\n      <td>Laxmipur</td>\n      <td>22.777222</td>\n      <td>90.647222</td>\n      <td>bcs1</td>\n    </tr>\n    <tr>\n      <th>4334</th>\n      <td>N809</td>\n      <td>64.115</td>\n      <td>Slab Culvert</td>\n      <td>LRP064e</td>\n      <td>SAKSOR SLAVE CULVERT</td>\n      <td>1.20</td>\n      <td>A</td>\n      <td>102316.0</td>\n      <td>Barishal-Laherhat-Veduria-Bhola-Illisha-Maju C...</td>\n      <td>64.115</td>\n      <td>9.10</td>\n      <td>1994.0</td>\n      <td>1.0</td>\n      <td>Comilla</td>\n      <td>Noakhali</td>\n      <td>Laxmipur</td>\n      <td>Laxmipur</td>\n      <td>22.777222</td>\n      <td>90.647222</td>\n      <td>bcs1</td>\n    </tr>\n    <tr>\n      <th>4335</th>\n      <td>N809</td>\n      <td>65.754</td>\n      <td>Box Culvert</td>\n      <td>LRP066a</td>\n      <td>HAZIBARI BOX CULVERT</td>\n      <td>9.40</td>\n      <td>A</td>\n      <td>102309.0</td>\n      <td>Barishal-Laherhat-Veduria-Bhola-Illisha-Maju C...</td>\n      <td>65.754</td>\n      <td>8.00</td>\n      <td>1997.0</td>\n      <td>2.0</td>\n      <td>Comilla</td>\n      <td>Noakhali</td>\n      <td>Laxmipur</td>\n      <td>Laxmipur</td>\n      <td>22.777222</td>\n      <td>90.647222</td>\n      <td>bcs1</td>\n    </tr>\n    <tr>\n      <th>4336</th>\n      <td>N809</td>\n      <td>66.153</td>\n      <td>Box Culvert</td>\n      <td>LRP066d</td>\n      <td>BANCHA NAGAR CULVERT</td>\n      <td>3.00</td>\n      <td>B</td>\n      <td>102312.0</td>\n      <td>Barishal-Laherhat-Veduria-Bhola-Illisha-Maju C...</td>\n      <td>66.153</td>\n      <td>8.00</td>\n      <td>1993.0</td>\n      <td>1.0</td>\n      <td>Comilla</td>\n      <td>Noakhali</td>\n      <td>Laxmipur</td>\n      <td>Laxmipur</td>\n      <td>22.777222</td>\n      <td>90.647222</td>\n      <td>bcs1</td>\n    </tr>\n  </tbody>\n</table>\n</div>"
     },
     "execution_count": 20,
     "metadata": {},
     "output_type": "execute_result"
    }
   ],
   "source": [
    "bmms[bmms['road'] == 'N809']"
   ],
   "metadata": {
    "collapsed": false,
    "ExecuteTime": {
     "end_time": "2024-02-23T12:05:09.158676200Z",
     "start_time": "2024-02-23T12:05:08.985094100Z"
    }
   },
   "id": "9534b8bbb5fe9559"
  },
  {
   "cell_type": "code",
   "execution_count": 21,
   "outputs": [
    {
     "data": {
      "text/plain": "  road    min_lat    max_lat    min_lon    max_lon\n0   N1  20.862917  23.706083  90.443333  92.299639",
      "text/html": "<div>\n<style scoped>\n    .dataframe tbody tr th:only-of-type {\n        vertical-align: middle;\n    }\n\n    .dataframe tbody tr th {\n        vertical-align: top;\n    }\n\n    .dataframe thead th {\n        text-align: right;\n    }\n</style>\n<table border=\"1\" class=\"dataframe\">\n  <thead>\n    <tr style=\"text-align: right;\">\n      <th></th>\n      <th>road</th>\n      <th>min_lat</th>\n      <th>max_lat</th>\n      <th>min_lon</th>\n      <th>max_lon</th>\n    </tr>\n  </thead>\n  <tbody>\n    <tr>\n      <th>0</th>\n      <td>N1</td>\n      <td>20.862917</td>\n      <td>23.706083</td>\n      <td>90.443333</td>\n      <td>92.299639</td>\n    </tr>\n  </tbody>\n</table>\n</div>"
     },
     "execution_count": 21,
     "metadata": {},
     "output_type": "execute_result"
    }
   ],
   "source": [
    "df_road_ranges[df_road_ranges['road'] == 'N1']"
   ],
   "metadata": {
    "collapsed": false,
    "ExecuteTime": {
     "end_time": "2024-02-23T12:05:09.195161400Z",
     "start_time": "2024-02-23T12:05:09.017849100Z"
    }
   },
   "id": "494365bd7bb85c3d"
  },
  {
   "cell_type": "code",
   "execution_count": 22,
   "outputs": [
    {
     "data": {
      "text/plain": "(        road      km                   type  LRPName  \\\n 0         N1   1.800            Box Culvert  LRP001a   \n 1         N1   4.925            Box Culvert  LRP004b   \n 2         N1   8.976       PC Girder Bridge  LRP008b   \n 3         N1   8.976       PC Girder Bridge  LRP008b   \n 4         N1  10.543            Box Culvert  LRP010a   \n ...      ...     ...                    ...      ...   \n 21397  Z8948   0.640            Box Culvert    LRPSb   \n 21398  Z8948   1.010            Box Culvert  LRP001a   \n 21399  Z8948   2.070  Baily with Steel Deck  LRP002a   \n 21400  Z8948   2.070  Steel Beam & RCC Slab  LRP002a   \n 21401  Z8948   2.100  Steel Beam & RCC Slab  LRP002c   \n \n                             name  length condition  structureNr  \\\n 0                              .   11.30         A     117861.0   \n 1                              .    6.60         A     117862.0   \n 2              Kanch pur Bridge.  394.23         A     119889.0   \n 3      KANCHPUR PC GIRDER BRIDGE  397.00         C     101102.0   \n 4           KATCHPUR BOX CULVERT    8.00         B     101106.0   \n ...                          ...     ...       ...          ...   \n 21397                          .    2.00         A     116833.0   \n 21398                          .    2.00         A     116834.0   \n 21399                        NaN   27.36         A     119862.0   \n 21400                          .   18.50         A     116835.0   \n 21401                          .   18.50         A     116836.0   \n \n                                                 roadName chainage  width  \\\n 0      Dhaka (Jatrabari)-Comilla (Mainamati)-Chittago...      1.8  19.50   \n 1      Dhaka (Jatrabari)-Comilla (Mainamati)-Chittago...    4.925  35.40   \n 2      Dhaka (Jatrabari)-Comilla (Mainamati)-Chittago...    8.976    NaN   \n 3      Dhaka (Jatrabari)-Comilla (Mainamati)-Chittago...    8.976  14.65   \n 4      Dhaka (Jatrabari)-Comilla (Mainamati)-Chittago...   10.543  21.70   \n ...                                                  ...      ...    ...   \n 21397                           Fakirhat-Khasherhat Road     0.64  10.00   \n 21398                           Fakirhat-Khasherhat Road     1.01   9.70   \n 21399                           Fakirhat-Khasherhat Road     2.07    NaN   \n 21400                           Fakirhat-Khasherhat Road     2.07   3.00   \n 21401                           Fakirhat-Khasherhat Road      2.1   3.00   \n \n        constructionYear  spans     zone   circle     division   sub-division  \\\n 0                2005.0    2.0    Dhaka    Dhaka  Narayanganj  Narayanganj-1   \n 1                2006.0    1.0    Dhaka    Dhaka  Narayanganj  Narayanganj-1   \n 2                   NaN    NaN    Dhaka    Dhaka  Narayanganj  Narayanganj-1   \n 3                1986.0    8.0    Dhaka    Dhaka  Narayanganj  Narayanganj-1   \n 4                1987.0    2.0    Dhaka    Dhaka  Narayanganj      Vitikandi   \n ...                 ...    ...      ...      ...          ...            ...   \n 21397            1998.0    1.0  Barisal  Barisal        Bhola          Bhola   \n 21398            1995.0    1.0  Barisal  Barisal        Bhola          Bhola   \n 21399               NaN    NaN  Barisal  Barisal        Bhola          Bhola   \n 21400            1994.0    3.0  Barisal  Barisal        Bhola          Bhola   \n 21401            1990.0    3.0  Barisal  Barisal        Bhola          Bhola   \n \n              lat        lon  EstimatedLoc  \n 0      23.702889  90.450389          bcs1  \n 1      23.693611  90.478833          bcs1  \n 2      23.704583  90.518833  road_precise  \n 3      23.702083  90.515917          bcs1  \n 4      23.702056  90.528194          bcs1  \n ...          ...        ...           ...  \n 21397  22.422778  90.787222          bcs1  \n 21398  22.419167  90.787500          bcs1  \n 21399  22.416667  90.789583          bcs1  \n 21400  22.414167  90.791667          bcs1  \n 21401  22.414167  90.791944          bcs1  \n \n [21402 rows x 20 columns],\n       road  lrp1       lat1       lon1    lrp2       lat2       lon2  \\\n 0       N1  LRPS  23.706028  90.443333   LRPSa  23.702917  90.450417   \n 1     N101  LRPS  23.454139  91.212861   LRPSa  23.461889  91.212000   \n 2     N102  LRPS  23.478972  91.118194   LRPSa  23.481583  91.116777   \n 3     N103  LRPS  23.957028  91.115528  LRP001  23.961917  91.113611   \n 4     N104  LRPS  23.009667  91.399416   LRPSa  23.009278  91.395250   \n ..     ...   ...        ...        ...     ...        ...        ...   \n 880  Z8910  LRPS  22.674722  90.408889   LRPSa  22.675916  90.412556   \n 881  Z8913  LRPS  22.396083  90.688666   LRPSa  22.393027  90.688944   \n 882  Z8915  LRPS  22.589389  90.619472  LRP001  22.589694  90.623360   \n 883  Z8916  LRPS  22.625499  90.661722   LRPSa  22.623888  90.664167   \n 884  Z8943  LRPS  22.426444  90.849472   LRPSa  22.426416  90.846833   \n \n     Unnamed: 7  Unnamed: 8  Unnamed: 9  ... Unnamed: 4035  Unnamed: 4036  \\\n 0        LRPSb   23.702778   90.450472  ...      92.29825        LRP466c   \n 1       LRP001   23.462944   91.211806  ...           NaN            NaN   \n 2        LRPSb   23.486666   91.113361  ...           NaN            NaN   \n 3      LRP001a   23.967666   91.111889  ...           NaN            NaN   \n 4       LRP001   23.009306   91.389805  ...           NaN            NaN   \n ..         ...         ...         ...  ...           ...            ...   \n 880     LRP001   22.675583   90.417166  ...           NaN            NaN   \n 881      LRPSb   22.392666   90.689083  ...           NaN            NaN   \n 882    LRP001a   22.590027   90.631360  ...           NaN            NaN   \n 883     LRP001   22.620305   90.668999  ...           NaN            NaN   \n 884     LRP001   22.425444   90.839861  ...           NaN            NaN   \n \n      Unnamed: 4037 Unnamed: 4038  Unnamed: 4039  Unnamed: 4040 Unnamed: 4041  \\\n 0        20.864667     92.298194         LRP467      20.862972     92.298083   \n 1              NaN           NaN            NaN            NaN           NaN   \n 2              NaN           NaN            NaN            NaN           NaN   \n 3              NaN           NaN            NaN            NaN           NaN   \n 4              NaN           NaN            NaN            NaN           NaN   \n ..             ...           ...            ...            ...           ...   \n 880            NaN           NaN            NaN            NaN           NaN   \n 881            NaN           NaN            NaN            NaN           NaN   \n 882            NaN           NaN            NaN            NaN           NaN   \n 883            NaN           NaN            NaN            NaN           NaN   \n 884            NaN           NaN            NaN            NaN           NaN   \n \n      Unnamed: 4042  Unnamed: 4043 Unnamed: 4044  \n 0             LRPE      20.862917     92.298083  \n 1              NaN            NaN           NaN  \n 2              NaN            NaN           NaN  \n 3              NaN            NaN           NaN  \n 4              NaN            NaN           NaN  \n ..             ...            ...           ...  \n 880            NaN            NaN           NaN  \n 881            NaN            NaN           NaN  \n 882            NaN            NaN           NaN  \n 883            NaN            NaN           NaN  \n 884            NaN            NaN           NaN  \n \n [885 rows x 4045 columns])"
     },
     "execution_count": 22,
     "metadata": {},
     "output_type": "execute_result"
    }
   ],
   "source": [
    "Functions.make_files(bmms, df_rds)"
   ],
   "metadata": {
    "collapsed": false,
    "ExecuteTime": {
     "end_time": "2024-02-23T12:05:15.368578800Z",
     "start_time": "2024-02-23T12:05:09.026984300Z"
    }
   },
   "id": "6f3840321d8766c4"
  },
  {
   "cell_type": "code",
   "execution_count": 23,
   "outputs": [
    {
     "data": {
      "text/plain": "      road  lrp1       lat1       lon1   lrp2       lat2       lon2  \\\n802  Z8031  LRPS  22.972583  90.222249  LRPSa  22.970833  90.214528   \n\n    Unnamed: 7  Unnamed: 8  Unnamed: 9  ... Unnamed: 4035  Unnamed: 4036  \\\n802      LRPSb   22.970805   90.214417  ...           NaN            NaN   \n\n     Unnamed: 4037 Unnamed: 4038  Unnamed: 4039  Unnamed: 4040 Unnamed: 4041  \\\n802            NaN           NaN            NaN            NaN           NaN   \n\n     Unnamed: 4042  Unnamed: 4043 Unnamed: 4044  \n802            NaN            NaN           NaN  \n\n[1 rows x 4045 columns]",
      "text/html": "<div>\n<style scoped>\n    .dataframe tbody tr th:only-of-type {\n        vertical-align: middle;\n    }\n\n    .dataframe tbody tr th {\n        vertical-align: top;\n    }\n\n    .dataframe thead th {\n        text-align: right;\n    }\n</style>\n<table border=\"1\" class=\"dataframe\">\n  <thead>\n    <tr style=\"text-align: right;\">\n      <th></th>\n      <th>road</th>\n      <th>lrp1</th>\n      <th>lat1</th>\n      <th>lon1</th>\n      <th>lrp2</th>\n      <th>lat2</th>\n      <th>lon2</th>\n      <th>Unnamed: 7</th>\n      <th>Unnamed: 8</th>\n      <th>Unnamed: 9</th>\n      <th>...</th>\n      <th>Unnamed: 4035</th>\n      <th>Unnamed: 4036</th>\n      <th>Unnamed: 4037</th>\n      <th>Unnamed: 4038</th>\n      <th>Unnamed: 4039</th>\n      <th>Unnamed: 4040</th>\n      <th>Unnamed: 4041</th>\n      <th>Unnamed: 4042</th>\n      <th>Unnamed: 4043</th>\n      <th>Unnamed: 4044</th>\n    </tr>\n  </thead>\n  <tbody>\n    <tr>\n      <th>802</th>\n      <td>Z8031</td>\n      <td>LRPS</td>\n      <td>22.972583</td>\n      <td>90.222249</td>\n      <td>LRPSa</td>\n      <td>22.970833</td>\n      <td>90.214528</td>\n      <td>LRPSb</td>\n      <td>22.970805</td>\n      <td>90.214417</td>\n      <td>...</td>\n      <td>NaN</td>\n      <td>NaN</td>\n      <td>NaN</td>\n      <td>NaN</td>\n      <td>NaN</td>\n      <td>NaN</td>\n      <td>NaN</td>\n      <td>NaN</td>\n      <td>NaN</td>\n      <td>NaN</td>\n    </tr>\n  </tbody>\n</table>\n<p>1 rows × 4045 columns</p>\n</div>"
     },
     "execution_count": 23,
     "metadata": {},
     "output_type": "execute_result"
    }
   ],
   "source": [
    "df_rds[df_rds['road'] == 'Z8031']"
   ],
   "metadata": {
    "collapsed": false,
    "ExecuteTime": {
     "end_time": "2024-02-23T12:05:15.369944300Z",
     "start_time": "2024-02-23T12:05:15.350445200Z"
    }
   },
   "id": "b2127a6e63d884bd"
  },
  {
   "cell_type": "code",
   "execution_count": 24,
   "outputs": [
    {
     "name": "stdout",
     "output_type": "stream",
     "text": [
      "10.049999999999983\n",
      "3.706000000000003\n",
      "3.664999999999999\n",
      "10.407\n",
      "2.858999999999998\n",
      "1.8470000000000004\n",
      "3.5860000000000003\n",
      "1.282\n",
      "9.971\n",
      "5.890000000000001\n",
      "1.7\n",
      "0.395\n",
      "8.213999999999999\n",
      "3.728999999999999\n",
      "0.918\n",
      "nan\n",
      "9.216\n",
      "1.7780000000000005\n",
      "0.6880000000000001\n",
      "6.313000000000017\n",
      "8.321000000000002\n",
      "1.5130000000000001\n",
      "26.875\n",
      "21.695000000000007\n",
      "5.916\n",
      "14.007\n",
      "0.8869999999999998\n",
      "1.078\n",
      "nan\n",
      "4.975999999999999\n",
      "1.7089999999999996\n",
      "5.82\n",
      "18.358000000000004\n",
      "2.6779999999999995\n",
      "0.9120000000000001\n",
      "2.7889999999999997\n",
      "1.319\n",
      "9.569\n",
      "1.3549999999999998\n",
      "0.9310000000000003\n",
      "1.7150000000000003\n",
      "6.248999999999995\n",
      "5.743000000000002\n",
      "0.30599999999999994\n",
      "13.225999999999999\n",
      "1.8330000000000002\n",
      "3.407\n",
      "1.444\n",
      "1.9009999999999998\n",
      "0.725\n",
      "13.033999999999999\n",
      "3.09\n",
      "2.901\n",
      "3.2760000000000105\n",
      "nan\n",
      "0.96\n",
      "22.487000000000002\n",
      "2.38\n",
      "2.242\n",
      "2.31\n",
      "3.4589999999999996\n",
      "7.935000000000002\n",
      "3.7359999999999998\n",
      "4.821999999999999\n",
      "4.144\n",
      "5.184999999999995\n",
      "3.0380000000000003\n",
      "8.608999999999995\n",
      "10.832000000000004\n",
      "7.831000000000001\n",
      "6.277000000000001\n",
      "1.455\n",
      "4.887999999999998\n",
      "9.658\n",
      "2.83\n",
      "0.7759999999999998\n",
      "nan\n",
      "2.328\n",
      "15.852000000000004\n",
      "1.464\n",
      "3.8680000000000003\n",
      "3.3680000000000003\n",
      "26.144000000000002\n",
      "3.3810000000000002\n",
      "2.176000000000002\n",
      "4.541\n",
      "1.186\n",
      "5.754000000000005\n",
      "3.1550000000000002\n",
      "1.5990000000000002\n",
      "9.579999999999998\n",
      "2.1609999999999996\n",
      "0.0\n",
      "1.7510000000000003\n",
      "0.0\n",
      "6.198999999999998\n",
      "5.644\n",
      "13.403\n",
      "12.176\n",
      "12.088000000000008\n",
      "4.2620000000000005\n",
      "4.390000000000001\n",
      "0.636\n",
      "4.058999999999999\n",
      "3.6610000000000005\n",
      "1.9539999999999997\n",
      "4.218\n",
      "2.8429999999999995\n",
      "3.078000000000003\n",
      "3.762999999999998\n",
      "0.9359999999999999\n",
      "3.8969999999999985\n",
      "10.007000000000001\n",
      "2.7029999999999994\n",
      "3.6499999999999986\n",
      "2.5180000000000007\n",
      "2.3839999999999986\n",
      "4.408000000000001\n",
      "0.5509999999999999\n",
      "2.493\n",
      "7.141000000000005\n",
      "0.3920000000000001\n",
      "2.5530000000000004\n",
      "35.65\n",
      "0.7909999999999999\n",
      "7.884000000000002\n",
      "11.880000000000003\n",
      "5.996\n",
      "3.6959999999999997\n",
      "3.2120000000000033\n",
      "4.085000000000001\n",
      "1.857\n",
      "0.17100000000000004\n",
      "0.8859999999999999\n",
      "2.8110000000000035\n",
      "4.059999999999999\n",
      "1.5250000000000004\n",
      "15.411999999999999\n",
      "7.71\n",
      "2.568999999999999\n",
      "2.7970000000000006\n",
      "3.5930000000000017\n",
      "5.252999999999999\n",
      "1.9410000000000003\n",
      "8.088999999999999\n",
      "nan\n",
      "nan\n",
      "4.244\n",
      "0.16500000000000004\n",
      "10.302999999999997\n",
      "6.145\n",
      "2.282\n",
      "13.280999999999999\n",
      "1.0250000000000004\n",
      "3.294000000000004\n",
      "12.0\n",
      "6.625000000000001\n",
      "5.0489999999999995\n",
      "1.1680000000000001\n",
      "1.6119999999999997\n",
      "1.963000000000001\n",
      "8.264999999999999\n",
      "11.457999999999998\n",
      "10.838999999999999\n",
      "1.226\n",
      "1.4900000000000002\n",
      "1.8030000000000008\n",
      "2.29\n",
      "5.7250000000000005\n",
      "3.3100000000000005\n",
      "1.2889999999999997\n",
      "2.1750000000000007\n",
      "8.695\n",
      "1.718\n",
      "nan\n",
      "7.227\n",
      "1.5810000000000004\n",
      "2.0200000000000005\n",
      "1.9149999999999991\n",
      "5.103\n",
      "0.907\n",
      "2.468\n",
      "4.849999999999998\n",
      "1.1639999999999997\n",
      "2.564\n",
      "2.0\n",
      "1.87\n",
      "2.393\n",
      "2.3610000000000007\n",
      "2.5919999999999987\n",
      "2.247\n",
      "1.9549999999999983\n",
      "7.302000000000001\n",
      "1.9000000000000004\n",
      "1.9500000000000028\n",
      "3.659\n",
      "1.5870000000000002\n",
      "2.9849999999999994\n",
      "1.867\n",
      "2.747\n",
      "nan\n",
      "0.96\n",
      "3.9139999999999997\n",
      "1.2200000000000002\n",
      "4.005999999999999\n",
      "1.7979999999999998\n",
      "0.0\n",
      "10.283\n",
      "1.8330000000000002\n",
      "27.380000000000003\n",
      "2.5009999999999994\n",
      "1.4899999999999998\n",
      "3.169\n",
      "2.72\n",
      "1.0699999999999998\n",
      "6.040000000000001\n",
      "12.817\n",
      "8.336\n",
      "2.576\n",
      "1.254\n",
      "8.38\n",
      "1.9000000000000004\n",
      "54.330999999999996\n",
      "1.222\n",
      "0.8059999999999996\n",
      "3.0880000000000005\n",
      "0.0050000000000000044\n",
      "1.6049999999999986\n",
      "2.795\n",
      "3.758\n",
      "2.4000000000000004\n",
      "1.13\n",
      "10.71\n",
      "2.17\n",
      "4.79\n",
      "0.7999999999999998\n",
      "1.67\n",
      "2.2669999999999995\n",
      "2.58\n",
      "2.52\n",
      "2.0820000000000007\n",
      "1.4579999999999997\n",
      "2.3500000000000005\n",
      "2.17\n",
      "2.0100000000000007\n",
      "2.365\n",
      "2.33\n",
      "2.295\n",
      "2.887999999999998\n",
      "nan\n",
      "6.873000000000001\n",
      "4.006\n",
      "1.7279999999999998\n",
      "9.024999999999999\n",
      "3.4690000000000003\n",
      "4.693\n",
      "2.255\n",
      "2.1800000000000006\n",
      "2.109\n",
      "1.5969999999999995\n",
      "2.3310000000000004\n",
      "2.5710000000000015\n",
      "4.375000000000001\n",
      "5.193\n",
      "2.7650000000000006\n",
      "2.3\n",
      "3.155999999999999\n",
      "1.971\n",
      "2.6959999999999997\n",
      "3.1369999999999987\n",
      "8.800000000000002\n",
      "1.0\n",
      "1.8000000000000003\n",
      "1.8199999999999998\n",
      "10.3\n",
      "4.094000000000001\n",
      "3.2539999999999996\n",
      "2.8739999999999997\n",
      "1.658\n",
      "0.24\n",
      "1.5199999999999998\n",
      "0.69\n",
      "0.0\n",
      "20.444999999999997\n",
      "2.55\n",
      "2.32\n",
      "2.074\n",
      "1.88\n",
      "0.3700000000000001\n",
      "10.96\n",
      "3.069000000000001\n",
      "3.731\n",
      "7.251000000000005\n",
      "11.9\n",
      "3.0009999999999994\n",
      "4.07\n",
      "6.249999999999998\n",
      "5.067\n",
      "2.2139999999999995\n",
      "0.2290000000000001\n",
      "2.609\n",
      "2.982\n",
      "1.2489999999999988\n",
      "2.6419999999999995\n",
      "1.6689999999999998\n",
      "12.293999999999999\n",
      "2.504\n",
      "0.7749999999999999\n",
      "1.3949999999999998\n",
      "0.7060000000000004\n",
      "1.2449999999999999\n",
      "0.6570000000000003\n",
      "38.197\n",
      "4.822000000000003\n",
      "2.6470000000000002\n",
      "13.200000000000001\n",
      "3.0860000000000003\n",
      "2.647000000000002\n",
      "3.076999999999998\n",
      "5.71\n",
      "2.25\n",
      "1.644000000000002\n",
      "1.6800000000000002\n",
      "2.7140000000000004\n",
      "1.3180000000000003\n",
      "2.0509999999999997\n",
      "1.22\n",
      "1.38\n",
      "12.219999999999999\n",
      "1.291\n",
      "2.5330000000000013\n",
      "4.4\n",
      "2.897\n",
      "2.9910000000000005\n",
      "3.43\n",
      "1.6980000000000002\n",
      "0.7829999999999999\n",
      "1.1799999999999997\n",
      "3.15\n",
      "3.454999999999999\n",
      "10.192\n",
      "2.375000000000001\n",
      "1.02\n",
      "6.258\n",
      "1.103\n",
      "2.5010000000000003\n",
      "3.117\n",
      "1.6349999999999998\n",
      "2.524\n",
      "6.720000000000001\n",
      "3.04\n",
      "2.42\n",
      "2.85\n",
      "1.8499999999999996\n",
      "4.32\n",
      "4.903\n",
      "0.5399999999999996\n",
      "1.5300000000000002\n",
      "1.7000000000000002\n",
      "2.5700000000000003\n",
      "6.539999999999999\n",
      "2.107\n",
      "2.806000000000001\n",
      "2.879999999999999\n",
      "2.3899999999999997\n",
      "24.780000000000015\n",
      "4.59\n",
      "0.5050000000000001\n",
      "2.195\n",
      "1.283\n",
      "0.9220000000000002\n",
      "0.4119999999999999\n",
      "4.0569999999999995\n",
      "5.171000000000001\n",
      "6.75\n",
      "5.725999999999999\n",
      "3.3049999999999997\n",
      "12.130000000000003\n",
      "7.2490000000000006\n",
      "2.0\n",
      "5.901\n",
      "1.564\n",
      "2.9179999999999993\n",
      "4.306999999999999\n",
      "2.9800000000000004\n",
      "1.3420000000000005\n",
      "2.2680000000000007\n",
      "3.282\n",
      "1.388\n",
      "1.6429999999999998\n",
      "3.669999999999999\n",
      "3.151\n",
      "4.27\n",
      "7.201000000000002\n",
      "3.9030000000000005\n",
      "2.122\n",
      "2.896000000000001\n",
      "1.5600000000000003\n",
      "2.1000000000000014\n",
      "2.971\n",
      "2.1869999999999994\n",
      "2.8800000000000003\n",
      "2.504\n",
      "0.85\n",
      "5.915000000000001\n",
      "1.6400000000000001\n",
      "2.0860000000000003\n",
      "3.5279999999999987\n",
      "2.740000000000002\n",
      "0.8679999999999999\n",
      "3.4160000000000004\n",
      "4.641000000000002\n",
      "2.3720000000000003\n",
      "1.721\n",
      "7.161\n",
      "5.774000000000001\n",
      "1.867\n",
      "0.931\n",
      "3.8579999999999988\n",
      "1.7379999999999995\n",
      "0.8900000000000006\n",
      "6.950000000000003\n",
      "3.2270000000000003\n",
      "0.986\n",
      "0.6270000000000002\n",
      "1.274\n",
      "5.253\n",
      "1.604\n",
      "1.978\n",
      "2.1449999999999996\n",
      "nan\n",
      "8.113\n",
      "5.925000000000001\n",
      "2.5139999999999993\n",
      "5.1899999999999995\n",
      "2.5599999999999987\n",
      "4.88\n",
      "2.6999999999999993\n",
      "2.54\n",
      "3.9800000000000004\n",
      "3.09\n",
      "1.6049999999999995\n",
      "nan\n",
      "2.470999999999999\n",
      "3.9159999999999995\n",
      "2.6799999999999997\n",
      "5.240000000000002\n",
      "5.138999999999999\n",
      "2.436\n",
      "0.8300000000000001\n",
      "3.6579999999999995\n",
      "1.5899999999999999\n",
      "1.5079999999999991\n",
      "3.478999999999999\n",
      "12.536000000000001\n",
      "3.1000000000000014\n",
      "3.450000000000001\n",
      "2.1850000000000005\n",
      "3.970999999999999\n",
      "10.209999999999999\n",
      "5.6179999999999986\n",
      "6.33\n",
      "6.363999999999999\n",
      "13.959999999999999\n",
      "1.74\n",
      "2.4499999999999993\n",
      "2.710000000000001\n",
      "2.6399999999999997\n",
      "3.5999999999999996\n",
      "2.28\n",
      "3.4000000000000004\n",
      "10.770000000000001\n",
      "2.6580000000000004\n",
      "1.913\n",
      "2.641\n",
      "3.0470000000000006\n",
      "6.540000000000001\n",
      "1.7330000000000005\n",
      "1.0\n",
      "3.869999999999999\n",
      "2.901\n",
      "nan\n",
      "2.054\n",
      "4.181000000000001\n",
      "2.194\n",
      "1.5\n",
      "2.5899999999999963\n",
      "12.29\n",
      "5.818999999999999\n",
      "2.5809999999999995\n",
      "3.3280000000000003\n",
      "2.59\n",
      "2.0\n",
      "10.319999999999999\n",
      "2.8949999999999996\n",
      "1.5919999999999996\n",
      "7.757000000000001\n",
      "4.106\n",
      "2.8420000000000005\n",
      "4.239999999999998\n",
      "3.9299999999999997\n",
      "7.199999999999999\n",
      "6.56\n",
      "2.3890000000000002\n",
      "3.19\n",
      "8.59\n",
      "4.349999999999999\n",
      "2.97\n",
      "0.6900000000000002\n",
      "4.06\n",
      "1.2229999999999999\n",
      "1.6420000000000003\n",
      "2.5600000000000005\n",
      "1.9429999999999996\n",
      "1.2300000000000002\n",
      "2.6900000000000004\n",
      "2.7799999999999994\n",
      "1.4\n",
      "4.897\n",
      "6.884\n",
      "5.280000000000001\n",
      "3.0100000000000002\n",
      "0.30499999999999994\n",
      "2.553\n",
      "2.4399999999999995\n",
      "1.1\n",
      "5.384\n",
      "2.26\n",
      "4.110000000000001\n",
      "2.219999999999999\n",
      "3.456999999999997\n",
      "6.435000000000002\n",
      "1.1\n",
      "7.529999999999998\n",
      "1.8490000000000002\n",
      "5.183\n",
      "3.389000000000001\n",
      "3.33\n",
      "0.0\n",
      "nan\n",
      "4.056\n",
      "2.285\n",
      "2.92\n",
      "2.74\n",
      "2.8100000000000005\n",
      "1.6\n",
      "2.6099999999999994\n",
      "1.5500000000000007\n",
      "1.7400000000000002\n",
      "1.81\n",
      "1.145\n",
      "2.2319999999999975\n",
      "1.0949999999999998\n",
      "1.96\n",
      "6.557000000000002\n",
      "2.4689999999999976\n",
      "2.6750000000000007\n",
      "2.4700000000000024\n",
      "4.73\n",
      "1.71\n",
      "5.86\n",
      "2.0139999999999993\n",
      "1.54\n",
      "3.1900000000000013\n",
      "2.5010000000000003\n",
      "7.640000000000001\n",
      "3.119999999999999\n",
      "2.448\n",
      "2.9300000000000015\n",
      "5.986\n",
      "5.702\n",
      "2.7830000000000004\n",
      "16.923000000000002\n",
      "2.384\n",
      "4.077\n",
      "0.479\n",
      "6.480999999999998\n",
      "8.279\n",
      "3.2010000000000005\n",
      "5.499000000000002\n",
      "2.9770000000000003\n",
      "1.7080000000000002\n",
      "0.43000000000000005\n",
      "4.228999999999999\n",
      "1.8399999999999999\n",
      "3.05\n",
      "nan\n",
      "2.2119999999999997\n",
      "1.36\n",
      "4.38\n",
      "2.5009999999999994\n",
      "9.495000000000001\n",
      "3.7799999999999994\n",
      "3.2099999999999973\n",
      "10.113\n",
      "3.971\n",
      "2.035\n",
      "3.668000000000001\n",
      "3.7760000000000007\n",
      "2.65\n",
      "3.111999999999999\n",
      "3.1359999999999992\n",
      "2.9350000000000023\n",
      "6.172999999999998\n",
      "10.266999999999998\n",
      "4.723999999999999\n",
      "4.596\n",
      "3.012999999999998\n",
      "5.139000000000001\n",
      "2.2110000000000003\n",
      "3.4450000000000003\n",
      "2.42\n",
      "1.0699999999999998\n",
      "nan\n",
      "1.87\n",
      "5.064000000000001\n",
      "1.58\n",
      "nan\n",
      "7.486999999999998\n",
      "11.208000000000002\n",
      "13.279999999999998\n",
      "1.6139999999999999\n",
      "4.809999999999995\n",
      "4.428999999999999\n",
      "nan\n",
      "5.284000000000001\n",
      "0.0\n",
      "4.814\n",
      "5.8229999999999995\n",
      "2.3810000000000002\n",
      "5.498000000000001\n",
      "9.837\n",
      "3.0429999999999997\n",
      "1.7579999999999991\n",
      "nan\n",
      "0.91\n",
      "6.16\n",
      "0.9510000000000001\n",
      "3.2510000000000012\n",
      "4.026000000000001\n",
      "4.4399999999999995\n",
      "22.365000000000002\n",
      "3.167\n",
      "1.677999999999999\n",
      "6.457000000000001\n",
      "6.245000000000001\n",
      "1.6530000000000005\n",
      "7.751999999999999\n",
      "5.526\n",
      "nan\n",
      "1.9100000000000001\n",
      "1.7150000000000034\n",
      "1.8099999999999996\n",
      "16.236\n",
      "5.666\n",
      "13.54\n",
      "2.7169999999999987\n",
      "1.436\n",
      "7.9140000000000015\n",
      "1.02\n",
      "1.08\n",
      "1.4799999999999986\n",
      "1.0\n",
      "4.989000000000001\n",
      "37.38\n",
      "1.98\n",
      "1.0\n",
      "4.0280000000000005\n",
      "1.3670000000000009\n",
      "1.6190000000000002\n",
      "2.5989999999999993\n",
      "10.25\n",
      "5.254000000000001\n",
      "2.273999999999999\n",
      "1.5970000000000013\n",
      "1.6769999999999998\n",
      "7.783000000000001\n",
      "4.475999999999999\n",
      "2.9880000000000004\n",
      "1.3249999999999993\n",
      "2.229\n",
      "20.830000000000002\n",
      "1.58\n",
      "1.31\n",
      "16.423\n",
      "1.4000000000000001\n",
      "0.9780000000000002\n",
      "2.1999999999999993\n",
      "0.43000000000000016\n",
      "0.9199999999999999\n",
      "3.0300000000000002\n",
      "3.1710000000000003\n",
      "6.456999999999999\n",
      "1.7910000000000001\n",
      "0.9989999999999999\n",
      "3.436\n",
      "3.55\n",
      "3.8\n",
      "1.0099999999999998\n",
      "0.915\n",
      "3.170000000000001\n",
      "13.019999999999998\n",
      "1.7029999999999994\n",
      "2.717\n",
      "3.2\n",
      "nan\n",
      "1.96\n",
      "2.6399999999999997\n",
      "3.99\n",
      "nan\n",
      "0.0\n",
      "1.5149999999999988\n",
      "0.875\n",
      "11.228\n",
      "2.17\n",
      "0.38\n",
      "3.8\n",
      "3.4520000000000053\n",
      "2.208\n",
      "0.8930000000000002\n",
      "1.1580000000000013\n",
      "2.8860000000000006\n",
      "27.746000000000002\n",
      "0.586\n",
      "1.359\n",
      "1.4559999999999995\n",
      "0.7749999999999999\n",
      "1.3209999999999997\n",
      "3.6400000000000006\n",
      "9.559999999999999\n",
      "17.139000000000003\n",
      "2.1210000000000004\n",
      "10.489999999999998\n",
      "1.283\n",
      "2.58\n",
      "12.3\n",
      "3.870000000000001\n",
      "3.860000000000001\n",
      "3.48\n",
      "1.3369999999999989\n",
      "1.0599999999999998\n",
      "this is max road\n",
      "Z1098    54.331\n",
      "Z1811    38.197\n",
      "Z7718    37.380\n",
      "R601     35.650\n",
      "Z8708    27.746\n",
      "Z1069    27.380\n",
      "N405     26.875\n",
      "R220     26.144\n",
      "Z2834    24.780\n",
      "N809     22.487\n",
      "Name: km, dtype: float64\n"
     ]
    }
   ],
   "source": [
    "max_distances = bmms.groupby('road')['km'].apply(lambda x: (x.sort_values().diff().max()))\n",
    "\n",
    "# Display the results\n",
    "for item in max_distances:\n",
    "    print(item)\n",
    "    \n",
    "print('this is max', max_distances.nlargest(10))"
   ],
   "metadata": {
    "collapsed": false,
    "ExecuteTime": {
     "end_time": "2024-02-23T12:05:15.506810200Z",
     "start_time": "2024-02-23T12:05:15.369944300Z"
    }
   },
   "id": "a13d7c1b2cce8b2f"
  },
  {
   "cell_type": "code",
   "execution_count": 29,
   "outputs": [
    {
     "data": {
      "text/plain": "      road      km                   type  LRPName  \\\n5175  R171   0.433            Box Culvert    LRPSa   \n5176  R171   0.975  Baily with Steel Deck    LRPSb   \n5177  R171   0.975  Baily with Steel Deck    LRPSb   \n5178  R171  10.633            Box Culvert  LRP010a   \n5179  R171  10.716            Box Culvert  LRP010b   \n5180  R171  10.878  Baily with Steel Deck  LRP010c   \n5181  R171  10.878  Truss with Steel Deck  LRP010c   \n5182  R171  11.066            Box Culvert  LRP011a   \n5183  R171  11.813            Box Culvert  LRP011b   \n5184  R171  12.791            Box Culvert  LRP012a   \n5185  R171  13.389           Slab Culvert  LRP013b   \n5186  R171  13.741            Box Culvert  LRP013c   \n5187  R171  14.759           Slab Culvert  LRP014b   \n5188  R171  15.167            Box Culvert  LRP015a   \n5189  R171  15.679           Slab Culvert  LRP015b   \n5190  R171  15.851           Slab Culvert  LRP015c   \n\n                                        name  length condition  structureNr  \\\n5175                          CHUNTI MIAPARA    2.50         A     105123.0   \n5176                            CHUNTI BAZAR   14.00         A     105125.0   \n5177                     Rohollar Hat Bridge   12.15         B     121175.0   \n5178                MUNUFAKIRHAT BOX CULVERT    1.30         A     113876.0   \n5179               MANUJAKIV HAT BOX CULVERT    1.30         A     113880.0   \n5180  MONIR FOKIR HAT BAILEY WITH STEEL DECK   20.00         A     113879.0   \n5181                  Monir Fokir Hat Bridge   20.00         A     121447.0   \n5182                  MONI FOKIR BOX CULVERT    1.20         A     113878.0   \n5183                 LOSKOR PARA BOX CULVERT    1.80         A     113877.0   \n5184                              BORO HALIA    1.80         A     114261.0   \n5185                            BORHATIA [2]    7.70         A     114290.0   \n5186                          BOR OHATIA BOX    2.40         A     114292.0   \n5187                             Adorshopara    7.60         D     113882.0   \n5188                            Adaorshopara    1.20         A     113881.0   \n5189                        Boboti Bazar-(1)    4.80         D     113883.0   \n5190                            DABOTI BAZAR    6.80         A     114293.0   \n\n                              roadName chainage  width  constructionYear  \\\n5175  Banshkhali (Charati)-Chunti Road    0.433   7.60            1993.0   \n5176  Banshkhali (Charati)-Chunti Road    0.975   3.45            1984.0   \n5177  Banshkhali (Charati)-Chunti Road    0.975    NaN               NaN   \n5178  Banshkhali (Charati)-Chunti Road   10.633   6.70            1998.0   \n5179  Banshkhali (Charati)-Chunti Road   10.716   6.70            2000.0   \n5180  Banshkhali (Charati)-Chunti Road   10.878   3.40            2002.0   \n5181  Banshkhali (Charati)-Chunti Road   10.878    NaN               NaN   \n5182  Banshkhali (Charati)-Chunti Road   11.066   6.70            1991.0   \n5183  Banshkhali (Charati)-Chunti Road   11.813   7.20            1993.0   \n5184  Banshkhali (Charati)-Chunti Road   12.791   7.10            1996.0   \n5185  Banshkhali (Charati)-Chunti Road   13.389   3.85            1992.0   \n5186  Banshkhali (Charati)-Chunti Road   13.741   4.60            1992.0   \n5187  Banshkhali (Charati)-Chunti Road   14.759   3.40            1992.0   \n5188  Banshkhali (Charati)-Chunti Road   15.167   6.75            1999.0   \n5189  Banshkhali (Charati)-Chunti Road   15.679   3.60            1982.0   \n5190  Banshkhali (Charati)-Chunti Road   15.851   3.70            1985.0   \n\n      spans        zone      circle  division sub-division        lat  \\\n5175    1.0  Chittagong  Chittagong  Dohazari     Dohazari  22.002944   \n5176    1.0  Chittagong  Chittagong  Dohazari     Dohazari  22.003083   \n5177    NaN  Chittagong  Chittagong  Dohazari     Dohazari  22.003194   \n5178    1.0  Chittagong  Chittagong  Dohazari     Dohazari  22.009056   \n5179    1.0  Chittagong  Chittagong  Dohazari     Dohazari  22.008222   \n5180    1.0  Chittagong  Chittagong  Dohazari     Dohazari  22.007694   \n5181    NaN  Chittagong  Chittagong  Dohazari     Dohazari  22.007500   \n5182    1.0  Chittagong  Chittagong  Dohazari     Dohazari  22.005917   \n5183    1.0  Chittagong  Chittagong  Dohazari     Dohazari  21.999306   \n5184    1.0  Chittagong  Chittagong  Dohazari     Dohazari  21.994833   \n5185    1.0  Chittagong  Chittagong  Dohazari     Dohazari  21.990972   \n5186    1.0  Chittagong  Chittagong  Dohazari     Dohazari  21.989167   \n5187    1.0  Chittagong  Chittagong  Dohazari     Dohazari  21.989167   \n5188    1.0  Chittagong  Chittagong  Dohazari     Dohazari  21.978083   \n5189    1.0  Chittagong  Chittagong  Dohazari     Dohazari  21.973583   \n5190    1.0  Chittagong  Chittagong  Dohazari     Dohazari  21.972167   \n\n            lon   EstimatedLoc  \n5175  91.955500           bcs1  \n5176  91.958167           bcs1  \n5177  91.959972   road_precise  \n5178  91.959972           bcs1  \n5179  91.959972           bcs1  \n5180  91.959972           bcs1  \n5181  92.053944  road_chainage  \n5182  92.054056           bcs1  \n5183  92.055278           bcs1  \n5184  92.060056           bcs1  \n5185  92.062972           bcs1  \n5186  92.064611           bcs1  \n5187  92.065611           bcs1  \n5188  92.065611           bcs1  \n5189  92.065361           bcs1  \n5190  92.065667           bcs1  ",
      "text/html": "<div>\n<style scoped>\n    .dataframe tbody tr th:only-of-type {\n        vertical-align: middle;\n    }\n\n    .dataframe tbody tr th {\n        vertical-align: top;\n    }\n\n    .dataframe thead th {\n        text-align: right;\n    }\n</style>\n<table border=\"1\" class=\"dataframe\">\n  <thead>\n    <tr style=\"text-align: right;\">\n      <th></th>\n      <th>road</th>\n      <th>km</th>\n      <th>type</th>\n      <th>LRPName</th>\n      <th>name</th>\n      <th>length</th>\n      <th>condition</th>\n      <th>structureNr</th>\n      <th>roadName</th>\n      <th>chainage</th>\n      <th>width</th>\n      <th>constructionYear</th>\n      <th>spans</th>\n      <th>zone</th>\n      <th>circle</th>\n      <th>division</th>\n      <th>sub-division</th>\n      <th>lat</th>\n      <th>lon</th>\n      <th>EstimatedLoc</th>\n    </tr>\n  </thead>\n  <tbody>\n    <tr>\n      <th>5175</th>\n      <td>R171</td>\n      <td>0.433</td>\n      <td>Box Culvert</td>\n      <td>LRPSa</td>\n      <td>CHUNTI MIAPARA</td>\n      <td>2.50</td>\n      <td>A</td>\n      <td>105123.0</td>\n      <td>Banshkhali (Charati)-Chunti Road</td>\n      <td>0.433</td>\n      <td>7.60</td>\n      <td>1993.0</td>\n      <td>1.0</td>\n      <td>Chittagong</td>\n      <td>Chittagong</td>\n      <td>Dohazari</td>\n      <td>Dohazari</td>\n      <td>22.002944</td>\n      <td>91.955500</td>\n      <td>bcs1</td>\n    </tr>\n    <tr>\n      <th>5176</th>\n      <td>R171</td>\n      <td>0.975</td>\n      <td>Baily with Steel Deck</td>\n      <td>LRPSb</td>\n      <td>CHUNTI BAZAR</td>\n      <td>14.00</td>\n      <td>A</td>\n      <td>105125.0</td>\n      <td>Banshkhali (Charati)-Chunti Road</td>\n      <td>0.975</td>\n      <td>3.45</td>\n      <td>1984.0</td>\n      <td>1.0</td>\n      <td>Chittagong</td>\n      <td>Chittagong</td>\n      <td>Dohazari</td>\n      <td>Dohazari</td>\n      <td>22.003083</td>\n      <td>91.958167</td>\n      <td>bcs1</td>\n    </tr>\n    <tr>\n      <th>5177</th>\n      <td>R171</td>\n      <td>0.975</td>\n      <td>Baily with Steel Deck</td>\n      <td>LRPSb</td>\n      <td>Rohollar Hat Bridge</td>\n      <td>12.15</td>\n      <td>B</td>\n      <td>121175.0</td>\n      <td>Banshkhali (Charati)-Chunti Road</td>\n      <td>0.975</td>\n      <td>NaN</td>\n      <td>NaN</td>\n      <td>NaN</td>\n      <td>Chittagong</td>\n      <td>Chittagong</td>\n      <td>Dohazari</td>\n      <td>Dohazari</td>\n      <td>22.003194</td>\n      <td>91.959972</td>\n      <td>road_precise</td>\n    </tr>\n    <tr>\n      <th>5178</th>\n      <td>R171</td>\n      <td>10.633</td>\n      <td>Box Culvert</td>\n      <td>LRP010a</td>\n      <td>MUNUFAKIRHAT BOX CULVERT</td>\n      <td>1.30</td>\n      <td>A</td>\n      <td>113876.0</td>\n      <td>Banshkhali (Charati)-Chunti Road</td>\n      <td>10.633</td>\n      <td>6.70</td>\n      <td>1998.0</td>\n      <td>1.0</td>\n      <td>Chittagong</td>\n      <td>Chittagong</td>\n      <td>Dohazari</td>\n      <td>Dohazari</td>\n      <td>22.009056</td>\n      <td>91.959972</td>\n      <td>bcs1</td>\n    </tr>\n    <tr>\n      <th>5179</th>\n      <td>R171</td>\n      <td>10.716</td>\n      <td>Box Culvert</td>\n      <td>LRP010b</td>\n      <td>MANUJAKIV HAT BOX CULVERT</td>\n      <td>1.30</td>\n      <td>A</td>\n      <td>113880.0</td>\n      <td>Banshkhali (Charati)-Chunti Road</td>\n      <td>10.716</td>\n      <td>6.70</td>\n      <td>2000.0</td>\n      <td>1.0</td>\n      <td>Chittagong</td>\n      <td>Chittagong</td>\n      <td>Dohazari</td>\n      <td>Dohazari</td>\n      <td>22.008222</td>\n      <td>91.959972</td>\n      <td>bcs1</td>\n    </tr>\n    <tr>\n      <th>5180</th>\n      <td>R171</td>\n      <td>10.878</td>\n      <td>Baily with Steel Deck</td>\n      <td>LRP010c</td>\n      <td>MONIR FOKIR HAT BAILEY WITH STEEL DECK</td>\n      <td>20.00</td>\n      <td>A</td>\n      <td>113879.0</td>\n      <td>Banshkhali (Charati)-Chunti Road</td>\n      <td>10.878</td>\n      <td>3.40</td>\n      <td>2002.0</td>\n      <td>1.0</td>\n      <td>Chittagong</td>\n      <td>Chittagong</td>\n      <td>Dohazari</td>\n      <td>Dohazari</td>\n      <td>22.007694</td>\n      <td>91.959972</td>\n      <td>bcs1</td>\n    </tr>\n    <tr>\n      <th>5181</th>\n      <td>R171</td>\n      <td>10.878</td>\n      <td>Truss with Steel Deck</td>\n      <td>LRP010c</td>\n      <td>Monir Fokir Hat Bridge</td>\n      <td>20.00</td>\n      <td>A</td>\n      <td>121447.0</td>\n      <td>Banshkhali (Charati)-Chunti Road</td>\n      <td>10.878</td>\n      <td>NaN</td>\n      <td>NaN</td>\n      <td>NaN</td>\n      <td>Chittagong</td>\n      <td>Chittagong</td>\n      <td>Dohazari</td>\n      <td>Dohazari</td>\n      <td>22.007500</td>\n      <td>92.053944</td>\n      <td>road_chainage</td>\n    </tr>\n    <tr>\n      <th>5182</th>\n      <td>R171</td>\n      <td>11.066</td>\n      <td>Box Culvert</td>\n      <td>LRP011a</td>\n      <td>MONI FOKIR BOX CULVERT</td>\n      <td>1.20</td>\n      <td>A</td>\n      <td>113878.0</td>\n      <td>Banshkhali (Charati)-Chunti Road</td>\n      <td>11.066</td>\n      <td>6.70</td>\n      <td>1991.0</td>\n      <td>1.0</td>\n      <td>Chittagong</td>\n      <td>Chittagong</td>\n      <td>Dohazari</td>\n      <td>Dohazari</td>\n      <td>22.005917</td>\n      <td>92.054056</td>\n      <td>bcs1</td>\n    </tr>\n    <tr>\n      <th>5183</th>\n      <td>R171</td>\n      <td>11.813</td>\n      <td>Box Culvert</td>\n      <td>LRP011b</td>\n      <td>LOSKOR PARA BOX CULVERT</td>\n      <td>1.80</td>\n      <td>A</td>\n      <td>113877.0</td>\n      <td>Banshkhali (Charati)-Chunti Road</td>\n      <td>11.813</td>\n      <td>7.20</td>\n      <td>1993.0</td>\n      <td>1.0</td>\n      <td>Chittagong</td>\n      <td>Chittagong</td>\n      <td>Dohazari</td>\n      <td>Dohazari</td>\n      <td>21.999306</td>\n      <td>92.055278</td>\n      <td>bcs1</td>\n    </tr>\n    <tr>\n      <th>5184</th>\n      <td>R171</td>\n      <td>12.791</td>\n      <td>Box Culvert</td>\n      <td>LRP012a</td>\n      <td>BORO HALIA</td>\n      <td>1.80</td>\n      <td>A</td>\n      <td>114261.0</td>\n      <td>Banshkhali (Charati)-Chunti Road</td>\n      <td>12.791</td>\n      <td>7.10</td>\n      <td>1996.0</td>\n      <td>1.0</td>\n      <td>Chittagong</td>\n      <td>Chittagong</td>\n      <td>Dohazari</td>\n      <td>Dohazari</td>\n      <td>21.994833</td>\n      <td>92.060056</td>\n      <td>bcs1</td>\n    </tr>\n    <tr>\n      <th>5185</th>\n      <td>R171</td>\n      <td>13.389</td>\n      <td>Slab Culvert</td>\n      <td>LRP013b</td>\n      <td>BORHATIA [2]</td>\n      <td>7.70</td>\n      <td>A</td>\n      <td>114290.0</td>\n      <td>Banshkhali (Charati)-Chunti Road</td>\n      <td>13.389</td>\n      <td>3.85</td>\n      <td>1992.0</td>\n      <td>1.0</td>\n      <td>Chittagong</td>\n      <td>Chittagong</td>\n      <td>Dohazari</td>\n      <td>Dohazari</td>\n      <td>21.990972</td>\n      <td>92.062972</td>\n      <td>bcs1</td>\n    </tr>\n    <tr>\n      <th>5186</th>\n      <td>R171</td>\n      <td>13.741</td>\n      <td>Box Culvert</td>\n      <td>LRP013c</td>\n      <td>BOR OHATIA BOX</td>\n      <td>2.40</td>\n      <td>A</td>\n      <td>114292.0</td>\n      <td>Banshkhali (Charati)-Chunti Road</td>\n      <td>13.741</td>\n      <td>4.60</td>\n      <td>1992.0</td>\n      <td>1.0</td>\n      <td>Chittagong</td>\n      <td>Chittagong</td>\n      <td>Dohazari</td>\n      <td>Dohazari</td>\n      <td>21.989167</td>\n      <td>92.064611</td>\n      <td>bcs1</td>\n    </tr>\n    <tr>\n      <th>5187</th>\n      <td>R171</td>\n      <td>14.759</td>\n      <td>Slab Culvert</td>\n      <td>LRP014b</td>\n      <td>Adorshopara</td>\n      <td>7.60</td>\n      <td>D</td>\n      <td>113882.0</td>\n      <td>Banshkhali (Charati)-Chunti Road</td>\n      <td>14.759</td>\n      <td>3.40</td>\n      <td>1992.0</td>\n      <td>1.0</td>\n      <td>Chittagong</td>\n      <td>Chittagong</td>\n      <td>Dohazari</td>\n      <td>Dohazari</td>\n      <td>21.989167</td>\n      <td>92.065611</td>\n      <td>bcs1</td>\n    </tr>\n    <tr>\n      <th>5188</th>\n      <td>R171</td>\n      <td>15.167</td>\n      <td>Box Culvert</td>\n      <td>LRP015a</td>\n      <td>Adaorshopara</td>\n      <td>1.20</td>\n      <td>A</td>\n      <td>113881.0</td>\n      <td>Banshkhali (Charati)-Chunti Road</td>\n      <td>15.167</td>\n      <td>6.75</td>\n      <td>1999.0</td>\n      <td>1.0</td>\n      <td>Chittagong</td>\n      <td>Chittagong</td>\n      <td>Dohazari</td>\n      <td>Dohazari</td>\n      <td>21.978083</td>\n      <td>92.065611</td>\n      <td>bcs1</td>\n    </tr>\n    <tr>\n      <th>5189</th>\n      <td>R171</td>\n      <td>15.679</td>\n      <td>Slab Culvert</td>\n      <td>LRP015b</td>\n      <td>Boboti Bazar-(1)</td>\n      <td>4.80</td>\n      <td>D</td>\n      <td>113883.0</td>\n      <td>Banshkhali (Charati)-Chunti Road</td>\n      <td>15.679</td>\n      <td>3.60</td>\n      <td>1982.0</td>\n      <td>1.0</td>\n      <td>Chittagong</td>\n      <td>Chittagong</td>\n      <td>Dohazari</td>\n      <td>Dohazari</td>\n      <td>21.973583</td>\n      <td>92.065361</td>\n      <td>bcs1</td>\n    </tr>\n    <tr>\n      <th>5190</th>\n      <td>R171</td>\n      <td>15.851</td>\n      <td>Slab Culvert</td>\n      <td>LRP015c</td>\n      <td>DABOTI BAZAR</td>\n      <td>6.80</td>\n      <td>A</td>\n      <td>114293.0</td>\n      <td>Banshkhali (Charati)-Chunti Road</td>\n      <td>15.851</td>\n      <td>3.70</td>\n      <td>1985.0</td>\n      <td>1.0</td>\n      <td>Chittagong</td>\n      <td>Chittagong</td>\n      <td>Dohazari</td>\n      <td>Dohazari</td>\n      <td>21.972167</td>\n      <td>92.065667</td>\n      <td>bcs1</td>\n    </tr>\n  </tbody>\n</table>\n</div>"
     },
     "execution_count": 29,
     "metadata": {},
     "output_type": "execute_result"
    }
   ],
   "source": [
    "bmms[bmms['road'] == 'R171']"
   ],
   "metadata": {
    "collapsed": false,
    "ExecuteTime": {
     "end_time": "2024-02-23T12:49:12.672665600Z",
     "start_time": "2024-02-23T12:49:12.602663400Z"
    }
   },
   "id": "3d3d92bfc2e23f08"
  },
  {
   "cell_type": "code",
   "execution_count": 26,
   "outputs": [
    {
     "data": {
      "text/plain": "        road      km                   type  LRPName               name  \\\n6221   Z1098   0.710            Box Culvert    LRPSa                  .   \n6222   Z1098   0.825            Box Culvert    LRPSb                  .   \n6223   Z1098   0.900            Box Culvert    LRPSc                  .   \n6224   Z1098   1.100            Box Culvert  LRP001a                  .   \n6225   Z1098   1.280            Box Culvert  LRP001b                  .   \n6226   Z1098   2.750       PC Girder Bridge  LRP002a  Boro Chora Bridge   \n6227   Z1098   2.750  Baily with Steel Deck  LRP002a                  .   \n6228   Z1098   3.530            Box Culvert  LRP003a                  .   \n6229   Z1098   4.150            Box Culvert  LRP004a                  .   \n6230   Z1098   5.300            Box Culvert  LRP005a                  .   \n6231   Z1098   5.750            Box Culvert  LRP005b                  .   \n6232   Z1098   6.150            Box Culvert  LRP006a                  .   \n6233   Z1098   6.300            Box Culvert  LRP006b                  .   \n6234   Z1098   7.200            Box Culvert  LRP007a                  .   \n6235   Z1098   8.200            Box Culvert  LRP008a                  .   \n6236   Z1098   8.820            Box Culvert  LRP008b                  .   \n6237   Z1098   9.600            Box Culvert  LRP009a                  .   \n6238   Z1098  10.250            Box Culvert  LRP010a                  .   \n6239   Z1098  10.430            Box Culvert  LRP010b                  .   \n6240   Z1098  10.550            Box Culvert  LRP010c                  .   \n6241   Z1098  10.850            Box Culvert  LRP010d                  .   \n6242   Z1098  11.120            Box Culvert  LRP011a                  .   \n6243   Z1098  11.350            Box Culvert  LRP011b                  .   \n6244   Z1098  11.450            Box Culvert  LRP011d                  .   \n6245   Z1098  11.500            Box Culvert  LRP011c                  .   \n6246   Z1098  12.200            Box Culvert  LRP012a                  .   \n6247   Z1098  12.310            Box Culvert  LRP012b                  .   \n6248   Z1098  12.880            Box Culvert  LRP012c                  .   \n6249   Z1098  13.630            Box Culvert  LRP013a                  .   \n6250   Z1098  14.150            Box Culvert  LRP014a                  .   \n6251   Z1098  14.650      RCC Girder Bridge  LRP014c         Lal Bridge   \n6252   Z1098  15.000            Box Culvert  LRP015a                  .   \n6253   Z1098  15.430            Box Culvert  LRP015b                  .   \n6254   Z1098  15.550  Truss with Steel Deck  LRP015d                  .   \n6255   Z1098  16.100            Box Culvert  LRP016a                  .   \n6256   Z1098  70.431            Box Culvert  LRP020b                  .   \n6257   Z1098  70.631            Box Culvert  LRP020c                  .   \n6258   Z1098  71.221            Box Culvert  LRP021a                  .   \n6259   Z1098  71.931            Box Culvert  LRP022a                  .   \n6260   Z1098  72.736            Box Culvert  LRP023a                  .   \n6261   Z1098  72.881            Box Culvert  LRP023b                  .   \n6262   Z1098  73.181           Slab Culvert  LRP023c                  .   \n18295  Z1098  15.550  Truss with Steel Deck  LRP015d   Reju Khal Bridge   \n\n       length condition  structureNr                           roadName  \\\n6221      2.5         A       118134  Cox`s Bazar-Teknaf Sea beach Road   \n6222      1.5         A       118135  Cox`s Bazar-Teknaf Sea beach Road   \n6223      2.0         A       118136  Cox`s Bazar-Teknaf Sea beach Road   \n6224      1.5         A       118137  Cox`s Bazar-Teknaf Sea beach Road   \n6225      2.0         A       118138  Cox`s Bazar-Teknaf Sea beach Road   \n6226     30.0         A       120471  Cox`s Bazar-Teknaf Sea beach Road   \n6227     22.0         A       118139  Cox`s Bazar-Teknaf Sea beach Road   \n6228      5.2         A       118140  Cox`s Bazar-Teknaf Sea beach Road   \n6229      5.3         A       118141  Cox`s Bazar-Teknaf Sea beach Road   \n6230      5.3         A       118248  Cox`s Bazar-Teknaf Sea beach Road   \n6231      5.3         A       118249  Cox`s Bazar-Teknaf Sea beach Road   \n6232      5.3         A       118250  Cox`s Bazar-Teknaf Sea beach Road   \n6233      5.3         A       118251  Cox`s Bazar-Teknaf Sea beach Road   \n6234      5.3         A       118252  Cox`s Bazar-Teknaf Sea beach Road   \n6235      5.3         A       118253  Cox`s Bazar-Teknaf Sea beach Road   \n6236      5.3         A       118254  Cox`s Bazar-Teknaf Sea beach Road   \n6237      3.7         A       118255  Cox`s Bazar-Teknaf Sea beach Road   \n6238      2.1         A       118256  Cox`s Bazar-Teknaf Sea beach Road   \n6239      2.1         A       118257  Cox`s Bazar-Teknaf Sea beach Road   \n6240      2.1         A       118258  Cox`s Bazar-Teknaf Sea beach Road   \n6241      5.2         A       118259  Cox`s Bazar-Teknaf Sea beach Road   \n6242      2.1         A       118260  Cox`s Bazar-Teknaf Sea beach Road   \n6243      2.1         A       118261  Cox`s Bazar-Teknaf Sea beach Road   \n6244      9.8         A       118263  Cox`s Bazar-Teknaf Sea beach Road   \n6245      7.7         A       118262  Cox`s Bazar-Teknaf Sea beach Road   \n6246      4.6         A       118264  Cox`s Bazar-Teknaf Sea beach Road   \n6247      4.6         A       118265  Cox`s Bazar-Teknaf Sea beach Road   \n6248      9.7         A       118266  Cox`s Bazar-Teknaf Sea beach Road   \n6249      5.2         A       118267  Cox`s Bazar-Teknaf Sea beach Road   \n6250     11.0         A       118268  Cox`s Bazar-Teknaf Sea beach Road   \n6251     20.0         A       120472  Cox`s Bazar-Teknaf Sea beach Road   \n6252      2.1         A       118270  Cox`s Bazar-Teknaf Sea beach Road   \n6253     10.4         A       118271  Cox`s Bazar-Teknaf Sea beach Road   \n6254    151.0         A       118269  Cox`s Bazar-Teknaf Sea beach Road   \n6255     10.3         A       118273  Cox`s Bazar-Teknaf Sea beach Road   \n6256      1.3         A       118272  Cox`s Bazar-Teknaf Sea beach Road   \n6257      2.1         A       118297  Cox`s Bazar-Teknaf Sea beach Road   \n6258      2.3         A       118298  Cox`s Bazar-Teknaf Sea beach Road   \n6259      1.8         A       118299  Cox`s Bazar-Teknaf Sea beach Road   \n6260      1.6         A       118300  Cox`s Bazar-Teknaf Sea beach Road   \n6261      2.4         A       118301  Cox`s Bazar-Teknaf Sea beach Road   \n6262      2.8         A       118302  Cox`s Bazar-Teknaf Sea beach Road   \n18295   149.6         C       120474  Cox`s Bazar-Teknaf Sea beach Road   \n\n      chainage  width  constructionYear  spans        zone      circle  \\\n6221      0.71    7.6            2004.0    1.0  Chittagong  Chittagong   \n6222     0.825    7.6            2006.0    1.0  Chittagong  Chittagong   \n6223       0.9    7.6            2006.0    1.0  Chittagong  Chittagong   \n6224       1.1    7.6            1999.0    1.0  Chittagong  Chittagong   \n6225      1.28    7.6            2006.0    1.0  Chittagong  Chittagong   \n6226      2.75    NaN               NaN    NaN  Chittagong  Chittagong   \n6227      2.75    4.1            2002.0    1.0  Chittagong  Chittagong   \n6228      3.53   11.0            2004.0    1.0  Chittagong  Chittagong   \n6229      4.15   11.0            2005.0    1.0  Chittagong  Chittagong   \n6230       5.3   11.0            2004.0    1.0  Chittagong  Chittagong   \n6231      5.75   11.0            2005.0    1.0  Chittagong  Chittagong   \n6232      6.15   11.0            2005.0    1.0  Chittagong  Chittagong   \n6233       6.3   11.0            2005.0    1.0  Chittagong  Chittagong   \n6234       7.2   11.0            2005.0    1.0  Chittagong  Chittagong   \n6235       8.2   11.0            2006.0    1.0  Chittagong  Chittagong   \n6236      8.82   11.0            2005.0    1.0  Chittagong  Chittagong   \n6237       9.6   11.0            2005.0    1.0  Chittagong  Chittagong   \n6238     10.25   11.0            2005.0    1.0  Chittagong  Chittagong   \n6239     10.43   11.0            2005.0    1.0  Chittagong  Chittagong   \n6240     10.55   11.0            2005.0    1.0  Chittagong  Chittagong   \n6241     10.85   11.0            2005.0    1.0  Chittagong  Chittagong   \n6242     11.12   11.0            2005.0    1.0  Chittagong  Chittagong   \n6243     11.35   11.0            2005.0    1.0  Chittagong  Chittagong   \n6244     11.45   11.0            2005.0    2.0  Chittagong  Chittagong   \n6245      11.5   11.0            2006.0    2.0  Chittagong  Chittagong   \n6246      12.2   11.0            2006.0    1.0  Chittagong  Chittagong   \n6247     12.31   11.0            2006.0    1.0  Chittagong  Chittagong   \n6248     12.88   11.0            2005.0    2.0  Chittagong  Chittagong   \n6249     13.63   11.0            2005.0    1.0  Chittagong  Chittagong   \n6250     14.15   11.0            2005.0    2.0  Chittagong  Chittagong   \n6251     14.65    NaN               NaN    NaN  Chittagong  Chittagong   \n6252        15   11.0            2005.0    1.0  Chittagong  Chittagong   \n6253     15.43   11.0            2005.0    2.0  Chittagong  Chittagong   \n6254     15.55    4.3            1994.0    4.0  Chittagong  Chittagong   \n6255      16.1   10.5            2006.0    2.0  Chittagong  Chittagong   \n6256    70.431    5.5            1982.0    1.0  Chittagong  Chittagong   \n6257    70.631    4.7            1985.0    1.0  Chittagong  Chittagong   \n6258    71.221    3.7            1997.0    1.0  Chittagong  Chittagong   \n6259    71.931    3.8            1993.0    1.0  Chittagong  Chittagong   \n6260    72.736    5.5            2000.0    1.0  Chittagong  Chittagong   \n6261    72.881    6.1            1997.0    1.0  Chittagong  Chittagong   \n6262    73.181    3.7            1993.0    1.0  Chittagong  Chittagong   \n18295    15.55    NaN               NaN    NaN  Chittagong  Chittagong   \n\n          division     sub-division        lat        lon  EstimatedLoc  \n6221   Cox's Bazar  Cox's Bazar - 2  21.410750  91.987500          bcs1  \n6222   Cox's Bazar  Cox's Bazar - 2  21.409972  91.988056          bcs1  \n6223   Cox's Bazar  Cox's Bazar - 2  21.409361  91.988444          bcs1  \n6224   Cox's Bazar  Cox's Bazar - 2  21.407972  91.989167          bcs1  \n6225   Cox's Bazar  Cox's Bazar - 2  21.406528  91.990222          bcs1  \n6226   Cox's Bazar  Cox's Bazar - 2  21.396083  91.999000  road_precise  \n6227   Cox's Bazar  Cox's Bazar - 2  21.396306  91.999028          bcs1  \n6228   Cox's Bazar  Cox's Bazar - 2  21.389833  91.002083          bcs1  \n6229   Cox's Bazar  Cox's Bazar - 2  21.385194  92.004917          bcs1  \n6230   Cox's Bazar  Cox's Bazar - 2  21.376972  92.011167          bcs1  \n6231   Cox's Bazar  Cox's Bazar - 2  21.373444  92.013611          bcs1  \n6232   Cox's Bazar  Cox's Bazar - 2  21.370417  92.015806          bcs1  \n6233   Cox's Bazar  Cox's Bazar - 2  21.369028  92.016722          bcs1  \n6234   Cox's Bazar  Cox's Bazar - 2  21.362139  92.020389          bcs1  \n6235   Cox's Bazar  Cox's Bazar - 2  21.354500  92.024806          bcs1  \n6236   Cox's Bazar  Cox's Bazar - 2  21.349500  92.027111          bcs1  \n6237   Cox's Bazar  Cox's Bazar - 2  21.342889  92.030361          bcs1  \n6238   Cox's Bazar  Cox's Bazar - 2  21.337917  92.032556          bcs1  \n6239   Cox's Bazar  Cox's Bazar - 2  21.335889  92.033611          bcs1  \n6240   Cox's Bazar  Cox's Bazar - 2  21.334889  92.034278          bcs1  \n6241   Cox's Bazar  Cox's Bazar - 2  21.333056  92.035167          bcs1  \n6242   Cox's Bazar  Cox's Bazar - 2  21.330694  92.036167          bcs1  \n6243   Cox's Bazar  Cox's Bazar - 2  21.329111  92.037000          bcs1  \n6244   Cox's Bazar  Cox's Bazar - 2  21.324222  92.038556          bcs1  \n6245   Cox's Bazar  Cox's Bazar - 2  21.330333  92.037417          bcs1  \n6246   Cox's Bazar  Cox's Bazar - 2  21.322361  92.039444          bcs1  \n6247   Cox's Bazar  Cox's Bazar - 2  21.321306  92.039917          bcs1  \n6248   Cox's Bazar  Cox's Bazar - 2  21.316806  92.041944          bcs1  \n6249   Cox's Bazar  Cox's Bazar - 2  21.310139  92.044333          bcs1  \n6250   Cox's Bazar  Cox's Bazar - 2  21.306000  92.046111          bcs1  \n6251   Cox's Bazar  Cox's Bazar - 2  21.300500  92.048555  road_precise  \n6252   Cox's Bazar  Cox's Bazar - 2  21.299500  92.050139          bcs1  \n6253   Cox's Bazar  Cox's Bazar - 2  21.296000  92.052306          bcs1  \n6254   Cox's Bazar  Cox's Bazar - 2  21.295250  92.051667          bcs1  \n6255   Cox's Bazar  Cox's Bazar - 2  21.291694  92.047944          bcs1  \n6256   Cox's Bazar  Cox's Bazar - 2  20.847306  92.275111          bcs1  \n6257   Cox's Bazar  Cox's Bazar - 2  20.847722  92.276583          bcs1  \n6258   Cox's Bazar  Cox's Bazar - 2  20.849972  92.281528          bcs1  \n6259   Cox's Bazar  Cox's Bazar - 2  20.855611  92.284444          bcs1  \n6260   Cox's Bazar  Cox's Bazar - 2  20.857611  92.292278          bcs1  \n6261   Cox's Bazar  Cox's Bazar - 2  20.857972  92.293250          bcs1  \n6262   Cox's Bazar  Cox's Bazar - 2  20.859250  92.295528          bcs1  \n18295  Cox's Bazar  Cox's Bazar - 2  21.291694  92.047944  road_precise  ",
      "text/html": "<div>\n<style scoped>\n    .dataframe tbody tr th:only-of-type {\n        vertical-align: middle;\n    }\n\n    .dataframe tbody tr th {\n        vertical-align: top;\n    }\n\n    .dataframe thead th {\n        text-align: right;\n    }\n</style>\n<table border=\"1\" class=\"dataframe\">\n  <thead>\n    <tr style=\"text-align: right;\">\n      <th></th>\n      <th>road</th>\n      <th>km</th>\n      <th>type</th>\n      <th>LRPName</th>\n      <th>name</th>\n      <th>length</th>\n      <th>condition</th>\n      <th>structureNr</th>\n      <th>roadName</th>\n      <th>chainage</th>\n      <th>width</th>\n      <th>constructionYear</th>\n      <th>spans</th>\n      <th>zone</th>\n      <th>circle</th>\n      <th>division</th>\n      <th>sub-division</th>\n      <th>lat</th>\n      <th>lon</th>\n      <th>EstimatedLoc</th>\n    </tr>\n  </thead>\n  <tbody>\n    <tr>\n      <th>6221</th>\n      <td>Z1098</td>\n      <td>0.710</td>\n      <td>Box Culvert</td>\n      <td>LRPSa</td>\n      <td>.</td>\n      <td>2.5</td>\n      <td>A</td>\n      <td>118134</td>\n      <td>Cox`s Bazar-Teknaf Sea beach Road</td>\n      <td>0.71</td>\n      <td>7.6</td>\n      <td>2004.0</td>\n      <td>1.0</td>\n      <td>Chittagong</td>\n      <td>Chittagong</td>\n      <td>Cox's Bazar</td>\n      <td>Cox's Bazar - 2</td>\n      <td>21.410750</td>\n      <td>91.987500</td>\n      <td>bcs1</td>\n    </tr>\n    <tr>\n      <th>6222</th>\n      <td>Z1098</td>\n      <td>0.825</td>\n      <td>Box Culvert</td>\n      <td>LRPSb</td>\n      <td>.</td>\n      <td>1.5</td>\n      <td>A</td>\n      <td>118135</td>\n      <td>Cox`s Bazar-Teknaf Sea beach Road</td>\n      <td>0.825</td>\n      <td>7.6</td>\n      <td>2006.0</td>\n      <td>1.0</td>\n      <td>Chittagong</td>\n      <td>Chittagong</td>\n      <td>Cox's Bazar</td>\n      <td>Cox's Bazar - 2</td>\n      <td>21.409972</td>\n      <td>91.988056</td>\n      <td>bcs1</td>\n    </tr>\n    <tr>\n      <th>6223</th>\n      <td>Z1098</td>\n      <td>0.900</td>\n      <td>Box Culvert</td>\n      <td>LRPSc</td>\n      <td>.</td>\n      <td>2.0</td>\n      <td>A</td>\n      <td>118136</td>\n      <td>Cox`s Bazar-Teknaf Sea beach Road</td>\n      <td>0.9</td>\n      <td>7.6</td>\n      <td>2006.0</td>\n      <td>1.0</td>\n      <td>Chittagong</td>\n      <td>Chittagong</td>\n      <td>Cox's Bazar</td>\n      <td>Cox's Bazar - 2</td>\n      <td>21.409361</td>\n      <td>91.988444</td>\n      <td>bcs1</td>\n    </tr>\n    <tr>\n      <th>6224</th>\n      <td>Z1098</td>\n      <td>1.100</td>\n      <td>Box Culvert</td>\n      <td>LRP001a</td>\n      <td>.</td>\n      <td>1.5</td>\n      <td>A</td>\n      <td>118137</td>\n      <td>Cox`s Bazar-Teknaf Sea beach Road</td>\n      <td>1.1</td>\n      <td>7.6</td>\n      <td>1999.0</td>\n      <td>1.0</td>\n      <td>Chittagong</td>\n      <td>Chittagong</td>\n      <td>Cox's Bazar</td>\n      <td>Cox's Bazar - 2</td>\n      <td>21.407972</td>\n      <td>91.989167</td>\n      <td>bcs1</td>\n    </tr>\n    <tr>\n      <th>6225</th>\n      <td>Z1098</td>\n      <td>1.280</td>\n      <td>Box Culvert</td>\n      <td>LRP001b</td>\n      <td>.</td>\n      <td>2.0</td>\n      <td>A</td>\n      <td>118138</td>\n      <td>Cox`s Bazar-Teknaf Sea beach Road</td>\n      <td>1.28</td>\n      <td>7.6</td>\n      <td>2006.0</td>\n      <td>1.0</td>\n      <td>Chittagong</td>\n      <td>Chittagong</td>\n      <td>Cox's Bazar</td>\n      <td>Cox's Bazar - 2</td>\n      <td>21.406528</td>\n      <td>91.990222</td>\n      <td>bcs1</td>\n    </tr>\n    <tr>\n      <th>6226</th>\n      <td>Z1098</td>\n      <td>2.750</td>\n      <td>PC Girder Bridge</td>\n      <td>LRP002a</td>\n      <td>Boro Chora Bridge</td>\n      <td>30.0</td>\n      <td>A</td>\n      <td>120471</td>\n      <td>Cox`s Bazar-Teknaf Sea beach Road</td>\n      <td>2.75</td>\n      <td>NaN</td>\n      <td>NaN</td>\n      <td>NaN</td>\n      <td>Chittagong</td>\n      <td>Chittagong</td>\n      <td>Cox's Bazar</td>\n      <td>Cox's Bazar - 2</td>\n      <td>21.396083</td>\n      <td>91.999000</td>\n      <td>road_precise</td>\n    </tr>\n    <tr>\n      <th>6227</th>\n      <td>Z1098</td>\n      <td>2.750</td>\n      <td>Baily with Steel Deck</td>\n      <td>LRP002a</td>\n      <td>.</td>\n      <td>22.0</td>\n      <td>A</td>\n      <td>118139</td>\n      <td>Cox`s Bazar-Teknaf Sea beach Road</td>\n      <td>2.75</td>\n      <td>4.1</td>\n      <td>2002.0</td>\n      <td>1.0</td>\n      <td>Chittagong</td>\n      <td>Chittagong</td>\n      <td>Cox's Bazar</td>\n      <td>Cox's Bazar - 2</td>\n      <td>21.396306</td>\n      <td>91.999028</td>\n      <td>bcs1</td>\n    </tr>\n    <tr>\n      <th>6228</th>\n      <td>Z1098</td>\n      <td>3.530</td>\n      <td>Box Culvert</td>\n      <td>LRP003a</td>\n      <td>.</td>\n      <td>5.2</td>\n      <td>A</td>\n      <td>118140</td>\n      <td>Cox`s Bazar-Teknaf Sea beach Road</td>\n      <td>3.53</td>\n      <td>11.0</td>\n      <td>2004.0</td>\n      <td>1.0</td>\n      <td>Chittagong</td>\n      <td>Chittagong</td>\n      <td>Cox's Bazar</td>\n      <td>Cox's Bazar - 2</td>\n      <td>21.389833</td>\n      <td>91.002083</td>\n      <td>bcs1</td>\n    </tr>\n    <tr>\n      <th>6229</th>\n      <td>Z1098</td>\n      <td>4.150</td>\n      <td>Box Culvert</td>\n      <td>LRP004a</td>\n      <td>.</td>\n      <td>5.3</td>\n      <td>A</td>\n      <td>118141</td>\n      <td>Cox`s Bazar-Teknaf Sea beach Road</td>\n      <td>4.15</td>\n      <td>11.0</td>\n      <td>2005.0</td>\n      <td>1.0</td>\n      <td>Chittagong</td>\n      <td>Chittagong</td>\n      <td>Cox's Bazar</td>\n      <td>Cox's Bazar - 2</td>\n      <td>21.385194</td>\n      <td>92.004917</td>\n      <td>bcs1</td>\n    </tr>\n    <tr>\n      <th>6230</th>\n      <td>Z1098</td>\n      <td>5.300</td>\n      <td>Box Culvert</td>\n      <td>LRP005a</td>\n      <td>.</td>\n      <td>5.3</td>\n      <td>A</td>\n      <td>118248</td>\n      <td>Cox`s Bazar-Teknaf Sea beach Road</td>\n      <td>5.3</td>\n      <td>11.0</td>\n      <td>2004.0</td>\n      <td>1.0</td>\n      <td>Chittagong</td>\n      <td>Chittagong</td>\n      <td>Cox's Bazar</td>\n      <td>Cox's Bazar - 2</td>\n      <td>21.376972</td>\n      <td>92.011167</td>\n      <td>bcs1</td>\n    </tr>\n    <tr>\n      <th>6231</th>\n      <td>Z1098</td>\n      <td>5.750</td>\n      <td>Box Culvert</td>\n      <td>LRP005b</td>\n      <td>.</td>\n      <td>5.3</td>\n      <td>A</td>\n      <td>118249</td>\n      <td>Cox`s Bazar-Teknaf Sea beach Road</td>\n      <td>5.75</td>\n      <td>11.0</td>\n      <td>2005.0</td>\n      <td>1.0</td>\n      <td>Chittagong</td>\n      <td>Chittagong</td>\n      <td>Cox's Bazar</td>\n      <td>Cox's Bazar - 2</td>\n      <td>21.373444</td>\n      <td>92.013611</td>\n      <td>bcs1</td>\n    </tr>\n    <tr>\n      <th>6232</th>\n      <td>Z1098</td>\n      <td>6.150</td>\n      <td>Box Culvert</td>\n      <td>LRP006a</td>\n      <td>.</td>\n      <td>5.3</td>\n      <td>A</td>\n      <td>118250</td>\n      <td>Cox`s Bazar-Teknaf Sea beach Road</td>\n      <td>6.15</td>\n      <td>11.0</td>\n      <td>2005.0</td>\n      <td>1.0</td>\n      <td>Chittagong</td>\n      <td>Chittagong</td>\n      <td>Cox's Bazar</td>\n      <td>Cox's Bazar - 2</td>\n      <td>21.370417</td>\n      <td>92.015806</td>\n      <td>bcs1</td>\n    </tr>\n    <tr>\n      <th>6233</th>\n      <td>Z1098</td>\n      <td>6.300</td>\n      <td>Box Culvert</td>\n      <td>LRP006b</td>\n      <td>.</td>\n      <td>5.3</td>\n      <td>A</td>\n      <td>118251</td>\n      <td>Cox`s Bazar-Teknaf Sea beach Road</td>\n      <td>6.3</td>\n      <td>11.0</td>\n      <td>2005.0</td>\n      <td>1.0</td>\n      <td>Chittagong</td>\n      <td>Chittagong</td>\n      <td>Cox's Bazar</td>\n      <td>Cox's Bazar - 2</td>\n      <td>21.369028</td>\n      <td>92.016722</td>\n      <td>bcs1</td>\n    </tr>\n    <tr>\n      <th>6234</th>\n      <td>Z1098</td>\n      <td>7.200</td>\n      <td>Box Culvert</td>\n      <td>LRP007a</td>\n      <td>.</td>\n      <td>5.3</td>\n      <td>A</td>\n      <td>118252</td>\n      <td>Cox`s Bazar-Teknaf Sea beach Road</td>\n      <td>7.2</td>\n      <td>11.0</td>\n      <td>2005.0</td>\n      <td>1.0</td>\n      <td>Chittagong</td>\n      <td>Chittagong</td>\n      <td>Cox's Bazar</td>\n      <td>Cox's Bazar - 2</td>\n      <td>21.362139</td>\n      <td>92.020389</td>\n      <td>bcs1</td>\n    </tr>\n    <tr>\n      <th>6235</th>\n      <td>Z1098</td>\n      <td>8.200</td>\n      <td>Box Culvert</td>\n      <td>LRP008a</td>\n      <td>.</td>\n      <td>5.3</td>\n      <td>A</td>\n      <td>118253</td>\n      <td>Cox`s Bazar-Teknaf Sea beach Road</td>\n      <td>8.2</td>\n      <td>11.0</td>\n      <td>2006.0</td>\n      <td>1.0</td>\n      <td>Chittagong</td>\n      <td>Chittagong</td>\n      <td>Cox's Bazar</td>\n      <td>Cox's Bazar - 2</td>\n      <td>21.354500</td>\n      <td>92.024806</td>\n      <td>bcs1</td>\n    </tr>\n    <tr>\n      <th>6236</th>\n      <td>Z1098</td>\n      <td>8.820</td>\n      <td>Box Culvert</td>\n      <td>LRP008b</td>\n      <td>.</td>\n      <td>5.3</td>\n      <td>A</td>\n      <td>118254</td>\n      <td>Cox`s Bazar-Teknaf Sea beach Road</td>\n      <td>8.82</td>\n      <td>11.0</td>\n      <td>2005.0</td>\n      <td>1.0</td>\n      <td>Chittagong</td>\n      <td>Chittagong</td>\n      <td>Cox's Bazar</td>\n      <td>Cox's Bazar - 2</td>\n      <td>21.349500</td>\n      <td>92.027111</td>\n      <td>bcs1</td>\n    </tr>\n    <tr>\n      <th>6237</th>\n      <td>Z1098</td>\n      <td>9.600</td>\n      <td>Box Culvert</td>\n      <td>LRP009a</td>\n      <td>.</td>\n      <td>3.7</td>\n      <td>A</td>\n      <td>118255</td>\n      <td>Cox`s Bazar-Teknaf Sea beach Road</td>\n      <td>9.6</td>\n      <td>11.0</td>\n      <td>2005.0</td>\n      <td>1.0</td>\n      <td>Chittagong</td>\n      <td>Chittagong</td>\n      <td>Cox's Bazar</td>\n      <td>Cox's Bazar - 2</td>\n      <td>21.342889</td>\n      <td>92.030361</td>\n      <td>bcs1</td>\n    </tr>\n    <tr>\n      <th>6238</th>\n      <td>Z1098</td>\n      <td>10.250</td>\n      <td>Box Culvert</td>\n      <td>LRP010a</td>\n      <td>.</td>\n      <td>2.1</td>\n      <td>A</td>\n      <td>118256</td>\n      <td>Cox`s Bazar-Teknaf Sea beach Road</td>\n      <td>10.25</td>\n      <td>11.0</td>\n      <td>2005.0</td>\n      <td>1.0</td>\n      <td>Chittagong</td>\n      <td>Chittagong</td>\n      <td>Cox's Bazar</td>\n      <td>Cox's Bazar - 2</td>\n      <td>21.337917</td>\n      <td>92.032556</td>\n      <td>bcs1</td>\n    </tr>\n    <tr>\n      <th>6239</th>\n      <td>Z1098</td>\n      <td>10.430</td>\n      <td>Box Culvert</td>\n      <td>LRP010b</td>\n      <td>.</td>\n      <td>2.1</td>\n      <td>A</td>\n      <td>118257</td>\n      <td>Cox`s Bazar-Teknaf Sea beach Road</td>\n      <td>10.43</td>\n      <td>11.0</td>\n      <td>2005.0</td>\n      <td>1.0</td>\n      <td>Chittagong</td>\n      <td>Chittagong</td>\n      <td>Cox's Bazar</td>\n      <td>Cox's Bazar - 2</td>\n      <td>21.335889</td>\n      <td>92.033611</td>\n      <td>bcs1</td>\n    </tr>\n    <tr>\n      <th>6240</th>\n      <td>Z1098</td>\n      <td>10.550</td>\n      <td>Box Culvert</td>\n      <td>LRP010c</td>\n      <td>.</td>\n      <td>2.1</td>\n      <td>A</td>\n      <td>118258</td>\n      <td>Cox`s Bazar-Teknaf Sea beach Road</td>\n      <td>10.55</td>\n      <td>11.0</td>\n      <td>2005.0</td>\n      <td>1.0</td>\n      <td>Chittagong</td>\n      <td>Chittagong</td>\n      <td>Cox's Bazar</td>\n      <td>Cox's Bazar - 2</td>\n      <td>21.334889</td>\n      <td>92.034278</td>\n      <td>bcs1</td>\n    </tr>\n    <tr>\n      <th>6241</th>\n      <td>Z1098</td>\n      <td>10.850</td>\n      <td>Box Culvert</td>\n      <td>LRP010d</td>\n      <td>.</td>\n      <td>5.2</td>\n      <td>A</td>\n      <td>118259</td>\n      <td>Cox`s Bazar-Teknaf Sea beach Road</td>\n      <td>10.85</td>\n      <td>11.0</td>\n      <td>2005.0</td>\n      <td>1.0</td>\n      <td>Chittagong</td>\n      <td>Chittagong</td>\n      <td>Cox's Bazar</td>\n      <td>Cox's Bazar - 2</td>\n      <td>21.333056</td>\n      <td>92.035167</td>\n      <td>bcs1</td>\n    </tr>\n    <tr>\n      <th>6242</th>\n      <td>Z1098</td>\n      <td>11.120</td>\n      <td>Box Culvert</td>\n      <td>LRP011a</td>\n      <td>.</td>\n      <td>2.1</td>\n      <td>A</td>\n      <td>118260</td>\n      <td>Cox`s Bazar-Teknaf Sea beach Road</td>\n      <td>11.12</td>\n      <td>11.0</td>\n      <td>2005.0</td>\n      <td>1.0</td>\n      <td>Chittagong</td>\n      <td>Chittagong</td>\n      <td>Cox's Bazar</td>\n      <td>Cox's Bazar - 2</td>\n      <td>21.330694</td>\n      <td>92.036167</td>\n      <td>bcs1</td>\n    </tr>\n    <tr>\n      <th>6243</th>\n      <td>Z1098</td>\n      <td>11.350</td>\n      <td>Box Culvert</td>\n      <td>LRP011b</td>\n      <td>.</td>\n      <td>2.1</td>\n      <td>A</td>\n      <td>118261</td>\n      <td>Cox`s Bazar-Teknaf Sea beach Road</td>\n      <td>11.35</td>\n      <td>11.0</td>\n      <td>2005.0</td>\n      <td>1.0</td>\n      <td>Chittagong</td>\n      <td>Chittagong</td>\n      <td>Cox's Bazar</td>\n      <td>Cox's Bazar - 2</td>\n      <td>21.329111</td>\n      <td>92.037000</td>\n      <td>bcs1</td>\n    </tr>\n    <tr>\n      <th>6244</th>\n      <td>Z1098</td>\n      <td>11.450</td>\n      <td>Box Culvert</td>\n      <td>LRP011d</td>\n      <td>.</td>\n      <td>9.8</td>\n      <td>A</td>\n      <td>118263</td>\n      <td>Cox`s Bazar-Teknaf Sea beach Road</td>\n      <td>11.45</td>\n      <td>11.0</td>\n      <td>2005.0</td>\n      <td>2.0</td>\n      <td>Chittagong</td>\n      <td>Chittagong</td>\n      <td>Cox's Bazar</td>\n      <td>Cox's Bazar - 2</td>\n      <td>21.324222</td>\n      <td>92.038556</td>\n      <td>bcs1</td>\n    </tr>\n    <tr>\n      <th>6245</th>\n      <td>Z1098</td>\n      <td>11.500</td>\n      <td>Box Culvert</td>\n      <td>LRP011c</td>\n      <td>.</td>\n      <td>7.7</td>\n      <td>A</td>\n      <td>118262</td>\n      <td>Cox`s Bazar-Teknaf Sea beach Road</td>\n      <td>11.5</td>\n      <td>11.0</td>\n      <td>2006.0</td>\n      <td>2.0</td>\n      <td>Chittagong</td>\n      <td>Chittagong</td>\n      <td>Cox's Bazar</td>\n      <td>Cox's Bazar - 2</td>\n      <td>21.330333</td>\n      <td>92.037417</td>\n      <td>bcs1</td>\n    </tr>\n    <tr>\n      <th>6246</th>\n      <td>Z1098</td>\n      <td>12.200</td>\n      <td>Box Culvert</td>\n      <td>LRP012a</td>\n      <td>.</td>\n      <td>4.6</td>\n      <td>A</td>\n      <td>118264</td>\n      <td>Cox`s Bazar-Teknaf Sea beach Road</td>\n      <td>12.2</td>\n      <td>11.0</td>\n      <td>2006.0</td>\n      <td>1.0</td>\n      <td>Chittagong</td>\n      <td>Chittagong</td>\n      <td>Cox's Bazar</td>\n      <td>Cox's Bazar - 2</td>\n      <td>21.322361</td>\n      <td>92.039444</td>\n      <td>bcs1</td>\n    </tr>\n    <tr>\n      <th>6247</th>\n      <td>Z1098</td>\n      <td>12.310</td>\n      <td>Box Culvert</td>\n      <td>LRP012b</td>\n      <td>.</td>\n      <td>4.6</td>\n      <td>A</td>\n      <td>118265</td>\n      <td>Cox`s Bazar-Teknaf Sea beach Road</td>\n      <td>12.31</td>\n      <td>11.0</td>\n      <td>2006.0</td>\n      <td>1.0</td>\n      <td>Chittagong</td>\n      <td>Chittagong</td>\n      <td>Cox's Bazar</td>\n      <td>Cox's Bazar - 2</td>\n      <td>21.321306</td>\n      <td>92.039917</td>\n      <td>bcs1</td>\n    </tr>\n    <tr>\n      <th>6248</th>\n      <td>Z1098</td>\n      <td>12.880</td>\n      <td>Box Culvert</td>\n      <td>LRP012c</td>\n      <td>.</td>\n      <td>9.7</td>\n      <td>A</td>\n      <td>118266</td>\n      <td>Cox`s Bazar-Teknaf Sea beach Road</td>\n      <td>12.88</td>\n      <td>11.0</td>\n      <td>2005.0</td>\n      <td>2.0</td>\n      <td>Chittagong</td>\n      <td>Chittagong</td>\n      <td>Cox's Bazar</td>\n      <td>Cox's Bazar - 2</td>\n      <td>21.316806</td>\n      <td>92.041944</td>\n      <td>bcs1</td>\n    </tr>\n    <tr>\n      <th>6249</th>\n      <td>Z1098</td>\n      <td>13.630</td>\n      <td>Box Culvert</td>\n      <td>LRP013a</td>\n      <td>.</td>\n      <td>5.2</td>\n      <td>A</td>\n      <td>118267</td>\n      <td>Cox`s Bazar-Teknaf Sea beach Road</td>\n      <td>13.63</td>\n      <td>11.0</td>\n      <td>2005.0</td>\n      <td>1.0</td>\n      <td>Chittagong</td>\n      <td>Chittagong</td>\n      <td>Cox's Bazar</td>\n      <td>Cox's Bazar - 2</td>\n      <td>21.310139</td>\n      <td>92.044333</td>\n      <td>bcs1</td>\n    </tr>\n    <tr>\n      <th>6250</th>\n      <td>Z1098</td>\n      <td>14.150</td>\n      <td>Box Culvert</td>\n      <td>LRP014a</td>\n      <td>.</td>\n      <td>11.0</td>\n      <td>A</td>\n      <td>118268</td>\n      <td>Cox`s Bazar-Teknaf Sea beach Road</td>\n      <td>14.15</td>\n      <td>11.0</td>\n      <td>2005.0</td>\n      <td>2.0</td>\n      <td>Chittagong</td>\n      <td>Chittagong</td>\n      <td>Cox's Bazar</td>\n      <td>Cox's Bazar - 2</td>\n      <td>21.306000</td>\n      <td>92.046111</td>\n      <td>bcs1</td>\n    </tr>\n    <tr>\n      <th>6251</th>\n      <td>Z1098</td>\n      <td>14.650</td>\n      <td>RCC Girder Bridge</td>\n      <td>LRP014c</td>\n      <td>Lal Bridge</td>\n      <td>20.0</td>\n      <td>A</td>\n      <td>120472</td>\n      <td>Cox`s Bazar-Teknaf Sea beach Road</td>\n      <td>14.65</td>\n      <td>NaN</td>\n      <td>NaN</td>\n      <td>NaN</td>\n      <td>Chittagong</td>\n      <td>Chittagong</td>\n      <td>Cox's Bazar</td>\n      <td>Cox's Bazar - 2</td>\n      <td>21.300500</td>\n      <td>92.048555</td>\n      <td>road_precise</td>\n    </tr>\n    <tr>\n      <th>6252</th>\n      <td>Z1098</td>\n      <td>15.000</td>\n      <td>Box Culvert</td>\n      <td>LRP015a</td>\n      <td>.</td>\n      <td>2.1</td>\n      <td>A</td>\n      <td>118270</td>\n      <td>Cox`s Bazar-Teknaf Sea beach Road</td>\n      <td>15</td>\n      <td>11.0</td>\n      <td>2005.0</td>\n      <td>1.0</td>\n      <td>Chittagong</td>\n      <td>Chittagong</td>\n      <td>Cox's Bazar</td>\n      <td>Cox's Bazar - 2</td>\n      <td>21.299500</td>\n      <td>92.050139</td>\n      <td>bcs1</td>\n    </tr>\n    <tr>\n      <th>6253</th>\n      <td>Z1098</td>\n      <td>15.430</td>\n      <td>Box Culvert</td>\n      <td>LRP015b</td>\n      <td>.</td>\n      <td>10.4</td>\n      <td>A</td>\n      <td>118271</td>\n      <td>Cox`s Bazar-Teknaf Sea beach Road</td>\n      <td>15.43</td>\n      <td>11.0</td>\n      <td>2005.0</td>\n      <td>2.0</td>\n      <td>Chittagong</td>\n      <td>Chittagong</td>\n      <td>Cox's Bazar</td>\n      <td>Cox's Bazar - 2</td>\n      <td>21.296000</td>\n      <td>92.052306</td>\n      <td>bcs1</td>\n    </tr>\n    <tr>\n      <th>6254</th>\n      <td>Z1098</td>\n      <td>15.550</td>\n      <td>Truss with Steel Deck</td>\n      <td>LRP015d</td>\n      <td>.</td>\n      <td>151.0</td>\n      <td>A</td>\n      <td>118269</td>\n      <td>Cox`s Bazar-Teknaf Sea beach Road</td>\n      <td>15.55</td>\n      <td>4.3</td>\n      <td>1994.0</td>\n      <td>4.0</td>\n      <td>Chittagong</td>\n      <td>Chittagong</td>\n      <td>Cox's Bazar</td>\n      <td>Cox's Bazar - 2</td>\n      <td>21.295250</td>\n      <td>92.051667</td>\n      <td>bcs1</td>\n    </tr>\n    <tr>\n      <th>6255</th>\n      <td>Z1098</td>\n      <td>16.100</td>\n      <td>Box Culvert</td>\n      <td>LRP016a</td>\n      <td>.</td>\n      <td>10.3</td>\n      <td>A</td>\n      <td>118273</td>\n      <td>Cox`s Bazar-Teknaf Sea beach Road</td>\n      <td>16.1</td>\n      <td>10.5</td>\n      <td>2006.0</td>\n      <td>2.0</td>\n      <td>Chittagong</td>\n      <td>Chittagong</td>\n      <td>Cox's Bazar</td>\n      <td>Cox's Bazar - 2</td>\n      <td>21.291694</td>\n      <td>92.047944</td>\n      <td>bcs1</td>\n    </tr>\n    <tr>\n      <th>6256</th>\n      <td>Z1098</td>\n      <td>70.431</td>\n      <td>Box Culvert</td>\n      <td>LRP020b</td>\n      <td>.</td>\n      <td>1.3</td>\n      <td>A</td>\n      <td>118272</td>\n      <td>Cox`s Bazar-Teknaf Sea beach Road</td>\n      <td>70.431</td>\n      <td>5.5</td>\n      <td>1982.0</td>\n      <td>1.0</td>\n      <td>Chittagong</td>\n      <td>Chittagong</td>\n      <td>Cox's Bazar</td>\n      <td>Cox's Bazar - 2</td>\n      <td>20.847306</td>\n      <td>92.275111</td>\n      <td>bcs1</td>\n    </tr>\n    <tr>\n      <th>6257</th>\n      <td>Z1098</td>\n      <td>70.631</td>\n      <td>Box Culvert</td>\n      <td>LRP020c</td>\n      <td>.</td>\n      <td>2.1</td>\n      <td>A</td>\n      <td>118297</td>\n      <td>Cox`s Bazar-Teknaf Sea beach Road</td>\n      <td>70.631</td>\n      <td>4.7</td>\n      <td>1985.0</td>\n      <td>1.0</td>\n      <td>Chittagong</td>\n      <td>Chittagong</td>\n      <td>Cox's Bazar</td>\n      <td>Cox's Bazar - 2</td>\n      <td>20.847722</td>\n      <td>92.276583</td>\n      <td>bcs1</td>\n    </tr>\n    <tr>\n      <th>6258</th>\n      <td>Z1098</td>\n      <td>71.221</td>\n      <td>Box Culvert</td>\n      <td>LRP021a</td>\n      <td>.</td>\n      <td>2.3</td>\n      <td>A</td>\n      <td>118298</td>\n      <td>Cox`s Bazar-Teknaf Sea beach Road</td>\n      <td>71.221</td>\n      <td>3.7</td>\n      <td>1997.0</td>\n      <td>1.0</td>\n      <td>Chittagong</td>\n      <td>Chittagong</td>\n      <td>Cox's Bazar</td>\n      <td>Cox's Bazar - 2</td>\n      <td>20.849972</td>\n      <td>92.281528</td>\n      <td>bcs1</td>\n    </tr>\n    <tr>\n      <th>6259</th>\n      <td>Z1098</td>\n      <td>71.931</td>\n      <td>Box Culvert</td>\n      <td>LRP022a</td>\n      <td>.</td>\n      <td>1.8</td>\n      <td>A</td>\n      <td>118299</td>\n      <td>Cox`s Bazar-Teknaf Sea beach Road</td>\n      <td>71.931</td>\n      <td>3.8</td>\n      <td>1993.0</td>\n      <td>1.0</td>\n      <td>Chittagong</td>\n      <td>Chittagong</td>\n      <td>Cox's Bazar</td>\n      <td>Cox's Bazar - 2</td>\n      <td>20.855611</td>\n      <td>92.284444</td>\n      <td>bcs1</td>\n    </tr>\n    <tr>\n      <th>6260</th>\n      <td>Z1098</td>\n      <td>72.736</td>\n      <td>Box Culvert</td>\n      <td>LRP023a</td>\n      <td>.</td>\n      <td>1.6</td>\n      <td>A</td>\n      <td>118300</td>\n      <td>Cox`s Bazar-Teknaf Sea beach Road</td>\n      <td>72.736</td>\n      <td>5.5</td>\n      <td>2000.0</td>\n      <td>1.0</td>\n      <td>Chittagong</td>\n      <td>Chittagong</td>\n      <td>Cox's Bazar</td>\n      <td>Cox's Bazar - 2</td>\n      <td>20.857611</td>\n      <td>92.292278</td>\n      <td>bcs1</td>\n    </tr>\n    <tr>\n      <th>6261</th>\n      <td>Z1098</td>\n      <td>72.881</td>\n      <td>Box Culvert</td>\n      <td>LRP023b</td>\n      <td>.</td>\n      <td>2.4</td>\n      <td>A</td>\n      <td>118301</td>\n      <td>Cox`s Bazar-Teknaf Sea beach Road</td>\n      <td>72.881</td>\n      <td>6.1</td>\n      <td>1997.0</td>\n      <td>1.0</td>\n      <td>Chittagong</td>\n      <td>Chittagong</td>\n      <td>Cox's Bazar</td>\n      <td>Cox's Bazar - 2</td>\n      <td>20.857972</td>\n      <td>92.293250</td>\n      <td>bcs1</td>\n    </tr>\n    <tr>\n      <th>6262</th>\n      <td>Z1098</td>\n      <td>73.181</td>\n      <td>Slab Culvert</td>\n      <td>LRP023c</td>\n      <td>.</td>\n      <td>2.8</td>\n      <td>A</td>\n      <td>118302</td>\n      <td>Cox`s Bazar-Teknaf Sea beach Road</td>\n      <td>73.181</td>\n      <td>3.7</td>\n      <td>1993.0</td>\n      <td>1.0</td>\n      <td>Chittagong</td>\n      <td>Chittagong</td>\n      <td>Cox's Bazar</td>\n      <td>Cox's Bazar - 2</td>\n      <td>20.859250</td>\n      <td>92.295528</td>\n      <td>bcs1</td>\n    </tr>\n    <tr>\n      <th>18295</th>\n      <td>Z1098</td>\n      <td>15.550</td>\n      <td>Truss with Steel Deck</td>\n      <td>LRP015d</td>\n      <td>Reju Khal Bridge</td>\n      <td>149.6</td>\n      <td>C</td>\n      <td>120474</td>\n      <td>Cox`s Bazar-Teknaf Sea beach Road</td>\n      <td>15.55</td>\n      <td>NaN</td>\n      <td>NaN</td>\n      <td>NaN</td>\n      <td>Chittagong</td>\n      <td>Chittagong</td>\n      <td>Cox's Bazar</td>\n      <td>Cox's Bazar - 2</td>\n      <td>21.291694</td>\n      <td>92.047944</td>\n      <td>road_precise</td>\n    </tr>\n  </tbody>\n</table>\n</div>"
     },
     "execution_count": 26,
     "metadata": {},
     "output_type": "execute_result"
    }
   ],
   "source": [
    "org_bmms = pd.read_excel('BMMS_overview.xlsx')\n",
    "org_bmms[org_bmms['road'] == 'Z1098']"
   ],
   "metadata": {
    "collapsed": false,
    "ExecuteTime": {
     "end_time": "2024-02-23T12:05:19.271494400Z",
     "start_time": "2024-02-23T12:05:15.541261200Z"
    }
   },
   "id": "c2d958c2818d3ba7"
  },
  {
   "cell_type": "code",
   "execution_count": 30,
   "outputs": [
    {
     "data": {
      "text/plain": "       road      km                   type  LRPName  \\\n2549   R171   0.433            Box Culvert    LRPSa   \n2550   R171   0.975  Baily with Steel Deck    LRPSb   \n2551   R171  10.633            Box Culvert  LRP010a   \n2552   R171  10.716            Box Culvert  LRP010b   \n2553   R171  10.878  Baily with Steel Deck  LRP010c   \n2554   R171  10.878  Truss with Steel Deck  LRP010c   \n2555   R171  11.066            Box Culvert  LRP011a   \n2556   R171  11.813            Box Culvert  LRP011b   \n2557   R171  12.791            Box Culvert  LRP012a   \n2558   R171  13.389           Slab Culvert  LRP013b   \n2559   R171  13.741            Box Culvert  LRP013c   \n2560   R171  15.167            Box Culvert  LRP015a   \n2561   R171  15.851           Slab Culvert  LRP015c   \n16083  R171   0.975  Baily with Steel Deck    LRPSb   \n20439  R171  14.759           Slab Culvert  LRP014b   \n20440  R171  15.679           Slab Culvert  LRP015b   \n\n                                         name  length condition  structureNr  \\\n2549                           CHUNTI MIAPARA    2.50         A       105123   \n2550                             CHUNTI BAZAR   14.00         A       105125   \n2551                 MUNUFAKIRHAT BOX CULVERT    1.30         A       113876   \n2552                MANUJAKIV HAT BOX CULVERT    1.30         A       113880   \n2553   MONIR FOKIR HAT BAILEY WITH STEEL DECK   20.00         A       113879   \n2554                   Monir Fokir Hat Bridge   20.00         A       121447   \n2555                   MONI FOKIR BOX CULVERT    1.20         A       113878   \n2556                  LOSKOR PARA BOX CULVERT    1.80         A       113877   \n2557                               BORO HALIA    1.80         A       114261   \n2558                             BORHATIA [2]    7.70         A       114290   \n2559                           BOR OHATIA BOX    2.40         A       114292   \n2560                             Adaorshopara    1.20         A       113881   \n2561                             DABOTI BAZAR    6.80         A       114293   \n16083                     Rohollar Hat Bridge   12.15         B       121175   \n20439                             Adorshopara    7.60         D       113882   \n20440                        Boboti Bazar-(1)    4.80         D       113883   \n\n                               roadName chainage  width  constructionYear  \\\n2549   Banshkhali (Charati)-Chunti Road    0.433   7.60            1993.0   \n2550   Banshkhali (Charati)-Chunti Road    0.975   3.45            1984.0   \n2551   Banshkhali (Charati)-Chunti Road   10.633   6.70            1998.0   \n2552   Banshkhali (Charati)-Chunti Road   10.716   6.70            2000.0   \n2553   Banshkhali (Charati)-Chunti Road   10.878   3.40            2002.0   \n2554   Banshkhali (Charati)-Chunti Road   10.878    NaN               NaN   \n2555   Banshkhali (Charati)-Chunti Road   11.066   6.70            1991.0   \n2556   Banshkhali (Charati)-Chunti Road   11.813   7.20            1993.0   \n2557   Banshkhali (Charati)-Chunti Road   12.791   7.10            1996.0   \n2558   Banshkhali (Charati)-Chunti Road   13.389   3.85            1992.0   \n2559   Banshkhali (Charati)-Chunti Road   13.741   4.60            1992.0   \n2560   Banshkhali (Charati)-Chunti Road   15.167   6.75            1999.0   \n2561   Banshkhali (Charati)-Chunti Road   15.851   3.70            1985.0   \n16083  Banshkhali (Charati)-Chunti Road    0.975    NaN               NaN   \n20439  Banshkhali (Charati)-Chunti Road   14.759   3.40            1992.0   \n20440  Banshkhali (Charati)-Chunti Road   15.679   3.60            1982.0   \n\n       spans        zone      circle  division sub-division        lat  \\\n2549     1.0  Chittagong  Chittagong  Dohazari     Dohazari  22.002944   \n2550     1.0  Chittagong  Chittagong  Dohazari     Dohazari  22.003083   \n2551     1.0  Chittagong  Chittagong  Dohazari     Dohazari  22.009056   \n2552     1.0  Chittagong  Chittagong  Dohazari     Dohazari  22.008222   \n2553     1.0  Chittagong  Chittagong  Dohazari     Dohazari  22.007694   \n2554     NaN  Chittagong  Chittagong  Dohazari     Dohazari  22.007500   \n2555     1.0  Chittagong  Chittagong  Dohazari     Dohazari  22.005917   \n2556     1.0  Chittagong  Chittagong  Dohazari     Dohazari  21.999306   \n2557     1.0  Chittagong  Chittagong  Dohazari     Dohazari  21.994833   \n2558     1.0  Chittagong  Chittagong  Dohazari     Dohazari  21.990972   \n2559     1.0  Chittagong  Chittagong  Dohazari     Dohazari  21.989167   \n2560     1.0  Chittagong  Chittagong  Dohazari     Dohazari  21.978083   \n2561     1.0  Chittagong  Chittagong  Dohazari     Dohazari  21.972167   \n16083    NaN  Chittagong  Chittagong  Dohazari     Dohazari  22.003194   \n20439    1.0  Chittagong  Chittagong  Dohazari     Dohazari  27.980972   \n20440    1.0  Chittagong  Chittagong  Dohazari     Dohazari  21.973583   \n\n             lon   EstimatedLoc  \n2549   91.955500           bcs1  \n2550   91.958167           bcs1  \n2551   92.052667           bcs1  \n2552   92.053000           bcs1  \n2553   92.054111           bcs1  \n2554   92.053944  road_chainage  \n2555   92.054056           bcs1  \n2556   92.055278           bcs1  \n2557   92.060056           bcs1  \n2558   92.062972           bcs1  \n2559   92.064611           bcs1  \n2560   91.063917           bcs1  \n2561   92.065667           bcs1  \n16083  91.959972   road_precise  \n20439  92.065611           bcs1  \n20440  92.065361           bcs1  ",
      "text/html": "<div>\n<style scoped>\n    .dataframe tbody tr th:only-of-type {\n        vertical-align: middle;\n    }\n\n    .dataframe tbody tr th {\n        vertical-align: top;\n    }\n\n    .dataframe thead th {\n        text-align: right;\n    }\n</style>\n<table border=\"1\" class=\"dataframe\">\n  <thead>\n    <tr style=\"text-align: right;\">\n      <th></th>\n      <th>road</th>\n      <th>km</th>\n      <th>type</th>\n      <th>LRPName</th>\n      <th>name</th>\n      <th>length</th>\n      <th>condition</th>\n      <th>structureNr</th>\n      <th>roadName</th>\n      <th>chainage</th>\n      <th>width</th>\n      <th>constructionYear</th>\n      <th>spans</th>\n      <th>zone</th>\n      <th>circle</th>\n      <th>division</th>\n      <th>sub-division</th>\n      <th>lat</th>\n      <th>lon</th>\n      <th>EstimatedLoc</th>\n    </tr>\n  </thead>\n  <tbody>\n    <tr>\n      <th>2549</th>\n      <td>R171</td>\n      <td>0.433</td>\n      <td>Box Culvert</td>\n      <td>LRPSa</td>\n      <td>CHUNTI MIAPARA</td>\n      <td>2.50</td>\n      <td>A</td>\n      <td>105123</td>\n      <td>Banshkhali (Charati)-Chunti Road</td>\n      <td>0.433</td>\n      <td>7.60</td>\n      <td>1993.0</td>\n      <td>1.0</td>\n      <td>Chittagong</td>\n      <td>Chittagong</td>\n      <td>Dohazari</td>\n      <td>Dohazari</td>\n      <td>22.002944</td>\n      <td>91.955500</td>\n      <td>bcs1</td>\n    </tr>\n    <tr>\n      <th>2550</th>\n      <td>R171</td>\n      <td>0.975</td>\n      <td>Baily with Steel Deck</td>\n      <td>LRPSb</td>\n      <td>CHUNTI BAZAR</td>\n      <td>14.00</td>\n      <td>A</td>\n      <td>105125</td>\n      <td>Banshkhali (Charati)-Chunti Road</td>\n      <td>0.975</td>\n      <td>3.45</td>\n      <td>1984.0</td>\n      <td>1.0</td>\n      <td>Chittagong</td>\n      <td>Chittagong</td>\n      <td>Dohazari</td>\n      <td>Dohazari</td>\n      <td>22.003083</td>\n      <td>91.958167</td>\n      <td>bcs1</td>\n    </tr>\n    <tr>\n      <th>2551</th>\n      <td>R171</td>\n      <td>10.633</td>\n      <td>Box Culvert</td>\n      <td>LRP010a</td>\n      <td>MUNUFAKIRHAT BOX CULVERT</td>\n      <td>1.30</td>\n      <td>A</td>\n      <td>113876</td>\n      <td>Banshkhali (Charati)-Chunti Road</td>\n      <td>10.633</td>\n      <td>6.70</td>\n      <td>1998.0</td>\n      <td>1.0</td>\n      <td>Chittagong</td>\n      <td>Chittagong</td>\n      <td>Dohazari</td>\n      <td>Dohazari</td>\n      <td>22.009056</td>\n      <td>92.052667</td>\n      <td>bcs1</td>\n    </tr>\n    <tr>\n      <th>2552</th>\n      <td>R171</td>\n      <td>10.716</td>\n      <td>Box Culvert</td>\n      <td>LRP010b</td>\n      <td>MANUJAKIV HAT BOX CULVERT</td>\n      <td>1.30</td>\n      <td>A</td>\n      <td>113880</td>\n      <td>Banshkhali (Charati)-Chunti Road</td>\n      <td>10.716</td>\n      <td>6.70</td>\n      <td>2000.0</td>\n      <td>1.0</td>\n      <td>Chittagong</td>\n      <td>Chittagong</td>\n      <td>Dohazari</td>\n      <td>Dohazari</td>\n      <td>22.008222</td>\n      <td>92.053000</td>\n      <td>bcs1</td>\n    </tr>\n    <tr>\n      <th>2553</th>\n      <td>R171</td>\n      <td>10.878</td>\n      <td>Baily with Steel Deck</td>\n      <td>LRP010c</td>\n      <td>MONIR FOKIR HAT BAILEY WITH STEEL DECK</td>\n      <td>20.00</td>\n      <td>A</td>\n      <td>113879</td>\n      <td>Banshkhali (Charati)-Chunti Road</td>\n      <td>10.878</td>\n      <td>3.40</td>\n      <td>2002.0</td>\n      <td>1.0</td>\n      <td>Chittagong</td>\n      <td>Chittagong</td>\n      <td>Dohazari</td>\n      <td>Dohazari</td>\n      <td>22.007694</td>\n      <td>92.054111</td>\n      <td>bcs1</td>\n    </tr>\n    <tr>\n      <th>2554</th>\n      <td>R171</td>\n      <td>10.878</td>\n      <td>Truss with Steel Deck</td>\n      <td>LRP010c</td>\n      <td>Monir Fokir Hat Bridge</td>\n      <td>20.00</td>\n      <td>A</td>\n      <td>121447</td>\n      <td>Banshkhali (Charati)-Chunti Road</td>\n      <td>10.878</td>\n      <td>NaN</td>\n      <td>NaN</td>\n      <td>NaN</td>\n      <td>Chittagong</td>\n      <td>Chittagong</td>\n      <td>Dohazari</td>\n      <td>Dohazari</td>\n      <td>22.007500</td>\n      <td>92.053944</td>\n      <td>road_chainage</td>\n    </tr>\n    <tr>\n      <th>2555</th>\n      <td>R171</td>\n      <td>11.066</td>\n      <td>Box Culvert</td>\n      <td>LRP011a</td>\n      <td>MONI FOKIR BOX CULVERT</td>\n      <td>1.20</td>\n      <td>A</td>\n      <td>113878</td>\n      <td>Banshkhali (Charati)-Chunti Road</td>\n      <td>11.066</td>\n      <td>6.70</td>\n      <td>1991.0</td>\n      <td>1.0</td>\n      <td>Chittagong</td>\n      <td>Chittagong</td>\n      <td>Dohazari</td>\n      <td>Dohazari</td>\n      <td>22.005917</td>\n      <td>92.054056</td>\n      <td>bcs1</td>\n    </tr>\n    <tr>\n      <th>2556</th>\n      <td>R171</td>\n      <td>11.813</td>\n      <td>Box Culvert</td>\n      <td>LRP011b</td>\n      <td>LOSKOR PARA BOX CULVERT</td>\n      <td>1.80</td>\n      <td>A</td>\n      <td>113877</td>\n      <td>Banshkhali (Charati)-Chunti Road</td>\n      <td>11.813</td>\n      <td>7.20</td>\n      <td>1993.0</td>\n      <td>1.0</td>\n      <td>Chittagong</td>\n      <td>Chittagong</td>\n      <td>Dohazari</td>\n      <td>Dohazari</td>\n      <td>21.999306</td>\n      <td>92.055278</td>\n      <td>bcs1</td>\n    </tr>\n    <tr>\n      <th>2557</th>\n      <td>R171</td>\n      <td>12.791</td>\n      <td>Box Culvert</td>\n      <td>LRP012a</td>\n      <td>BORO HALIA</td>\n      <td>1.80</td>\n      <td>A</td>\n      <td>114261</td>\n      <td>Banshkhali (Charati)-Chunti Road</td>\n      <td>12.791</td>\n      <td>7.10</td>\n      <td>1996.0</td>\n      <td>1.0</td>\n      <td>Chittagong</td>\n      <td>Chittagong</td>\n      <td>Dohazari</td>\n      <td>Dohazari</td>\n      <td>21.994833</td>\n      <td>92.060056</td>\n      <td>bcs1</td>\n    </tr>\n    <tr>\n      <th>2558</th>\n      <td>R171</td>\n      <td>13.389</td>\n      <td>Slab Culvert</td>\n      <td>LRP013b</td>\n      <td>BORHATIA [2]</td>\n      <td>7.70</td>\n      <td>A</td>\n      <td>114290</td>\n      <td>Banshkhali (Charati)-Chunti Road</td>\n      <td>13.389</td>\n      <td>3.85</td>\n      <td>1992.0</td>\n      <td>1.0</td>\n      <td>Chittagong</td>\n      <td>Chittagong</td>\n      <td>Dohazari</td>\n      <td>Dohazari</td>\n      <td>21.990972</td>\n      <td>92.062972</td>\n      <td>bcs1</td>\n    </tr>\n    <tr>\n      <th>2559</th>\n      <td>R171</td>\n      <td>13.741</td>\n      <td>Box Culvert</td>\n      <td>LRP013c</td>\n      <td>BOR OHATIA BOX</td>\n      <td>2.40</td>\n      <td>A</td>\n      <td>114292</td>\n      <td>Banshkhali (Charati)-Chunti Road</td>\n      <td>13.741</td>\n      <td>4.60</td>\n      <td>1992.0</td>\n      <td>1.0</td>\n      <td>Chittagong</td>\n      <td>Chittagong</td>\n      <td>Dohazari</td>\n      <td>Dohazari</td>\n      <td>21.989167</td>\n      <td>92.064611</td>\n      <td>bcs1</td>\n    </tr>\n    <tr>\n      <th>2560</th>\n      <td>R171</td>\n      <td>15.167</td>\n      <td>Box Culvert</td>\n      <td>LRP015a</td>\n      <td>Adaorshopara</td>\n      <td>1.20</td>\n      <td>A</td>\n      <td>113881</td>\n      <td>Banshkhali (Charati)-Chunti Road</td>\n      <td>15.167</td>\n      <td>6.75</td>\n      <td>1999.0</td>\n      <td>1.0</td>\n      <td>Chittagong</td>\n      <td>Chittagong</td>\n      <td>Dohazari</td>\n      <td>Dohazari</td>\n      <td>21.978083</td>\n      <td>91.063917</td>\n      <td>bcs1</td>\n    </tr>\n    <tr>\n      <th>2561</th>\n      <td>R171</td>\n      <td>15.851</td>\n      <td>Slab Culvert</td>\n      <td>LRP015c</td>\n      <td>DABOTI BAZAR</td>\n      <td>6.80</td>\n      <td>A</td>\n      <td>114293</td>\n      <td>Banshkhali (Charati)-Chunti Road</td>\n      <td>15.851</td>\n      <td>3.70</td>\n      <td>1985.0</td>\n      <td>1.0</td>\n      <td>Chittagong</td>\n      <td>Chittagong</td>\n      <td>Dohazari</td>\n      <td>Dohazari</td>\n      <td>21.972167</td>\n      <td>92.065667</td>\n      <td>bcs1</td>\n    </tr>\n    <tr>\n      <th>16083</th>\n      <td>R171</td>\n      <td>0.975</td>\n      <td>Baily with Steel Deck</td>\n      <td>LRPSb</td>\n      <td>Rohollar Hat Bridge</td>\n      <td>12.15</td>\n      <td>B</td>\n      <td>121175</td>\n      <td>Banshkhali (Charati)-Chunti Road</td>\n      <td>0.975</td>\n      <td>NaN</td>\n      <td>NaN</td>\n      <td>NaN</td>\n      <td>Chittagong</td>\n      <td>Chittagong</td>\n      <td>Dohazari</td>\n      <td>Dohazari</td>\n      <td>22.003194</td>\n      <td>91.959972</td>\n      <td>road_precise</td>\n    </tr>\n    <tr>\n      <th>20439</th>\n      <td>R171</td>\n      <td>14.759</td>\n      <td>Slab Culvert</td>\n      <td>LRP014b</td>\n      <td>Adorshopara</td>\n      <td>7.60</td>\n      <td>D</td>\n      <td>113882</td>\n      <td>Banshkhali (Charati)-Chunti Road</td>\n      <td>14.759</td>\n      <td>3.40</td>\n      <td>1992.0</td>\n      <td>1.0</td>\n      <td>Chittagong</td>\n      <td>Chittagong</td>\n      <td>Dohazari</td>\n      <td>Dohazari</td>\n      <td>27.980972</td>\n      <td>92.065611</td>\n      <td>bcs1</td>\n    </tr>\n    <tr>\n      <th>20440</th>\n      <td>R171</td>\n      <td>15.679</td>\n      <td>Slab Culvert</td>\n      <td>LRP015b</td>\n      <td>Boboti Bazar-(1)</td>\n      <td>4.80</td>\n      <td>D</td>\n      <td>113883</td>\n      <td>Banshkhali (Charati)-Chunti Road</td>\n      <td>15.679</td>\n      <td>3.60</td>\n      <td>1982.0</td>\n      <td>1.0</td>\n      <td>Chittagong</td>\n      <td>Chittagong</td>\n      <td>Dohazari</td>\n      <td>Dohazari</td>\n      <td>21.973583</td>\n      <td>92.065361</td>\n      <td>bcs1</td>\n    </tr>\n  </tbody>\n</table>\n</div>"
     },
     "execution_count": 30,
     "metadata": {},
     "output_type": "execute_result"
    }
   ],
   "source": [
    "org_bmms[org_bmms['road'] == 'R171']"
   ],
   "metadata": {
    "collapsed": false,
    "ExecuteTime": {
     "end_time": "2024-02-23T12:49:26.689778Z",
     "start_time": "2024-02-23T12:49:26.665046600Z"
    }
   },
   "id": "2b9eda01ea9a2973"
  },
  {
   "cell_type": "code",
   "execution_count": 28,
   "outputs": [
    {
     "data": {
      "text/plain": "      road    min_lat    max_lat    min_lon    max_lon\n289  Z1098  21.051417  21.416083  91.984416  92.157222",
      "text/html": "<div>\n<style scoped>\n    .dataframe tbody tr th:only-of-type {\n        vertical-align: middle;\n    }\n\n    .dataframe tbody tr th {\n        vertical-align: top;\n    }\n\n    .dataframe thead th {\n        text-align: right;\n    }\n</style>\n<table border=\"1\" class=\"dataframe\">\n  <thead>\n    <tr style=\"text-align: right;\">\n      <th></th>\n      <th>road</th>\n      <th>min_lat</th>\n      <th>max_lat</th>\n      <th>min_lon</th>\n      <th>max_lon</th>\n    </tr>\n  </thead>\n  <tbody>\n    <tr>\n      <th>289</th>\n      <td>Z1098</td>\n      <td>21.051417</td>\n      <td>21.416083</td>\n      <td>91.984416</td>\n      <td>92.157222</td>\n    </tr>\n  </tbody>\n</table>\n</div>"
     },
     "execution_count": 28,
     "metadata": {},
     "output_type": "execute_result"
    }
   ],
   "source": [
    "df_road_ranges[df_road_ranges['road'] == 'Z1098']"
   ],
   "metadata": {
    "collapsed": false,
    "ExecuteTime": {
     "end_time": "2024-02-23T12:05:19.336451500Z",
     "start_time": "2024-02-23T12:05:19.302302400Z"
    }
   },
   "id": "2c5196987a5d3a95"
  },
  {
   "cell_type": "code",
   "execution_count": 28,
   "outputs": [],
   "source": [],
   "metadata": {
    "collapsed": false,
    "ExecuteTime": {
     "end_time": "2024-02-23T12:05:19.336954500Z",
     "start_time": "2024-02-23T12:05:19.310948700Z"
    }
   },
   "id": "f4624239095dcd19"
  },
  {
   "cell_type": "code",
   "execution_count": 28,
   "outputs": [],
   "source": [],
   "metadata": {
    "collapsed": false,
    "ExecuteTime": {
     "end_time": "2024-02-23T12:05:19.338099500Z",
     "start_time": "2024-02-23T12:05:19.314062100Z"
    }
   },
   "id": "662375bf5b7db7ba"
  },
  {
   "cell_type": "code",
   "execution_count": 28,
   "outputs": [],
   "source": [],
   "metadata": {
    "collapsed": false,
    "ExecuteTime": {
     "end_time": "2024-02-23T12:05:19.380970700Z",
     "start_time": "2024-02-23T12:05:19.316880500Z"
    }
   },
   "id": "80ff7a451da12b4e"
  },
  {
   "cell_type": "code",
   "execution_count": 28,
   "outputs": [],
   "source": [],
   "metadata": {
    "collapsed": false,
    "ExecuteTime": {
     "end_time": "2024-02-23T12:05:19.380970700Z",
     "start_time": "2024-02-23T12:05:19.319384800Z"
    }
   },
   "id": "d0971d7e457324a6"
  },
  {
   "cell_type": "code",
   "execution_count": 28,
   "outputs": [],
   "source": [],
   "metadata": {
    "collapsed": false,
    "ExecuteTime": {
     "end_time": "2024-02-23T12:05:19.381974900Z",
     "start_time": "2024-02-23T12:05:19.324229400Z"
    }
   },
   "id": "c21918bd6e22edb8"
  },
  {
   "cell_type": "code",
   "execution_count": 28,
   "outputs": [],
   "source": [],
   "metadata": {
    "collapsed": false,
    "ExecuteTime": {
     "end_time": "2024-02-23T12:05:19.420742Z",
     "start_time": "2024-02-23T12:05:19.326374600Z"
    }
   },
   "id": "2697e166a2420a87"
  },
  {
   "cell_type": "code",
   "execution_count": 28,
   "outputs": [],
   "source": [],
   "metadata": {
    "collapsed": false,
    "ExecuteTime": {
     "end_time": "2024-02-23T12:05:19.460671800Z",
     "start_time": "2024-02-23T12:05:19.329466300Z"
    }
   },
   "id": "fcab2f8a90c40865"
  },
  {
   "cell_type": "code",
   "execution_count": 28,
   "outputs": [],
   "source": [],
   "metadata": {
    "collapsed": false,
    "ExecuteTime": {
     "end_time": "2024-02-23T12:05:19.460671800Z",
     "start_time": "2024-02-23T12:05:19.333038Z"
    }
   },
   "id": "f22cfa0819786d6b"
  },
  {
   "cell_type": "code",
   "execution_count": 28,
   "outputs": [],
   "source": [],
   "metadata": {
    "collapsed": false,
    "ExecuteTime": {
     "end_time": "2024-02-23T12:05:19.462698600Z",
     "start_time": "2024-02-23T12:05:19.336954500Z"
    }
   },
   "id": "3204a93bdbb09a50"
  },
  {
   "cell_type": "code",
   "execution_count": 28,
   "outputs": [],
   "source": [],
   "metadata": {
    "collapsed": false,
    "ExecuteTime": {
     "end_time": "2024-02-23T12:05:19.463702900Z",
     "start_time": "2024-02-23T12:05:19.339746600Z"
    }
   },
   "id": "5660f0175d9a4953"
  },
  {
   "cell_type": "code",
   "execution_count": 28,
   "outputs": [],
   "source": [],
   "metadata": {
    "collapsed": false,
    "ExecuteTime": {
     "end_time": "2024-02-23T12:05:19.463702900Z",
     "start_time": "2024-02-23T12:05:19.341779400Z"
    }
   },
   "id": "69d6ab970b0ec594"
  },
  {
   "cell_type": "code",
   "execution_count": 28,
   "outputs": [],
   "source": [],
   "metadata": {
    "collapsed": false,
    "ExecuteTime": {
     "end_time": "2024-02-23T12:05:19.467380Z",
     "start_time": "2024-02-23T12:05:19.356384900Z"
    }
   },
   "id": "48254830c480958b"
  },
  {
   "cell_type": "code",
   "execution_count": null,
   "outputs": [],
   "source": [],
   "metadata": {
    "collapsed": false
   },
   "id": "689328cdd14ad5dd"
  }
 ],
 "metadata": {
  "kernelspec": {
   "display_name": "Python 3",
   "language": "python",
   "name": "python3"
  },
  "language_info": {
   "codemirror_mode": {
    "name": "ipython",
    "version": 2
   },
   "file_extension": ".py",
   "mimetype": "text/x-python",
   "name": "python",
   "nbconvert_exporter": "python",
   "pygments_lexer": "ipython2",
   "version": "2.7.6"
  }
 },
 "nbformat": 4,
 "nbformat_minor": 5
}
