{
 "cells": [
  {
   "cell_type": "code",
   "outputs": [],
   "source": [
    "import pandas as pd\n",
    "import seaborn as sns\n",
    "import matplotlib.pyplot as plt\n",
    "import numpy as np\n",
    "import Functions"
   ],
   "metadata": {
    "collapsed": false,
    "ExecuteTime": {
     "end_time": "2024-02-21T10:50:07.135910300Z",
     "start_time": "2024-02-21T10:50:07.032997700Z"
    }
   },
   "id": "4b8f51c0db82b31a",
   "execution_count": 4
  },
  {
   "cell_type": "code",
   "outputs": [],
   "source": [
    "def calc_dist_df(df):\n",
    "    df_dist = pd.DataFrame()\n",
    "\n",
    "    prev_lat = df['lat'].shift()\n",
    "    prev_lon = df['lon'].shift()\n",
    "    \n",
    "    df_dist['Distance'] = np.sqrt((prev_lat-df['lat'])**2 + (prev_lon-df['lon'])**2)\n",
    "        \n",
    "    return df_dist"
   ],
   "metadata": {
    "collapsed": false,
    "ExecuteTime": {
     "end_time": "2024-02-21T10:50:07.161825100Z",
     "start_time": "2024-02-21T10:50:07.131668800Z"
    }
   },
   "id": "e69041dc85cb6f91",
   "execution_count": 5
  },
  {
   "cell_type": "code",
   "outputs": [],
   "source": [
    "df_dist.quantile(0.8)"
   ],
   "metadata": {
    "collapsed": false,
    "ExecuteTime": {
     "start_time": "2024-02-21T10:50:07.223790500Z"
    }
   },
   "id": "be2c30a14d73719e",
   "execution_count": null
  },
  {
   "cell_type": "code",
   "outputs": [],
   "source": [
    "df_dist[df_dist['Distance'] > df_dist['Distance'].quantile(0.8)*50]"
   ],
   "metadata": {
    "collapsed": false,
    "ExecuteTime": {
     "start_time": "2024-02-21T10:50:07.228264Z"
    }
   },
   "id": "ce9ef995801664a7",
   "execution_count": null
  },
  {
   "cell_type": "code",
   "outputs": [],
   "source": [
    "df1_dist.describe()"
   ],
   "metadata": {
    "collapsed": false,
    "ExecuteTime": {
     "end_time": "2024-02-21T10:50:07.440294500Z",
     "start_time": "2024-02-21T10:50:07.284031Z"
    }
   },
   "id": "1a2463b31e3e687f",
   "execution_count": null
  },
  {
   "cell_type": "code",
   "outputs": [],
   "source": [
    "    # TODO: check correctness of width of bridges\n",
    "df_bridges = pd.read_excel('BMMS_overview.xlsx')"
   ],
   "metadata": {
    "collapsed": false,
    "ExecuteTime": {
     "end_time": "2024-02-21T10:50:18.778862300Z",
     "start_time": "2024-02-21T10:50:07.447481Z"
    }
   },
   "id": "1f3572210d1b089f",
   "execution_count": 8
  },
  {
   "cell_type": "code",
   "outputs": [
    {
     "data": {
      "text/plain": "        road      km         type  LRPName name  length condition  \\\n4902    R856  10.250   RCC Bridge  LRP010b    .   46.12         A   \n13970  Z7456   4.647  Box Culvert  LRP005b    .    1.38         A   \n\n       structureNr                                    roadName chainage  \\\n4902        107658  Noapara (Katakhali)-Fakirhat-Mollahat Road    10.25   \n13970       107543            Bamundi-Hatboalia-Alamdanga Road    4.647   \n\n       width  constructionYear  spans    zone   circle  division sub-division  \\\n4902   100.0            2004.0    3.0  Khulna   Khulna  Bagerhat   Bagerhat-2   \n13970  702.0            1989.0    1.0  Khulna  Jessore   Kushtia      Kushtia   \n\n             lat        lon EstimatedLoc  \n4902   22.773778  89.719833         bcs1  \n13970  23.856944  88.834167         bcs1  ",
      "text/html": "<div>\n<style scoped>\n    .dataframe tbody tr th:only-of-type {\n        vertical-align: middle;\n    }\n\n    .dataframe tbody tr th {\n        vertical-align: top;\n    }\n\n    .dataframe thead th {\n        text-align: right;\n    }\n</style>\n<table border=\"1\" class=\"dataframe\">\n  <thead>\n    <tr style=\"text-align: right;\">\n      <th></th>\n      <th>road</th>\n      <th>km</th>\n      <th>type</th>\n      <th>LRPName</th>\n      <th>name</th>\n      <th>length</th>\n      <th>condition</th>\n      <th>structureNr</th>\n      <th>roadName</th>\n      <th>chainage</th>\n      <th>width</th>\n      <th>constructionYear</th>\n      <th>spans</th>\n      <th>zone</th>\n      <th>circle</th>\n      <th>division</th>\n      <th>sub-division</th>\n      <th>lat</th>\n      <th>lon</th>\n      <th>EstimatedLoc</th>\n    </tr>\n  </thead>\n  <tbody>\n    <tr>\n      <th>4902</th>\n      <td>R856</td>\n      <td>10.250</td>\n      <td>RCC Bridge</td>\n      <td>LRP010b</td>\n      <td>.</td>\n      <td>46.12</td>\n      <td>A</td>\n      <td>107658</td>\n      <td>Noapara (Katakhali)-Fakirhat-Mollahat Road</td>\n      <td>10.25</td>\n      <td>100.0</td>\n      <td>2004.0</td>\n      <td>3.0</td>\n      <td>Khulna</td>\n      <td>Khulna</td>\n      <td>Bagerhat</td>\n      <td>Bagerhat-2</td>\n      <td>22.773778</td>\n      <td>89.719833</td>\n      <td>bcs1</td>\n    </tr>\n    <tr>\n      <th>13970</th>\n      <td>Z7456</td>\n      <td>4.647</td>\n      <td>Box Culvert</td>\n      <td>LRP005b</td>\n      <td>.</td>\n      <td>1.38</td>\n      <td>A</td>\n      <td>107543</td>\n      <td>Bamundi-Hatboalia-Alamdanga Road</td>\n      <td>4.647</td>\n      <td>702.0</td>\n      <td>1989.0</td>\n      <td>1.0</td>\n      <td>Khulna</td>\n      <td>Jessore</td>\n      <td>Kushtia</td>\n      <td>Kushtia</td>\n      <td>23.856944</td>\n      <td>88.834167</td>\n      <td>bcs1</td>\n    </tr>\n  </tbody>\n</table>\n</div>"
     },
     "execution_count": 9,
     "metadata": {},
     "output_type": "execute_result"
    }
   ],
   "source": [
    "df_bridges[df_bridges['width'] > 45]"
   ],
   "metadata": {
    "collapsed": false,
    "ExecuteTime": {
     "end_time": "2024-02-21T10:50:18.890540500Z",
     "start_time": "2024-02-21T10:50:18.795734800Z"
    }
   },
   "id": "dce635ff80518d86",
   "execution_count": 9
  },
  {
   "cell_type": "code",
   "outputs": [
    {
     "data": {
      "text/plain": "        road      km                   type  LRPName  \\\n9         N1  12.660       PC Girder Bridge  LRP013a   \n10        N1  12.660       PC Girder Bridge  LRP013a   \n15        N1  18.093       PC Girder Bridge  LRP018c   \n17        N1  21.184       PC Girder Bridge  LRP021c   \n18        N1  21.184       PC Girder Bridge  LRP021d   \n...      ...     ...                    ...      ...   \n21309  Z7718  38.930      RCC Girder Bridge  LRP038a   \n21320  Z8004   5.622  Baily with Steel Deck  LRP006a   \n21344  Z8034  12.418  Baily with Steel Deck  LRP011a   \n21362  Z8203   1.192  Baily with Steel Deck  LRP001a   \n21396  Z8708  75.398  Truss with Steel Deck  LRP074a   \n\n                           name  length condition  structureNr  \\\n9                 MADAN PUR (R)   26.30         A       109841   \n10           MADANPUR BRIDGE(L)   26.30         A       109838   \n15           Sonakhal Bridge(L)   25.50         A       119933   \n17          Marikhali Bridge(L)   86.92         A       119944   \n18          Marikhali Bridge(R)   89.75         A       119948   \n...                         ...     ...       ...          ...   \n21309          Mithakali bridge   19.90         D       119191   \n21320              Koola Bridge   15.20         D       120252   \n21344           Padarhat bridge   33.43         D       119178   \n21362      Hasara Bridge (East)   24.00         D       120345   \n21396  Patharghata Steel Bridge   68.93         D       119048   \n\n                                                roadName chainage  width  \\\n9      Dhaka (Jatrabari)-Comilla (Mainamati)-Chittago...    12.66    9.2   \n10     Dhaka (Jatrabari)-Comilla (Mainamati)-Chittago...    12.66    9.2   \n15     Dhaka (Jatrabari)-Comilla (Mainamati)-Chittago...   18.093    NaN   \n17     Dhaka (Jatrabari)-Comilla (Mainamati)-Chittago...   21.184    NaN   \n18     Dhaka (Jatrabari)-Comilla (Mainamati)-Chittago...   21.184    NaN   \n...                                                  ...      ...    ...   \n21309      Kachua (Pingoria)-Talighati-Herma-Rampal Road    38.93    NaN   \n21320  Munshiganj (Hatimara)-Kunderbazr-Srinagar (San...    5.622    NaN   \n21344              Rahamatpur-Babuganj-Muladi-Hizla Road   12.418    NaN   \n21362  Keraniganj (Sayedpur)-Hashara-Birtara-Singpara...    1.192    NaN   \n21396       Rajapur-Kathalia-Amua-Bamna-Patharghata Road   75.398    NaN   \n\n       constructionYear  spans     zone      circle     division sub-division  \\\n9                2003.0    1.0    Dhaka       Dhaka  Narayanganj    Vitikandi   \n10               2003.0    1.0    Dhaka       Dhaka  Narayanganj    Vitikandi   \n15                  NaN    NaN    Dhaka       Dhaka  Narayanganj    Vitikandi   \n17                  NaN    NaN    Dhaka       Dhaka  Narayanganj    Vitikandi   \n18                  NaN    NaN    Dhaka       Dhaka  Narayanganj    Vitikandi   \n...                 ...    ...      ...         ...          ...          ...   \n21309               NaN    NaN   Khulna      Khulna     Bagerhat   Bagerhat-2   \n21320               NaN    NaN    Dhaka       Dhaka   Munshiganj    Sreenagar   \n21344               NaN    NaN  Barisal     Barisal      Barisal    Barisal-1   \n21362               NaN    NaN    Dhaka       Dhaka   Munshiganj   Keraniganj   \n21396               NaN    NaN  Barisal  Patuakhali      Barguna      Barguna   \n\n             lat        lon      EstimatedLoc  \n9      23.691111  90.544889              bcs1  \n10     23.691111  90.544889              bcs1  \n15     23.649754  90.584549  road_interpolate  \n17     23.628467  90.602302  road_interpolate  \n18     23.628467  90.602302  road_interpolate  \n...          ...        ...               ...  \n21309   0.000000   0.000000  road_interpolate  \n21320  23.550417  90.429388      road_precise  \n21344  22.837777  90.376388     road_chainage  \n21362   0.000000   0.000000  road_interpolate  \n21396        NaN        NaN             error  \n\n[463 rows x 20 columns]",
      "text/html": "<div>\n<style scoped>\n    .dataframe tbody tr th:only-of-type {\n        vertical-align: middle;\n    }\n\n    .dataframe tbody tr th {\n        vertical-align: top;\n    }\n\n    .dataframe thead th {\n        text-align: right;\n    }\n</style>\n<table border=\"1\" class=\"dataframe\">\n  <thead>\n    <tr style=\"text-align: right;\">\n      <th></th>\n      <th>road</th>\n      <th>km</th>\n      <th>type</th>\n      <th>LRPName</th>\n      <th>name</th>\n      <th>length</th>\n      <th>condition</th>\n      <th>structureNr</th>\n      <th>roadName</th>\n      <th>chainage</th>\n      <th>width</th>\n      <th>constructionYear</th>\n      <th>spans</th>\n      <th>zone</th>\n      <th>circle</th>\n      <th>division</th>\n      <th>sub-division</th>\n      <th>lat</th>\n      <th>lon</th>\n      <th>EstimatedLoc</th>\n    </tr>\n  </thead>\n  <tbody>\n    <tr>\n      <th>9</th>\n      <td>N1</td>\n      <td>12.660</td>\n      <td>PC Girder Bridge</td>\n      <td>LRP013a</td>\n      <td>MADAN PUR (R)</td>\n      <td>26.30</td>\n      <td>A</td>\n      <td>109841</td>\n      <td>Dhaka (Jatrabari)-Comilla (Mainamati)-Chittago...</td>\n      <td>12.66</td>\n      <td>9.2</td>\n      <td>2003.0</td>\n      <td>1.0</td>\n      <td>Dhaka</td>\n      <td>Dhaka</td>\n      <td>Narayanganj</td>\n      <td>Vitikandi</td>\n      <td>23.691111</td>\n      <td>90.544889</td>\n      <td>bcs1</td>\n    </tr>\n    <tr>\n      <th>10</th>\n      <td>N1</td>\n      <td>12.660</td>\n      <td>PC Girder Bridge</td>\n      <td>LRP013a</td>\n      <td>MADANPUR BRIDGE(L)</td>\n      <td>26.30</td>\n      <td>A</td>\n      <td>109838</td>\n      <td>Dhaka (Jatrabari)-Comilla (Mainamati)-Chittago...</td>\n      <td>12.66</td>\n      <td>9.2</td>\n      <td>2003.0</td>\n      <td>1.0</td>\n      <td>Dhaka</td>\n      <td>Dhaka</td>\n      <td>Narayanganj</td>\n      <td>Vitikandi</td>\n      <td>23.691111</td>\n      <td>90.544889</td>\n      <td>bcs1</td>\n    </tr>\n    <tr>\n      <th>15</th>\n      <td>N1</td>\n      <td>18.093</td>\n      <td>PC Girder Bridge</td>\n      <td>LRP018c</td>\n      <td>Sonakhal Bridge(L)</td>\n      <td>25.50</td>\n      <td>A</td>\n      <td>119933</td>\n      <td>Dhaka (Jatrabari)-Comilla (Mainamati)-Chittago...</td>\n      <td>18.093</td>\n      <td>NaN</td>\n      <td>NaN</td>\n      <td>NaN</td>\n      <td>Dhaka</td>\n      <td>Dhaka</td>\n      <td>Narayanganj</td>\n      <td>Vitikandi</td>\n      <td>23.649754</td>\n      <td>90.584549</td>\n      <td>road_interpolate</td>\n    </tr>\n    <tr>\n      <th>17</th>\n      <td>N1</td>\n      <td>21.184</td>\n      <td>PC Girder Bridge</td>\n      <td>LRP021c</td>\n      <td>Marikhali Bridge(L)</td>\n      <td>86.92</td>\n      <td>A</td>\n      <td>119944</td>\n      <td>Dhaka (Jatrabari)-Comilla (Mainamati)-Chittago...</td>\n      <td>21.184</td>\n      <td>NaN</td>\n      <td>NaN</td>\n      <td>NaN</td>\n      <td>Dhaka</td>\n      <td>Dhaka</td>\n      <td>Narayanganj</td>\n      <td>Vitikandi</td>\n      <td>23.628467</td>\n      <td>90.602302</td>\n      <td>road_interpolate</td>\n    </tr>\n    <tr>\n      <th>18</th>\n      <td>N1</td>\n      <td>21.184</td>\n      <td>PC Girder Bridge</td>\n      <td>LRP021d</td>\n      <td>Marikhali Bridge(R)</td>\n      <td>89.75</td>\n      <td>A</td>\n      <td>119948</td>\n      <td>Dhaka (Jatrabari)-Comilla (Mainamati)-Chittago...</td>\n      <td>21.184</td>\n      <td>NaN</td>\n      <td>NaN</td>\n      <td>NaN</td>\n      <td>Dhaka</td>\n      <td>Dhaka</td>\n      <td>Narayanganj</td>\n      <td>Vitikandi</td>\n      <td>23.628467</td>\n      <td>90.602302</td>\n      <td>road_interpolate</td>\n    </tr>\n    <tr>\n      <th>...</th>\n      <td>...</td>\n      <td>...</td>\n      <td>...</td>\n      <td>...</td>\n      <td>...</td>\n      <td>...</td>\n      <td>...</td>\n      <td>...</td>\n      <td>...</td>\n      <td>...</td>\n      <td>...</td>\n      <td>...</td>\n      <td>...</td>\n      <td>...</td>\n      <td>...</td>\n      <td>...</td>\n      <td>...</td>\n      <td>...</td>\n      <td>...</td>\n      <td>...</td>\n    </tr>\n    <tr>\n      <th>21309</th>\n      <td>Z7718</td>\n      <td>38.930</td>\n      <td>RCC Girder Bridge</td>\n      <td>LRP038a</td>\n      <td>Mithakali bridge</td>\n      <td>19.90</td>\n      <td>D</td>\n      <td>119191</td>\n      <td>Kachua (Pingoria)-Talighati-Herma-Rampal Road</td>\n      <td>38.93</td>\n      <td>NaN</td>\n      <td>NaN</td>\n      <td>NaN</td>\n      <td>Khulna</td>\n      <td>Khulna</td>\n      <td>Bagerhat</td>\n      <td>Bagerhat-2</td>\n      <td>0.000000</td>\n      <td>0.000000</td>\n      <td>road_interpolate</td>\n    </tr>\n    <tr>\n      <th>21320</th>\n      <td>Z8004</td>\n      <td>5.622</td>\n      <td>Baily with Steel Deck</td>\n      <td>LRP006a</td>\n      <td>Koola Bridge</td>\n      <td>15.20</td>\n      <td>D</td>\n      <td>120252</td>\n      <td>Munshiganj (Hatimara)-Kunderbazr-Srinagar (San...</td>\n      <td>5.622</td>\n      <td>NaN</td>\n      <td>NaN</td>\n      <td>NaN</td>\n      <td>Dhaka</td>\n      <td>Dhaka</td>\n      <td>Munshiganj</td>\n      <td>Sreenagar</td>\n      <td>23.550417</td>\n      <td>90.429388</td>\n      <td>road_precise</td>\n    </tr>\n    <tr>\n      <th>21344</th>\n      <td>Z8034</td>\n      <td>12.418</td>\n      <td>Baily with Steel Deck</td>\n      <td>LRP011a</td>\n      <td>Padarhat bridge</td>\n      <td>33.43</td>\n      <td>D</td>\n      <td>119178</td>\n      <td>Rahamatpur-Babuganj-Muladi-Hizla Road</td>\n      <td>12.418</td>\n      <td>NaN</td>\n      <td>NaN</td>\n      <td>NaN</td>\n      <td>Barisal</td>\n      <td>Barisal</td>\n      <td>Barisal</td>\n      <td>Barisal-1</td>\n      <td>22.837777</td>\n      <td>90.376388</td>\n      <td>road_chainage</td>\n    </tr>\n    <tr>\n      <th>21362</th>\n      <td>Z8203</td>\n      <td>1.192</td>\n      <td>Baily with Steel Deck</td>\n      <td>LRP001a</td>\n      <td>Hasara Bridge (East)</td>\n      <td>24.00</td>\n      <td>D</td>\n      <td>120345</td>\n      <td>Keraniganj (Sayedpur)-Hashara-Birtara-Singpara...</td>\n      <td>1.192</td>\n      <td>NaN</td>\n      <td>NaN</td>\n      <td>NaN</td>\n      <td>Dhaka</td>\n      <td>Dhaka</td>\n      <td>Munshiganj</td>\n      <td>Keraniganj</td>\n      <td>0.000000</td>\n      <td>0.000000</td>\n      <td>road_interpolate</td>\n    </tr>\n    <tr>\n      <th>21396</th>\n      <td>Z8708</td>\n      <td>75.398</td>\n      <td>Truss with Steel Deck</td>\n      <td>LRP074a</td>\n      <td>Patharghata Steel Bridge</td>\n      <td>68.93</td>\n      <td>D</td>\n      <td>119048</td>\n      <td>Rajapur-Kathalia-Amua-Bamna-Patharghata Road</td>\n      <td>75.398</td>\n      <td>NaN</td>\n      <td>NaN</td>\n      <td>NaN</td>\n      <td>Barisal</td>\n      <td>Patuakhali</td>\n      <td>Barguna</td>\n      <td>Barguna</td>\n      <td>NaN</td>\n      <td>NaN</td>\n      <td>error</td>\n    </tr>\n  </tbody>\n</table>\n<p>463 rows × 20 columns</p>\n</div>"
     },
     "execution_count": 10,
     "metadata": {},
     "output_type": "execute_result"
    }
   ],
   "source": [
    "# Show all duplicated rows based on 'lon' and 'lat' columns, including all occurrences\n",
    "duplicated_rows_lon_lat = df_bridges[df_bridges.duplicated(subset=['lon', 'lat'], keep=False)]\n",
    "\n",
    "# Display the duplicated rows\n",
    "duplicated_rows_lon_lat"
   ],
   "metadata": {
    "collapsed": false,
    "ExecuteTime": {
     "end_time": "2024-02-21T10:50:19.055949Z",
     "start_time": "2024-02-21T10:50:18.887026600Z"
    }
   },
   "id": "4eb3bb5905af601",
   "execution_count": 10
  },
  {
   "cell_type": "code",
   "outputs": [
    {
     "ename": "KeyboardInterrupt",
     "evalue": "",
     "output_type": "error",
     "traceback": [
      "\u001B[1;31m---------------------------------------------------------------------------\u001B[0m",
      "\u001B[1;31mKeyboardInterrupt\u001B[0m                         Traceback (most recent call last)",
      "Cell \u001B[1;32mIn[11], line 1\u001B[0m\n\u001B[1;32m----> 1\u001B[0m bmms_1, roads_1_tsv, df_boeie, roads_1 \u001B[38;5;241m=\u001B[39m \u001B[43mFunctions\u001B[49m\u001B[38;5;241;43m.\u001B[39;49m\u001B[43mclean\u001B[49m\u001B[43m(\u001B[49m\u001B[38;5;124;43m'\u001B[39;49m\u001B[38;5;124;43mBMMS_overview.xlsx\u001B[39;49m\u001B[38;5;124;43m'\u001B[39;49m\u001B[43m,\u001B[49m\u001B[38;5;124;43m'\u001B[39;49m\u001B[38;5;124;43m_roads.tsv\u001B[39;49m\u001B[38;5;124;43m'\u001B[39;49m\u001B[43m)\u001B[49m\n",
      "File \u001B[1;32m~\\OneDrive\\General Documents\\Documents\\GitHub\\advanced_simulation\\Functions.py:166\u001B[0m, in \u001B[0;36mclean\u001B[1;34m(bmms_file_excel, roads_tsv_file)\u001B[0m\n\u001B[0;32m    164\u001B[0m bmms \u001B[38;5;241m=\u001B[39m pd\u001B[38;5;241m.\u001B[39mread_excel(bmms_file_excel)\n\u001B[0;32m    165\u001B[0m df_rds \u001B[38;5;241m=\u001B[39m pd\u001B[38;5;241m.\u001B[39mread_csv(roads_tsv_file, delimiter\u001B[38;5;241m=\u001B[39m\u001B[38;5;124m'\u001B[39m\u001B[38;5;130;01m\\t\u001B[39;00m\u001B[38;5;124m'\u001B[39m, low_memory\u001B[38;5;241m=\u001B[39m\u001B[38;5;28;01mFalse\u001B[39;00m)\n\u001B[1;32m--> 166\u001B[0m df_rds \u001B[38;5;241m=\u001B[39m \u001B[43mlon_lat_errors_tsv\u001B[49m\u001B[43m(\u001B[49m\u001B[43mdf_rds\u001B[49m\u001B[43m)\u001B[49m\n\u001B[0;32m    167\u001B[0m df_rds_restructured \u001B[38;5;241m=\u001B[39m restructure_df(df_rds)\n\u001B[0;32m    168\u001B[0m df_road_ranges \u001B[38;5;241m=\u001B[39m road_range_lon_lat(df_rds_restructured)\n",
      "File \u001B[1;32m~\\OneDrive\\General Documents\\Documents\\GitHub\\advanced_simulation\\Functions.py:106\u001B[0m, in \u001B[0;36mlon_lat_errors_tsv\u001B[1;34m(df)\u001B[0m\n\u001B[0;32m    104\u001B[0m                     df\u001B[38;5;241m.\u001B[39mloc[index, col] \u001B[38;5;241m=\u001B[39m prev_lon\n\u001B[0;32m    105\u001B[0m                     index_changes\u001B[38;5;241m.\u001B[39mappend((index, i, row[col], prev_lon))\n\u001B[1;32m--> 106\u001B[0m             prev_lon \u001B[38;5;241m=\u001B[39m \u001B[43mdf\u001B[49m\u001B[38;5;241;43m.\u001B[39;49m\u001B[43mloc\u001B[49m\u001B[43m[\u001B[49m\u001B[43mindex\u001B[49m\u001B[43m,\u001B[49m\u001B[43m \u001B[49m\u001B[43mcol\u001B[49m\u001B[43m]\u001B[49m\n\u001B[0;32m    107\u001B[0m \u001B[38;5;66;03m# print(index_changes)\u001B[39;00m\n\u001B[0;32m    108\u001B[0m \u001B[38;5;28;01mreturn\u001B[39;00m df\n",
      "File \u001B[1;32m~\\miniconda3\\lib\\site-packages\\pandas\\core\\indexing.py:1184\u001B[0m, in \u001B[0;36m_LocationIndexer.__getitem__\u001B[1;34m(self, key)\u001B[0m\n\u001B[0;32m   1182\u001B[0m     key \u001B[38;5;241m=\u001B[39m \u001B[38;5;28mtuple\u001B[39m(com\u001B[38;5;241m.\u001B[39mapply_if_callable(x, \u001B[38;5;28mself\u001B[39m\u001B[38;5;241m.\u001B[39mobj) \u001B[38;5;28;01mfor\u001B[39;00m x \u001B[38;5;129;01min\u001B[39;00m key)\n\u001B[0;32m   1183\u001B[0m     \u001B[38;5;28;01mif\u001B[39;00m \u001B[38;5;28mself\u001B[39m\u001B[38;5;241m.\u001B[39m_is_scalar_access(key):\n\u001B[1;32m-> 1184\u001B[0m         \u001B[38;5;28;01mreturn\u001B[39;00m \u001B[38;5;28;43mself\u001B[39;49m\u001B[38;5;241;43m.\u001B[39;49m\u001B[43mobj\u001B[49m\u001B[38;5;241;43m.\u001B[39;49m\u001B[43m_get_value\u001B[49m\u001B[43m(\u001B[49m\u001B[38;5;241;43m*\u001B[39;49m\u001B[43mkey\u001B[49m\u001B[43m,\u001B[49m\u001B[43m \u001B[49m\u001B[43mtakeable\u001B[49m\u001B[38;5;241;43m=\u001B[39;49m\u001B[38;5;28;43mself\u001B[39;49m\u001B[38;5;241;43m.\u001B[39;49m\u001B[43m_takeable\u001B[49m\u001B[43m)\u001B[49m\n\u001B[0;32m   1185\u001B[0m     \u001B[38;5;28;01mreturn\u001B[39;00m \u001B[38;5;28mself\u001B[39m\u001B[38;5;241m.\u001B[39m_getitem_tuple(key)\n\u001B[0;32m   1186\u001B[0m \u001B[38;5;28;01melse\u001B[39;00m:\n\u001B[0;32m   1187\u001B[0m     \u001B[38;5;66;03m# we by definition only have the 0th axis\u001B[39;00m\n",
      "File \u001B[1;32m~\\miniconda3\\lib\\site-packages\\pandas\\core\\frame.py:4209\u001B[0m, in \u001B[0;36mDataFrame._get_value\u001B[1;34m(self, index, col, takeable)\u001B[0m\n\u001B[0;32m   4203\u001B[0m engine \u001B[38;5;241m=\u001B[39m \u001B[38;5;28mself\u001B[39m\u001B[38;5;241m.\u001B[39mindex\u001B[38;5;241m.\u001B[39m_engine\n\u001B[0;32m   4205\u001B[0m \u001B[38;5;28;01mif\u001B[39;00m \u001B[38;5;129;01mnot\u001B[39;00m \u001B[38;5;28misinstance\u001B[39m(\u001B[38;5;28mself\u001B[39m\u001B[38;5;241m.\u001B[39mindex, MultiIndex):\n\u001B[0;32m   4206\u001B[0m     \u001B[38;5;66;03m# CategoricalIndex: Trying to use the engine fastpath may give incorrect\u001B[39;00m\n\u001B[0;32m   4207\u001B[0m     \u001B[38;5;66;03m#  results if our categories are integers that dont match our codes\u001B[39;00m\n\u001B[0;32m   4208\u001B[0m     \u001B[38;5;66;03m# IntervalIndex: IntervalTree has no get_loc\u001B[39;00m\n\u001B[1;32m-> 4209\u001B[0m     row \u001B[38;5;241m=\u001B[39m \u001B[38;5;28;43mself\u001B[39;49m\u001B[38;5;241;43m.\u001B[39;49m\u001B[43mindex\u001B[49m\u001B[38;5;241;43m.\u001B[39;49m\u001B[43mget_loc\u001B[49m\u001B[43m(\u001B[49m\u001B[43mindex\u001B[49m\u001B[43m)\u001B[49m\n\u001B[0;32m   4210\u001B[0m     \u001B[38;5;28;01mreturn\u001B[39;00m series\u001B[38;5;241m.\u001B[39m_values[row]\n\u001B[0;32m   4212\u001B[0m \u001B[38;5;66;03m# For MultiIndex going through engine effectively restricts us to\u001B[39;00m\n\u001B[0;32m   4213\u001B[0m \u001B[38;5;66;03m#  same-length tuples; see test_get_set_value_no_partial_indexing\u001B[39;00m\n",
      "File \u001B[1;32m~\\miniconda3\\lib\\site-packages\\pandas\\core\\indexes\\range.py:408\u001B[0m, in \u001B[0;36mRangeIndex.get_loc\u001B[1;34m(self, key)\u001B[0m\n\u001B[0;32m    403\u001B[0m     \u001B[38;5;28;01mreturn\u001B[39;00m \u001B[38;5;124m\"\u001B[39m\u001B[38;5;124minteger\u001B[39m\u001B[38;5;124m\"\u001B[39m\n\u001B[0;32m    405\u001B[0m \u001B[38;5;66;03m# --------------------------------------------------------------------\u001B[39;00m\n\u001B[0;32m    406\u001B[0m \u001B[38;5;66;03m# Indexing Methods\u001B[39;00m\n\u001B[1;32m--> 408\u001B[0m \u001B[38;5;129m@doc\u001B[39m(Index\u001B[38;5;241m.\u001B[39mget_loc)\n\u001B[0;32m    409\u001B[0m \u001B[38;5;28;01mdef\u001B[39;00m \u001B[38;5;21mget_loc\u001B[39m(\u001B[38;5;28mself\u001B[39m, key) \u001B[38;5;241m-\u001B[39m\u001B[38;5;241m>\u001B[39m \u001B[38;5;28mint\u001B[39m:\n\u001B[0;32m    410\u001B[0m     \u001B[38;5;28;01mif\u001B[39;00m is_integer(key) \u001B[38;5;129;01mor\u001B[39;00m (is_float(key) \u001B[38;5;129;01mand\u001B[39;00m key\u001B[38;5;241m.\u001B[39mis_integer()):\n\u001B[0;32m    411\u001B[0m         new_key \u001B[38;5;241m=\u001B[39m \u001B[38;5;28mint\u001B[39m(key)\n",
      "\u001B[1;31mKeyboardInterrupt\u001B[0m: "
     ]
    }
   ],
   "source": [
    "bmms_1, roads_1_tsv, df_boeie, roads_1 = Functions.clean('BMMS_overview.xlsx','_roads.tsv')"
   ],
   "metadata": {
    "collapsed": false,
    "ExecuteTime": {
     "end_time": "2024-02-21T10:50:40.713705300Z",
     "start_time": "2024-02-21T10:50:18.962864200Z"
    }
   },
   "id": "764d58ba3d47752b",
   "execution_count": 11
  },
  {
   "cell_type": "code",
   "outputs": [],
   "source": [
    "#load tsv file\n",
    "df_rds = pd.read_csv('_roads.tsv', delimiter='\\t', low_memory=False)\n",
    "df_rds = Functions.restructure_df(df_rds)"
   ],
   "metadata": {
    "collapsed": false,
    "ExecuteTime": {
     "start_time": "2024-02-21T10:50:40.710530600Z"
    }
   },
   "id": "d1728e34b03fe041",
   "execution_count": null
  },
  {
   "cell_type": "code",
   "outputs": [],
   "source": [
    "N1 = df_rds[df_rds['road'] == 'N1']\n",
    "plt.scatter(N1['lon'], N1['lat'])\n",
    "plt.title('N1 before restructuring')\n",
    "plt.show()"
   ],
   "metadata": {
    "collapsed": false,
    "ExecuteTime": {
     "end_time": "2024-02-21T10:50:40.780306900Z",
     "start_time": "2024-02-21T10:50:40.716853900Z"
    }
   },
   "id": "11673815050e55d2",
   "execution_count": null
  },
  {
   "cell_type": "code",
   "outputs": [],
   "source": [
    "#plot the N1 by longitude and latitude\n",
    "N1_clean = roads_1[roads_1['road'] == 'N1']\n",
    "plt.scatter(N1_clean['lon'], N1_clean['lat'])\n",
    "plt.title('N1 after restructuring')\n",
    "plt.show()"
   ],
   "metadata": {
    "collapsed": false,
    "ExecuteTime": {
     "start_time": "2024-02-21T10:50:40.721106400Z"
    }
   },
   "id": "3060d82710976a6e",
   "execution_count": null
  },
  {
   "cell_type": "code",
   "outputs": [],
   "source": [
    "N2 = df_rds[df_rds['road'] == 'N2']\n",
    "plt.scatter(N2['lon'], N2['lat'])\n",
    "plt.title('N2 before restructuring')\n",
    "plt.show()"
   ],
   "metadata": {
    "collapsed": false,
    "ExecuteTime": {
     "start_time": "2024-02-21T10:50:40.728587800Z"
    }
   },
   "id": "5c1165beefb8ad17",
   "execution_count": null
  },
  {
   "cell_type": "code",
   "outputs": [],
   "source": [
    "#plot the N1 by longitude and latitude\n",
    "N2_clean = roads_1[roads_1['road'] == 'N2']\n",
    "plt.scatter(N2_clean['lon'], N2_clean['lat'])\n",
    "plt.title('N2 after restructuring')\n",
    "plt.show()"
   ],
   "metadata": {
    "collapsed": false,
    "ExecuteTime": {
     "start_time": "2024-02-21T10:50:40.733925700Z"
    }
   },
   "id": "467a8a2e07f45f57",
   "execution_count": null
  },
  {
   "cell_type": "code",
   "outputs": [],
   "source": [
    "bmms_1"
   ],
   "metadata": {
    "collapsed": false,
    "ExecuteTime": {
     "start_time": "2024-02-21T10:50:40.739140300Z"
    }
   },
   "id": "7742e2de189494d4",
   "execution_count": null
  },
  {
   "cell_type": "code",
   "outputs": [],
   "source": [
    "bmms_raw = pd.read_excel('BMMS_overview.xlsx')"
   ],
   "metadata": {
    "collapsed": false,
    "ExecuteTime": {
     "end_time": "2024-02-21T10:50:54.303741900Z",
     "start_time": "2024-02-21T10:50:44.208715600Z"
    }
   },
   "id": "b606daddf06cdb30",
   "execution_count": 12
  },
  {
   "cell_type": "code",
   "outputs": [
    {
     "data": {
      "text/plain": "        road      km                   type  LRPName  \\\n4520    R750     NaN      RCC Girder Bridge  LRP006b   \n4900    R856   9.578       PC Girder Bridge  LRP009e   \n4901    R856  10.250             RCC Bridge  LRP010b   \n4904    R856  13.332       PC Girder Bridge  LRP013a   \n4906    R856  13.842       PC Girder Bridge  LRP013d   \n...      ...     ...                    ...      ...   \n20749  Z1090   2.650      RCC Girder Bridge  LRP002a   \n20832  Z1602  39.066  Truss with Steel Deck  LRP039a   \n21106  Z5073  15.113      RCC Girder Bridge  LRP015a   \n21130  Z5452  26.814  Baily with Steel Deck  LRP027b   \n21396  Z8708  75.398  Truss with Steel Deck  LRP074a   \n\n                            name  length condition  structureNr  \\\n4520              Daitala Bridge   41.50         A       118833   \n4900                         NaN   10.00         A       118961   \n4901                         NaN   46.12         A       118963   \n4904                         NaN   10.00         A       118983   \n4906                         NaN   30.02         A       118986   \n...                          ...     ...       ...          ...   \n20749        Bhairobertek Bridge    7.10         D       120115   \n20832       Jowtho Khamar Bridge   31.90         D       121642   \n21106                        NaN   39.05         D       119689   \n21130  Badalgachhi Bailey Bridge   74.50         D       118786   \n21396   Patharghata Steel Bridge   68.93         D       119048   \n\n                                                roadName chainage  width  \\\n4520                                 Jessore-Narail Road             NaN   \n4900          Noapara (Katakhali)-Fakirhat-Mollahat Road    9.578    NaN   \n4901          Noapara (Katakhali)-Fakirhat-Mollahat Road    10.25    NaN   \n4904          Noapara (Katakhali)-Fakirhat-Mollahat Road   13.332    NaN   \n4906          Noapara (Katakhali)-Fakirhat-Mollahat Road   13.842    NaN   \n...                                                  ...      ...    ...   \n20749  Majerchar-Mahajampur-Barapa-Rupashi-Majina-Kay...     2.65    NaN   \n20832    Ramgarh-Jaliapara-Sindukchhari-Mahalchhari Road   39.066    NaN   \n21106               Prothomachew-Pirgachha-Matidali Road   15.113    NaN   \n21130                Joypurhat-Akkelpur-Badalgachhi-Road   26.814    NaN   \n21396       Rajapur-Kathalia-Amua-Bamna-Patharghata Road   75.398    NaN   \n\n       constructionYear  spans        zone       circle     division  \\\n4520                NaN    NaN      Khulna      Jessore      Jessore   \n4900                NaN    NaN      Khulna       Khulna     Bagerhat   \n4901                NaN    NaN      Khulna       Khulna     Bagerhat   \n4904                NaN    NaN      Khulna       Khulna     Bagerhat   \n4906                NaN    NaN      Khulna       Khulna     Bagerhat   \n...                 ...    ...         ...          ...          ...   \n20749               NaN    NaN       Dhaka        Dhaka  Narayanganj   \n20832               NaN    NaN  Chittagong  Khagrachari  Khagrachari   \n21106               NaN    NaN     Rangpur        Bogra        Bogra   \n21130               NaN    NaN    Rajshahi     Rajshahi      Naogaon   \n21396               NaN    NaN     Barisal   Patuakhali      Barguna   \n\n        sub-division  lat  lon EstimatedLoc  \n4520       Jessore-2  NaN  NaN         bcs1  \n4900      Bagerhat-2  NaN  NaN         bcs1  \n4901      Bagerhat-2  NaN  NaN         bcs1  \n4904      Bagerhat-2  NaN  NaN         bcs1  \n4906      Bagerhat-2  NaN  NaN         bcs1  \n...              ...  ...  ...          ...  \n20749  Narayanganj-1  NaN  NaN         bcs1  \n20832        Ramghar  NaN  NaN        error  \n21106          Bogra  NaN  NaN         bcs1  \n21130        Naogaon  NaN  NaN        error  \n21396        Barguna  NaN  NaN        error  \n\n[94 rows x 20 columns]",
      "text/html": "<div>\n<style scoped>\n    .dataframe tbody tr th:only-of-type {\n        vertical-align: middle;\n    }\n\n    .dataframe tbody tr th {\n        vertical-align: top;\n    }\n\n    .dataframe thead th {\n        text-align: right;\n    }\n</style>\n<table border=\"1\" class=\"dataframe\">\n  <thead>\n    <tr style=\"text-align: right;\">\n      <th></th>\n      <th>road</th>\n      <th>km</th>\n      <th>type</th>\n      <th>LRPName</th>\n      <th>name</th>\n      <th>length</th>\n      <th>condition</th>\n      <th>structureNr</th>\n      <th>roadName</th>\n      <th>chainage</th>\n      <th>width</th>\n      <th>constructionYear</th>\n      <th>spans</th>\n      <th>zone</th>\n      <th>circle</th>\n      <th>division</th>\n      <th>sub-division</th>\n      <th>lat</th>\n      <th>lon</th>\n      <th>EstimatedLoc</th>\n    </tr>\n  </thead>\n  <tbody>\n    <tr>\n      <th>4520</th>\n      <td>R750</td>\n      <td>NaN</td>\n      <td>RCC Girder Bridge</td>\n      <td>LRP006b</td>\n      <td>Daitala Bridge</td>\n      <td>41.50</td>\n      <td>A</td>\n      <td>118833</td>\n      <td>Jessore-Narail Road</td>\n      <td></td>\n      <td>NaN</td>\n      <td>NaN</td>\n      <td>NaN</td>\n      <td>Khulna</td>\n      <td>Jessore</td>\n      <td>Jessore</td>\n      <td>Jessore-2</td>\n      <td>NaN</td>\n      <td>NaN</td>\n      <td>bcs1</td>\n    </tr>\n    <tr>\n      <th>4900</th>\n      <td>R856</td>\n      <td>9.578</td>\n      <td>PC Girder Bridge</td>\n      <td>LRP009e</td>\n      <td>NaN</td>\n      <td>10.00</td>\n      <td>A</td>\n      <td>118961</td>\n      <td>Noapara (Katakhali)-Fakirhat-Mollahat Road</td>\n      <td>9.578</td>\n      <td>NaN</td>\n      <td>NaN</td>\n      <td>NaN</td>\n      <td>Khulna</td>\n      <td>Khulna</td>\n      <td>Bagerhat</td>\n      <td>Bagerhat-2</td>\n      <td>NaN</td>\n      <td>NaN</td>\n      <td>bcs1</td>\n    </tr>\n    <tr>\n      <th>4901</th>\n      <td>R856</td>\n      <td>10.250</td>\n      <td>RCC Bridge</td>\n      <td>LRP010b</td>\n      <td>NaN</td>\n      <td>46.12</td>\n      <td>A</td>\n      <td>118963</td>\n      <td>Noapara (Katakhali)-Fakirhat-Mollahat Road</td>\n      <td>10.25</td>\n      <td>NaN</td>\n      <td>NaN</td>\n      <td>NaN</td>\n      <td>Khulna</td>\n      <td>Khulna</td>\n      <td>Bagerhat</td>\n      <td>Bagerhat-2</td>\n      <td>NaN</td>\n      <td>NaN</td>\n      <td>bcs1</td>\n    </tr>\n    <tr>\n      <th>4904</th>\n      <td>R856</td>\n      <td>13.332</td>\n      <td>PC Girder Bridge</td>\n      <td>LRP013a</td>\n      <td>NaN</td>\n      <td>10.00</td>\n      <td>A</td>\n      <td>118983</td>\n      <td>Noapara (Katakhali)-Fakirhat-Mollahat Road</td>\n      <td>13.332</td>\n      <td>NaN</td>\n      <td>NaN</td>\n      <td>NaN</td>\n      <td>Khulna</td>\n      <td>Khulna</td>\n      <td>Bagerhat</td>\n      <td>Bagerhat-2</td>\n      <td>NaN</td>\n      <td>NaN</td>\n      <td>bcs1</td>\n    </tr>\n    <tr>\n      <th>4906</th>\n      <td>R856</td>\n      <td>13.842</td>\n      <td>PC Girder Bridge</td>\n      <td>LRP013d</td>\n      <td>NaN</td>\n      <td>30.02</td>\n      <td>A</td>\n      <td>118986</td>\n      <td>Noapara (Katakhali)-Fakirhat-Mollahat Road</td>\n      <td>13.842</td>\n      <td>NaN</td>\n      <td>NaN</td>\n      <td>NaN</td>\n      <td>Khulna</td>\n      <td>Khulna</td>\n      <td>Bagerhat</td>\n      <td>Bagerhat-2</td>\n      <td>NaN</td>\n      <td>NaN</td>\n      <td>bcs1</td>\n    </tr>\n    <tr>\n      <th>...</th>\n      <td>...</td>\n      <td>...</td>\n      <td>...</td>\n      <td>...</td>\n      <td>...</td>\n      <td>...</td>\n      <td>...</td>\n      <td>...</td>\n      <td>...</td>\n      <td>...</td>\n      <td>...</td>\n      <td>...</td>\n      <td>...</td>\n      <td>...</td>\n      <td>...</td>\n      <td>...</td>\n      <td>...</td>\n      <td>...</td>\n      <td>...</td>\n      <td>...</td>\n    </tr>\n    <tr>\n      <th>20749</th>\n      <td>Z1090</td>\n      <td>2.650</td>\n      <td>RCC Girder Bridge</td>\n      <td>LRP002a</td>\n      <td>Bhairobertek Bridge</td>\n      <td>7.10</td>\n      <td>D</td>\n      <td>120115</td>\n      <td>Majerchar-Mahajampur-Barapa-Rupashi-Majina-Kay...</td>\n      <td>2.65</td>\n      <td>NaN</td>\n      <td>NaN</td>\n      <td>NaN</td>\n      <td>Dhaka</td>\n      <td>Dhaka</td>\n      <td>Narayanganj</td>\n      <td>Narayanganj-1</td>\n      <td>NaN</td>\n      <td>NaN</td>\n      <td>bcs1</td>\n    </tr>\n    <tr>\n      <th>20832</th>\n      <td>Z1602</td>\n      <td>39.066</td>\n      <td>Truss with Steel Deck</td>\n      <td>LRP039a</td>\n      <td>Jowtho Khamar Bridge</td>\n      <td>31.90</td>\n      <td>D</td>\n      <td>121642</td>\n      <td>Ramgarh-Jaliapara-Sindukchhari-Mahalchhari Road</td>\n      <td>39.066</td>\n      <td>NaN</td>\n      <td>NaN</td>\n      <td>NaN</td>\n      <td>Chittagong</td>\n      <td>Khagrachari</td>\n      <td>Khagrachari</td>\n      <td>Ramghar</td>\n      <td>NaN</td>\n      <td>NaN</td>\n      <td>error</td>\n    </tr>\n    <tr>\n      <th>21106</th>\n      <td>Z5073</td>\n      <td>15.113</td>\n      <td>RCC Girder Bridge</td>\n      <td>LRP015a</td>\n      <td>NaN</td>\n      <td>39.05</td>\n      <td>D</td>\n      <td>119689</td>\n      <td>Prothomachew-Pirgachha-Matidali Road</td>\n      <td>15.113</td>\n      <td>NaN</td>\n      <td>NaN</td>\n      <td>NaN</td>\n      <td>Rangpur</td>\n      <td>Bogra</td>\n      <td>Bogra</td>\n      <td>Bogra</td>\n      <td>NaN</td>\n      <td>NaN</td>\n      <td>bcs1</td>\n    </tr>\n    <tr>\n      <th>21130</th>\n      <td>Z5452</td>\n      <td>26.814</td>\n      <td>Baily with Steel Deck</td>\n      <td>LRP027b</td>\n      <td>Badalgachhi Bailey Bridge</td>\n      <td>74.50</td>\n      <td>D</td>\n      <td>118786</td>\n      <td>Joypurhat-Akkelpur-Badalgachhi-Road</td>\n      <td>26.814</td>\n      <td>NaN</td>\n      <td>NaN</td>\n      <td>NaN</td>\n      <td>Rajshahi</td>\n      <td>Rajshahi</td>\n      <td>Naogaon</td>\n      <td>Naogaon</td>\n      <td>NaN</td>\n      <td>NaN</td>\n      <td>error</td>\n    </tr>\n    <tr>\n      <th>21396</th>\n      <td>Z8708</td>\n      <td>75.398</td>\n      <td>Truss with Steel Deck</td>\n      <td>LRP074a</td>\n      <td>Patharghata Steel Bridge</td>\n      <td>68.93</td>\n      <td>D</td>\n      <td>119048</td>\n      <td>Rajapur-Kathalia-Amua-Bamna-Patharghata Road</td>\n      <td>75.398</td>\n      <td>NaN</td>\n      <td>NaN</td>\n      <td>NaN</td>\n      <td>Barisal</td>\n      <td>Patuakhali</td>\n      <td>Barguna</td>\n      <td>Barguna</td>\n      <td>NaN</td>\n      <td>NaN</td>\n      <td>error</td>\n    </tr>\n  </tbody>\n</table>\n<p>94 rows × 20 columns</p>\n</div>"
     },
     "execution_count": 21,
     "metadata": {},
     "output_type": "execute_result"
    }
   ],
   "source": [
    "bridges_nan = bmms_raw[bmms_raw['lon'].isna()]\n",
    "bridges_nan"
   ],
   "metadata": {
    "collapsed": false,
    "ExecuteTime": {
     "end_time": "2024-02-21T10:56:06.279347100Z",
     "start_time": "2024-02-21T10:56:06.203980200Z"
    }
   },
   "id": "1605ed5f2f2d413d",
   "execution_count": 21
  },
  {
   "cell_type": "code",
   "outputs": [
    {
     "name": "stderr",
     "output_type": "stream",
     "text": [
      "C:\\Users\\julia\\OneDrive\\General Documents\\Documents\\GitHub\\advanced_simulation\\Functions.py:122: FutureWarning: Series.__getitem__ treating keys as positions is deprecated. In a future version, integer keys will always be treated as labels (consistent with DataFrame behavior). To access a value by position, use `ser.iloc[pos]`\n",
      "  lsrp = row[i]\n",
      "C:\\Users\\julia\\OneDrive\\General Documents\\Documents\\GitHub\\advanced_simulation\\Functions.py:123: FutureWarning: Series.__getitem__ treating keys as positions is deprecated. In a future version, integer keys will always be treated as labels (consistent with DataFrame behavior). To access a value by position, use `ser.iloc[pos]`\n",
      "  lat = row[i + 1]\n",
      "C:\\Users\\julia\\OneDrive\\General Documents\\Documents\\GitHub\\advanced_simulation\\Functions.py:124: FutureWarning: Series.__getitem__ treating keys as positions is deprecated. In a future version, integer keys will always be treated as labels (consistent with DataFrame behavior). To access a value by position, use `ser.iloc[pos]`\n",
      "  lon = row[i + 2]\n",
      "C:\\Users\\julia\\OneDrive\\General Documents\\Documents\\GitHub\\advanced_simulation\\Functions.py:15: FutureWarning: Setting an item of incompatible dtype is deprecated and will raise an error in a future version of pandas. Value '[1076.58 1075.43]' has dtype incompatible with int64, please explicitly cast to a compatible dtype first.\n",
      "  df.loc[df['width'] > 45, df.select_dtypes(include=['number']).columns] = df.loc[df['width'] > 45,  df.select_dtypes(include=['number']).columns] / 100\n"
     ]
    }
   ],
   "source": [
    "bmms_1, roads_1_tsv, df_boeie, roads_1 = Functions.clean('BMMS_overview.xlsx','_roads.tsv')"
   ],
   "metadata": {
    "collapsed": false,
    "ExecuteTime": {
     "end_time": "2024-02-21T11:03:17.139699600Z",
     "start_time": "2024-02-21T10:57:59.066548900Z"
    }
   },
   "id": "5d8030b96c435620",
   "execution_count": 22
  },
  {
   "cell_type": "code",
   "outputs": [
    {
     "data": {
      "text/plain": "        road      km                   type  LRPName                name  \\\n1996    N208  58.496  Steel Beam & RCC Slab  LRP058b         Keen Bridge   \n5333    R203  80.287      RCC Girder Bridge  LRP082b        Godir Bridge   \n6443    R505   7.685      RCC Girder Bridge  LRP007a  Chakrabarti Bridge   \n7216    R680  29.664      RCC Girder Bridge  LRP030a     Jotgosai Bridge   \n7222    R680  33.962      RCC Girder Bridge  LRP034b        Avaya Bridge   \n...      ...     ...                    ...      ...                 ...   \n21028  Z8711   6.933  Steel Beam & RCC Slab  LRP006b       Cherhe Bridge   \n21137  Z8803  22.230      RCC Girder Bridge  LRP022a     Zopkhali bridge   \n21140  Z8803  23.860      RCC Girder Bridge  LRP023b   Puttakhalu bridge   \n21144  Z8803  28.005      RCC Girder Bridge  LRP028a      Niamoti bridge   \n21387  Z8948   2.070  Baily with Steel Deck  LRP002a                 NaN   \n\n       length condition  structureNr  \\\n1996   358.00         D     120682.0   \n5333     8.66         C     119894.0   \n6443    34.20         B     120157.0   \n7216    13.30         C     119995.0   \n7222    23.50         C     120002.0   \n...       ...       ...          ...   \n21028   43.95         C     120879.0   \n21137   95.30         C     119137.0   \n21140   36.12         A     119139.0   \n21144   60.21         A     121103.0   \n21387   27.36         A     119862.0   \n\n                                                roadName chainage  width  \\\n1996         Moulvibazar-Rajnagar-Fenchuganj-Sylhet Road   58.496    NaN   \n5333   Bhulta-Araihazar-Bancharampur-Nabinagar-Shibpu...   80.287    NaN   \n6443              Nabinagar-EPZ-Kaliakoir (Chandra) Road    7.685    NaN   \n7216                    Rajshahi-Godagari-Nawabganj Road   29.664    NaN   \n7222                    Rajshahi-Godagari-Nawabganj Road   33.962    NaN   \n...                                                  ...      ...    ...   \n21028                            Bhandaria-Banaihat Road    6.933    NaN   \n21137  Barguna (Chandukhali)-Betagi-Bakerganj(Padri S...    22.23    NaN   \n21140  Barguna (Chandukhali)-Betagi-Bakerganj(Padri S...    23.86    NaN   \n21144  Barguna (Chandukhali)-Betagi-Bakerganj(Padri S...   28.005    NaN   \n21387                           Fakirhat-Khasherhat Road     2.07    NaN   \n\n       constructionYear  spans      zone      circle      division  \\\n1996                NaN    NaN    Sylhet      Sylhet        Sylhet   \n5333                NaN    NaN   Comilla     Comilla  Brahmanbaria   \n6443                NaN    NaN     Dhaka       Dhaka     Manikganj   \n7216                NaN    NaN  Rajshahi    Rajshahi      Rajshahi   \n7222                NaN    NaN  Rajshahi    Rajshahi      Rajshahi   \n...                 ...    ...       ...         ...           ...   \n21028               NaN    NaN   Barisal     Barisal      Pirojpur   \n21137               NaN    NaN   Barisal  Patuakhali       Barguna   \n21140               NaN    NaN   Barisal  Patuakhali       Barguna   \n21144               NaN    NaN   Barisal  Patuakhali       Barguna   \n21387               NaN    NaN   Barisal     Barisal         Bhola   \n\n       sub-division  lat  lon EstimatedLoc  \n1996      Biswanath  NaN  NaN        error  \n5333   Bancharampur  NaN  NaN        error  \n6443       Nayarhat  NaN  NaN         bcs1  \n7216     Rajshahi-2  NaN  NaN         bcs1  \n7222     Rajshahi-2  NaN  NaN         bcs1  \n...             ...  ...  ...          ...  \n21028      Kawkhali  NaN  NaN         bcs1  \n21137       Barguna  NaN  NaN        error  \n21140       Barguna  NaN  NaN        error  \n21144       Barguna  NaN  NaN        error  \n21387         Bhola  NaN  NaN         bcs1  \n\n[94 rows x 20 columns]",
      "text/html": "<div>\n<style scoped>\n    .dataframe tbody tr th:only-of-type {\n        vertical-align: middle;\n    }\n\n    .dataframe tbody tr th {\n        vertical-align: top;\n    }\n\n    .dataframe thead th {\n        text-align: right;\n    }\n</style>\n<table border=\"1\" class=\"dataframe\">\n  <thead>\n    <tr style=\"text-align: right;\">\n      <th></th>\n      <th>road</th>\n      <th>km</th>\n      <th>type</th>\n      <th>LRPName</th>\n      <th>name</th>\n      <th>length</th>\n      <th>condition</th>\n      <th>structureNr</th>\n      <th>roadName</th>\n      <th>chainage</th>\n      <th>width</th>\n      <th>constructionYear</th>\n      <th>spans</th>\n      <th>zone</th>\n      <th>circle</th>\n      <th>division</th>\n      <th>sub-division</th>\n      <th>lat</th>\n      <th>lon</th>\n      <th>EstimatedLoc</th>\n    </tr>\n  </thead>\n  <tbody>\n    <tr>\n      <th>1996</th>\n      <td>N208</td>\n      <td>58.496</td>\n      <td>Steel Beam &amp; RCC Slab</td>\n      <td>LRP058b</td>\n      <td>Keen Bridge</td>\n      <td>358.00</td>\n      <td>D</td>\n      <td>120682.0</td>\n      <td>Moulvibazar-Rajnagar-Fenchuganj-Sylhet Road</td>\n      <td>58.496</td>\n      <td>NaN</td>\n      <td>NaN</td>\n      <td>NaN</td>\n      <td>Sylhet</td>\n      <td>Sylhet</td>\n      <td>Sylhet</td>\n      <td>Biswanath</td>\n      <td>NaN</td>\n      <td>NaN</td>\n      <td>error</td>\n    </tr>\n    <tr>\n      <th>5333</th>\n      <td>R203</td>\n      <td>80.287</td>\n      <td>RCC Girder Bridge</td>\n      <td>LRP082b</td>\n      <td>Godir Bridge</td>\n      <td>8.66</td>\n      <td>C</td>\n      <td>119894.0</td>\n      <td>Bhulta-Araihazar-Bancharampur-Nabinagar-Shibpu...</td>\n      <td>80.287</td>\n      <td>NaN</td>\n      <td>NaN</td>\n      <td>NaN</td>\n      <td>Comilla</td>\n      <td>Comilla</td>\n      <td>Brahmanbaria</td>\n      <td>Bancharampur</td>\n      <td>NaN</td>\n      <td>NaN</td>\n      <td>error</td>\n    </tr>\n    <tr>\n      <th>6443</th>\n      <td>R505</td>\n      <td>7.685</td>\n      <td>RCC Girder Bridge</td>\n      <td>LRP007a</td>\n      <td>Chakrabarti Bridge</td>\n      <td>34.20</td>\n      <td>B</td>\n      <td>120157.0</td>\n      <td>Nabinagar-EPZ-Kaliakoir (Chandra) Road</td>\n      <td>7.685</td>\n      <td>NaN</td>\n      <td>NaN</td>\n      <td>NaN</td>\n      <td>Dhaka</td>\n      <td>Dhaka</td>\n      <td>Manikganj</td>\n      <td>Nayarhat</td>\n      <td>NaN</td>\n      <td>NaN</td>\n      <td>bcs1</td>\n    </tr>\n    <tr>\n      <th>7216</th>\n      <td>R680</td>\n      <td>29.664</td>\n      <td>RCC Girder Bridge</td>\n      <td>LRP030a</td>\n      <td>Jotgosai Bridge</td>\n      <td>13.30</td>\n      <td>C</td>\n      <td>119995.0</td>\n      <td>Rajshahi-Godagari-Nawabganj Road</td>\n      <td>29.664</td>\n      <td>NaN</td>\n      <td>NaN</td>\n      <td>NaN</td>\n      <td>Rajshahi</td>\n      <td>Rajshahi</td>\n      <td>Rajshahi</td>\n      <td>Rajshahi-2</td>\n      <td>NaN</td>\n      <td>NaN</td>\n      <td>bcs1</td>\n    </tr>\n    <tr>\n      <th>7222</th>\n      <td>R680</td>\n      <td>33.962</td>\n      <td>RCC Girder Bridge</td>\n      <td>LRP034b</td>\n      <td>Avaya Bridge</td>\n      <td>23.50</td>\n      <td>C</td>\n      <td>120002.0</td>\n      <td>Rajshahi-Godagari-Nawabganj Road</td>\n      <td>33.962</td>\n      <td>NaN</td>\n      <td>NaN</td>\n      <td>NaN</td>\n      <td>Rajshahi</td>\n      <td>Rajshahi</td>\n      <td>Rajshahi</td>\n      <td>Rajshahi-2</td>\n      <td>NaN</td>\n      <td>NaN</td>\n      <td>bcs1</td>\n    </tr>\n    <tr>\n      <th>...</th>\n      <td>...</td>\n      <td>...</td>\n      <td>...</td>\n      <td>...</td>\n      <td>...</td>\n      <td>...</td>\n      <td>...</td>\n      <td>...</td>\n      <td>...</td>\n      <td>...</td>\n      <td>...</td>\n      <td>...</td>\n      <td>...</td>\n      <td>...</td>\n      <td>...</td>\n      <td>...</td>\n      <td>...</td>\n      <td>...</td>\n      <td>...</td>\n      <td>...</td>\n    </tr>\n    <tr>\n      <th>21028</th>\n      <td>Z8711</td>\n      <td>6.933</td>\n      <td>Steel Beam &amp; RCC Slab</td>\n      <td>LRP006b</td>\n      <td>Cherhe Bridge</td>\n      <td>43.95</td>\n      <td>C</td>\n      <td>120879.0</td>\n      <td>Bhandaria-Banaihat Road</td>\n      <td>6.933</td>\n      <td>NaN</td>\n      <td>NaN</td>\n      <td>NaN</td>\n      <td>Barisal</td>\n      <td>Barisal</td>\n      <td>Pirojpur</td>\n      <td>Kawkhali</td>\n      <td>NaN</td>\n      <td>NaN</td>\n      <td>bcs1</td>\n    </tr>\n    <tr>\n      <th>21137</th>\n      <td>Z8803</td>\n      <td>22.230</td>\n      <td>RCC Girder Bridge</td>\n      <td>LRP022a</td>\n      <td>Zopkhali bridge</td>\n      <td>95.30</td>\n      <td>C</td>\n      <td>119137.0</td>\n      <td>Barguna (Chandukhali)-Betagi-Bakerganj(Padri S...</td>\n      <td>22.23</td>\n      <td>NaN</td>\n      <td>NaN</td>\n      <td>NaN</td>\n      <td>Barisal</td>\n      <td>Patuakhali</td>\n      <td>Barguna</td>\n      <td>Barguna</td>\n      <td>NaN</td>\n      <td>NaN</td>\n      <td>error</td>\n    </tr>\n    <tr>\n      <th>21140</th>\n      <td>Z8803</td>\n      <td>23.860</td>\n      <td>RCC Girder Bridge</td>\n      <td>LRP023b</td>\n      <td>Puttakhalu bridge</td>\n      <td>36.12</td>\n      <td>A</td>\n      <td>119139.0</td>\n      <td>Barguna (Chandukhali)-Betagi-Bakerganj(Padri S...</td>\n      <td>23.86</td>\n      <td>NaN</td>\n      <td>NaN</td>\n      <td>NaN</td>\n      <td>Barisal</td>\n      <td>Patuakhali</td>\n      <td>Barguna</td>\n      <td>Barguna</td>\n      <td>NaN</td>\n      <td>NaN</td>\n      <td>error</td>\n    </tr>\n    <tr>\n      <th>21144</th>\n      <td>Z8803</td>\n      <td>28.005</td>\n      <td>RCC Girder Bridge</td>\n      <td>LRP028a</td>\n      <td>Niamoti bridge</td>\n      <td>60.21</td>\n      <td>A</td>\n      <td>121103.0</td>\n      <td>Barguna (Chandukhali)-Betagi-Bakerganj(Padri S...</td>\n      <td>28.005</td>\n      <td>NaN</td>\n      <td>NaN</td>\n      <td>NaN</td>\n      <td>Barisal</td>\n      <td>Patuakhali</td>\n      <td>Barguna</td>\n      <td>Barguna</td>\n      <td>NaN</td>\n      <td>NaN</td>\n      <td>error</td>\n    </tr>\n    <tr>\n      <th>21387</th>\n      <td>Z8948</td>\n      <td>2.070</td>\n      <td>Baily with Steel Deck</td>\n      <td>LRP002a</td>\n      <td>NaN</td>\n      <td>27.36</td>\n      <td>A</td>\n      <td>119862.0</td>\n      <td>Fakirhat-Khasherhat Road</td>\n      <td>2.07</td>\n      <td>NaN</td>\n      <td>NaN</td>\n      <td>NaN</td>\n      <td>Barisal</td>\n      <td>Barisal</td>\n      <td>Bhola</td>\n      <td>Bhola</td>\n      <td>NaN</td>\n      <td>NaN</td>\n      <td>bcs1</td>\n    </tr>\n  </tbody>\n</table>\n<p>94 rows × 20 columns</p>\n</div>"
     },
     "execution_count": 28,
     "metadata": {},
     "output_type": "execute_result"
    }
   ],
   "source": [
    "bmms_1[bmms_1['lon'].isna()]b"
   ],
   "metadata": {
    "collapsed": false,
    "ExecuteTime": {
     "end_time": "2024-02-21T11:04:54.529708900Z",
     "start_time": "2024-02-21T11:04:54.481909300Z"
    }
   },
   "id": "6d56f3cfbe3f266b",
   "execution_count": 28
  },
  {
   "cell_type": "code",
   "outputs": [
    {
     "data": {
      "text/plain": "        road     lsrp        lat        lon\n0         N1     LRPS  23.706028  90.443333\n1         N1    LRPSa  23.702917  90.450417\n2         N1    LRPSb  23.702778  90.450472\n3         N1   LRP001  23.702139  90.451972\n4         N1   LRP002  23.697889  90.460583\n...      ...      ...        ...        ...\n52205  Z8943   LRP007  22.429499  90.785722\n52206  Z8943   LRP008  22.430110  90.776333\n52207  Z8943  LRP008a  22.430249  90.774888\n52208  Z8943  LRP008b  22.430249  90.774860\n52209  Z8943     LRPE  22.430166  90.768916\n\n[52210 rows x 4 columns]",
      "text/html": "<div>\n<style scoped>\n    .dataframe tbody tr th:only-of-type {\n        vertical-align: middle;\n    }\n\n    .dataframe tbody tr th {\n        vertical-align: top;\n    }\n\n    .dataframe thead th {\n        text-align: right;\n    }\n</style>\n<table border=\"1\" class=\"dataframe\">\n  <thead>\n    <tr style=\"text-align: right;\">\n      <th></th>\n      <th>road</th>\n      <th>lsrp</th>\n      <th>lat</th>\n      <th>lon</th>\n    </tr>\n  </thead>\n  <tbody>\n    <tr>\n      <th>0</th>\n      <td>N1</td>\n      <td>LRPS</td>\n      <td>23.706028</td>\n      <td>90.443333</td>\n    </tr>\n    <tr>\n      <th>1</th>\n      <td>N1</td>\n      <td>LRPSa</td>\n      <td>23.702917</td>\n      <td>90.450417</td>\n    </tr>\n    <tr>\n      <th>2</th>\n      <td>N1</td>\n      <td>LRPSb</td>\n      <td>23.702778</td>\n      <td>90.450472</td>\n    </tr>\n    <tr>\n      <th>3</th>\n      <td>N1</td>\n      <td>LRP001</td>\n      <td>23.702139</td>\n      <td>90.451972</td>\n    </tr>\n    <tr>\n      <th>4</th>\n      <td>N1</td>\n      <td>LRP002</td>\n      <td>23.697889</td>\n      <td>90.460583</td>\n    </tr>\n    <tr>\n      <th>...</th>\n      <td>...</td>\n      <td>...</td>\n      <td>...</td>\n      <td>...</td>\n    </tr>\n    <tr>\n      <th>52205</th>\n      <td>Z8943</td>\n      <td>LRP007</td>\n      <td>22.429499</td>\n      <td>90.785722</td>\n    </tr>\n    <tr>\n      <th>52206</th>\n      <td>Z8943</td>\n      <td>LRP008</td>\n      <td>22.430110</td>\n      <td>90.776333</td>\n    </tr>\n    <tr>\n      <th>52207</th>\n      <td>Z8943</td>\n      <td>LRP008a</td>\n      <td>22.430249</td>\n      <td>90.774888</td>\n    </tr>\n    <tr>\n      <th>52208</th>\n      <td>Z8943</td>\n      <td>LRP008b</td>\n      <td>22.430249</td>\n      <td>90.774860</td>\n    </tr>\n    <tr>\n      <th>52209</th>\n      <td>Z8943</td>\n      <td>LRPE</td>\n      <td>22.430166</td>\n      <td>90.768916</td>\n    </tr>\n  </tbody>\n</table>\n<p>52210 rows × 4 columns</p>\n</div>"
     },
     "execution_count": 29,
     "metadata": {},
     "output_type": "execute_result"
    }
   ],
   "source": [
    "roads_1"
   ],
   "metadata": {
    "collapsed": false,
    "ExecuteTime": {
     "end_time": "2024-02-21T11:06:05.744964500Z",
     "start_time": "2024-02-21T11:06:05.714843400Z"
    }
   },
   "id": "4dfeea9d3f7cbbf6",
   "execution_count": 29
  },
  {
   "cell_type": "code",
   "outputs": [],
   "source": [
    "def interpolate_or_assign_on_same_road(df, lat_col='lat', lon_col='lon', road_col='road'):\n",
    "    \"\"\"\n",
    "    Attempt to interpolate between the next and previous non-zero, non-NaN values on the same road.\n",
    "    If the next or previous value is NaN or zero, directly use the previous non-zero, non-NaN value.\n",
    "    If both interpolation and using the previous value are not feasible, then use the next non-zero, non-NaN value.\n",
    "    \"\"\"\n",
    "    for i in range(1, len(df) - 1):  # Exclude first and last index to avoid out-of-bounds errors\n",
    "        if pd.isna(df[lat_col].iloc[i]) or df[lat_col].iloc[i] == 0:\n",
    "            prev_lat = find_nonzero_nonnan_on_same_road(df[lat_col], df[road_col], i, 'prev')\n",
    "            next_lat = find_nonzero_nonnan_on_same_road(df[lat_col], df[road_col], i, 'next')\n",
    "            if prev_lat is not None and next_lat is not None:\n",
    "                df.at[i, lat_col] = (prev_lat + next_lat) / 2\n",
    "            elif prev_lat is not None:\n",
    "                df.at[i, lat_col] = prev_lat\n",
    "            elif next_lat is not None:  # New condition to use next value if previous is not available\n",
    "                df.at[i, lat_col] = next_lat\n",
    "        \n",
    "        if pd.isna(df[lon_col].iloc[i]) or df[lon_col].iloc[i] == 0:\n",
    "            prev_lon = find_nonzero_nonnan_on_same_road(df[lon_col], df[road_col], i, 'prev')\n",
    "            next_lon = find_nonzero_nonnan_on_same_road(df[lon_col], df[road_col], i, 'next')\n",
    "            if prev_lon is not None and next_lon is not None:\n",
    "                df.at[i, lon_col] = (prev_lon + next_lon) / 2\n",
    "            elif prev_lon is not None:\n",
    "                df.at[i, lon_col] = prev_lon\n",
    "            elif next_lon is not None:  # New condition to use next value if previous is not available\n",
    "                df.at[i, lon_col] = next_lon\n",
    "\n",
    "    return df\n",
    "\n",
    "def find_nonzero_nonnan_on_same_road(series, road_series, index, direction='next'):\n",
    "    \"\"\"\n",
    "    Find the next or previous non-zero, non-NaN value in a series for the same road.\n",
    "    \"\"\"\n",
    "    step = 1 if direction == 'next' else -1\n",
    "    current_road = road_series.iloc[index]\n",
    "    i = index + step\n",
    "    while 0 <= i < len(series):\n",
    "        if road_series.iloc[i] != current_road or (not pd.isna(series.iloc[i]) and series.iloc[i] != 0):\n",
    "            break\n",
    "        i += step\n",
    "    if 0 <= i < len(series) and road_series.iloc[i] == current_road:\n",
    "        return series.iloc[i]\n",
    "    return None"
   ],
   "metadata": {
    "collapsed": false,
    "ExecuteTime": {
     "end_time": "2024-02-21T12:38:40.685016300Z",
     "start_time": "2024-02-21T12:38:40.653087Z"
    }
   },
   "id": "29190699c4c9062e",
   "execution_count": 36
  },
  {
   "cell_type": "code",
   "outputs": [],
   "source": [
    "df_final = interpolate_or_assign_on_same_road(bmms_1)"
   ],
   "metadata": {
    "collapsed": false,
    "ExecuteTime": {
     "end_time": "2024-02-21T12:44:54.979274Z",
     "start_time": "2024-02-21T12:44:53.250970800Z"
    }
   },
   "id": "fe49fadfb208041b",
   "execution_count": 41
  },
  {
   "cell_type": "code",
   "outputs": [
    {
     "data": {
      "text/plain": "(0, 0)"
     },
     "execution_count": 42,
     "metadata": {},
     "output_type": "execute_result"
    }
   ],
   "source": [
    "final_nan_or_zero_lat = df_final[df_final['lat'] == 0]['lat'].count() + df_final['lat'].isna().sum()\n",
    "final_nan_or_zero_lon = df_final[df_final['lon'] == 0]['lon'].count() + df_final['lon'].isna().sum()\n",
    "\n",
    "final_nan_or_zero_lat, final_nan_or_zero_lon"
   ],
   "metadata": {
    "collapsed": false,
    "ExecuteTime": {
     "end_time": "2024-02-21T12:44:55.891296700Z",
     "start_time": "2024-02-21T12:44:55.847069Z"
    }
   },
   "id": "f52f0b3c2a17d322",
   "execution_count": 42
  },
  {
   "cell_type": "code",
   "outputs": [
    {
     "data": {
      "text/plain": "Empty DataFrame\nColumns: [road, km, type, LRPName, name, length, condition, structureNr, roadName, chainage, width, constructionYear, spans, zone, circle, division, sub-division, lat, lon, EstimatedLoc]\nIndex: []",
      "text/html": "<div>\n<style scoped>\n    .dataframe tbody tr th:only-of-type {\n        vertical-align: middle;\n    }\n\n    .dataframe tbody tr th {\n        vertical-align: top;\n    }\n\n    .dataframe thead th {\n        text-align: right;\n    }\n</style>\n<table border=\"1\" class=\"dataframe\">\n  <thead>\n    <tr style=\"text-align: right;\">\n      <th></th>\n      <th>road</th>\n      <th>km</th>\n      <th>type</th>\n      <th>LRPName</th>\n      <th>name</th>\n      <th>length</th>\n      <th>condition</th>\n      <th>structureNr</th>\n      <th>roadName</th>\n      <th>chainage</th>\n      <th>width</th>\n      <th>constructionYear</th>\n      <th>spans</th>\n      <th>zone</th>\n      <th>circle</th>\n      <th>division</th>\n      <th>sub-division</th>\n      <th>lat</th>\n      <th>lon</th>\n      <th>EstimatedLoc</th>\n    </tr>\n  </thead>\n  <tbody>\n  </tbody>\n</table>\n</div>"
     },
     "execution_count": 40,
     "metadata": {},
     "output_type": "execute_result"
    }
   ],
   "source": [],
   "metadata": {
    "collapsed": false,
    "ExecuteTime": {
     "end_time": "2024-02-21T12:40:37.255495900Z",
     "start_time": "2024-02-21T12:40:37.197158500Z"
    }
   },
   "id": "62c58ffd412bb2bb",
   "execution_count": 40
  },
  {
   "cell_type": "markdown",
   "source": [],
   "metadata": {
    "collapsed": false
   },
   "id": "7270ced66754b659"
  }
 ],
 "metadata": {
  "kernelspec": {
   "display_name": "Python 3",
   "language": "python",
   "name": "python3"
  },
  "language_info": {
   "codemirror_mode": {
    "name": "ipython",
    "version": 2
   },
   "file_extension": ".py",
   "mimetype": "text/x-python",
   "name": "python",
   "nbconvert_exporter": "python",
   "pygments_lexer": "ipython2",
   "version": "2.7.6"
  }
 },
 "nbformat": 4,
 "nbformat_minor": 5
}
