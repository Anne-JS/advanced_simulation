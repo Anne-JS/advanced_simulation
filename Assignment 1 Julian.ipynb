{
 "cells": [
  {
   "cell_type": "code",
   "outputs": [],
   "source": [
    "import pandas as pd\n",
    "import seaborn as sns\n",
    "import matplotlib.pyplot as plt\n",
    "import numpy as np"
   ],
   "metadata": {
    "collapsed": false,
    "ExecuteTime": {
     "end_time": "2024-02-16T08:35:21.021605500Z",
     "start_time": "2024-02-16T08:35:20.985166900Z"
    }
   },
   "id": "4b8f51c0db82b31a",
   "execution_count": 2
  },
  {
   "cell_type": "code",
   "outputs": [],
   "source": [
    "df_rds = pd.read_csv(\"_roads.tsv\", delimiter='\\t', low_memory = False)"
   ],
   "metadata": {
    "collapsed": false,
    "ExecuteTime": {
     "end_time": "2024-02-16T08:35:22.118597Z",
     "start_time": "2024-02-16T08:35:20.998145300Z"
    }
   },
   "id": "aba895a8f11d17b",
   "execution_count": 3
  },
  {
   "cell_type": "code",
   "outputs": [
    {
     "name": "stderr",
     "output_type": "stream",
     "text": [
      "C:\\Users\\julia\\AppData\\Local\\Temp\\ipykernel_16884\\15748790.py:11: FutureWarning: Series.__getitem__ treating keys as positions is deprecated. In a future version, integer keys will always be treated as labels (consistent with DataFrame behavior). To access a value by position, use `ser.iloc[pos]`\n",
      "  lsrp = row[i]\n",
      "C:\\Users\\julia\\AppData\\Local\\Temp\\ipykernel_16884\\15748790.py:12: FutureWarning: Series.__getitem__ treating keys as positions is deprecated. In a future version, integer keys will always be treated as labels (consistent with DataFrame behavior). To access a value by position, use `ser.iloc[pos]`\n",
      "  lat = row[i+1]\n",
      "C:\\Users\\julia\\AppData\\Local\\Temp\\ipykernel_16884\\15748790.py:13: FutureWarning: Series.__getitem__ treating keys as positions is deprecated. In a future version, integer keys will always be treated as labels (consistent with DataFrame behavior). To access a value by position, use `ser.iloc[pos]`\n",
      "  lon = row[i+2]\n"
     ]
    },
    {
     "data": {
      "text/plain": "  road    lsrp        lat        lon\n0   N1    LRPS  23.706028  90.443333\n1   N1   LRPSa  23.702917  90.450417\n2   N1   LRPSb  23.702778  90.450472\n3   N1  LRP001  23.702139  90.451972\n4   N1  LRP002  23.697889  90.460583",
      "text/html": "<div>\n<style scoped>\n    .dataframe tbody tr th:only-of-type {\n        vertical-align: middle;\n    }\n\n    .dataframe tbody tr th {\n        vertical-align: top;\n    }\n\n    .dataframe thead th {\n        text-align: right;\n    }\n</style>\n<table border=\"1\" class=\"dataframe\">\n  <thead>\n    <tr style=\"text-align: right;\">\n      <th></th>\n      <th>road</th>\n      <th>lsrp</th>\n      <th>lat</th>\n      <th>lon</th>\n    </tr>\n  </thead>\n  <tbody>\n    <tr>\n      <th>0</th>\n      <td>N1</td>\n      <td>LRPS</td>\n      <td>23.706028</td>\n      <td>90.443333</td>\n    </tr>\n    <tr>\n      <th>1</th>\n      <td>N1</td>\n      <td>LRPSa</td>\n      <td>23.702917</td>\n      <td>90.450417</td>\n    </tr>\n    <tr>\n      <th>2</th>\n      <td>N1</td>\n      <td>LRPSb</td>\n      <td>23.702778</td>\n      <td>90.450472</td>\n    </tr>\n    <tr>\n      <th>3</th>\n      <td>N1</td>\n      <td>LRP001</td>\n      <td>23.702139</td>\n      <td>90.451972</td>\n    </tr>\n    <tr>\n      <th>4</th>\n      <td>N1</td>\n      <td>LRP002</td>\n      <td>23.697889</td>\n      <td>90.460583</td>\n    </tr>\n  </tbody>\n</table>\n</div>"
     },
     "execution_count": 14,
     "metadata": {},
     "output_type": "execute_result"
    }
   ],
   "source": [
    "# Prepare an empty list to collect the restructured data\n",
    "restructured_data = []\n",
    "\n",
    "# Iterate over each row in the initial dataframe\n",
    "for index, row in df_rds.iterrows():\n",
    "    road_name = row['road']\n",
    "    # Iterate over the columns in groups of three starting from the second column\n",
    "    for i in range(1, len(df_rds.columns), 3):\n",
    "        try:\n",
    "            # Extract lsrp, lat, and lon values\n",
    "            lsrp = row[i]\n",
    "            lat = row[i+1]\n",
    "            lon = row[i+2]\n",
    "            # Append the data to the list if lsrp is not NaN (indicating a valid section)\n",
    "            if pd.notnull(lsrp):\n",
    "                restructured_data.append([road_name, lsrp, lat, lon])\n",
    "        except IndexError:\n",
    "            # Break the loop if we've reached the end of the row's columns\n",
    "            break\n",
    "\n",
    "# Convert the list into a DataFrame\n",
    "df_restructured = pd.DataFrame(restructured_data, columns=['road', 'lsrp', 'lat', 'lon'])\n",
    "\n",
    "# Display the first few rows of the restructured dataframe to verify the transformation\n",
    "df_restructured.head(5)"
   ],
   "metadata": {
    "collapsed": false,
    "ExecuteTime": {
     "end_time": "2024-02-16T08:38:09.729954600Z",
     "start_time": "2024-02-16T08:36:48.194559300Z"
    }
   },
   "id": "d1d7d9698ef583d9",
   "execution_count": 14
  },
  {
   "cell_type": "code",
   "outputs": [
    {
     "data": {
      "text/plain": "<Figure size 640x480 with 1 Axes>",
      "image/png": "[encoded data removed]"
     },
     "metadata": {},
     "output_type": "display_data"
    }
   ],
   "source": [
    "df_N1 = df_restructured[df_restructured['road'] == 'N1']\n",
    "plt.scatter(df_N1['lon'], df_N1['lat'])\n",
    "plt.show()"
   ],
   "metadata": {
    "collapsed": false,
    "ExecuteTime": {
     "end_time": "2024-02-16T08:36:47.938844400Z",
     "start_time": "2024-02-16T08:36:47.168806Z"
    }
   },
   "id": "4bbfc9865046e334",
   "execution_count": 5
  },
  {
   "cell_type": "code",
   "outputs": [],
   "source": [
    "df1 = df_restructured"
   ],
   "metadata": {
    "collapsed": false,
    "ExecuteTime": {
     "end_time": "2024-02-16T08:36:47.957430400Z",
     "start_time": "2024-02-16T08:36:47.936704800Z"
    }
   },
   "id": "b8abaaff40a87b36",
   "execution_count": 6
  },
  {
   "cell_type": "code",
   "outputs": [],
   "source": [
    "def calc_dist_df(df):\n",
    "    df_dist = pd.DataFrame()\n",
    "\n",
    "    prev_lat = df['lat'].shift()\n",
    "    prev_lon = df['lon'].shift()\n",
    "    \n",
    "    df_dist['Distance'] = np.sqrt((prev_lat-df['lat'])**2 + (prev_lon-df['lon'])**2)\n",
    "        \n",
    "    return df_dist"
   ],
   "metadata": {
    "collapsed": false,
    "ExecuteTime": {
     "end_time": "2024-02-16T08:36:48.249462500Z",
     "start_time": "2024-02-16T08:36:47.966526400Z"
    }
   },
   "id": "e69041dc85cb6f91",
   "execution_count": 7
  },
  {
   "cell_type": "code",
   "outputs": [],
   "source": [
    "df_dist = calc_dist_df(df1)"
   ],
   "metadata": {
    "collapsed": false,
    "ExecuteTime": {
     "end_time": "2024-02-16T08:36:48.281483200Z",
     "start_time": "2024-02-16T08:36:47.991760400Z"
    }
   },
   "id": "e26df5146a38c7b",
   "execution_count": 8
  },
  {
   "cell_type": "code",
   "outputs": [
    {
     "data": {
      "text/plain": "           Distance\ncount  52209.000000\nmean       0.024092\nstd        0.226527\nmin        0.000000\n25%        0.001112\n50%        0.003031\n75%        0.006189\nmax       20.001111",
      "text/html": "<div>\n<style scoped>\n    .dataframe tbody tr th:only-of-type {\n        vertical-align: middle;\n    }\n\n    .dataframe tbody tr th {\n        vertical-align: top;\n    }\n\n    .dataframe thead th {\n        text-align: right;\n    }\n</style>\n<table border=\"1\" class=\"dataframe\">\n  <thead>\n    <tr style=\"text-align: right;\">\n      <th></th>\n      <th>Distance</th>\n    </tr>\n  </thead>\n  <tbody>\n    <tr>\n      <th>count</th>\n      <td>52209.000000</td>\n    </tr>\n    <tr>\n      <th>mean</th>\n      <td>0.024092</td>\n    </tr>\n    <tr>\n      <th>std</th>\n      <td>0.226527</td>\n    </tr>\n    <tr>\n      <th>min</th>\n      <td>0.000000</td>\n    </tr>\n    <tr>\n      <th>25%</th>\n      <td>0.001112</td>\n    </tr>\n    <tr>\n      <th>50%</th>\n      <td>0.003031</td>\n    </tr>\n    <tr>\n      <th>75%</th>\n      <td>0.006189</td>\n    </tr>\n    <tr>\n      <th>max</th>\n      <td>20.001111</td>\n    </tr>\n  </tbody>\n</table>\n</div>"
     },
     "execution_count": 9,
     "metadata": {},
     "output_type": "execute_result"
    }
   ],
   "source": [
    "df_dist.describe()"
   ],
   "metadata": {
    "collapsed": false,
    "ExecuteTime": {
     "end_time": "2024-02-16T08:36:48.331442800Z",
     "start_time": "2024-02-16T08:36:48.026256400Z"
    }
   },
   "id": "733ed94a9dd9be16",
   "execution_count": 9
  },
  {
   "cell_type": "code",
   "outputs": [
    {
     "data": {
      "text/plain": "Distance    0.007225\nName: 0.8, dtype: float64"
     },
     "execution_count": 10,
     "metadata": {},
     "output_type": "execute_result"
    }
   ],
   "source": [
    "df_dist.quantile(0.8)"
   ],
   "metadata": {
    "collapsed": false,
    "ExecuteTime": {
     "end_time": "2024-02-16T08:36:48.331442800Z",
     "start_time": "2024-02-16T08:36:48.069660900Z"
    }
   },
   "id": "be2c30a14d73719e",
   "execution_count": 10
  },
  {
   "cell_type": "code",
   "outputs": [
    {
     "data": {
      "text/plain": "       Distance\n69     1.005876\n70     0.999083\n154    1.002543\n155    0.999171\n233    1.007321\n...         ...\n51998  0.635694\n52172  1.000792\n52173  0.997039\n52193  0.998972\n52194  0.998418\n\n[751 rows x 1 columns]",
      "text/html": "<div>\n<style scoped>\n    .dataframe tbody tr th:only-of-type {\n        vertical-align: middle;\n    }\n\n    .dataframe tbody tr th {\n        vertical-align: top;\n    }\n\n    .dataframe thead th {\n        text-align: right;\n    }\n</style>\n<table border=\"1\" class=\"dataframe\">\n  <thead>\n    <tr style=\"text-align: right;\">\n      <th></th>\n      <th>Distance</th>\n    </tr>\n  </thead>\n  <tbody>\n    <tr>\n      <th>69</th>\n      <td>1.005876</td>\n    </tr>\n    <tr>\n      <th>70</th>\n      <td>0.999083</td>\n    </tr>\n    <tr>\n      <th>154</th>\n      <td>1.002543</td>\n    </tr>\n    <tr>\n      <th>155</th>\n      <td>0.999171</td>\n    </tr>\n    <tr>\n      <th>233</th>\n      <td>1.007321</td>\n    </tr>\n    <tr>\n      <th>...</th>\n      <td>...</td>\n    </tr>\n    <tr>\n      <th>51998</th>\n      <td>0.635694</td>\n    </tr>\n    <tr>\n      <th>52172</th>\n      <td>1.000792</td>\n    </tr>\n    <tr>\n      <th>52173</th>\n      <td>0.997039</td>\n    </tr>\n    <tr>\n      <th>52193</th>\n      <td>0.998972</td>\n    </tr>\n    <tr>\n      <th>52194</th>\n      <td>0.998418</td>\n    </tr>\n  </tbody>\n</table>\n<p>751 rows × 1 columns</p>\n</div>"
     },
     "execution_count": 11,
     "metadata": {},
     "output_type": "execute_result"
    }
   ],
   "source": [
    "df_dist[df_dist['Distance'] > df_dist['Distance'].quantile(0.8)*50]"
   ],
   "metadata": {
    "collapsed": false,
    "ExecuteTime": {
     "end_time": "2024-02-16T08:36:48.362067400Z",
     "start_time": "2024-02-16T08:36:48.085381400Z"
    }
   },
   "id": "ce9ef995801664a7",
   "execution_count": 11
  },
  {
   "cell_type": "code",
   "outputs": [],
   "source": [
    "df1_dist = calc_dist_df(df1)"
   ],
   "metadata": {
    "collapsed": false,
    "ExecuteTime": {
     "end_time": "2024-02-16T08:36:48.362067400Z",
     "start_time": "2024-02-16T08:36:48.118098400Z"
    }
   },
   "id": "71b19d62aedad4c",
   "execution_count": 12
  },
  {
   "cell_type": "code",
   "outputs": [
    {
     "data": {
      "text/plain": "           Distance\ncount  52209.000000\nmean       0.024092\nstd        0.226527\nmin        0.000000\n25%        0.001112\n50%        0.003031\n75%        0.006189\nmax       20.001111",
      "text/html": "<div>\n<style scoped>\n    .dataframe tbody tr th:only-of-type {\n        vertical-align: middle;\n    }\n\n    .dataframe tbody tr th {\n        vertical-align: top;\n    }\n\n    .dataframe thead th {\n        text-align: right;\n    }\n</style>\n<table border=\"1\" class=\"dataframe\">\n  <thead>\n    <tr style=\"text-align: right;\">\n      <th></th>\n      <th>Distance</th>\n    </tr>\n  </thead>\n  <tbody>\n    <tr>\n      <th>count</th>\n      <td>52209.000000</td>\n    </tr>\n    <tr>\n      <th>mean</th>\n      <td>0.024092</td>\n    </tr>\n    <tr>\n      <th>std</th>\n      <td>0.226527</td>\n    </tr>\n    <tr>\n      <th>min</th>\n      <td>0.000000</td>\n    </tr>\n    <tr>\n      <th>25%</th>\n      <td>0.001112</td>\n    </tr>\n    <tr>\n      <th>50%</th>\n      <td>0.003031</td>\n    </tr>\n    <tr>\n      <th>75%</th>\n      <td>0.006189</td>\n    </tr>\n    <tr>\n      <th>max</th>\n      <td>20.001111</td>\n    </tr>\n  </tbody>\n</table>\n</div>"
     },
     "execution_count": 13,
     "metadata": {},
     "output_type": "execute_result"
    }
   ],
   "source": [
    "df1_dist.describe()"
   ],
   "metadata": {
    "collapsed": false,
    "ExecuteTime": {
     "end_time": "2024-02-16T08:36:48.362067400Z",
     "start_time": "2024-02-16T08:36:48.138706400Z"
    }
   },
   "id": "1a2463b31e3e687f",
   "execution_count": 13
  },
  {
   "cell_type": "code",
   "outputs": [
    {
     "name": "stdout",
     "output_type": "stream",
     "text": [
      "test\n"
     ]
    }
   ],
   "source": [
    "print(\"test\")"
   ],
   "metadata": {
    "collapsed": false,
    "ExecuteTime": {
     "end_time": "2024-02-16T08:39:15.046353600Z",
     "start_time": "2024-02-16T08:39:14.951086100Z"
    }
   },
   "id": "fc37f4414fe795c",
   "execution_count": 15
  }
 ],
 "metadata": {
  "kernelspec": {
   "display_name": "Python 3",
   "language": "python",
   "name": "python3"
  },
  "language_info": {
   "codemirror_mode": {
    "name": "ipython",
    "version": 2
   },
   "file_extension": ".py",
   "mimetype": "text/x-python",
   "name": "python",
   "nbconvert_exporter": "python",
   "pygments_lexer": "ipython2",
   "version": "2.7.6"
  }
 },
 "nbformat": 4,
 "nbformat_minor": 5
}
