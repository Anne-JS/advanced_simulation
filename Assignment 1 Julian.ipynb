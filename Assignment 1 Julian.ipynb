{
 "cells": [
  {
   "cell_type": "code",
   "outputs": [],
   "source": [
    "import pandas as pd\n",
    "import seaborn as sns\n",
    "import matplotlib.pyplot as plt\n",
    "import numpy as np"
   ],
   "metadata": {
    "collapsed": false,
    "ExecuteTime": {
     "end_time": "2024-02-14T11:45:42.673808700Z",
     "start_time": "2024-02-14T11:45:42.589797100Z"
    }
   },
   "id": "4b8f51c0db82b31a",
   "execution_count": 8
  },
  {
   "cell_type": "code",
   "outputs": [],
   "source": [
    "df_rds = pd.read_csv(\"_roads.tsv\", delimiter='\\t', low_memory = False)"
   ],
   "metadata": {
    "collapsed": false,
    "ExecuteTime": {
     "end_time": "2024-02-14T11:45:44.450484800Z",
     "start_time": "2024-02-14T11:45:42.622434Z"
    }
   },
   "id": "aba895a8f11d17b",
   "execution_count": 9
  },
  {
   "cell_type": "code",
   "outputs": [],
   "source": [
    "# Prepare an empty list to collect the restructured data\n",
    "restructured_data = []\n",
    "\n",
    "# Iterate over each row in the initial dataframe\n",
    "for index, row in df_rds.iterrows():\n",
    "    road_name = row['road']\n",
    "    # Iterate over the columns in groups of three starting from the second column\n",
    "    for i in range(1, len(df_rds.columns), 3):\n",
    "        try:\n",
    "            # Extract lsrp, lat, and lon values\n",
    "            lsrp = row[i]\n",
    "            lat = row[i+1]\n",
    "            lon = row[i+2]\n",
    "            # Append the data to the list if lsrp is not NaN (indicating a valid section)\n",
    "            if pd.notnull(lsrp):\n",
    "                restructured_data.append([road_name, lsrp, lat, lon])\n",
    "        except IndexError:\n",
    "            # Break the loop if we've reached the end of the row's columns\n",
    "            break\n",
    "\n",
    "# Convert the list into a DataFrame\n",
    "df_restructured = pd.DataFrame(restructured_data, columns=['road', 'lsrp', 'lat', 'lon'])\n",
    "\n",
    "# Display the first few rows of the restructured dataframe to verify the transformation\n",
    "df_restructured.head(5)"
   ],
   "metadata": {
    "collapsed": false,
    "ExecuteTime": {
     "start_time": "2024-02-14T11:47:03.686288200Z"
    }
   },
   "id": "d1d7d9698ef583d9"
  },
  {
   "cell_type": "code",
   "outputs": [],
   "source": [
    "df_N1 = df_restructured[df_restructured['road'] == 'N1']\n",
    "plt.scatter(df_N1['lon'], df_N1['lat'])\n",
    "plt.show()"
   ],
   "metadata": {
    "collapsed": false,
    "ExecuteTime": {
     "start_time": "2024-02-14T11:47:03.587542500Z"
    }
   },
   "id": "4bbfc9865046e334"
  },
  {
   "cell_type": "code",
   "outputs": [],
   "source": [
    "df1 = df_restructured"
   ],
   "metadata": {
    "collapsed": false,
    "ExecuteTime": {
     "end_time": "2024-02-14T11:47:03.612861600Z",
     "start_time": "2024-02-14T11:47:03.595486400Z"
    }
   },
   "id": "b8abaaff40a87b36"
  },
  {
   "cell_type": "code",
   "outputs": [],
   "source": [
    "def calc_dist_df(df):\n",
    "    df_dist = pd.DataFrame()\n",
    "\n",
    "    prev_lat = df['lat'].shift()\n",
    "    prev_lon = df['lon'].shift()\n",
    "    \n",
    "    df_dist['Distance'] = np.sqrt((prev_lat-df['lat'])**2 + (prev_lon-df['lon'])**2)\n",
    "        \n",
    "    return df_dist"
   ],
   "metadata": {
    "collapsed": false,
    "ExecuteTime": {
     "start_time": "2024-02-14T11:47:03.607485Z"
    }
   },
   "id": "e69041dc85cb6f91"
  },
  {
   "cell_type": "code",
   "outputs": [],
   "source": [
    "df_dist = calc_dist_df(df1)"
   ],
   "metadata": {
    "collapsed": false,
    "ExecuteTime": {
     "start_time": "2024-02-14T11:47:03.619182900Z"
    }
   },
   "id": "e26df5146a38c7b"
  },
  {
   "cell_type": "code",
   "outputs": [],
   "source": [
    "df_dist.describe()"
   ],
   "metadata": {
    "collapsed": false,
    "ExecuteTime": {
     "end_time": "2024-02-14T11:47:03.667520100Z",
     "start_time": "2024-02-14T11:47:03.632555500Z"
    }
   },
   "id": "733ed94a9dd9be16"
  },
  {
   "cell_type": "code",
   "outputs": [],
   "source": [
    "df_dist.quantile(0.8)"
   ],
   "metadata": {
    "collapsed": false,
    "ExecuteTime": {
     "start_time": "2024-02-14T11:47:03.644449100Z"
    }
   },
   "id": "be2c30a14d73719e"
  },
  {
   "cell_type": "code",
   "outputs": [],
   "source": [
    "df_dist[df_dist['Distance'] > df_dist['Distance'].quantile(0.8)*50]"
   ],
   "metadata": {
    "collapsed": false,
    "ExecuteTime": {
     "start_time": "2024-02-14T11:47:03.652671900Z"
    }
   },
   "id": "ce9ef995801664a7"
  },
  {
   "cell_type": "code",
   "outputs": [],
   "source": [
    "df1_dist = calc_dist_df(df1)"
   ],
   "metadata": {
    "collapsed": false,
    "ExecuteTime": {
     "start_time": "2024-02-14T11:47:03.660220700Z"
    }
   },
   "id": "71b19d62aedad4c"
  },
  {
   "cell_type": "code",
   "outputs": [],
   "source": [
    "df1_dist.describe()"
   ],
   "metadata": {
    "collapsed": false,
    "ExecuteTime": {
     "end_time": "2024-02-14T11:47:03.707114700Z",
     "start_time": "2024-02-14T11:47:03.667520100Z"
    }
   },
   "id": "1a2463b31e3e687f",
   "execution_count": null
  },
  {
   "cell_type": "code",
   "outputs": [],
   "source": [],
   "metadata": {
    "collapsed": false,
    "ExecuteTime": {
     "start_time": "2024-02-14T11:47:03.677115600Z"
    }
   },
   "id": "fc37f4414fe795c"
  }
 ],
 "metadata": {
  "kernelspec": {
   "display_name": "Python 3",
   "language": "python",
   "name": "python3"
  },
  "language_info": {
   "codemirror_mode": {
    "name": "ipython",
    "version": 2
   },
   "file_extension": ".py",
   "mimetype": "text/x-python",
   "name": "python",
   "nbconvert_exporter": "python",
   "pygments_lexer": "ipython2",
   "version": "2.7.6"
  }
 },
 "nbformat": 4,
 "nbformat_minor": 5
}
