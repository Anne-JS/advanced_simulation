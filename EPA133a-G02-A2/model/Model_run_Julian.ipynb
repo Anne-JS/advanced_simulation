{
 "cells": [
  {
   "cell_type": "code",
   "execution_count": null,
   "id": "initial_id",
   "metadata": {
    "collapsed": true
   },
   "outputs": [],
   "source": [
    "import pandas as pd\n",
    "import matplotlib.pyplot as plt\n",
    "from model import BangladeshModel\n",
    "import numpy as np\n",
    "\n",
    "\"\"\"\n",
    "    Run simulation\n",
    "    Print output at terminal\n",
    "\"\"\"\n",
    "\n",
    "# ---------------------------------------------------------------\n",
    "def run_simulation_batch(seed, run_length, probs):\n",
    "    model = BangladeshModel(seed=seed, scenario_probabilities=probs)\n",
    "    for i in range(run_length):\n",
    "        model.step()\n",
    "    bridges_data = [{\"unique_id\": bridge.unique_id,\n",
    "                     \"name\": bridge.name,\n",
    "                     \"delay_time\": bridge.delay_time,\n",
    "                     \"breaks_down\": bridge.breaks_down} for bridge in model.bridges]\n",
    "    return pd.DataFrame(bridges_data)\n",
    "\n",
    "def run_simulation_for_scenario(seeds, run_length, probs):\n",
    "    batch_results = {}\n",
    "    for seed in seeds:\n",
    "        df_bridge = run_simulation_batch(seed, run_length, probs)\n",
    "        batch_results[seed] = df_bridge\n",
    "    return batch_results\n",
    "\n",
    "def run_all_scenarios(seeds, run_length, scenarios):\n",
    "    all_scenario_results = {}\n",
    "    for scenario_index, probs in enumerate(scenarios, start=1):\n",
    "        print(f\"Running scenario {scenario_index} with probabilities {probs}\")\n",
    "        scenario_results = run_simulation_for_scenario(seeds, run_length, probs)\n",
    "        all_scenario_results[f\"Scenario_{scenario_index}\"] = scenario_results\n",
    "    return all_scenario_results\n",
    "\n",
    "# Define your scenarios\n",
    "scenarios = [\n",
    "    {'A': 0, 'B': 0, 'C': 0, 'D': 0},  # Scenario 0\n",
    "    {'A': 0, 'B': 0, 'C': 0, 'D': 5},  # Scenario 1\n",
    "    {'A': 0, 'B': 0, 'C': 0, 'D': 10},  # Scenario 2\n",
    "    {'A': 0, 'B': 0, 'C': 5, 'D': 10},  # Scenario 3\n",
    "    {'A': 0, 'B': 0, 'C': 10, 'D': 20},  # Scenario 4\n",
    "    {'A': 0, 'B': 5, 'C': 10, 'D': 20},  # Scenario 5\n",
    "    {'A': 0, 'B': 10, 'C': 20, 'D': 40},  # Scenario 6\n",
    "    {'A': 5, 'B': 10, 'C': 20, 'D': 40},  # Scenario 7\n",
    "    {'A': 10, 'B': 20, 'C': 40, 'D': 80},  # Scenario 8\n",
    "    # Add more scenarios as needed\n",
    "]\n",
    "\n",
    "# Set your seeds and run length\n",
    "seeds = range(1, 1000)  # 10 seeds for each scenario\n",
    "# run_length = 5 * 24 * 60  # Example run length\n",
    "run_length = 1\n",
    "# Run all scenarios\n",
    "all_scenario_results = run_all_scenarios(seeds, run_length, scenarios)"
   ]
  },
  {
   "cell_type": "code",
   "outputs": [],
   "source": [
    "all_results = all_scenario_results['Scenario_1'][1].copy()\n",
    "all_results = all_results[['unique_id', 'name']]\n",
    "\n",
    "for scenario in all_scenario_results:\n",
    "    for iteration in all_scenario_results[scenario]:\n",
    "        for index, row in all_scenario_results[scenario][iteration].iterrows():\n",
    "            all_results.loc[index, f'delay_time_{scenario}_{iteration}'] = row.delay_time\n",
    "            all_results.loc[index, f'breaks_down_{scenario}_{iteration}'] = row.breaks_down\n",
    "\n",
    "delay_time_columns = all_results.filter(regex='^delay_time_').columns\n",
    "\n",
    "all_results['total_delay_time'] = all_results[delay_time_columns].sum(axis=1)\n",
    "\n",
    "# Select columns that start with 'breaks_down_'\n",
    "breaks_down_columns = all_results.filter(regex='^breaks_down_').columns\n",
    "\n",
    "# Count how often True appears in the breaks_down columns for each row\n",
    "all_results['total_breakdowns'] = all_results[breaks_down_columns].apply(lambda x: x.value_counts().get(True, 0),\n",
    "                                                                         axis=1)\n",
    "\n",
    "all_results[['unique_id', 'name', 'total_delay_time', 'total_breakdowns']]  # Show the result for the new columns"
   ],
   "metadata": {
    "collapsed": false
   },
   "id": "ad5540684ed8494c"
  },
  {
   "cell_type": "code",
   "outputs": [],
   "source": [
    "for i in all_scenario_results:\n",
    "    for j in all_scenario_results[i]:\n",
    "        all_scenario_results[i][j].set_index('unique_id')\n",
    "        all_scenario_results[i][j]['delay_time'].plot(kind='bar')\n",
    "        \n",
    "plt.xticks(ticks = range(0,200, 10), rotation=0)\n",
    "plt.xlabel('Bridge unique id')\n",
    "plt.ylabel('Delay time')\n",
    "plt.show()"
   ],
   "metadata": {
    "collapsed": false
   },
   "id": "24e7ae9a8b671de8"
  },
  {
   "cell_type": "code",
   "outputs": [],
   "source": [
    "delay_data = []\n",
    "\n",
    "for i in all_scenario_results:\n",
    "    for j in all_scenario_results[i]:\n",
    "        delay = all_scenario_results[i][j]['delay_time'].sum()\n",
    "        delay_data.append({\n",
    "        'scenario': i,\n",
    "        'seed': j,\n",
    "        'delay_time': delay\n",
    "    })\n",
    "\n",
    "delay_data = pd.DataFrame(delay_data, columns=['scenario', 'seed', 'delay_time'])\n",
    "delay_data"
   ],
   "metadata": {
    "collapsed": false
   },
   "id": "7d2576ca7faab7c"
  },
  {
   "cell_type": "code",
   "outputs": [],
   "source": [
    "# Pivot the DataFrame so that each scenario has its own column for delay_time\n",
    "pivot_df = delay_data.pivot(index='seed', columns='scenario', values='delay_time')\n",
    "\n",
    "# Plotting\n",
    "plt.figure(figsize=(50,10))\n",
    "\n",
    "# Plot a line for each scenario\n",
    "for scenario in pivot_df.columns:\n",
    "    plt.plot(pivot_df.index, pivot_df[scenario], label=scenario)\n",
    "\n",
    "# Labeling the axes\n",
    "plt.xlabel('Seed')\n",
    "plt.ylabel('Delay Time')\n",
    "plt.title('Delay Time by Seed for each Scenario')\n",
    "\n",
    "# Add a legend to the plot\n",
    "plt.legend(title='Scenario')\n",
    "\n",
    "# Show the plot\n",
    "plt.show()"
   ],
   "metadata": {
    "collapsed": false
   },
   "id": "c8e81932fe26f0f7"
  },
  {
   "cell_type": "code",
   "outputs": [],
   "source": [],
   "metadata": {
    "collapsed": false
   },
   "id": "f72e3b43af2168b9"
  }
 ],
 "metadata": {
  "kernelspec": {
   "display_name": "Python 3",
   "language": "python",
   "name": "python3"
  },
  "language_info": {
   "codemirror_mode": {
    "name": "ipython",
    "version": 2
   },
   "file_extension": ".py",
   "mimetype": "text/x-python",
   "name": "python",
   "nbconvert_exporter": "python",
   "pygments_lexer": "ipython2",
   "version": "2.7.6"
  }
 },
 "nbformat": 4,
 "nbformat_minor": 5
}
