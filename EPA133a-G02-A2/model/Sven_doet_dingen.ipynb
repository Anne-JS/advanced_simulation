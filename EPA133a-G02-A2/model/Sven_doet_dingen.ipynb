{
 "cells": [
  {
   "cell_type": "code",
   "execution_count": 97,
   "id": "initial_id",
   "metadata": {
    "collapsed": true,
    "ExecuteTime": {
     "end_time": "2024-02-29T20:20:28.097982500Z",
     "start_time": "2024-02-29T20:20:28.089295100Z"
    }
   },
   "outputs": [],
   "source": [
    "import pandas as pd\n",
    "import math as math"
   ]
  },
  {
   "cell_type": "code",
   "execution_count": 98,
   "outputs": [],
   "source": [
    "demo1 = pd.read_csv('../data/demo-1.csv')"
   ],
   "metadata": {
    "collapsed": false,
    "ExecuteTime": {
     "end_time": "2024-02-29T20:20:28.574129Z",
     "start_time": "2024-02-29T20:20:28.533193700Z"
    }
   },
   "id": "f3761e108dfd2294"
  },
  {
   "cell_type": "code",
   "execution_count": 99,
   "outputs": [
    {
     "data": {
      "text/plain": "   road       id model_type      name  lat  lon  length\n0    N1  1000000     source    source    0    0       4\n1    N1  1000001       link    link 1    1    1    1800\n2    N1  1000002     bridge  bridge 1    2    2     200\n3    N1  1000003       link    link 2    3    3    1500\n4    N1  1000004     bridge  bridge 2    4    4       8\n5    N1  1000005       link    link 3    5    5    2000\n6    N1  1000006     bridge  bridge 3    6    6       4\n7    N1  1000007       link    link 4    7    7    2500\n8    N1  1000008     bridge  bridge 4    8    8     500\n9    N1  1000009       link    link 5    9    9     800\n10   N1  1000010       sink      sink   10   10      20",
      "text/html": "<div>\n<style scoped>\n    .dataframe tbody tr th:only-of-type {\n        vertical-align: middle;\n    }\n\n    .dataframe tbody tr th {\n        vertical-align: top;\n    }\n\n    .dataframe thead th {\n        text-align: right;\n    }\n</style>\n<table border=\"1\" class=\"dataframe\">\n  <thead>\n    <tr style=\"text-align: right;\">\n      <th></th>\n      <th>road</th>\n      <th>id</th>\n      <th>model_type</th>\n      <th>name</th>\n      <th>lat</th>\n      <th>lon</th>\n      <th>length</th>\n    </tr>\n  </thead>\n  <tbody>\n    <tr>\n      <th>0</th>\n      <td>N1</td>\n      <td>1000000</td>\n      <td>source</td>\n      <td>source</td>\n      <td>0</td>\n      <td>0</td>\n      <td>4</td>\n    </tr>\n    <tr>\n      <th>1</th>\n      <td>N1</td>\n      <td>1000001</td>\n      <td>link</td>\n      <td>link 1</td>\n      <td>1</td>\n      <td>1</td>\n      <td>1800</td>\n    </tr>\n    <tr>\n      <th>2</th>\n      <td>N1</td>\n      <td>1000002</td>\n      <td>bridge</td>\n      <td>bridge 1</td>\n      <td>2</td>\n      <td>2</td>\n      <td>200</td>\n    </tr>\n    <tr>\n      <th>3</th>\n      <td>N1</td>\n      <td>1000003</td>\n      <td>link</td>\n      <td>link 2</td>\n      <td>3</td>\n      <td>3</td>\n      <td>1500</td>\n    </tr>\n    <tr>\n      <th>4</th>\n      <td>N1</td>\n      <td>1000004</td>\n      <td>bridge</td>\n      <td>bridge 2</td>\n      <td>4</td>\n      <td>4</td>\n      <td>8</td>\n    </tr>\n    <tr>\n      <th>5</th>\n      <td>N1</td>\n      <td>1000005</td>\n      <td>link</td>\n      <td>link 3</td>\n      <td>5</td>\n      <td>5</td>\n      <td>2000</td>\n    </tr>\n    <tr>\n      <th>6</th>\n      <td>N1</td>\n      <td>1000006</td>\n      <td>bridge</td>\n      <td>bridge 3</td>\n      <td>6</td>\n      <td>6</td>\n      <td>4</td>\n    </tr>\n    <tr>\n      <th>7</th>\n      <td>N1</td>\n      <td>1000007</td>\n      <td>link</td>\n      <td>link 4</td>\n      <td>7</td>\n      <td>7</td>\n      <td>2500</td>\n    </tr>\n    <tr>\n      <th>8</th>\n      <td>N1</td>\n      <td>1000008</td>\n      <td>bridge</td>\n      <td>bridge 4</td>\n      <td>8</td>\n      <td>8</td>\n      <td>500</td>\n    </tr>\n    <tr>\n      <th>9</th>\n      <td>N1</td>\n      <td>1000009</td>\n      <td>link</td>\n      <td>link 5</td>\n      <td>9</td>\n      <td>9</td>\n      <td>800</td>\n    </tr>\n    <tr>\n      <th>10</th>\n      <td>N1</td>\n      <td>1000010</td>\n      <td>sink</td>\n      <td>sink</td>\n      <td>10</td>\n      <td>10</td>\n      <td>20</td>\n    </tr>\n  </tbody>\n</table>\n</div>"
     },
     "execution_count": 99,
     "metadata": {},
     "output_type": "execute_result"
    }
   ],
   "source": [
    "demo1"
   ],
   "metadata": {
    "collapsed": false,
    "ExecuteTime": {
     "end_time": "2024-02-29T20:20:28.724820200Z",
     "start_time": "2024-02-29T20:20:28.627359700Z"
    }
   },
   "id": "f85f95d0fd684ad1"
  },
  {
   "cell_type": "code",
   "execution_count": 100,
   "outputs": [],
   "source": [
    "roads = pd.read_csv('../data/_roads3.csv')\n",
    "bmms = pd.read_excel('../data/BMMS_overview.xlsx')"
   ],
   "metadata": {
    "collapsed": false,
    "ExecuteTime": {
     "end_time": "2024-02-29T20:20:33.596175200Z",
     "start_time": "2024-02-29T20:20:28.728926900Z"
    }
   },
   "id": "d6da2cf8fc2274a5"
  },
  {
   "cell_type": "markdown",
   "source": [
    "Choices made:\n",
    "Road = N1\n",
    "Coordinates: lon 90.44 - 91.851 \n",
    "             lat 22.363 - 23.711\n",
    "             \n",
    "Length: ~247km\n",
    "Right or left?: Always the Left bridges\n",
    "Doubles: Combined and taken average condition, rounded up (so 1.5 = 2 is B. (so worse))\n",
    "Roads are combined into a link until a bridge arrives. \n",
    "id number is put behind the name as well\n",
    "Source is start of N1 in Dhaka\n",
    "Sink is middle of Chattogram on the N1\n"
   ],
   "metadata": {
    "collapsed": false
   },
   "id": "5347a63fbf82ac66"
  },
  {
   "cell_type": "code",
   "execution_count": 101,
   "outputs": [
    {
     "data": {
      "text/plain": "    road   id model_type      name        lat        lon  length  chainage\n0     N1    1       link    Link 1  23.706028  90.443333   0.814     0.000\n1     N1    2       link    Link 2  23.702917  90.450417   0.008     0.814\n2     N1    3       link    Link 3  23.702778  90.450472   0.178     0.822\n3     N1    4       link    Link 4  23.702139  90.451972   1.000     1.000\n4     N1    5       link    Link 5  23.697889  90.460583   0.130     2.000\n..   ...  ...        ...       ...        ...        ...     ...       ...\n560   N1  561       link  Link 561  22.376472  91.770416   0.019   231.442\n561   N1  562       link  Link 562  22.376225  91.770543   0.545   231.461\n562   N1  563       link  Link 563  22.369166  91.774194   0.555   232.006\n563   N1  564       link  Link 564  22.369138  91.777666   8.895   232.561\n566   N1  565       link  Link 565  22.364611  91.850833   0.000   241.456\n\n[565 rows x 8 columns]",
      "text/html": "<div>\n<style scoped>\n    .dataframe tbody tr th:only-of-type {\n        vertical-align: middle;\n    }\n\n    .dataframe tbody tr th {\n        vertical-align: top;\n    }\n\n    .dataframe thead th {\n        text-align: right;\n    }\n</style>\n<table border=\"1\" class=\"dataframe\">\n  <thead>\n    <tr style=\"text-align: right;\">\n      <th></th>\n      <th>road</th>\n      <th>id</th>\n      <th>model_type</th>\n      <th>name</th>\n      <th>lat</th>\n      <th>lon</th>\n      <th>length</th>\n      <th>chainage</th>\n    </tr>\n  </thead>\n  <tbody>\n    <tr>\n      <th>0</th>\n      <td>N1</td>\n      <td>1</td>\n      <td>link</td>\n      <td>Link 1</td>\n      <td>23.706028</td>\n      <td>90.443333</td>\n      <td>0.814</td>\n      <td>0.000</td>\n    </tr>\n    <tr>\n      <th>1</th>\n      <td>N1</td>\n      <td>2</td>\n      <td>link</td>\n      <td>Link 2</td>\n      <td>23.702917</td>\n      <td>90.450417</td>\n      <td>0.008</td>\n      <td>0.814</td>\n    </tr>\n    <tr>\n      <th>2</th>\n      <td>N1</td>\n      <td>3</td>\n      <td>link</td>\n      <td>Link 3</td>\n      <td>23.702778</td>\n      <td>90.450472</td>\n      <td>0.178</td>\n      <td>0.822</td>\n    </tr>\n    <tr>\n      <th>3</th>\n      <td>N1</td>\n      <td>4</td>\n      <td>link</td>\n      <td>Link 4</td>\n      <td>23.702139</td>\n      <td>90.451972</td>\n      <td>1.000</td>\n      <td>1.000</td>\n    </tr>\n    <tr>\n      <th>4</th>\n      <td>N1</td>\n      <td>5</td>\n      <td>link</td>\n      <td>Link 5</td>\n      <td>23.697889</td>\n      <td>90.460583</td>\n      <td>0.130</td>\n      <td>2.000</td>\n    </tr>\n    <tr>\n      <th>...</th>\n      <td>...</td>\n      <td>...</td>\n      <td>...</td>\n      <td>...</td>\n      <td>...</td>\n      <td>...</td>\n      <td>...</td>\n      <td>...</td>\n    </tr>\n    <tr>\n      <th>560</th>\n      <td>N1</td>\n      <td>561</td>\n      <td>link</td>\n      <td>Link 561</td>\n      <td>22.376472</td>\n      <td>91.770416</td>\n      <td>0.019</td>\n      <td>231.442</td>\n    </tr>\n    <tr>\n      <th>561</th>\n      <td>N1</td>\n      <td>562</td>\n      <td>link</td>\n      <td>Link 562</td>\n      <td>22.376225</td>\n      <td>91.770543</td>\n      <td>0.545</td>\n      <td>231.461</td>\n    </tr>\n    <tr>\n      <th>562</th>\n      <td>N1</td>\n      <td>563</td>\n      <td>link</td>\n      <td>Link 563</td>\n      <td>22.369166</td>\n      <td>91.774194</td>\n      <td>0.555</td>\n      <td>232.006</td>\n    </tr>\n    <tr>\n      <th>563</th>\n      <td>N1</td>\n      <td>564</td>\n      <td>link</td>\n      <td>Link 564</td>\n      <td>22.369138</td>\n      <td>91.777666</td>\n      <td>8.895</td>\n      <td>232.561</td>\n    </tr>\n    <tr>\n      <th>566</th>\n      <td>N1</td>\n      <td>565</td>\n      <td>link</td>\n      <td>Link 565</td>\n      <td>22.364611</td>\n      <td>91.850833</td>\n      <td>0.000</td>\n      <td>241.456</td>\n    </tr>\n  </tbody>\n</table>\n<p>565 rows × 8 columns</p>\n</div>"
     },
     "execution_count": 101,
     "metadata": {},
     "output_type": "execute_result"
    }
   ],
   "source": [
    "# Filter the 'roads' DataFrame for rows where the 'road' column is 'N1'\n",
    "n1_roads = roads[roads['road'] == 'N1']\n",
    "n1_roads = n1_roads[(n1_roads['lon'] >= 90.44) & (n1_roads['lon'] <= 91.851) &\n",
    "                 (n1_roads['lat'] >= 22.363) & (n1_roads['lat'] <= 23.711)]\n",
    "\n",
    "# Generate an ID sequence starting from 1\n",
    "n1_roads['id'] = range(1, len(n1_roads) + 1)\n",
    "\n",
    "# Set model_type to 'link' for all rows\n",
    "n1_roads['model_type'] = 'link'\n",
    "\n",
    "# Generate 'name' as \"Link\" + id as string\n",
    "n1_roads['name'] = ['Link ' + str(id) for id in n1_roads['id']]\n",
    "\n",
    "# Calculate 'length' as difference between this row's 'chainage' and the next row's 'chainage'\n",
    "# Shift(-1) moves the chainage up by one row to subtract, fillna(0) to handle the last item\n",
    "n1_roads['length'] = (n1_roads['chainage'].shift(-1) - n1_roads['chainage']).fillna(0)\n",
    "\n",
    "# Selecting the columns needed for the empty DataFrame\n",
    "n1_roads_final = n1_roads[['road', 'id', 'model_type', 'name', 'lat', 'lon', 'length', 'chainage']]\n",
    "\n",
    "# Display the first few rows of the final DataFrame\n",
    "n1_roads_final\n"
   ],
   "metadata": {
    "collapsed": false,
    "ExecuteTime": {
     "end_time": "2024-02-29T20:20:33.629182100Z",
     "start_time": "2024-02-29T20:20:33.601226800Z"
    }
   },
   "id": "79f9c77b9c32c33c"
  },
  {
   "cell_type": "code",
   "execution_count": 102,
   "outputs": [
    {
     "data": {
      "text/plain": "    road   id model_type                     name        lat        lon  \\\n0     N1    1       link                   Link 1  23.706028  90.443333   \n1     N1    2       link                   Link 2  23.702917  90.450417   \n2     N1    3       link                   Link 3  23.702778  90.450472   \n3     N1    4       link                   Link 4  23.702139  90.451972   \n565   N1  566     bridge                        .  23.698739  90.458861   \n..   ...  ...        ...                      ...        ...        ...   \n561   N1  562       link                 Link 562  22.376225  91.770543   \n706   N1  707     bridge  CORNAIL HAT BOX CULVERT  22.369684  91.773926   \n562   N1  563       link                 Link 563  22.369166  91.774194   \n563   N1  564       link                 Link 564  22.369138  91.777666   \n564   N1  565       link                 Link 565  22.364611  91.850833   \n\n     length  chainage condition  \n0    0.8140     0.000       NaN  \n1    0.0080     0.814       NaN  \n2    0.1780     0.822       NaN  \n3    1.0000     1.000       NaN  \n565  0.0113     1.800         A  \n..      ...       ...       ...  \n561  0.5450   231.461       NaN  \n706  0.0030   231.966         A  \n562  0.5550   232.006       NaN  \n563  8.8950   232.561       NaN  \n564  0.0000   241.456       NaN  \n\n[808 rows x 9 columns]",
      "text/html": "<div>\n<style scoped>\n    .dataframe tbody tr th:only-of-type {\n        vertical-align: middle;\n    }\n\n    .dataframe tbody tr th {\n        vertical-align: top;\n    }\n\n    .dataframe thead th {\n        text-align: right;\n    }\n</style>\n<table border=\"1\" class=\"dataframe\">\n  <thead>\n    <tr style=\"text-align: right;\">\n      <th></th>\n      <th>road</th>\n      <th>id</th>\n      <th>model_type</th>\n      <th>name</th>\n      <th>lat</th>\n      <th>lon</th>\n      <th>length</th>\n      <th>chainage</th>\n      <th>condition</th>\n    </tr>\n  </thead>\n  <tbody>\n    <tr>\n      <th>0</th>\n      <td>N1</td>\n      <td>1</td>\n      <td>link</td>\n      <td>Link 1</td>\n      <td>23.706028</td>\n      <td>90.443333</td>\n      <td>0.8140</td>\n      <td>0.000</td>\n      <td>NaN</td>\n    </tr>\n    <tr>\n      <th>1</th>\n      <td>N1</td>\n      <td>2</td>\n      <td>link</td>\n      <td>Link 2</td>\n      <td>23.702917</td>\n      <td>90.450417</td>\n      <td>0.0080</td>\n      <td>0.814</td>\n      <td>NaN</td>\n    </tr>\n    <tr>\n      <th>2</th>\n      <td>N1</td>\n      <td>3</td>\n      <td>link</td>\n      <td>Link 3</td>\n      <td>23.702778</td>\n      <td>90.450472</td>\n      <td>0.1780</td>\n      <td>0.822</td>\n      <td>NaN</td>\n    </tr>\n    <tr>\n      <th>3</th>\n      <td>N1</td>\n      <td>4</td>\n      <td>link</td>\n      <td>Link 4</td>\n      <td>23.702139</td>\n      <td>90.451972</td>\n      <td>1.0000</td>\n      <td>1.000</td>\n      <td>NaN</td>\n    </tr>\n    <tr>\n      <th>565</th>\n      <td>N1</td>\n      <td>566</td>\n      <td>bridge</td>\n      <td>.</td>\n      <td>23.698739</td>\n      <td>90.458861</td>\n      <td>0.0113</td>\n      <td>1.800</td>\n      <td>A</td>\n    </tr>\n    <tr>\n      <th>...</th>\n      <td>...</td>\n      <td>...</td>\n      <td>...</td>\n      <td>...</td>\n      <td>...</td>\n      <td>...</td>\n      <td>...</td>\n      <td>...</td>\n      <td>...</td>\n    </tr>\n    <tr>\n      <th>561</th>\n      <td>N1</td>\n      <td>562</td>\n      <td>link</td>\n      <td>Link 562</td>\n      <td>22.376225</td>\n      <td>91.770543</td>\n      <td>0.5450</td>\n      <td>231.461</td>\n      <td>NaN</td>\n    </tr>\n    <tr>\n      <th>706</th>\n      <td>N1</td>\n      <td>707</td>\n      <td>bridge</td>\n      <td>CORNAIL HAT BOX CULVERT</td>\n      <td>22.369684</td>\n      <td>91.773926</td>\n      <td>0.0030</td>\n      <td>231.966</td>\n      <td>A</td>\n    </tr>\n    <tr>\n      <th>562</th>\n      <td>N1</td>\n      <td>563</td>\n      <td>link</td>\n      <td>Link 563</td>\n      <td>22.369166</td>\n      <td>91.774194</td>\n      <td>0.5550</td>\n      <td>232.006</td>\n      <td>NaN</td>\n    </tr>\n    <tr>\n      <th>563</th>\n      <td>N1</td>\n      <td>564</td>\n      <td>link</td>\n      <td>Link 564</td>\n      <td>22.369138</td>\n      <td>91.777666</td>\n      <td>8.8950</td>\n      <td>232.561</td>\n      <td>NaN</td>\n    </tr>\n    <tr>\n      <th>564</th>\n      <td>N1</td>\n      <td>565</td>\n      <td>link</td>\n      <td>Link 565</td>\n      <td>22.364611</td>\n      <td>91.850833</td>\n      <td>0.0000</td>\n      <td>241.456</td>\n      <td>NaN</td>\n    </tr>\n  </tbody>\n</table>\n<p>808 rows × 9 columns</p>\n</div>"
     },
     "execution_count": 102,
     "metadata": {},
     "output_type": "execute_result"
    }
   ],
   "source": [
    "# Filter BMMS data for road 'N1'\n",
    "bmms_n1 = bmms[bmms['road'] == 'N1'].copy()\n",
    "bmms_n1 = bmms_n1[(bmms_n1['lon'] >= 90.44) & (bmms_n1['lon'] <= 91.851) &\n",
    "                 (bmms_n1['lat'] >= 22.363) & (bmms_n1['lat'] <= 23.711)]\n",
    "\n",
    "bmms_n1 = bmms_n1[~bmms_n1['name'].str.contains(r\"\\(R\\)\", na=False)]\n",
    "bmms_n1 = bmms_n1[~bmms_n1['name'].str.contains(\"right\", case=False, na=False)]\n",
    "bmms_n1 = bmms_n1[~bmms_n1['name'].str.contains(\"RIGHT\", case=False, na=False)]\n",
    "bmms_n1 = bmms_n1[~bmms_n1['name'].str.contains(r\"\\( R \\)\", na=False)]\n",
    "\n",
    "# Set up for new entries\n",
    "bmms_n1['model_type'] = 'bridge'\n",
    "#bmms_n1['name'] = ['Bridge ' + str(i+1) for i in range(bmms_n1.shape[0])]\n",
    "bmms_n1['id'] = range(n1_roads_final['id'].max() + 1, n1_roads_final['id'].max() + 1 + bmms_n1.shape[0])\n",
    "bmms_n1['chainage'] = bmms_n1['km']  # Use 'km' as 'chainage'\n",
    "bmms_n1['length'] = bmms_n1['length'] / 1000\n",
    "\n",
    "# Select and rename columns to match the format of `n1_roads_final_with_chainage`\n",
    "bmms_n1_formatted = bmms_n1[['road', 'id', 'model_type', 'name', 'lat', 'lon', 'chainage', 'length', 'condition']]\n",
    "\n",
    "# Combine the dataframes and sort by chainage\n",
    "combined_df = pd.concat([n1_roads_final, bmms_n1_formatted], ignore_index=True).sort_values(by='chainage')\n",
    "\n",
    "# Display the first few rows of the combined and sorted DataFrame\n",
    "combined_df\n"
   ],
   "metadata": {
    "collapsed": false,
    "ExecuteTime": {
     "end_time": "2024-02-29T20:20:33.659073500Z",
     "start_time": "2024-02-29T20:20:33.625223800Z"
    }
   },
   "id": "c39fed29ffccda55"
  },
  {
   "cell_type": "code",
   "execution_count": 103,
   "outputs": [],
   "source": [
    "combined_df.iloc[0, 2] = 'source'\n",
    "combined_df.iloc[-1, combined_df.columns.get_loc('model_type')] = 'sink'\n",
    "combined_df.reset_index(drop=True, inplace=True)\n",
    "count = 1\n",
    "for index, row in combined_df.iterrows():\n",
    "    combined_df.iloc[index, 1] = count\n",
    "    count += 1\n"
   ],
   "metadata": {
    "collapsed": false,
    "ExecuteTime": {
     "end_time": "2024-02-29T20:20:33.845028Z",
     "start_time": "2024-02-29T20:20:33.657834800Z"
    }
   },
   "id": "a1e064c49d275b64"
  },
  {
   "cell_type": "code",
   "execution_count": 104,
   "outputs": [
    {
     "name": "stderr",
     "output_type": "stream",
     "text": [
      "C:\\Users\\svenk\\AppData\\Local\\Temp\\ipykernel_1468\\2745667964.py:28: FutureWarning: The behavior of DataFrame concatenation with empty or all-NA entries is deprecated. In a future version, this will no longer exclude empty or all-NA columns when determining the result dtypes. To retain the old behavior, exclude the relevant entries before the concat operation.\n",
      "  n1_combined = pd.concat([n1_combined, pd.DataFrame(rows_to_add)], ignore_index=True)\n"
     ]
    },
    {
     "data": {
      "text/plain": "    road   id model_type                     name  length condition\n0     N1    1     source                   Link 1  0.8140       NaN\n1     N1    4       link                   Link 4  1.1860       NaN\n2     N1    5     bridge                        .  0.0113         A\n3     N1   10       link                   Link 9  3.0000       NaN\n4     N1   11     bridge                        .  0.0066         A\n..   ...  ...        ...                      ...     ...       ...\n432   N1  801     bridge        GLAXO BOX CULVERT  0.0083         A\n433   N1  804       link                 Link 562  1.0000       NaN\n434   N1  805     bridge  CORNAIL HAT BOX CULVERT  0.0030         A\n435   N1  807       link                 Link 564  9.4500       NaN\n436   N1  808       sink                 Link 565  0.0000       NaN\n\n[437 rows x 6 columns]",
      "text/html": "<div>\n<style scoped>\n    .dataframe tbody tr th:only-of-type {\n        vertical-align: middle;\n    }\n\n    .dataframe tbody tr th {\n        vertical-align: top;\n    }\n\n    .dataframe thead th {\n        text-align: right;\n    }\n</style>\n<table border=\"1\" class=\"dataframe\">\n  <thead>\n    <tr style=\"text-align: right;\">\n      <th></th>\n      <th>road</th>\n      <th>id</th>\n      <th>model_type</th>\n      <th>name</th>\n      <th>length</th>\n      <th>condition</th>\n    </tr>\n  </thead>\n  <tbody>\n    <tr>\n      <th>0</th>\n      <td>N1</td>\n      <td>1</td>\n      <td>source</td>\n      <td>Link 1</td>\n      <td>0.8140</td>\n      <td>NaN</td>\n    </tr>\n    <tr>\n      <th>1</th>\n      <td>N1</td>\n      <td>4</td>\n      <td>link</td>\n      <td>Link 4</td>\n      <td>1.1860</td>\n      <td>NaN</td>\n    </tr>\n    <tr>\n      <th>2</th>\n      <td>N1</td>\n      <td>5</td>\n      <td>bridge</td>\n      <td>.</td>\n      <td>0.0113</td>\n      <td>A</td>\n    </tr>\n    <tr>\n      <th>3</th>\n      <td>N1</td>\n      <td>10</td>\n      <td>link</td>\n      <td>Link 9</td>\n      <td>3.0000</td>\n      <td>NaN</td>\n    </tr>\n    <tr>\n      <th>4</th>\n      <td>N1</td>\n      <td>11</td>\n      <td>bridge</td>\n      <td>.</td>\n      <td>0.0066</td>\n      <td>A</td>\n    </tr>\n    <tr>\n      <th>...</th>\n      <td>...</td>\n      <td>...</td>\n      <td>...</td>\n      <td>...</td>\n      <td>...</td>\n      <td>...</td>\n    </tr>\n    <tr>\n      <th>432</th>\n      <td>N1</td>\n      <td>801</td>\n      <td>bridge</td>\n      <td>GLAXO BOX CULVERT</td>\n      <td>0.0083</td>\n      <td>A</td>\n    </tr>\n    <tr>\n      <th>433</th>\n      <td>N1</td>\n      <td>804</td>\n      <td>link</td>\n      <td>Link 562</td>\n      <td>1.0000</td>\n      <td>NaN</td>\n    </tr>\n    <tr>\n      <th>434</th>\n      <td>N1</td>\n      <td>805</td>\n      <td>bridge</td>\n      <td>CORNAIL HAT BOX CULVERT</td>\n      <td>0.0030</td>\n      <td>A</td>\n    </tr>\n    <tr>\n      <th>435</th>\n      <td>N1</td>\n      <td>807</td>\n      <td>link</td>\n      <td>Link 564</td>\n      <td>9.4500</td>\n      <td>NaN</td>\n    </tr>\n    <tr>\n      <th>436</th>\n      <td>N1</td>\n      <td>808</td>\n      <td>sink</td>\n      <td>Link 565</td>\n      <td>0.0000</td>\n      <td>NaN</td>\n    </tr>\n  </tbody>\n</table>\n<p>437 rows × 6 columns</p>\n</div>"
     },
     "execution_count": 104,
     "metadata": {},
     "output_type": "execute_result"
    }
   ],
   "source": [
    "#add together the links\n",
    "length = 0\n",
    "rows_to_add = []  # List to accumulate rows\n",
    "last_row = None\n",
    "\n",
    "# Initialize the DataFrame\n",
    "n1_combined = pd.DataFrame(columns=['road', \"id\", 'model_type', 'name', 'length', 'condition'])\n",
    "\n",
    "for index, row in combined_df.iterrows():\n",
    "    if row['model_type'] == 'source':\n",
    "        rows_to_add.append({'road': row['road'], 'id': row['id'], 'model_type': row['model_type'],\n",
    "                            'name': row['name'], 'length': row['length'], 'condition': row['condition']})\n",
    "        length = 0  # Reset length after adding the combined link\n",
    "    elif row['model_type'] == 'link':\n",
    "        length += row['length']\n",
    "    elif row['model_type'] in ['bridge', 'sink']:\n",
    "        if last_row is not None and last_row['model_type'] == 'link':\n",
    "            # Add the previous link with the new length\n",
    "            rows_to_add.append({'road': last_row['road'], 'id': last_row['id'], 'model_type': last_row['model_type'],\n",
    "                                'name': last_row['name'], 'length': length, 'condition': last_row['condition']})\n",
    "        # Now add the current row (bridge or sink)\n",
    "        rows_to_add.append({'road': row['road'], 'id': row['id'], 'model_type': row['model_type'],\n",
    "                            'name': row['name'], 'length': row['length'], 'condition': row['condition']})\n",
    "        length = 0  # Reset length after adding the combined link\n",
    "    last_row = row\n",
    "\n",
    "# Once the loop is complete, add all accumulated rows to n1_combined\n",
    "n1_combined = pd.concat([n1_combined, pd.DataFrame(rows_to_add)], ignore_index=True)\n",
    "n1_combined"
   ],
   "metadata": {
    "collapsed": false,
    "ExecuteTime": {
     "end_time": "2024-02-29T20:20:33.857232Z",
     "start_time": "2024-02-29T20:20:33.755375700Z"
    }
   },
   "id": "cf4be2e200adf063"
  },
  {
   "cell_type": "code",
   "execution_count": 105,
   "outputs": [],
   "source": [
    "n1_combined.to_csv('../data/n1_model.csv', index=False)"
   ],
   "metadata": {
    "collapsed": false,
    "ExecuteTime": {
     "end_time": "2024-02-29T20:20:33.858231100Z",
     "start_time": "2024-02-29T20:20:33.826036900Z"
    }
   },
   "id": "66667b68acf618b1"
  },
  {
   "cell_type": "code",
   "execution_count": 106,
   "outputs": [],
   "source": [
    "n1 = pd.read_csv('../data/n1_model.csv')"
   ],
   "metadata": {
    "collapsed": false,
    "ExecuteTime": {
     "end_time": "2024-02-29T20:20:33.859305600Z",
     "start_time": "2024-02-29T20:20:33.834917800Z"
    }
   },
   "id": "5717d174086fa561"
  },
  {
   "cell_type": "code",
   "execution_count": 107,
   "outputs": [
    {
     "data": {
      "text/plain": "    road   id model_type                     name  length condition\n0     N1    1     source                   Link 1  0.8140       NaN\n1     N1    4       link                   Link 4  1.1860       NaN\n2     N1    5     bridge                        .  0.0113         A\n3     N1   10       link                   Link 9  3.0000       NaN\n4     N1   11     bridge                        .  0.0066         A\n..   ...  ...        ...                      ...     ...       ...\n432   N1  801     bridge        GLAXO BOX CULVERT  0.0083         A\n433   N1  804       link                 Link 562  1.0000       NaN\n434   N1  805     bridge  CORNAIL HAT BOX CULVERT  0.0030         A\n435   N1  807       link                 Link 564  9.4500       NaN\n436   N1  808       sink                 Link 565  0.0000       NaN\n\n[437 rows x 6 columns]",
      "text/html": "<div>\n<style scoped>\n    .dataframe tbody tr th:only-of-type {\n        vertical-align: middle;\n    }\n\n    .dataframe tbody tr th {\n        vertical-align: top;\n    }\n\n    .dataframe thead th {\n        text-align: right;\n    }\n</style>\n<table border=\"1\" class=\"dataframe\">\n  <thead>\n    <tr style=\"text-align: right;\">\n      <th></th>\n      <th>road</th>\n      <th>id</th>\n      <th>model_type</th>\n      <th>name</th>\n      <th>length</th>\n      <th>condition</th>\n    </tr>\n  </thead>\n  <tbody>\n    <tr>\n      <th>0</th>\n      <td>N1</td>\n      <td>1</td>\n      <td>source</td>\n      <td>Link 1</td>\n      <td>0.8140</td>\n      <td>NaN</td>\n    </tr>\n    <tr>\n      <th>1</th>\n      <td>N1</td>\n      <td>4</td>\n      <td>link</td>\n      <td>Link 4</td>\n      <td>1.1860</td>\n      <td>NaN</td>\n    </tr>\n    <tr>\n      <th>2</th>\n      <td>N1</td>\n      <td>5</td>\n      <td>bridge</td>\n      <td>.</td>\n      <td>0.0113</td>\n      <td>A</td>\n    </tr>\n    <tr>\n      <th>3</th>\n      <td>N1</td>\n      <td>10</td>\n      <td>link</td>\n      <td>Link 9</td>\n      <td>3.0000</td>\n      <td>NaN</td>\n    </tr>\n    <tr>\n      <th>4</th>\n      <td>N1</td>\n      <td>11</td>\n      <td>bridge</td>\n      <td>.</td>\n      <td>0.0066</td>\n      <td>A</td>\n    </tr>\n    <tr>\n      <th>...</th>\n      <td>...</td>\n      <td>...</td>\n      <td>...</td>\n      <td>...</td>\n      <td>...</td>\n      <td>...</td>\n    </tr>\n    <tr>\n      <th>432</th>\n      <td>N1</td>\n      <td>801</td>\n      <td>bridge</td>\n      <td>GLAXO BOX CULVERT</td>\n      <td>0.0083</td>\n      <td>A</td>\n    </tr>\n    <tr>\n      <th>433</th>\n      <td>N1</td>\n      <td>804</td>\n      <td>link</td>\n      <td>Link 562</td>\n      <td>1.0000</td>\n      <td>NaN</td>\n    </tr>\n    <tr>\n      <th>434</th>\n      <td>N1</td>\n      <td>805</td>\n      <td>bridge</td>\n      <td>CORNAIL HAT BOX CULVERT</td>\n      <td>0.0030</td>\n      <td>A</td>\n    </tr>\n    <tr>\n      <th>435</th>\n      <td>N1</td>\n      <td>807</td>\n      <td>link</td>\n      <td>Link 564</td>\n      <td>9.4500</td>\n      <td>NaN</td>\n    </tr>\n    <tr>\n      <th>436</th>\n      <td>N1</td>\n      <td>808</td>\n      <td>sink</td>\n      <td>Link 565</td>\n      <td>0.0000</td>\n      <td>NaN</td>\n    </tr>\n  </tbody>\n</table>\n<p>437 rows × 6 columns</p>\n</div>"
     },
     "execution_count": 107,
     "metadata": {},
     "output_type": "execute_result"
    }
   ],
   "source": [
    "n1"
   ],
   "metadata": {
    "collapsed": false,
    "ExecuteTime": {
     "end_time": "2024-02-29T20:20:33.902093800Z",
     "start_time": "2024-02-29T20:20:33.848032600Z"
    }
   },
   "id": "81dd268eb6fe58a5"
  },
  {
   "cell_type": "code",
   "execution_count": 108,
   "outputs": [],
   "source": [
    "duplicates_df = bmms_n1[bmms_n1.duplicated('km', keep=False)]"
   ],
   "metadata": {
    "collapsed": false,
    "ExecuteTime": {
     "end_time": "2024-02-29T20:20:33.904094200Z",
     "start_time": "2024-02-29T20:20:33.858231100Z"
    }
   },
   "id": "39651d3833a18c2a"
  },
  {
   "cell_type": "code",
   "execution_count": 109,
   "outputs": [
    {
     "data": {
      "text/plain": "    road   id model_type                     name  length condition  \\\n0     N1    1     source                   Link 1  0.8140       NaN   \n1     N1    4       link                   Link 4  1.1860       NaN   \n2     N1    5     bridge                        .  0.0113         A   \n3     N1   10       link                   Link 9  3.0000       NaN   \n4     N1   11     bridge                        .  0.0066         A   \n..   ...  ...        ...                      ...     ...       ...   \n432   N1  801     bridge        GLAXO BOX CULVERT  0.0083         A   \n433   N1  804       link                 Link 562  1.0000       NaN   \n434   N1  805     bridge  CORNAIL HAT BOX CULVERT  0.0030         A   \n435   N1  807       link                 Link 564  9.4500       NaN   \n436   N1  808       sink                 Link 565  0.0000       NaN   \n\n     condition_num  \n0              NaN  \n1              NaN  \n2              1.0  \n3              NaN  \n4              1.0  \n..             ...  \n432            1.0  \n433            NaN  \n434            1.0  \n435            NaN  \n436            NaN  \n\n[437 rows x 7 columns]",
      "text/html": "<div>\n<style scoped>\n    .dataframe tbody tr th:only-of-type {\n        vertical-align: middle;\n    }\n\n    .dataframe tbody tr th {\n        vertical-align: top;\n    }\n\n    .dataframe thead th {\n        text-align: right;\n    }\n</style>\n<table border=\"1\" class=\"dataframe\">\n  <thead>\n    <tr style=\"text-align: right;\">\n      <th></th>\n      <th>road</th>\n      <th>id</th>\n      <th>model_type</th>\n      <th>name</th>\n      <th>length</th>\n      <th>condition</th>\n      <th>condition_num</th>\n    </tr>\n  </thead>\n  <tbody>\n    <tr>\n      <th>0</th>\n      <td>N1</td>\n      <td>1</td>\n      <td>source</td>\n      <td>Link 1</td>\n      <td>0.8140</td>\n      <td>NaN</td>\n      <td>NaN</td>\n    </tr>\n    <tr>\n      <th>1</th>\n      <td>N1</td>\n      <td>4</td>\n      <td>link</td>\n      <td>Link 4</td>\n      <td>1.1860</td>\n      <td>NaN</td>\n      <td>NaN</td>\n    </tr>\n    <tr>\n      <th>2</th>\n      <td>N1</td>\n      <td>5</td>\n      <td>bridge</td>\n      <td>.</td>\n      <td>0.0113</td>\n      <td>A</td>\n      <td>1.0</td>\n    </tr>\n    <tr>\n      <th>3</th>\n      <td>N1</td>\n      <td>10</td>\n      <td>link</td>\n      <td>Link 9</td>\n      <td>3.0000</td>\n      <td>NaN</td>\n      <td>NaN</td>\n    </tr>\n    <tr>\n      <th>4</th>\n      <td>N1</td>\n      <td>11</td>\n      <td>bridge</td>\n      <td>.</td>\n      <td>0.0066</td>\n      <td>A</td>\n      <td>1.0</td>\n    </tr>\n    <tr>\n      <th>...</th>\n      <td>...</td>\n      <td>...</td>\n      <td>...</td>\n      <td>...</td>\n      <td>...</td>\n      <td>...</td>\n      <td>...</td>\n    </tr>\n    <tr>\n      <th>432</th>\n      <td>N1</td>\n      <td>801</td>\n      <td>bridge</td>\n      <td>GLAXO BOX CULVERT</td>\n      <td>0.0083</td>\n      <td>A</td>\n      <td>1.0</td>\n    </tr>\n    <tr>\n      <th>433</th>\n      <td>N1</td>\n      <td>804</td>\n      <td>link</td>\n      <td>Link 562</td>\n      <td>1.0000</td>\n      <td>NaN</td>\n      <td>NaN</td>\n    </tr>\n    <tr>\n      <th>434</th>\n      <td>N1</td>\n      <td>805</td>\n      <td>bridge</td>\n      <td>CORNAIL HAT BOX CULVERT</td>\n      <td>0.0030</td>\n      <td>A</td>\n      <td>1.0</td>\n    </tr>\n    <tr>\n      <th>435</th>\n      <td>N1</td>\n      <td>807</td>\n      <td>link</td>\n      <td>Link 564</td>\n      <td>9.4500</td>\n      <td>NaN</td>\n      <td>NaN</td>\n    </tr>\n    <tr>\n      <th>436</th>\n      <td>N1</td>\n      <td>808</td>\n      <td>sink</td>\n      <td>Link 565</td>\n      <td>0.0000</td>\n      <td>NaN</td>\n      <td>NaN</td>\n    </tr>\n  </tbody>\n</table>\n<p>437 rows × 7 columns</p>\n</div>"
     },
     "execution_count": 109,
     "metadata": {},
     "output_type": "execute_result"
    }
   ],
   "source": [
    "# Assuming duplicates_df is your DataFrame\n",
    "# Convert 'condition' to a numerical value for averaging\n",
    "condition_mapping = {'A': 1, 'B': 2, 'C': 3, 'D': 4, 'E': 5}\n",
    "n1['condition_num'] = n1['condition'].map(condition_mapping)\n",
    "n1"
   ],
   "metadata": {
    "collapsed": false,
    "ExecuteTime": {
     "end_time": "2024-02-29T20:20:33.964859300Z",
     "start_time": "2024-02-29T20:20:33.867689600Z"
    }
   },
   "id": "c9be4495eec526f7"
  },
  {
   "cell_type": "markdown",
   "source": [],
   "metadata": {
    "collapsed": false
   },
   "id": "9a410a11b59a41bb"
  },
  {
   "cell_type": "code",
   "execution_count": 110,
   "outputs": [
    {
     "name": "stderr",
     "output_type": "stream",
     "text": [
      "C:\\Users\\svenk\\AppData\\Local\\Temp\\ipykernel_1468\\3243431056.py:31: FutureWarning: The behavior of DataFrame concatenation with empty or all-NA entries is deprecated. In a future version, this will no longer exclude empty or all-NA columns when determining the result dtypes. To retain the old behavior, exclude the relevant entries before the concat operation.\n",
      "  n1_new = pd.concat([n1_new, pd.DataFrame(rows_to_add)], ignore_index=True)\n"
     ]
    },
    {
     "data": {
      "text/plain": "    road   id model_type                     name  length condition  \\\n0     N1    1     source                   Link 1  0.8140       NaN   \n1     N1    4       link                   Link 4  1.1860       NaN   \n2     N1    5     bridge                        .  0.0113         A   \n3     N1   10       link                   Link 9  3.0000       NaN   \n4     N1   11     bridge                        .  0.0066         A   \n..   ...  ...        ...                      ...     ...       ...   \n380   N1  801     bridge        GLAXO BOX CULVERT  0.0083         A   \n381   N1  804       link                 Link 562  1.0000       NaN   \n382   N1  805     bridge  CORNAIL HAT BOX CULVERT  0.0030         A   \n383   N1  807       link                 Link 564  9.4500       NaN   \n384   N1  808       sink                 Link 565  0.0000       NaN   \n\n     condition_num  \n0              NaN  \n1              NaN  \n2              1.0  \n3              NaN  \n4              1.0  \n..             ...  \n380            1.0  \n381            NaN  \n382            1.0  \n383            NaN  \n384            NaN  \n\n[385 rows x 7 columns]",
      "text/html": "<div>\n<style scoped>\n    .dataframe tbody tr th:only-of-type {\n        vertical-align: middle;\n    }\n\n    .dataframe tbody tr th {\n        vertical-align: top;\n    }\n\n    .dataframe thead th {\n        text-align: right;\n    }\n</style>\n<table border=\"1\" class=\"dataframe\">\n  <thead>\n    <tr style=\"text-align: right;\">\n      <th></th>\n      <th>road</th>\n      <th>id</th>\n      <th>model_type</th>\n      <th>name</th>\n      <th>length</th>\n      <th>condition</th>\n      <th>condition_num</th>\n    </tr>\n  </thead>\n  <tbody>\n    <tr>\n      <th>0</th>\n      <td>N1</td>\n      <td>1</td>\n      <td>source</td>\n      <td>Link 1</td>\n      <td>0.8140</td>\n      <td>NaN</td>\n      <td>NaN</td>\n    </tr>\n    <tr>\n      <th>1</th>\n      <td>N1</td>\n      <td>4</td>\n      <td>link</td>\n      <td>Link 4</td>\n      <td>1.1860</td>\n      <td>NaN</td>\n      <td>NaN</td>\n    </tr>\n    <tr>\n      <th>2</th>\n      <td>N1</td>\n      <td>5</td>\n      <td>bridge</td>\n      <td>.</td>\n      <td>0.0113</td>\n      <td>A</td>\n      <td>1.0</td>\n    </tr>\n    <tr>\n      <th>3</th>\n      <td>N1</td>\n      <td>10</td>\n      <td>link</td>\n      <td>Link 9</td>\n      <td>3.0000</td>\n      <td>NaN</td>\n      <td>NaN</td>\n    </tr>\n    <tr>\n      <th>4</th>\n      <td>N1</td>\n      <td>11</td>\n      <td>bridge</td>\n      <td>.</td>\n      <td>0.0066</td>\n      <td>A</td>\n      <td>1.0</td>\n    </tr>\n    <tr>\n      <th>...</th>\n      <td>...</td>\n      <td>...</td>\n      <td>...</td>\n      <td>...</td>\n      <td>...</td>\n      <td>...</td>\n      <td>...</td>\n    </tr>\n    <tr>\n      <th>380</th>\n      <td>N1</td>\n      <td>801</td>\n      <td>bridge</td>\n      <td>GLAXO BOX CULVERT</td>\n      <td>0.0083</td>\n      <td>A</td>\n      <td>1.0</td>\n    </tr>\n    <tr>\n      <th>381</th>\n      <td>N1</td>\n      <td>804</td>\n      <td>link</td>\n      <td>Link 562</td>\n      <td>1.0000</td>\n      <td>NaN</td>\n      <td>NaN</td>\n    </tr>\n    <tr>\n      <th>382</th>\n      <td>N1</td>\n      <td>805</td>\n      <td>bridge</td>\n      <td>CORNAIL HAT BOX CULVERT</td>\n      <td>0.0030</td>\n      <td>A</td>\n      <td>1.0</td>\n    </tr>\n    <tr>\n      <th>383</th>\n      <td>N1</td>\n      <td>807</td>\n      <td>link</td>\n      <td>Link 564</td>\n      <td>9.4500</td>\n      <td>NaN</td>\n      <td>NaN</td>\n    </tr>\n    <tr>\n      <th>384</th>\n      <td>N1</td>\n      <td>808</td>\n      <td>sink</td>\n      <td>Link 565</td>\n      <td>0.0000</td>\n      <td>NaN</td>\n      <td>NaN</td>\n    </tr>\n  </tbody>\n</table>\n<p>385 rows × 7 columns</p>\n</div>"
     },
     "execution_count": 110,
     "metadata": {},
     "output_type": "execute_result"
    }
   ],
   "source": [
    "#add together the links\n",
    "amount = 0\n",
    "condition_sum = 0\n",
    "rows_to_add = []  # List to accumulate rows\n",
    "last_row = None\n",
    "\n",
    "# Initialize the DataFrame\n",
    "n1_new = pd.DataFrame(columns=['road', \"id\", 'model_type', 'name', 'length', 'condition', 'condition_num'])\n",
    "for index,row in n1.iterrows():\n",
    "    if last_row is not None:\n",
    "        if row['model_type'] == 'bridge':\n",
    "            amount += 1\n",
    "            condition_sum += row['condition_num']\n",
    "        if row['model_type'] != 'bridge' and last_row['model_type'] != 'bridge':\n",
    "            rows_to_add.append({'road': row['road'], 'id': row['id'], 'model_type': row['model_type'],\n",
    "                                'name': row['name'], 'length': row['length'], 'condition': row['condition'], 'condition_num': row['condition_num']})\n",
    "            amount = 0\n",
    "            condition_sum = 0\n",
    "        if row['model_type'] != 'bridge' and last_row['model_type'] == 'bridge':\n",
    "            rows_to_add.append({'road': last_row['road'], 'id': last_row['id'], 'model_type': last_row['model_type'],\n",
    "                                    'name': last_row['name'], 'length': last_row['length'], 'condition': last_row['condition'], 'condition_num': condition_sum/amount})\n",
    "            amount = 0\n",
    "            condition_sum = 0\n",
    "            rows_to_add.append({'road': row['road'], 'id': row['id'], 'model_type': row['model_type'],\n",
    "                                'name': row['name'], 'length': row['length'], 'condition': row['condition'], 'condition_num': row['condition_num']})\n",
    "    else:\n",
    "        rows_to_add.append({'road': row['road'], 'id': row['id'], 'model_type': row['model_type'],\n",
    "                                'name': row['name'], 'length': row['length'], 'condition': row['condition'], 'condition_num': row['condition_num']})\n",
    "    last_row =row\n",
    "    \n",
    "n1_new = pd.concat([n1_new, pd.DataFrame(rows_to_add)], ignore_index=True)\n",
    "n1_new\n",
    "        \n",
    "        \n",
    "        "
   ],
   "metadata": {
    "collapsed": false,
    "ExecuteTime": {
     "end_time": "2024-02-29T20:20:34.040788Z",
     "start_time": "2024-02-29T20:20:33.880624600Z"
    }
   },
   "id": "b20892e7104fb0ae"
  },
  {
   "cell_type": "code",
   "execution_count": 111,
   "outputs": [
    {
     "data": {
      "text/plain": "    road   id model_type                     name  length condition  \\\n0     N1    1     source                   Link 1  0.8140       NaN   \n1     N1    4       link                   Link 4  1.1860       NaN   \n2     N1    5     bridge                        .  0.0113         A   \n3     N1   10       link                   Link 9  3.0000       NaN   \n4     N1   11     bridge                        .  0.0066         A   \n..   ...  ...        ...                      ...     ...       ...   \n380   N1  801     bridge        GLAXO BOX CULVERT  0.0083         A   \n381   N1  804       link                 Link 562  1.0000       NaN   \n382   N1  805     bridge  CORNAIL HAT BOX CULVERT  0.0030         A   \n383   N1  807       link                 Link 564  9.4500       NaN   \n384   N1  808       sink                 Link 565  0.0000       NaN   \n\n     condition_num  \n0              NaN  \n1              NaN  \n2              1.0  \n3              NaN  \n4              1.0  \n..             ...  \n380            1.0  \n381            NaN  \n382            1.0  \n383            NaN  \n384            NaN  \n\n[385 rows x 7 columns]",
      "text/html": "<div>\n<style scoped>\n    .dataframe tbody tr th:only-of-type {\n        vertical-align: middle;\n    }\n\n    .dataframe tbody tr th {\n        vertical-align: top;\n    }\n\n    .dataframe thead th {\n        text-align: right;\n    }\n</style>\n<table border=\"1\" class=\"dataframe\">\n  <thead>\n    <tr style=\"text-align: right;\">\n      <th></th>\n      <th>road</th>\n      <th>id</th>\n      <th>model_type</th>\n      <th>name</th>\n      <th>length</th>\n      <th>condition</th>\n      <th>condition_num</th>\n    </tr>\n  </thead>\n  <tbody>\n    <tr>\n      <th>0</th>\n      <td>N1</td>\n      <td>1</td>\n      <td>source</td>\n      <td>Link 1</td>\n      <td>0.8140</td>\n      <td>NaN</td>\n      <td>NaN</td>\n    </tr>\n    <tr>\n      <th>1</th>\n      <td>N1</td>\n      <td>4</td>\n      <td>link</td>\n      <td>Link 4</td>\n      <td>1.1860</td>\n      <td>NaN</td>\n      <td>NaN</td>\n    </tr>\n    <tr>\n      <th>2</th>\n      <td>N1</td>\n      <td>5</td>\n      <td>bridge</td>\n      <td>.</td>\n      <td>0.0113</td>\n      <td>A</td>\n      <td>1.0</td>\n    </tr>\n    <tr>\n      <th>3</th>\n      <td>N1</td>\n      <td>10</td>\n      <td>link</td>\n      <td>Link 9</td>\n      <td>3.0000</td>\n      <td>NaN</td>\n      <td>NaN</td>\n    </tr>\n    <tr>\n      <th>4</th>\n      <td>N1</td>\n      <td>11</td>\n      <td>bridge</td>\n      <td>.</td>\n      <td>0.0066</td>\n      <td>A</td>\n      <td>1.0</td>\n    </tr>\n    <tr>\n      <th>...</th>\n      <td>...</td>\n      <td>...</td>\n      <td>...</td>\n      <td>...</td>\n      <td>...</td>\n      <td>...</td>\n      <td>...</td>\n    </tr>\n    <tr>\n      <th>380</th>\n      <td>N1</td>\n      <td>801</td>\n      <td>bridge</td>\n      <td>GLAXO BOX CULVERT</td>\n      <td>0.0083</td>\n      <td>A</td>\n      <td>1.0</td>\n    </tr>\n    <tr>\n      <th>381</th>\n      <td>N1</td>\n      <td>804</td>\n      <td>link</td>\n      <td>Link 562</td>\n      <td>1.0000</td>\n      <td>NaN</td>\n      <td>NaN</td>\n    </tr>\n    <tr>\n      <th>382</th>\n      <td>N1</td>\n      <td>805</td>\n      <td>bridge</td>\n      <td>CORNAIL HAT BOX CULVERT</td>\n      <td>0.0030</td>\n      <td>A</td>\n      <td>1.0</td>\n    </tr>\n    <tr>\n      <th>383</th>\n      <td>N1</td>\n      <td>807</td>\n      <td>link</td>\n      <td>Link 564</td>\n      <td>9.4500</td>\n      <td>NaN</td>\n      <td>NaN</td>\n    </tr>\n    <tr>\n      <th>384</th>\n      <td>N1</td>\n      <td>808</td>\n      <td>sink</td>\n      <td>Link 565</td>\n      <td>0.0000</td>\n      <td>NaN</td>\n      <td>NaN</td>\n    </tr>\n  </tbody>\n</table>\n<p>385 rows × 7 columns</p>\n</div>"
     },
     "execution_count": 111,
     "metadata": {},
     "output_type": "execute_result"
    }
   ],
   "source": [
    "for index, row in n1_new.iterrows():\n",
    "    if pd.isna(row['condition_num']) == False:\n",
    "        n1_new.iloc[index, 6] = math.ceil(n1_new.iloc[index,6])\n",
    "condition_mapping = {1: 'A', 2: 'B', 3: 'C', 4: 'D', 5: 'E'}\n",
    "n1_new['condition'] = n1_new['condition_num'].map(condition_mapping)\n",
    "n1_new"
   ],
   "metadata": {
    "collapsed": false,
    "ExecuteTime": {
     "end_time": "2024-02-29T20:20:34.154151600Z",
     "start_time": "2024-02-29T20:20:33.937385900Z"
    }
   },
   "id": "9549a1857a2d2571"
  },
  {
   "cell_type": "code",
   "execution_count": 112,
   "outputs": [],
   "source": [
    "n1_new['id'] = range(1, len(n1_new) + 1)"
   ],
   "metadata": {
    "collapsed": false,
    "ExecuteTime": {
     "end_time": "2024-02-29T20:20:34.155151400Z",
     "start_time": "2024-02-29T20:20:33.988440400Z"
    }
   },
   "id": "e9128a36a8319e61"
  },
  {
   "cell_type": "code",
   "execution_count": 113,
   "outputs": [
    {
     "data": {
      "text/plain": "    road   id model_type                         name  length condition  \\\n0     N1    1     source                     source 1  0.8140       NaN   \n1     N1    2       link                       link 2  1.1860       NaN   \n2     N1    3     bridge                          . 3  0.0113         A   \n3     N1    4       link                       link 4  3.0000       NaN   \n4     N1    5     bridge                          . 5  0.0066         A   \n..   ...  ...        ...                          ...     ...       ...   \n380   N1  381     bridge        GLAXO BOX CULVERT 381  0.0083         A   \n381   N1  382       link                     link 382  1.0000       NaN   \n382   N1  383     bridge  CORNAIL HAT BOX CULVERT 383  0.0030         A   \n383   N1  384       link                     link 384  9.4500       NaN   \n384   N1  385       sink                     sink 385  0.0000       NaN   \n\n     condition_num  \n0              NaN  \n1              NaN  \n2              1.0  \n3              NaN  \n4              1.0  \n..             ...  \n380            1.0  \n381            NaN  \n382            1.0  \n383            NaN  \n384            NaN  \n\n[385 rows x 7 columns]",
      "text/html": "<div>\n<style scoped>\n    .dataframe tbody tr th:only-of-type {\n        vertical-align: middle;\n    }\n\n    .dataframe tbody tr th {\n        vertical-align: top;\n    }\n\n    .dataframe thead th {\n        text-align: right;\n    }\n</style>\n<table border=\"1\" class=\"dataframe\">\n  <thead>\n    <tr style=\"text-align: right;\">\n      <th></th>\n      <th>road</th>\n      <th>id</th>\n      <th>model_type</th>\n      <th>name</th>\n      <th>length</th>\n      <th>condition</th>\n      <th>condition_num</th>\n    </tr>\n  </thead>\n  <tbody>\n    <tr>\n      <th>0</th>\n      <td>N1</td>\n      <td>1</td>\n      <td>source</td>\n      <td>source 1</td>\n      <td>0.8140</td>\n      <td>NaN</td>\n      <td>NaN</td>\n    </tr>\n    <tr>\n      <th>1</th>\n      <td>N1</td>\n      <td>2</td>\n      <td>link</td>\n      <td>link 2</td>\n      <td>1.1860</td>\n      <td>NaN</td>\n      <td>NaN</td>\n    </tr>\n    <tr>\n      <th>2</th>\n      <td>N1</td>\n      <td>3</td>\n      <td>bridge</td>\n      <td>. 3</td>\n      <td>0.0113</td>\n      <td>A</td>\n      <td>1.0</td>\n    </tr>\n    <tr>\n      <th>3</th>\n      <td>N1</td>\n      <td>4</td>\n      <td>link</td>\n      <td>link 4</td>\n      <td>3.0000</td>\n      <td>NaN</td>\n      <td>NaN</td>\n    </tr>\n    <tr>\n      <th>4</th>\n      <td>N1</td>\n      <td>5</td>\n      <td>bridge</td>\n      <td>. 5</td>\n      <td>0.0066</td>\n      <td>A</td>\n      <td>1.0</td>\n    </tr>\n    <tr>\n      <th>...</th>\n      <td>...</td>\n      <td>...</td>\n      <td>...</td>\n      <td>...</td>\n      <td>...</td>\n      <td>...</td>\n      <td>...</td>\n    </tr>\n    <tr>\n      <th>380</th>\n      <td>N1</td>\n      <td>381</td>\n      <td>bridge</td>\n      <td>GLAXO BOX CULVERT 381</td>\n      <td>0.0083</td>\n      <td>A</td>\n      <td>1.0</td>\n    </tr>\n    <tr>\n      <th>381</th>\n      <td>N1</td>\n      <td>382</td>\n      <td>link</td>\n      <td>link 382</td>\n      <td>1.0000</td>\n      <td>NaN</td>\n      <td>NaN</td>\n    </tr>\n    <tr>\n      <th>382</th>\n      <td>N1</td>\n      <td>383</td>\n      <td>bridge</td>\n      <td>CORNAIL HAT BOX CULVERT 383</td>\n      <td>0.0030</td>\n      <td>A</td>\n      <td>1.0</td>\n    </tr>\n    <tr>\n      <th>383</th>\n      <td>N1</td>\n      <td>384</td>\n      <td>link</td>\n      <td>link 384</td>\n      <td>9.4500</td>\n      <td>NaN</td>\n      <td>NaN</td>\n    </tr>\n    <tr>\n      <th>384</th>\n      <td>N1</td>\n      <td>385</td>\n      <td>sink</td>\n      <td>sink 385</td>\n      <td>0.0000</td>\n      <td>NaN</td>\n      <td>NaN</td>\n    </tr>\n  </tbody>\n</table>\n<p>385 rows × 7 columns</p>\n</div>"
     },
     "execution_count": 113,
     "metadata": {},
     "output_type": "execute_result"
    }
   ],
   "source": [
    "for index, row in n1_new.iterrows():\n",
    "    if row['model_type'] != 'bridge':\n",
    "        n1_new.iloc[index, 3] = row['model_type'] + ' ' + str(row['id'])\n",
    "    else:\n",
    "        n1_new.iloc[index, 3] = n1_new.iloc[index, 3] + ' ' + str(row['id'])\n",
    "\n",
    "n1_new"
   ],
   "metadata": {
    "collapsed": false,
    "ExecuteTime": {
     "end_time": "2024-02-29T20:20:34.288294200Z",
     "start_time": "2024-02-29T20:20:33.994797500Z"
    }
   },
   "id": "8035a61ca594ce6d"
  },
  {
   "cell_type": "code",
   "execution_count": 114,
   "outputs": [],
   "source": [
    "n1_new.to_csv('../data/n1_model.csv', index=False)"
   ],
   "metadata": {
    "collapsed": false,
    "ExecuteTime": {
     "end_time": "2024-02-29T20:20:34.289294200Z",
     "start_time": "2024-02-29T20:20:34.065908100Z"
    }
   },
   "id": "86e42ab97a81c869"
  },
  {
   "cell_type": "code",
   "execution_count": 114,
   "outputs": [],
   "source": [],
   "metadata": {
    "collapsed": false,
    "ExecuteTime": {
     "end_time": "2024-02-29T20:20:34.289294200Z",
     "start_time": "2024-02-29T20:20:34.074852900Z"
    }
   },
   "id": "c23547e2c1e0e183"
  },
  {
   "cell_type": "code",
   "execution_count": 114,
   "outputs": [],
   "source": [],
   "metadata": {
    "collapsed": false,
    "ExecuteTime": {
     "end_time": "2024-02-29T20:20:34.290294600Z",
     "start_time": "2024-02-29T20:20:34.078531800Z"
    }
   },
   "id": "3496f1149c45a9c"
  },
  {
   "cell_type": "code",
   "execution_count": 114,
   "outputs": [],
   "source": [],
   "metadata": {
    "collapsed": false,
    "ExecuteTime": {
     "end_time": "2024-02-29T20:20:34.291294700Z",
     "start_time": "2024-02-29T20:20:34.083357400Z"
    }
   },
   "id": "9a1862e76849b238"
  },
  {
   "cell_type": "code",
   "execution_count": 114,
   "outputs": [],
   "source": [],
   "metadata": {
    "collapsed": false,
    "ExecuteTime": {
     "end_time": "2024-02-29T20:20:34.291294700Z",
     "start_time": "2024-02-29T20:20:34.086740Z"
    }
   },
   "id": "bec55671d6aa37d"
  },
  {
   "cell_type": "code",
   "execution_count": 114,
   "outputs": [],
   "source": [],
   "metadata": {
    "collapsed": false,
    "ExecuteTime": {
     "end_time": "2024-02-29T20:20:34.292294900Z",
     "start_time": "2024-02-29T20:20:34.089997900Z"
    }
   },
   "id": "f1ec074de9c101db"
  },
  {
   "cell_type": "code",
   "execution_count": 114,
   "outputs": [],
   "source": [],
   "metadata": {
    "collapsed": false,
    "ExecuteTime": {
     "end_time": "2024-02-29T20:20:34.332432900Z",
     "start_time": "2024-02-29T20:20:34.092416Z"
    }
   },
   "id": "f6d264d77d4338f5"
  },
  {
   "cell_type": "code",
   "execution_count": 96,
   "outputs": [],
   "source": [],
   "metadata": {
    "collapsed": false,
    "ExecuteTime": {
     "end_time": "2024-02-29T13:27:37.012421400Z",
     "start_time": "2024-02-29T13:27:36.762324400Z"
    }
   },
   "id": "11b428b8b6974f8b"
  },
  {
   "cell_type": "code",
   "execution_count": 96,
   "outputs": [],
   "source": [],
   "metadata": {
    "collapsed": false,
    "ExecuteTime": {
     "end_time": "2024-02-29T13:27:37.012421400Z",
     "start_time": "2024-02-29T13:27:36.766610Z"
    }
   },
   "id": "b83ff56d50cdf153"
  },
  {
   "cell_type": "code",
   "execution_count": null,
   "outputs": [],
   "source": [],
   "metadata": {
    "collapsed": false
   },
   "id": "e56976000db22101"
  }
 ],
 "metadata": {
  "kernelspec": {
   "display_name": "Python 3",
   "language": "python",
   "name": "python3"
  },
  "language_info": {
   "codemirror_mode": {
    "name": "ipython",
    "version": 2
   },
   "file_extension": ".py",
   "mimetype": "text/x-python",
   "name": "python",
   "nbconvert_exporter": "python",
   "pygments_lexer": "ipython2",
   "version": "2.7.6"
  }
 },
 "nbformat": 4,
 "nbformat_minor": 5
}
