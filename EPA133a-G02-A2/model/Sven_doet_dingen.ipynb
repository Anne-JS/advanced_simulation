{
 "cells": [
  {
   "cell_type": "code",
   "execution_count": null,
   "outputs": [],
   "source": [],
   "metadata": {
    "collapsed": false,
    "ExecuteTime": {
     "end_time": "2024-02-28T13:14:15.378485500Z",
     "start_time": "2024-02-28T13:14:15.366869400Z"
    }
   },
   "id": "6f417fe34efaac36"
  },
  {
   "cell_type": "code",
   "execution_count": 1,
   "id": "initial_id",
   "metadata": {
    "collapsed": true,
    "ExecuteTime": {
     "end_time": "2024-02-28T13:14:16.131899500Z",
     "start_time": "2024-02-28T13:14:15.492903400Z"
    }
   },
   "outputs": [],
   "source": [
    "import pandas as pd"
   ]
  },
  {
   "cell_type": "code",
   "execution_count": 2,
   "outputs": [],
   "source": [
    "demo1 = pd.read_csv('../data/demo-1.csv')"
   ],
   "metadata": {
    "collapsed": false,
    "ExecuteTime": {
     "end_time": "2024-02-28T13:14:16.145223Z",
     "start_time": "2024-02-28T13:14:16.132900200Z"
    }
   },
   "id": "f3761e108dfd2294"
  },
  {
   "cell_type": "code",
   "execution_count": 3,
   "outputs": [
    {
     "data": {
      "text/plain": "   road       id model_type      name  lat  lon  length\n0    N1  1000000     source    source    0    0       4\n1    N1  1000001       link    link 1    1    1    1800\n2    N1  1000002     bridge  bridge 1    2    2     200\n3    N1  1000003       link    link 2    3    3    1500\n4    N1  1000004     bridge  bridge 2    4    4       8\n5    N1  1000005       link    link 3    5    5    2000\n6    N1  1000006     bridge  bridge 3    6    6       4\n7    N1  1000007       link    link 4    7    7    2500\n8    N1  1000008     bridge  bridge 4    8    8     500\n9    N1  1000009       link    link 5    9    9     800\n10   N1  1000010       sink      sink   10   10      20",
      "text/html": "<div>\n<style scoped>\n    .dataframe tbody tr th:only-of-type {\n        vertical-align: middle;\n    }\n\n    .dataframe tbody tr th {\n        vertical-align: top;\n    }\n\n    .dataframe thead th {\n        text-align: right;\n    }\n</style>\n<table border=\"1\" class=\"dataframe\">\n  <thead>\n    <tr style=\"text-align: right;\">\n      <th></th>\n      <th>road</th>\n      <th>id</th>\n      <th>model_type</th>\n      <th>name</th>\n      <th>lat</th>\n      <th>lon</th>\n      <th>length</th>\n    </tr>\n  </thead>\n  <tbody>\n    <tr>\n      <th>0</th>\n      <td>N1</td>\n      <td>1000000</td>\n      <td>source</td>\n      <td>source</td>\n      <td>0</td>\n      <td>0</td>\n      <td>4</td>\n    </tr>\n    <tr>\n      <th>1</th>\n      <td>N1</td>\n      <td>1000001</td>\n      <td>link</td>\n      <td>link 1</td>\n      <td>1</td>\n      <td>1</td>\n      <td>1800</td>\n    </tr>\n    <tr>\n      <th>2</th>\n      <td>N1</td>\n      <td>1000002</td>\n      <td>bridge</td>\n      <td>bridge 1</td>\n      <td>2</td>\n      <td>2</td>\n      <td>200</td>\n    </tr>\n    <tr>\n      <th>3</th>\n      <td>N1</td>\n      <td>1000003</td>\n      <td>link</td>\n      <td>link 2</td>\n      <td>3</td>\n      <td>3</td>\n      <td>1500</td>\n    </tr>\n    <tr>\n      <th>4</th>\n      <td>N1</td>\n      <td>1000004</td>\n      <td>bridge</td>\n      <td>bridge 2</td>\n      <td>4</td>\n      <td>4</td>\n      <td>8</td>\n    </tr>\n    <tr>\n      <th>5</th>\n      <td>N1</td>\n      <td>1000005</td>\n      <td>link</td>\n      <td>link 3</td>\n      <td>5</td>\n      <td>5</td>\n      <td>2000</td>\n    </tr>\n    <tr>\n      <th>6</th>\n      <td>N1</td>\n      <td>1000006</td>\n      <td>bridge</td>\n      <td>bridge 3</td>\n      <td>6</td>\n      <td>6</td>\n      <td>4</td>\n    </tr>\n    <tr>\n      <th>7</th>\n      <td>N1</td>\n      <td>1000007</td>\n      <td>link</td>\n      <td>link 4</td>\n      <td>7</td>\n      <td>7</td>\n      <td>2500</td>\n    </tr>\n    <tr>\n      <th>8</th>\n      <td>N1</td>\n      <td>1000008</td>\n      <td>bridge</td>\n      <td>bridge 4</td>\n      <td>8</td>\n      <td>8</td>\n      <td>500</td>\n    </tr>\n    <tr>\n      <th>9</th>\n      <td>N1</td>\n      <td>1000009</td>\n      <td>link</td>\n      <td>link 5</td>\n      <td>9</td>\n      <td>9</td>\n      <td>800</td>\n    </tr>\n    <tr>\n      <th>10</th>\n      <td>N1</td>\n      <td>1000010</td>\n      <td>sink</td>\n      <td>sink</td>\n      <td>10</td>\n      <td>10</td>\n      <td>20</td>\n    </tr>\n  </tbody>\n</table>\n</div>"
     },
     "execution_count": 3,
     "metadata": {},
     "output_type": "execute_result"
    }
   ],
   "source": [
    "demo1"
   ],
   "metadata": {
    "collapsed": false,
    "ExecuteTime": {
     "end_time": "2024-02-28T13:14:16.159248100Z",
     "start_time": "2024-02-28T13:14:16.141221800Z"
    }
   },
   "id": "f85f95d0fd684ad1"
  },
  {
   "cell_type": "code",
   "execution_count": 4,
   "outputs": [],
   "source": [
    "roads = pd.read_csv('../data/_roads3.csv')\n",
    "bmms = pd.read_excel('../data/BMMS_overview.xlsx')"
   ],
   "metadata": {
    "collapsed": false,
    "ExecuteTime": {
     "end_time": "2024-02-28T13:14:20.636003800Z",
     "start_time": "2024-02-28T13:14:16.158247800Z"
    }
   },
   "id": "d6da2cf8fc2274a5"
  },
  {
   "cell_type": "code",
   "execution_count": 5,
   "outputs": [
    {
     "data": {
      "text/plain": "    road   id model_type      name        lat        lon  length  chainage\n0     N1    1       link    Link 1  23.706028  90.443333   0.814     0.000\n1     N1    2       link    Link 2  23.702917  90.450417   0.008     0.814\n2     N1    3       link    Link 3  23.702778  90.450472   0.178     0.822\n3     N1    4       link    Link 4  23.702139  90.451972   1.000     1.000\n4     N1    5       link    Link 5  23.697889  90.460583   0.130     2.000\n..   ...  ...        ...       ...        ...        ...     ...       ...\n560   N1  561       link  Link 561  22.376472  91.770416   0.019   231.442\n561   N1  562       link  Link 562  22.376225  91.770543   0.545   231.461\n562   N1  563       link  Link 563  22.369166  91.774194   0.555   232.006\n563   N1  564       link  Link 564  22.369138  91.777666   8.895   232.561\n566   N1  565       link  Link 565  22.364611  91.850833   0.000   241.456\n\n[565 rows x 8 columns]",
      "text/html": "<div>\n<style scoped>\n    .dataframe tbody tr th:only-of-type {\n        vertical-align: middle;\n    }\n\n    .dataframe tbody tr th {\n        vertical-align: top;\n    }\n\n    .dataframe thead th {\n        text-align: right;\n    }\n</style>\n<table border=\"1\" class=\"dataframe\">\n  <thead>\n    <tr style=\"text-align: right;\">\n      <th></th>\n      <th>road</th>\n      <th>id</th>\n      <th>model_type</th>\n      <th>name</th>\n      <th>lat</th>\n      <th>lon</th>\n      <th>length</th>\n      <th>chainage</th>\n    </tr>\n  </thead>\n  <tbody>\n    <tr>\n      <th>0</th>\n      <td>N1</td>\n      <td>1</td>\n      <td>link</td>\n      <td>Link 1</td>\n      <td>23.706028</td>\n      <td>90.443333</td>\n      <td>0.814</td>\n      <td>0.000</td>\n    </tr>\n    <tr>\n      <th>1</th>\n      <td>N1</td>\n      <td>2</td>\n      <td>link</td>\n      <td>Link 2</td>\n      <td>23.702917</td>\n      <td>90.450417</td>\n      <td>0.008</td>\n      <td>0.814</td>\n    </tr>\n    <tr>\n      <th>2</th>\n      <td>N1</td>\n      <td>3</td>\n      <td>link</td>\n      <td>Link 3</td>\n      <td>23.702778</td>\n      <td>90.450472</td>\n      <td>0.178</td>\n      <td>0.822</td>\n    </tr>\n    <tr>\n      <th>3</th>\n      <td>N1</td>\n      <td>4</td>\n      <td>link</td>\n      <td>Link 4</td>\n      <td>23.702139</td>\n      <td>90.451972</td>\n      <td>1.000</td>\n      <td>1.000</td>\n    </tr>\n    <tr>\n      <th>4</th>\n      <td>N1</td>\n      <td>5</td>\n      <td>link</td>\n      <td>Link 5</td>\n      <td>23.697889</td>\n      <td>90.460583</td>\n      <td>0.130</td>\n      <td>2.000</td>\n    </tr>\n    <tr>\n      <th>...</th>\n      <td>...</td>\n      <td>...</td>\n      <td>...</td>\n      <td>...</td>\n      <td>...</td>\n      <td>...</td>\n      <td>...</td>\n      <td>...</td>\n    </tr>\n    <tr>\n      <th>560</th>\n      <td>N1</td>\n      <td>561</td>\n      <td>link</td>\n      <td>Link 561</td>\n      <td>22.376472</td>\n      <td>91.770416</td>\n      <td>0.019</td>\n      <td>231.442</td>\n    </tr>\n    <tr>\n      <th>561</th>\n      <td>N1</td>\n      <td>562</td>\n      <td>link</td>\n      <td>Link 562</td>\n      <td>22.376225</td>\n      <td>91.770543</td>\n      <td>0.545</td>\n      <td>231.461</td>\n    </tr>\n    <tr>\n      <th>562</th>\n      <td>N1</td>\n      <td>563</td>\n      <td>link</td>\n      <td>Link 563</td>\n      <td>22.369166</td>\n      <td>91.774194</td>\n      <td>0.555</td>\n      <td>232.006</td>\n    </tr>\n    <tr>\n      <th>563</th>\n      <td>N1</td>\n      <td>564</td>\n      <td>link</td>\n      <td>Link 564</td>\n      <td>22.369138</td>\n      <td>91.777666</td>\n      <td>8.895</td>\n      <td>232.561</td>\n    </tr>\n    <tr>\n      <th>566</th>\n      <td>N1</td>\n      <td>565</td>\n      <td>link</td>\n      <td>Link 565</td>\n      <td>22.364611</td>\n      <td>91.850833</td>\n      <td>0.000</td>\n      <td>241.456</td>\n    </tr>\n  </tbody>\n</table>\n<p>565 rows × 8 columns</p>\n</div>"
     },
     "execution_count": 5,
     "metadata": {},
     "output_type": "execute_result"
    }
   ],
   "source": [
    "# Filter the 'roads' DataFrame for rows where the 'road' column is 'N1'\n",
    "n1_roads = roads[roads['road'] == 'N1']\n",
    "n1_roads = n1_roads[(n1_roads['lon'] >= 90.44) & (n1_roads['lon'] <= 91.851) &\n",
    "                 (n1_roads['lat'] >= 22.363) & (n1_roads['lat'] <= 23.711)]\n",
    "\n",
    "# Generate an ID sequence starting from 1\n",
    "n1_roads['id'] = range(1, len(n1_roads) + 1)\n",
    "\n",
    "# Set model_type to 'link' for all rows\n",
    "n1_roads['model_type'] = 'link'\n",
    "\n",
    "# Generate 'name' as \"Link\" + id as string\n",
    "n1_roads['name'] = ['Link ' + str(id) for id in n1_roads['id']]\n",
    "\n",
    "# Calculate 'length' as difference between this row's 'chainage' and the next row's 'chainage'\n",
    "# Shift(-1) moves the chainage up by one row to subtract, fillna(0) to handle the last item\n",
    "n1_roads['length'] = (n1_roads['chainage'].shift(-1) - n1_roads['chainage']).fillna(0)\n",
    "\n",
    "# Selecting the columns needed for the empty DataFrame\n",
    "n1_roads_final = n1_roads[['road', 'id', 'model_type', 'name', 'lat', 'lon', 'length', 'chainage']]\n",
    "\n",
    "# Display the first few rows of the final DataFrame\n",
    "n1_roads_final\n"
   ],
   "metadata": {
    "collapsed": false,
    "ExecuteTime": {
     "end_time": "2024-02-28T13:14:20.684097Z",
     "start_time": "2024-02-28T13:14:20.637005700Z"
    }
   },
   "id": "79f9c77b9c32c33c"
  },
  {
   "cell_type": "code",
   "execution_count": 6,
   "outputs": [
    {
     "data": {
      "text/plain": "    road   id model_type        name        lat        lon  length  chainage  \\\n0     N1    1       link      Link 1  23.706028  90.443333  0.8140     0.000   \n1     N1    2       link      Link 2  23.702917  90.450417  0.0080     0.814   \n2     N1    3       link      Link 3  23.702778  90.450472  0.1780     0.822   \n3     N1    4       link      Link 4  23.702139  90.451972  1.0000     1.000   \n565   N1  566     bridge    Bridge 1  23.698739  90.458861  0.0113     1.800   \n..   ...  ...        ...         ...        ...        ...     ...       ...   \n561   N1  562       link    Link 562  22.376225  91.770543  0.5450   231.461   \n706   N1  707     bridge  Bridge 142  22.369684  91.773926  0.0030   231.966   \n562   N1  563       link    Link 563  22.369166  91.774194  0.5550   232.006   \n563   N1  564       link    Link 564  22.369138  91.777666  8.8950   232.561   \n564   N1  565       link    Link 565  22.364611  91.850833  0.0000   241.456   \n\n    condition  \n0         NaN  \n1         NaN  \n2         NaN  \n3         NaN  \n565         A  \n..        ...  \n561       NaN  \n706         A  \n562       NaN  \n563       NaN  \n564       NaN  \n\n[808 rows x 9 columns]",
      "text/html": "<div>\n<style scoped>\n    .dataframe tbody tr th:only-of-type {\n        vertical-align: middle;\n    }\n\n    .dataframe tbody tr th {\n        vertical-align: top;\n    }\n\n    .dataframe thead th {\n        text-align: right;\n    }\n</style>\n<table border=\"1\" class=\"dataframe\">\n  <thead>\n    <tr style=\"text-align: right;\">\n      <th></th>\n      <th>road</th>\n      <th>id</th>\n      <th>model_type</th>\n      <th>name</th>\n      <th>lat</th>\n      <th>lon</th>\n      <th>length</th>\n      <th>chainage</th>\n      <th>condition</th>\n    </tr>\n  </thead>\n  <tbody>\n    <tr>\n      <th>0</th>\n      <td>N1</td>\n      <td>1</td>\n      <td>link</td>\n      <td>Link 1</td>\n      <td>23.706028</td>\n      <td>90.443333</td>\n      <td>0.8140</td>\n      <td>0.000</td>\n      <td>NaN</td>\n    </tr>\n    <tr>\n      <th>1</th>\n      <td>N1</td>\n      <td>2</td>\n      <td>link</td>\n      <td>Link 2</td>\n      <td>23.702917</td>\n      <td>90.450417</td>\n      <td>0.0080</td>\n      <td>0.814</td>\n      <td>NaN</td>\n    </tr>\n    <tr>\n      <th>2</th>\n      <td>N1</td>\n      <td>3</td>\n      <td>link</td>\n      <td>Link 3</td>\n      <td>23.702778</td>\n      <td>90.450472</td>\n      <td>0.1780</td>\n      <td>0.822</td>\n      <td>NaN</td>\n    </tr>\n    <tr>\n      <th>3</th>\n      <td>N1</td>\n      <td>4</td>\n      <td>link</td>\n      <td>Link 4</td>\n      <td>23.702139</td>\n      <td>90.451972</td>\n      <td>1.0000</td>\n      <td>1.000</td>\n      <td>NaN</td>\n    </tr>\n    <tr>\n      <th>565</th>\n      <td>N1</td>\n      <td>566</td>\n      <td>bridge</td>\n      <td>Bridge 1</td>\n      <td>23.698739</td>\n      <td>90.458861</td>\n      <td>0.0113</td>\n      <td>1.800</td>\n      <td>A</td>\n    </tr>\n    <tr>\n      <th>...</th>\n      <td>...</td>\n      <td>...</td>\n      <td>...</td>\n      <td>...</td>\n      <td>...</td>\n      <td>...</td>\n      <td>...</td>\n      <td>...</td>\n      <td>...</td>\n    </tr>\n    <tr>\n      <th>561</th>\n      <td>N1</td>\n      <td>562</td>\n      <td>link</td>\n      <td>Link 562</td>\n      <td>22.376225</td>\n      <td>91.770543</td>\n      <td>0.5450</td>\n      <td>231.461</td>\n      <td>NaN</td>\n    </tr>\n    <tr>\n      <th>706</th>\n      <td>N1</td>\n      <td>707</td>\n      <td>bridge</td>\n      <td>Bridge 142</td>\n      <td>22.369684</td>\n      <td>91.773926</td>\n      <td>0.0030</td>\n      <td>231.966</td>\n      <td>A</td>\n    </tr>\n    <tr>\n      <th>562</th>\n      <td>N1</td>\n      <td>563</td>\n      <td>link</td>\n      <td>Link 563</td>\n      <td>22.369166</td>\n      <td>91.774194</td>\n      <td>0.5550</td>\n      <td>232.006</td>\n      <td>NaN</td>\n    </tr>\n    <tr>\n      <th>563</th>\n      <td>N1</td>\n      <td>564</td>\n      <td>link</td>\n      <td>Link 564</td>\n      <td>22.369138</td>\n      <td>91.777666</td>\n      <td>8.8950</td>\n      <td>232.561</td>\n      <td>NaN</td>\n    </tr>\n    <tr>\n      <th>564</th>\n      <td>N1</td>\n      <td>565</td>\n      <td>link</td>\n      <td>Link 565</td>\n      <td>22.364611</td>\n      <td>91.850833</td>\n      <td>0.0000</td>\n      <td>241.456</td>\n      <td>NaN</td>\n    </tr>\n  </tbody>\n</table>\n<p>808 rows × 9 columns</p>\n</div>"
     },
     "execution_count": 6,
     "metadata": {},
     "output_type": "execute_result"
    }
   ],
   "source": [
    "# Filter BMMS data for road 'N1'\n",
    "bmms_n1 = bmms[bmms['road'] == 'N1'].copy()\n",
    "bmms_n1 = bmms_n1[(bmms_n1['lon'] >= 90.44) & (bmms_n1['lon'] <= 91.851) &\n",
    "                 (bmms_n1['lat'] >= 22.363) & (bmms_n1['lat'] <= 23.711)]\n",
    "\n",
    "bmms_n1 = bmms_n1[~bmms_n1['name'].str.contains(r\"\\(R\\)\", na=False)]\n",
    "bmms_n1 = bmms_n1[~bmms_n1['name'].str.contains(\"right\", case=False, na=False)]\n",
    "bmms_n1 = bmms_n1[~bmms_n1['name'].str.contains(\"RIGHT\", case=False, na=False)]\n",
    "bmms_n1 = bmms_n1[~bmms_n1['name'].str.contains(r\"\\( R \\)\", na=False)]\n",
    "\n",
    "# Set up for new entries\n",
    "bmms_n1['model_type'] = 'bridge'\n",
    "bmms_n1['name'] = ['Bridge ' + str(i+1) for i in range(bmms_n1.shape[0])]\n",
    "bmms_n1['id'] = range(n1_roads_final['id'].max() + 1, n1_roads_final['id'].max() + 1 + bmms_n1.shape[0])\n",
    "bmms_n1['chainage'] = bmms_n1['km']  # Use 'km' as 'chainage'\n",
    "bmms_n1['length'] = bmms_n1['length'] / 1000\n",
    "\n",
    "# Select and rename columns to match the format of `n1_roads_final_with_chainage`\n",
    "bmms_n1_formatted = bmms_n1[['road', 'id', 'model_type', 'name', 'lat', 'lon', 'chainage', 'length', 'condition']]\n",
    "\n",
    "# Combine the dataframes and sort by chainage\n",
    "combined_df = pd.concat([n1_roads_final, bmms_n1_formatted], ignore_index=True).sort_values(by='chainage')\n",
    "\n",
    "# Display the first few rows of the combined and sorted DataFrame\n",
    "combined_df\n"
   ],
   "metadata": {
    "collapsed": false,
    "ExecuteTime": {
     "end_time": "2024-02-28T13:14:20.709320500Z",
     "start_time": "2024-02-28T13:14:20.666412700Z"
    }
   },
   "id": "c39fed29ffccda55"
  },
  {
   "cell_type": "code",
   "execution_count": 7,
   "outputs": [],
   "source": [
    "combined_df.iloc[0, 2] = 'source'\n",
    "combined_df.iloc[-1, combined_df.columns.get_loc('model_type')] = 'sink'\n",
    "combined_df.reset_index(drop=True, inplace=True)\n",
    "count = 1\n",
    "for index, row in combined_df.iterrows():\n",
    "    combined_df.iloc[index, 1] = count\n",
    "    count += 1\n"
   ],
   "metadata": {
    "collapsed": false,
    "ExecuteTime": {
     "end_time": "2024-02-28T13:14:20.841067Z",
     "start_time": "2024-02-28T13:14:20.688197500Z"
    }
   },
   "id": "a1e064c49d275b64"
  },
  {
   "cell_type": "code",
   "execution_count": 8,
   "outputs": [
    {
     "name": "stderr",
     "output_type": "stream",
     "text": [
      "C:\\Users\\svenk\\AppData\\Local\\Temp\\ipykernel_13928\\2745667964.py:28: FutureWarning: The behavior of DataFrame concatenation with empty or all-NA entries is deprecated. In a future version, this will no longer exclude empty or all-NA columns when determining the result dtypes. To retain the old behavior, exclude the relevant entries before the concat operation.\n",
      "  n1_combined = pd.concat([n1_combined, pd.DataFrame(rows_to_add)], ignore_index=True)\n"
     ]
    },
    {
     "data": {
      "text/plain": "    road   id model_type        name  length condition\n0     N1    1     source      Link 1  0.8140       NaN\n1     N1    4       link      Link 4  1.1860       NaN\n2     N1    5     bridge    Bridge 1  0.0113         A\n3     N1   10       link      Link 9  3.0000       NaN\n4     N1   11     bridge    Bridge 2  0.0066         A\n..   ...  ...        ...         ...     ...       ...\n432   N1  801     bridge  Bridge 141  0.0083         A\n433   N1  804       link    Link 562  1.0000       NaN\n434   N1  805     bridge  Bridge 142  0.0030         A\n435   N1  807       link    Link 564  9.4500       NaN\n436   N1  808       sink    Link 565  0.0000       NaN\n\n[437 rows x 6 columns]",
      "text/html": "<div>\n<style scoped>\n    .dataframe tbody tr th:only-of-type {\n        vertical-align: middle;\n    }\n\n    .dataframe tbody tr th {\n        vertical-align: top;\n    }\n\n    .dataframe thead th {\n        text-align: right;\n    }\n</style>\n<table border=\"1\" class=\"dataframe\">\n  <thead>\n    <tr style=\"text-align: right;\">\n      <th></th>\n      <th>road</th>\n      <th>id</th>\n      <th>model_type</th>\n      <th>name</th>\n      <th>length</th>\n      <th>condition</th>\n    </tr>\n  </thead>\n  <tbody>\n    <tr>\n      <th>0</th>\n      <td>N1</td>\n      <td>1</td>\n      <td>source</td>\n      <td>Link 1</td>\n      <td>0.8140</td>\n      <td>NaN</td>\n    </tr>\n    <tr>\n      <th>1</th>\n      <td>N1</td>\n      <td>4</td>\n      <td>link</td>\n      <td>Link 4</td>\n      <td>1.1860</td>\n      <td>NaN</td>\n    </tr>\n    <tr>\n      <th>2</th>\n      <td>N1</td>\n      <td>5</td>\n      <td>bridge</td>\n      <td>Bridge 1</td>\n      <td>0.0113</td>\n      <td>A</td>\n    </tr>\n    <tr>\n      <th>3</th>\n      <td>N1</td>\n      <td>10</td>\n      <td>link</td>\n      <td>Link 9</td>\n      <td>3.0000</td>\n      <td>NaN</td>\n    </tr>\n    <tr>\n      <th>4</th>\n      <td>N1</td>\n      <td>11</td>\n      <td>bridge</td>\n      <td>Bridge 2</td>\n      <td>0.0066</td>\n      <td>A</td>\n    </tr>\n    <tr>\n      <th>...</th>\n      <td>...</td>\n      <td>...</td>\n      <td>...</td>\n      <td>...</td>\n      <td>...</td>\n      <td>...</td>\n    </tr>\n    <tr>\n      <th>432</th>\n      <td>N1</td>\n      <td>801</td>\n      <td>bridge</td>\n      <td>Bridge 141</td>\n      <td>0.0083</td>\n      <td>A</td>\n    </tr>\n    <tr>\n      <th>433</th>\n      <td>N1</td>\n      <td>804</td>\n      <td>link</td>\n      <td>Link 562</td>\n      <td>1.0000</td>\n      <td>NaN</td>\n    </tr>\n    <tr>\n      <th>434</th>\n      <td>N1</td>\n      <td>805</td>\n      <td>bridge</td>\n      <td>Bridge 142</td>\n      <td>0.0030</td>\n      <td>A</td>\n    </tr>\n    <tr>\n      <th>435</th>\n      <td>N1</td>\n      <td>807</td>\n      <td>link</td>\n      <td>Link 564</td>\n      <td>9.4500</td>\n      <td>NaN</td>\n    </tr>\n    <tr>\n      <th>436</th>\n      <td>N1</td>\n      <td>808</td>\n      <td>sink</td>\n      <td>Link 565</td>\n      <td>0.0000</td>\n      <td>NaN</td>\n    </tr>\n  </tbody>\n</table>\n<p>437 rows × 6 columns</p>\n</div>"
     },
     "execution_count": 8,
     "metadata": {},
     "output_type": "execute_result"
    }
   ],
   "source": [
    "#add together the links\n",
    "length = 0\n",
    "rows_to_add = []  # List to accumulate rows\n",
    "last_row = None\n",
    "\n",
    "# Initialize the DataFrame\n",
    "n1_combined = pd.DataFrame(columns=['road', \"id\", 'model_type', 'name', 'length', 'condition'])\n",
    "\n",
    "for index, row in combined_df.iterrows():\n",
    "    if row['model_type'] == 'source':\n",
    "        rows_to_add.append({'road': row['road'], 'id': row['id'], 'model_type': row['model_type'],\n",
    "                            'name': row['name'], 'length': row['length'], 'condition': row['condition']})\n",
    "        length = 0  # Reset length after adding the combined link\n",
    "    elif row['model_type'] == 'link':\n",
    "        length += row['length']\n",
    "    elif row['model_type'] in ['bridge', 'sink']:\n",
    "        if last_row is not None and last_row['model_type'] == 'link':\n",
    "            # Add the previous link with the new length\n",
    "            rows_to_add.append({'road': last_row['road'], 'id': last_row['id'], 'model_type': last_row['model_type'],\n",
    "                                'name': last_row['name'], 'length': length, 'condition': last_row['condition']})\n",
    "        # Now add the current row (bridge or sink)\n",
    "        rows_to_add.append({'road': row['road'], 'id': row['id'], 'model_type': row['model_type'],\n",
    "                            'name': row['name'], 'length': row['length'], 'condition': row['condition']})\n",
    "        length = 0  # Reset length after adding the combined link\n",
    "    last_row = row\n",
    "\n",
    "# Once the loop is complete, add all accumulated rows to n1_combined\n",
    "n1_combined = pd.concat([n1_combined, pd.DataFrame(rows_to_add)], ignore_index=True)\n",
    "n1_combined"
   ],
   "metadata": {
    "collapsed": false,
    "ExecuteTime": {
     "end_time": "2024-02-28T13:14:20.880902600Z",
     "start_time": "2024-02-28T13:14:20.767639100Z"
    }
   },
   "id": "cf4be2e200adf063"
  },
  {
   "cell_type": "code",
   "execution_count": 9,
   "outputs": [],
   "source": [
    "n1_combined.to_csv('../data/n1_model.csv', index=False)"
   ],
   "metadata": {
    "collapsed": false,
    "ExecuteTime": {
     "end_time": "2024-02-28T13:14:20.880902600Z",
     "start_time": "2024-02-28T13:14:20.819146900Z"
    }
   },
   "id": "66667b68acf618b1"
  },
  {
   "cell_type": "code",
   "execution_count": 10,
   "outputs": [],
   "source": [
    "n1 = pd.read_csv('../data/n1_model.csv')"
   ],
   "metadata": {
    "collapsed": false,
    "ExecuteTime": {
     "end_time": "2024-02-28T13:14:20.881902100Z",
     "start_time": "2024-02-28T13:14:20.827505200Z"
    }
   },
   "id": "5717d174086fa561"
  },
  {
   "cell_type": "code",
   "execution_count": 15,
   "outputs": [
    {
     "data": {
      "text/plain": "    road   id model_type        name  length condition  condition_num  \\\n0     N1    1     source      Link 1  0.8140       NaN            NaN   \n1     N1    4       link      Link 4  1.1860       NaN            NaN   \n2     N1    5     bridge    Bridge 1  0.0113         A            1.0   \n3     N1   10       link      Link 9  3.0000       NaN            NaN   \n4     N1   11     bridge    Bridge 2  0.0066         A            1.0   \n..   ...  ...        ...         ...     ...       ...            ...   \n432   N1  801     bridge  Bridge 141  0.0083         A            1.0   \n433   N1  804       link    Link 562  1.0000       NaN            NaN   \n434   N1  805     bridge  Bridge 142  0.0030         A            1.0   \n435   N1  807       link    Link 564  9.4500       NaN            NaN   \n436   N1  808       sink    Link 565  0.0000       NaN            NaN   \n\n     group_key  \n0            1  \n1            2  \n2            3  \n3            4  \n4            5  \n..         ...  \n432        381  \n433        382  \n434        383  \n435        384  \n436        385  \n\n[437 rows x 8 columns]",
      "text/html": "<div>\n<style scoped>\n    .dataframe tbody tr th:only-of-type {\n        vertical-align: middle;\n    }\n\n    .dataframe tbody tr th {\n        vertical-align: top;\n    }\n\n    .dataframe thead th {\n        text-align: right;\n    }\n</style>\n<table border=\"1\" class=\"dataframe\">\n  <thead>\n    <tr style=\"text-align: right;\">\n      <th></th>\n      <th>road</th>\n      <th>id</th>\n      <th>model_type</th>\n      <th>name</th>\n      <th>length</th>\n      <th>condition</th>\n      <th>condition_num</th>\n      <th>group_key</th>\n    </tr>\n  </thead>\n  <tbody>\n    <tr>\n      <th>0</th>\n      <td>N1</td>\n      <td>1</td>\n      <td>source</td>\n      <td>Link 1</td>\n      <td>0.8140</td>\n      <td>NaN</td>\n      <td>NaN</td>\n      <td>1</td>\n    </tr>\n    <tr>\n      <th>1</th>\n      <td>N1</td>\n      <td>4</td>\n      <td>link</td>\n      <td>Link 4</td>\n      <td>1.1860</td>\n      <td>NaN</td>\n      <td>NaN</td>\n      <td>2</td>\n    </tr>\n    <tr>\n      <th>2</th>\n      <td>N1</td>\n      <td>5</td>\n      <td>bridge</td>\n      <td>Bridge 1</td>\n      <td>0.0113</td>\n      <td>A</td>\n      <td>1.0</td>\n      <td>3</td>\n    </tr>\n    <tr>\n      <th>3</th>\n      <td>N1</td>\n      <td>10</td>\n      <td>link</td>\n      <td>Link 9</td>\n      <td>3.0000</td>\n      <td>NaN</td>\n      <td>NaN</td>\n      <td>4</td>\n    </tr>\n    <tr>\n      <th>4</th>\n      <td>N1</td>\n      <td>11</td>\n      <td>bridge</td>\n      <td>Bridge 2</td>\n      <td>0.0066</td>\n      <td>A</td>\n      <td>1.0</td>\n      <td>5</td>\n    </tr>\n    <tr>\n      <th>...</th>\n      <td>...</td>\n      <td>...</td>\n      <td>...</td>\n      <td>...</td>\n      <td>...</td>\n      <td>...</td>\n      <td>...</td>\n      <td>...</td>\n    </tr>\n    <tr>\n      <th>432</th>\n      <td>N1</td>\n      <td>801</td>\n      <td>bridge</td>\n      <td>Bridge 141</td>\n      <td>0.0083</td>\n      <td>A</td>\n      <td>1.0</td>\n      <td>381</td>\n    </tr>\n    <tr>\n      <th>433</th>\n      <td>N1</td>\n      <td>804</td>\n      <td>link</td>\n      <td>Link 562</td>\n      <td>1.0000</td>\n      <td>NaN</td>\n      <td>NaN</td>\n      <td>382</td>\n    </tr>\n    <tr>\n      <th>434</th>\n      <td>N1</td>\n      <td>805</td>\n      <td>bridge</td>\n      <td>Bridge 142</td>\n      <td>0.0030</td>\n      <td>A</td>\n      <td>1.0</td>\n      <td>383</td>\n    </tr>\n    <tr>\n      <th>435</th>\n      <td>N1</td>\n      <td>807</td>\n      <td>link</td>\n      <td>Link 564</td>\n      <td>9.4500</td>\n      <td>NaN</td>\n      <td>NaN</td>\n      <td>384</td>\n    </tr>\n    <tr>\n      <th>436</th>\n      <td>N1</td>\n      <td>808</td>\n      <td>sink</td>\n      <td>Link 565</td>\n      <td>0.0000</td>\n      <td>NaN</td>\n      <td>NaN</td>\n      <td>385</td>\n    </tr>\n  </tbody>\n</table>\n<p>437 rows × 8 columns</p>\n</div>"
     },
     "execution_count": 15,
     "metadata": {},
     "output_type": "execute_result"
    }
   ],
   "source": [
    "n1"
   ],
   "metadata": {
    "collapsed": false,
    "ExecuteTime": {
     "end_time": "2024-02-28T13:15:27.211297800Z",
     "start_time": "2024-02-28T13:15:27.197501400Z"
    }
   },
   "id": "81dd268eb6fe58a5"
  },
  {
   "cell_type": "code",
   "execution_count": 12,
   "outputs": [],
   "source": [
    "duplicates_df = bmms_n1[bmms_n1.duplicated('km', keep=False)]"
   ],
   "metadata": {
    "collapsed": false,
    "ExecuteTime": {
     "end_time": "2024-02-28T13:14:25.523343400Z",
     "start_time": "2024-02-28T13:14:25.509134300Z"
    }
   },
   "id": "39651d3833a18c2a"
  },
  {
   "cell_type": "code",
   "execution_count": 13,
   "outputs": [
    {
     "name": "stderr",
     "output_type": "stream",
     "text": [
      "C:\\Users\\svenk\\AppData\\Local\\Temp\\ipykernel_13928\\355141723.py:4: SettingWithCopyWarning: \n",
      "A value is trying to be set on a copy of a slice from a DataFrame.\n",
      "Try using .loc[row_indexer,col_indexer] = value instead\n",
      "\n",
      "See the caveats in the documentation: https://pandas.pydata.org/pandas-docs/stable/user_guide/indexing.html#returning-a-view-versus-a-copy\n",
      "  duplicates_df['condition_num'] = duplicates_df['condition'].map(condition_mapping)\n"
     ]
    },
    {
     "data": {
      "text/plain": "      road       km               type  LRPName        name   length  \\\n2       N1    8.976   PC Girder Bridge  LRP008b    Bridge 3  0.39423   \n8       N1   12.660   PC Girder Bridge  LRP013a    Bridge 9  0.02750   \n10      N1   12.660   PC Girder Bridge  LRP013a   Bridge 10  0.02630   \n15      N1   18.093   PC Girder Bridge  LRP018c   Bridge 13  0.02550   \n17      N1   21.184   PC Girder Bridge  LRP021c   Bridge 15  0.08692   \n...    ...      ...                ...      ...         ...      ...   \n14648   N1  165.183   PC Girder Bridge  LRP166a  Bridge 228  0.22060   \n14658   N1  218.441  RCC Girder Bridge  LRP220b  Bridge 238  0.02320   \n14659   N1  220.725  RCC Girder Bridge  LRP223a  Bridge 239  0.02320   \n19366   N1  218.441  RCC Girder Bridge  LRP220b  Bridge 242  0.02433   \n19367   N1  220.725  RCC Girder Bridge  LRP223a  Bridge 243  0.02432   \n\n      condition  structureNr  \\\n2             A       119889   \n8             A       119897   \n10            A       109838   \n15            A       119933   \n17            A       119944   \n...         ...          ...   \n14648         B       101258   \n14658         B       100608   \n14659         B       100611   \n19366         D       121352   \n19367         D       121354   \n\n                                                roadName  chainage  ...  \\\n2      Dhaka (Jatrabari)-Comilla (Mainamati)-Chittago...     8.976  ...   \n8      Dhaka (Jatrabari)-Comilla (Mainamati)-Chittago...    12.660  ...   \n10     Dhaka (Jatrabari)-Comilla (Mainamati)-Chittago...    12.660  ...   \n15     Dhaka (Jatrabari)-Comilla (Mainamati)-Chittago...    18.093  ...   \n17     Dhaka (Jatrabari)-Comilla (Mainamati)-Chittago...    21.184  ...   \n...                                                  ...       ...  ...   \n14648  Dhaka (Jatrabari)-Comilla (Mainamati)-Chittago...   165.183  ...   \n14658  Dhaka (Jatrabari)-Comilla (Mainamati)-Chittago...   218.441  ...   \n14659  Dhaka (Jatrabari)-Comilla (Mainamati)-Chittago...   220.725  ...   \n19366  Dhaka (Jatrabari)-Comilla (Mainamati)-Chittago...   218.441  ...   \n19367  Dhaka (Jatrabari)-Comilla (Mainamati)-Chittago...   220.725  ...   \n\n             zone      circle     division   sub-division        lat  \\\n2           Dhaka       Dhaka  Narayanganj  Narayanganj-1  23.705060   \n8           Dhaka       Dhaka  Narayanganj      Vitikandi  23.685583   \n10          Dhaka       Dhaka  Narayanganj      Vitikandi  23.685583   \n15          Dhaka       Dhaka  Narayanganj      Vitikandi  23.649754   \n17          Dhaka       Dhaka  Narayanganj      Vitikandi  23.628467   \n...           ...         ...          ...            ...        ...   \n14648     Comilla    Noakhali         Feni         Feni-1  22.914965   \n14658  Chittagong  Chittagong   Chittagong      Sitakunda  22.481164   \n14659  Chittagong  Chittagong   Chittagong      Sitakunda  22.462439   \n19366  Chittagong  Chittagong   Chittagong      Sitakunda  22.481164   \n19367  Chittagong  Chittagong   Chittagong      Sitakunda  22.462439   \n\n             lon EstimatedLoc  model_type   id condition_num  \n2      90.523214  interpolate      bridge  568             1  \n8      90.551208  interpolate      bridge  574             1  \n10     90.551208  interpolate      bridge  575             1  \n15     90.584549  interpolate      bridge  578             1  \n17     90.602302  interpolate      bridge  580             1  \n...          ...          ...         ...  ...           ...  \n14648  91.526290  interpolate      bridge  793             2  \n14658  91.720363  interpolate      bridge  803             2  \n14659  91.728531  interpolate      bridge  804             2  \n19366  91.720363  interpolate      bridge  807             4  \n19367  91.728531  interpolate      bridge  808             4  \n\n[70 rows x 23 columns]",
      "text/html": "<div>\n<style scoped>\n    .dataframe tbody tr th:only-of-type {\n        vertical-align: middle;\n    }\n\n    .dataframe tbody tr th {\n        vertical-align: top;\n    }\n\n    .dataframe thead th {\n        text-align: right;\n    }\n</style>\n<table border=\"1\" class=\"dataframe\">\n  <thead>\n    <tr style=\"text-align: right;\">\n      <th></th>\n      <th>road</th>\n      <th>km</th>\n      <th>type</th>\n      <th>LRPName</th>\n      <th>name</th>\n      <th>length</th>\n      <th>condition</th>\n      <th>structureNr</th>\n      <th>roadName</th>\n      <th>chainage</th>\n      <th>...</th>\n      <th>zone</th>\n      <th>circle</th>\n      <th>division</th>\n      <th>sub-division</th>\n      <th>lat</th>\n      <th>lon</th>\n      <th>EstimatedLoc</th>\n      <th>model_type</th>\n      <th>id</th>\n      <th>condition_num</th>\n    </tr>\n  </thead>\n  <tbody>\n    <tr>\n      <th>2</th>\n      <td>N1</td>\n      <td>8.976</td>\n      <td>PC Girder Bridge</td>\n      <td>LRP008b</td>\n      <td>Bridge 3</td>\n      <td>0.39423</td>\n      <td>A</td>\n      <td>119889</td>\n      <td>Dhaka (Jatrabari)-Comilla (Mainamati)-Chittago...</td>\n      <td>8.976</td>\n      <td>...</td>\n      <td>Dhaka</td>\n      <td>Dhaka</td>\n      <td>Narayanganj</td>\n      <td>Narayanganj-1</td>\n      <td>23.705060</td>\n      <td>90.523214</td>\n      <td>interpolate</td>\n      <td>bridge</td>\n      <td>568</td>\n      <td>1</td>\n    </tr>\n    <tr>\n      <th>8</th>\n      <td>N1</td>\n      <td>12.660</td>\n      <td>PC Girder Bridge</td>\n      <td>LRP013a</td>\n      <td>Bridge 9</td>\n      <td>0.02750</td>\n      <td>A</td>\n      <td>119897</td>\n      <td>Dhaka (Jatrabari)-Comilla (Mainamati)-Chittago...</td>\n      <td>12.660</td>\n      <td>...</td>\n      <td>Dhaka</td>\n      <td>Dhaka</td>\n      <td>Narayanganj</td>\n      <td>Vitikandi</td>\n      <td>23.685583</td>\n      <td>90.551208</td>\n      <td>interpolate</td>\n      <td>bridge</td>\n      <td>574</td>\n      <td>1</td>\n    </tr>\n    <tr>\n      <th>10</th>\n      <td>N1</td>\n      <td>12.660</td>\n      <td>PC Girder Bridge</td>\n      <td>LRP013a</td>\n      <td>Bridge 10</td>\n      <td>0.02630</td>\n      <td>A</td>\n      <td>109838</td>\n      <td>Dhaka (Jatrabari)-Comilla (Mainamati)-Chittago...</td>\n      <td>12.660</td>\n      <td>...</td>\n      <td>Dhaka</td>\n      <td>Dhaka</td>\n      <td>Narayanganj</td>\n      <td>Vitikandi</td>\n      <td>23.685583</td>\n      <td>90.551208</td>\n      <td>interpolate</td>\n      <td>bridge</td>\n      <td>575</td>\n      <td>1</td>\n    </tr>\n    <tr>\n      <th>15</th>\n      <td>N1</td>\n      <td>18.093</td>\n      <td>PC Girder Bridge</td>\n      <td>LRP018c</td>\n      <td>Bridge 13</td>\n      <td>0.02550</td>\n      <td>A</td>\n      <td>119933</td>\n      <td>Dhaka (Jatrabari)-Comilla (Mainamati)-Chittago...</td>\n      <td>18.093</td>\n      <td>...</td>\n      <td>Dhaka</td>\n      <td>Dhaka</td>\n      <td>Narayanganj</td>\n      <td>Vitikandi</td>\n      <td>23.649754</td>\n      <td>90.584549</td>\n      <td>interpolate</td>\n      <td>bridge</td>\n      <td>578</td>\n      <td>1</td>\n    </tr>\n    <tr>\n      <th>17</th>\n      <td>N1</td>\n      <td>21.184</td>\n      <td>PC Girder Bridge</td>\n      <td>LRP021c</td>\n      <td>Bridge 15</td>\n      <td>0.08692</td>\n      <td>A</td>\n      <td>119944</td>\n      <td>Dhaka (Jatrabari)-Comilla (Mainamati)-Chittago...</td>\n      <td>21.184</td>\n      <td>...</td>\n      <td>Dhaka</td>\n      <td>Dhaka</td>\n      <td>Narayanganj</td>\n      <td>Vitikandi</td>\n      <td>23.628467</td>\n      <td>90.602302</td>\n      <td>interpolate</td>\n      <td>bridge</td>\n      <td>580</td>\n      <td>1</td>\n    </tr>\n    <tr>\n      <th>...</th>\n      <td>...</td>\n      <td>...</td>\n      <td>...</td>\n      <td>...</td>\n      <td>...</td>\n      <td>...</td>\n      <td>...</td>\n      <td>...</td>\n      <td>...</td>\n      <td>...</td>\n      <td>...</td>\n      <td>...</td>\n      <td>...</td>\n      <td>...</td>\n      <td>...</td>\n      <td>...</td>\n      <td>...</td>\n      <td>...</td>\n      <td>...</td>\n      <td>...</td>\n      <td>...</td>\n    </tr>\n    <tr>\n      <th>14648</th>\n      <td>N1</td>\n      <td>165.183</td>\n      <td>PC Girder Bridge</td>\n      <td>LRP166a</td>\n      <td>Bridge 228</td>\n      <td>0.22060</td>\n      <td>B</td>\n      <td>101258</td>\n      <td>Dhaka (Jatrabari)-Comilla (Mainamati)-Chittago...</td>\n      <td>165.183</td>\n      <td>...</td>\n      <td>Comilla</td>\n      <td>Noakhali</td>\n      <td>Feni</td>\n      <td>Feni-1</td>\n      <td>22.914965</td>\n      <td>91.526290</td>\n      <td>interpolate</td>\n      <td>bridge</td>\n      <td>793</td>\n      <td>2</td>\n    </tr>\n    <tr>\n      <th>14658</th>\n      <td>N1</td>\n      <td>218.441</td>\n      <td>RCC Girder Bridge</td>\n      <td>LRP220b</td>\n      <td>Bridge 238</td>\n      <td>0.02320</td>\n      <td>B</td>\n      <td>100608</td>\n      <td>Dhaka (Jatrabari)-Comilla (Mainamati)-Chittago...</td>\n      <td>218.441</td>\n      <td>...</td>\n      <td>Chittagong</td>\n      <td>Chittagong</td>\n      <td>Chittagong</td>\n      <td>Sitakunda</td>\n      <td>22.481164</td>\n      <td>91.720363</td>\n      <td>interpolate</td>\n      <td>bridge</td>\n      <td>803</td>\n      <td>2</td>\n    </tr>\n    <tr>\n      <th>14659</th>\n      <td>N1</td>\n      <td>220.725</td>\n      <td>RCC Girder Bridge</td>\n      <td>LRP223a</td>\n      <td>Bridge 239</td>\n      <td>0.02320</td>\n      <td>B</td>\n      <td>100611</td>\n      <td>Dhaka (Jatrabari)-Comilla (Mainamati)-Chittago...</td>\n      <td>220.725</td>\n      <td>...</td>\n      <td>Chittagong</td>\n      <td>Chittagong</td>\n      <td>Chittagong</td>\n      <td>Sitakunda</td>\n      <td>22.462439</td>\n      <td>91.728531</td>\n      <td>interpolate</td>\n      <td>bridge</td>\n      <td>804</td>\n      <td>2</td>\n    </tr>\n    <tr>\n      <th>19366</th>\n      <td>N1</td>\n      <td>218.441</td>\n      <td>RCC Girder Bridge</td>\n      <td>LRP220b</td>\n      <td>Bridge 242</td>\n      <td>0.02433</td>\n      <td>D</td>\n      <td>121352</td>\n      <td>Dhaka (Jatrabari)-Comilla (Mainamati)-Chittago...</td>\n      <td>218.441</td>\n      <td>...</td>\n      <td>Chittagong</td>\n      <td>Chittagong</td>\n      <td>Chittagong</td>\n      <td>Sitakunda</td>\n      <td>22.481164</td>\n      <td>91.720363</td>\n      <td>interpolate</td>\n      <td>bridge</td>\n      <td>807</td>\n      <td>4</td>\n    </tr>\n    <tr>\n      <th>19367</th>\n      <td>N1</td>\n      <td>220.725</td>\n      <td>RCC Girder Bridge</td>\n      <td>LRP223a</td>\n      <td>Bridge 243</td>\n      <td>0.02432</td>\n      <td>D</td>\n      <td>121354</td>\n      <td>Dhaka (Jatrabari)-Comilla (Mainamati)-Chittago...</td>\n      <td>220.725</td>\n      <td>...</td>\n      <td>Chittagong</td>\n      <td>Chittagong</td>\n      <td>Chittagong</td>\n      <td>Sitakunda</td>\n      <td>22.462439</td>\n      <td>91.728531</td>\n      <td>interpolate</td>\n      <td>bridge</td>\n      <td>808</td>\n      <td>4</td>\n    </tr>\n  </tbody>\n</table>\n<p>70 rows × 23 columns</p>\n</div>"
     },
     "execution_count": 13,
     "metadata": {},
     "output_type": "execute_result"
    }
   ],
   "source": [
    "# Assuming duplicates_df is your DataFrame\n",
    "# Convert 'condition' to a numerical value for averaging\n",
    "condition_mapping = {'A': 1, 'B': 2, 'C': 3, 'D': 4, 'E': 5}\n",
    "duplicates_df['condition_num'] = duplicates_df['condition'].map(condition_mapping)\n",
    "duplicates_df"
   ],
   "metadata": {
    "collapsed": false,
    "ExecuteTime": {
     "end_time": "2024-02-28T13:14:25.799137700Z",
     "start_time": "2024-02-28T13:14:25.755332500Z"
    }
   },
   "id": "c9be4495eec526f7"
  },
  {
   "cell_type": "code",
   "execution_count": 45,
   "outputs": [],
   "source": [
    "duplicates_df.sort_values(by='km', ascending=False, inplace=True)\n",
    "final_bmms = pd.DataFrame(columns = ['road', \"id\", 'model_type', 'name', 'length', 'condition', 'condition_num'])\n",
    "rows_to_add = []\n",
    "last_row = None\n",
    "count = 0\n",
    "sum_condition = 0\n",
    "for index, row in duplicates_df.iterrows():\n",
    "    if last_row is not None and last_row['km'] == row['km']:\n",
    "        count += 1\n",
    "        sum_condition += row['condition_num']\n",
    "    else:\n",
    "            rows_to_add.append({'road': last_row['road'], 'id': last_row['id'], 'model_type': last_row['model_type'],\n",
    "                            'name': last_row['name'], 'length': last_row['length'], 'condition': last_row['condition'], 'condition_num': sum_condition/count})\n",
    "           \n",
    "    "
   ],
   "metadata": {
    "collapsed": false,
    "ExecuteTime": {
     "end_time": "2024-02-28T12:23:04.523823200Z",
     "start_time": "2024-02-28T12:23:04.506832100Z"
    }
   },
   "id": "6e256c28b736e762"
  },
  {
   "cell_type": "markdown",
   "source": [],
   "metadata": {
    "collapsed": false
   },
   "id": "9a410a11b59a41bb"
  },
  {
   "cell_type": "code",
   "execution_count": 45,
   "outputs": [],
   "source": [],
   "metadata": {
    "collapsed": false,
    "ExecuteTime": {
     "end_time": "2024-02-28T12:23:04.660059900Z",
     "start_time": "2024-02-28T12:23:04.649918600Z"
    }
   },
   "id": "b20892e7104fb0ae"
  },
  {
   "cell_type": "code",
   "execution_count": null,
   "outputs": [],
   "source": [],
   "metadata": {
    "collapsed": false,
    "ExecuteTime": {
     "start_time": "2024-02-28T10:50:28.970186100Z"
    }
   },
   "id": "9549a1857a2d2571"
  },
  {
   "cell_type": "code",
   "execution_count": null,
   "outputs": [],
   "source": [],
   "metadata": {
    "collapsed": false,
    "ExecuteTime": {
     "start_time": "2024-02-28T10:50:28.972310Z"
    }
   },
   "id": "ce747128ed0d2285"
  },
  {
   "cell_type": "code",
   "execution_count": 9,
   "outputs": [],
   "source": [],
   "metadata": {
    "collapsed": false,
    "ExecuteTime": {
     "end_time": "2024-02-26T14:50:43.789684900Z",
     "start_time": "2024-02-26T14:50:43.521586100Z"
    }
   },
   "id": "e9128a36a8319e61"
  },
  {
   "cell_type": "code",
   "execution_count": null,
   "outputs": [],
   "source": [],
   "metadata": {
    "collapsed": false
   },
   "id": "8035a61ca594ce6d"
  }
 ],
 "metadata": {
  "kernelspec": {
   "display_name": "Python 3",
   "language": "python",
   "name": "python3"
  },
  "language_info": {
   "codemirror_mode": {
    "name": "ipython",
    "version": 2
   },
   "file_extension": ".py",
   "mimetype": "text/x-python",
   "name": "python",
   "nbconvert_exporter": "python",
   "pygments_lexer": "ipython2",
   "version": "2.7.6"
  }
 },
 "nbformat": 4,
 "nbformat_minor": 5
}
