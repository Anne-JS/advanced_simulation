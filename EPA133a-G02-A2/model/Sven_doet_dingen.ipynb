{
 "cells": [
  {
   "cell_type": "code",
   "execution_count": null,
   "outputs": [],
   "source": [],
   "metadata": {
    "collapsed": false
   },
   "id": "6f417fe34efaac36"
  },
  {
   "cell_type": "code",
   "execution_count": 1,
   "id": "initial_id",
   "metadata": {
    "collapsed": true,
    "ExecuteTime": {
     "end_time": "2024-02-26T14:50:36.783994500Z",
     "start_time": "2024-02-26T14:50:35.947196800Z"
    }
   },
   "outputs": [],
   "source": [
    "import pandas as pd"
   ]
  },
  {
   "cell_type": "code",
   "execution_count": 2,
   "outputs": [],
   "source": [
    "demo1 = pd.read_csv('../data/demo-1.csv')"
   ],
   "metadata": {
    "collapsed": false,
    "ExecuteTime": {
     "end_time": "2024-02-26T14:50:36.802851100Z",
     "start_time": "2024-02-26T14:50:36.786448100Z"
    }
   },
   "id": "f3761e108dfd2294"
  },
  {
   "cell_type": "code",
   "execution_count": 3,
   "outputs": [
    {
     "data": {
      "text/plain": "   road       id model_type      name  lat  lon  length\n0    N1  1000000     source    source    0    0       4\n1    N1  1000001       link    link 1    1    1    1800\n2    N1  1000002     bridge  bridge 1    2    2     200\n3    N1  1000003       link    link 2    3    3    1500\n4    N1  1000004     bridge  bridge 2    4    4       8\n5    N1  1000005       link    link 3    5    5    2000\n6    N1  1000006     bridge  bridge 3    6    6       4\n7    N1  1000007       link    link 4    7    7    2500\n8    N1  1000008     bridge  bridge 4    8    8     500\n9    N1  1000009       link    link 5    9    9     800\n10   N1  1000010       sink      sink   10   10      20",
      "text/html": "<div>\n<style scoped>\n    .dataframe tbody tr th:only-of-type {\n        vertical-align: middle;\n    }\n\n    .dataframe tbody tr th {\n        vertical-align: top;\n    }\n\n    .dataframe thead th {\n        text-align: right;\n    }\n</style>\n<table border=\"1\" class=\"dataframe\">\n  <thead>\n    <tr style=\"text-align: right;\">\n      <th></th>\n      <th>road</th>\n      <th>id</th>\n      <th>model_type</th>\n      <th>name</th>\n      <th>lat</th>\n      <th>lon</th>\n      <th>length</th>\n    </tr>\n  </thead>\n  <tbody>\n    <tr>\n      <th>0</th>\n      <td>N1</td>\n      <td>1000000</td>\n      <td>source</td>\n      <td>source</td>\n      <td>0</td>\n      <td>0</td>\n      <td>4</td>\n    </tr>\n    <tr>\n      <th>1</th>\n      <td>N1</td>\n      <td>1000001</td>\n      <td>link</td>\n      <td>link 1</td>\n      <td>1</td>\n      <td>1</td>\n      <td>1800</td>\n    </tr>\n    <tr>\n      <th>2</th>\n      <td>N1</td>\n      <td>1000002</td>\n      <td>bridge</td>\n      <td>bridge 1</td>\n      <td>2</td>\n      <td>2</td>\n      <td>200</td>\n    </tr>\n    <tr>\n      <th>3</th>\n      <td>N1</td>\n      <td>1000003</td>\n      <td>link</td>\n      <td>link 2</td>\n      <td>3</td>\n      <td>3</td>\n      <td>1500</td>\n    </tr>\n    <tr>\n      <th>4</th>\n      <td>N1</td>\n      <td>1000004</td>\n      <td>bridge</td>\n      <td>bridge 2</td>\n      <td>4</td>\n      <td>4</td>\n      <td>8</td>\n    </tr>\n    <tr>\n      <th>5</th>\n      <td>N1</td>\n      <td>1000005</td>\n      <td>link</td>\n      <td>link 3</td>\n      <td>5</td>\n      <td>5</td>\n      <td>2000</td>\n    </tr>\n    <tr>\n      <th>6</th>\n      <td>N1</td>\n      <td>1000006</td>\n      <td>bridge</td>\n      <td>bridge 3</td>\n      <td>6</td>\n      <td>6</td>\n      <td>4</td>\n    </tr>\n    <tr>\n      <th>7</th>\n      <td>N1</td>\n      <td>1000007</td>\n      <td>link</td>\n      <td>link 4</td>\n      <td>7</td>\n      <td>7</td>\n      <td>2500</td>\n    </tr>\n    <tr>\n      <th>8</th>\n      <td>N1</td>\n      <td>1000008</td>\n      <td>bridge</td>\n      <td>bridge 4</td>\n      <td>8</td>\n      <td>8</td>\n      <td>500</td>\n    </tr>\n    <tr>\n      <th>9</th>\n      <td>N1</td>\n      <td>1000009</td>\n      <td>link</td>\n      <td>link 5</td>\n      <td>9</td>\n      <td>9</td>\n      <td>800</td>\n    </tr>\n    <tr>\n      <th>10</th>\n      <td>N1</td>\n      <td>1000010</td>\n      <td>sink</td>\n      <td>sink</td>\n      <td>10</td>\n      <td>10</td>\n      <td>20</td>\n    </tr>\n  </tbody>\n</table>\n</div>"
     },
     "execution_count": 3,
     "metadata": {},
     "output_type": "execute_result"
    }
   ],
   "source": [
    "demo1"
   ],
   "metadata": {
    "collapsed": false,
    "ExecuteTime": {
     "end_time": "2024-02-26T14:50:36.839495Z",
     "start_time": "2024-02-26T14:50:36.798248900Z"
    }
   },
   "id": "f85f95d0fd684ad1"
  },
  {
   "cell_type": "code",
   "execution_count": 4,
   "outputs": [],
   "source": [
    "roads = pd.read_csv('../data/_roads3.csv')\n",
    "bmms = pd.read_excel('../data/BMMS_overview.xlsx')"
   ],
   "metadata": {
    "collapsed": false,
    "ExecuteTime": {
     "end_time": "2024-02-26T14:50:43.331458Z",
     "start_time": "2024-02-26T14:50:36.819598900Z"
    }
   },
   "id": "d6da2cf8fc2274a5"
  },
  {
   "cell_type": "code",
   "execution_count": 5,
   "outputs": [
    {
     "data": {
      "text/plain": "     road  chainage      lrp        lat        lon  gap       type  \\\n0      N1     0.000     LRPS  23.706028  90.443333  NaN     Others   \n1      N1     0.814    LRPSa  23.702917  90.450417  NaN    Culvert   \n2      N1     0.822    LRPSb  23.702778  90.450472  NaN  CrossRoad   \n3      N1     1.000   LRP001  23.702139  90.451972  NaN     KmPost   \n4      N1     2.000   LRP002  23.697889  90.460583  NaN     KmPost   \n...   ...       ...      ...        ...        ...  ...        ...   \n1334   N1   461.476  LRP466a  20.868860  92.298222  NaN    Culvert   \n1335   N1   461.904  LRP466b  20.865028  92.298250   BS     Bridge   \n1336   N1   461.946  LRP466c  20.864667  92.298194   BE     Bridge   \n1337   N1   462.124   LRP467  20.862972  92.298083  NaN     KmPost   \n1338   N1   462.254     LRPE  20.862917  92.298083  NaN     Others   \n\n                                                   name  \n0     Start of Road  after Jatrabari Flyover infront...  \n1                                           Box Culvert  \n2                               Intersection with Z1101  \n3                                       Km post missing  \n4                                       Km post missing  \n...                                                 ...  \n1334                                        Box culvert  \n1335                                       Bridge start  \n1336                                         Bridge end  \n1337                                      Infor.missing  \n1338  End of Road at Shapla Chattar ,Teknaf Meet wit...  \n\n[1339 rows x 8 columns]",
      "text/html": "<div>\n<style scoped>\n    .dataframe tbody tr th:only-of-type {\n        vertical-align: middle;\n    }\n\n    .dataframe tbody tr th {\n        vertical-align: top;\n    }\n\n    .dataframe thead th {\n        text-align: right;\n    }\n</style>\n<table border=\"1\" class=\"dataframe\">\n  <thead>\n    <tr style=\"text-align: right;\">\n      <th></th>\n      <th>road</th>\n      <th>chainage</th>\n      <th>lrp</th>\n      <th>lat</th>\n      <th>lon</th>\n      <th>gap</th>\n      <th>type</th>\n      <th>name</th>\n    </tr>\n  </thead>\n  <tbody>\n    <tr>\n      <th>0</th>\n      <td>N1</td>\n      <td>0.000</td>\n      <td>LRPS</td>\n      <td>23.706028</td>\n      <td>90.443333</td>\n      <td>NaN</td>\n      <td>Others</td>\n      <td>Start of Road  after Jatrabari Flyover infront...</td>\n    </tr>\n    <tr>\n      <th>1</th>\n      <td>N1</td>\n      <td>0.814</td>\n      <td>LRPSa</td>\n      <td>23.702917</td>\n      <td>90.450417</td>\n      <td>NaN</td>\n      <td>Culvert</td>\n      <td>Box Culvert</td>\n    </tr>\n    <tr>\n      <th>2</th>\n      <td>N1</td>\n      <td>0.822</td>\n      <td>LRPSb</td>\n      <td>23.702778</td>\n      <td>90.450472</td>\n      <td>NaN</td>\n      <td>CrossRoad</td>\n      <td>Intersection with Z1101</td>\n    </tr>\n    <tr>\n      <th>3</th>\n      <td>N1</td>\n      <td>1.000</td>\n      <td>LRP001</td>\n      <td>23.702139</td>\n      <td>90.451972</td>\n      <td>NaN</td>\n      <td>KmPost</td>\n      <td>Km post missing</td>\n    </tr>\n    <tr>\n      <th>4</th>\n      <td>N1</td>\n      <td>2.000</td>\n      <td>LRP002</td>\n      <td>23.697889</td>\n      <td>90.460583</td>\n      <td>NaN</td>\n      <td>KmPost</td>\n      <td>Km post missing</td>\n    </tr>\n    <tr>\n      <th>...</th>\n      <td>...</td>\n      <td>...</td>\n      <td>...</td>\n      <td>...</td>\n      <td>...</td>\n      <td>...</td>\n      <td>...</td>\n      <td>...</td>\n    </tr>\n    <tr>\n      <th>1334</th>\n      <td>N1</td>\n      <td>461.476</td>\n      <td>LRP466a</td>\n      <td>20.868860</td>\n      <td>92.298222</td>\n      <td>NaN</td>\n      <td>Culvert</td>\n      <td>Box culvert</td>\n    </tr>\n    <tr>\n      <th>1335</th>\n      <td>N1</td>\n      <td>461.904</td>\n      <td>LRP466b</td>\n      <td>20.865028</td>\n      <td>92.298250</td>\n      <td>BS</td>\n      <td>Bridge</td>\n      <td>Bridge start</td>\n    </tr>\n    <tr>\n      <th>1336</th>\n      <td>N1</td>\n      <td>461.946</td>\n      <td>LRP466c</td>\n      <td>20.864667</td>\n      <td>92.298194</td>\n      <td>BE</td>\n      <td>Bridge</td>\n      <td>Bridge end</td>\n    </tr>\n    <tr>\n      <th>1337</th>\n      <td>N1</td>\n      <td>462.124</td>\n      <td>LRP467</td>\n      <td>20.862972</td>\n      <td>92.298083</td>\n      <td>NaN</td>\n      <td>KmPost</td>\n      <td>Infor.missing</td>\n    </tr>\n    <tr>\n      <th>1338</th>\n      <td>N1</td>\n      <td>462.254</td>\n      <td>LRPE</td>\n      <td>20.862917</td>\n      <td>92.298083</td>\n      <td>NaN</td>\n      <td>Others</td>\n      <td>End of Road at Shapla Chattar ,Teknaf Meet wit...</td>\n    </tr>\n  </tbody>\n</table>\n<p>1339 rows × 8 columns</p>\n</div>"
     },
     "execution_count": 5,
     "metadata": {},
     "output_type": "execute_result"
    }
   ],
   "source": [
    "roads[roads[\"road\"] == \"N1\"]"
   ],
   "metadata": {
    "collapsed": false,
    "ExecuteTime": {
     "end_time": "2024-02-26T14:50:43.383688600Z",
     "start_time": "2024-02-26T14:50:43.334785800Z"
    }
   },
   "id": "91d0f9b277972eb0"
  },
  {
   "cell_type": "code",
   "execution_count": 6,
   "outputs": [
    {
     "data": {
      "text/plain": "      road       km               type  LRPName                  name  length  \\\n0       N1    1.800        Box Culvert  LRP001a                     .   11.30   \n1       N1    4.925        Box Culvert  LRP004b                     .    6.60   \n2       N1    8.976   PC Girder Bridge  LRP008b     Kanch pur Bridge.  394.23   \n3       N1   10.880        Box Culvert  LRP010b      NOYAPARA CULVERT    6.30   \n4       N1   10.897        Box Culvert  LRP010c        ADUPUR CULVERT    6.30   \n...    ...      ...                ...      ...                   ...     ...   \n19378   N1  426.915  RCC Girder Bridge  LRP423b     Balu Khali Bridge    7.90   \n19379   N1  427.622  RCC Girder Bridge  LRP424a     Wheke Kang Bridge    6.40   \n19380   N1  429.081  RCC Girder Bridge  LRP425c          Tasse Bridge   12.80   \n19381   N1  436.789  RCC Girder Bridge  LRP433b  Naya Bazar(2) Bridge    9.40   \n19382   N1  453.372       Slab Culvert  LRP449f                DONMIA    2.70   \n\n      condition  structureNr  \\\n0             A       117861   \n1             A       117862   \n2             A       119889   \n3             A       112531   \n4             A       112532   \n...         ...          ...   \n19378         D       120493   \n19379         D       120498   \n19380         D       120507   \n19381         D       120524   \n19382         D       100933   \n\n                                                roadName  chainage  width  \\\n0      Dhaka (Jatrabari)-Comilla (Mainamati)-Chittago...     1.800   19.5   \n1      Dhaka (Jatrabari)-Comilla (Mainamati)-Chittago...     4.925   35.4   \n2      Dhaka (Jatrabari)-Comilla (Mainamati)-Chittago...     8.976    NaN   \n3      Dhaka (Jatrabari)-Comilla (Mainamati)-Chittago...    10.880   12.2   \n4      Dhaka (Jatrabari)-Comilla (Mainamati)-Chittago...    10.897   12.2   \n...                                                  ...       ...    ...   \n19378  Dhaka (Jatrabari)-Comilla (Mainamati)-Chittago...   426.915    NaN   \n19379  Dhaka (Jatrabari)-Comilla (Mainamati)-Chittago...   427.622    NaN   \n19380  Dhaka (Jatrabari)-Comilla (Mainamati)-Chittago...   429.081    NaN   \n19381  Dhaka (Jatrabari)-Comilla (Mainamati)-Chittago...   436.789    NaN   \n19382  Dhaka (Jatrabari)-Comilla (Mainamati)-Chittago...   453.372   11.2   \n\n       constructionYear  spans        zone      circle     division  \\\n0                2005.0    2.0       Dhaka       Dhaka  Narayanganj   \n1                2006.0    1.0       Dhaka       Dhaka  Narayanganj   \n2                   NaN    NaN       Dhaka       Dhaka  Narayanganj   \n3                1992.0    2.0       Dhaka       Dhaka  Narayanganj   \n4                1984.0    2.0       Dhaka       Dhaka  Narayanganj   \n...                 ...    ...         ...         ...          ...   \n19378               NaN    NaN  Chittagong  Chittagong  Cox's Bazar   \n19379               NaN    NaN  Chittagong  Chittagong  Cox's Bazar   \n19380               NaN    NaN  Chittagong  Chittagong  Cox's Bazar   \n19381               NaN    NaN  Chittagong  Chittagong  Cox's Bazar   \n19382            1972.0    1.0  Chittagong  Chittagong  Cox's Bazar   \n\n          sub-division        lat        lon EstimatedLoc  \n0        Narayanganj-1  23.698739  90.458861  interpolate  \n1        Narayanganj-1  23.694664  90.487775  interpolate  \n2        Narayanganj-1  23.705060  90.523214  interpolate  \n3            Vitikandi  23.694391  90.537574  interpolate  \n4            Vitikandi  23.694302  90.537707  interpolate  \n...                ...        ...        ...          ...  \n19378  Cox's Bazar - 2  21.129768  92.187047  interpolate  \n19379  Cox's Bazar - 2  21.125104  92.191367  interpolate  \n19380  Cox's Bazar - 2  21.114558  92.198021  interpolate  \n19381  Cox's Bazar - 2  21.056294  92.226645  interpolate  \n19382  Cox's Bazar - 2  20.925389  92.264945  interpolate  \n\n[787 rows x 20 columns]",
      "text/html": "<div>\n<style scoped>\n    .dataframe tbody tr th:only-of-type {\n        vertical-align: middle;\n    }\n\n    .dataframe tbody tr th {\n        vertical-align: top;\n    }\n\n    .dataframe thead th {\n        text-align: right;\n    }\n</style>\n<table border=\"1\" class=\"dataframe\">\n  <thead>\n    <tr style=\"text-align: right;\">\n      <th></th>\n      <th>road</th>\n      <th>km</th>\n      <th>type</th>\n      <th>LRPName</th>\n      <th>name</th>\n      <th>length</th>\n      <th>condition</th>\n      <th>structureNr</th>\n      <th>roadName</th>\n      <th>chainage</th>\n      <th>width</th>\n      <th>constructionYear</th>\n      <th>spans</th>\n      <th>zone</th>\n      <th>circle</th>\n      <th>division</th>\n      <th>sub-division</th>\n      <th>lat</th>\n      <th>lon</th>\n      <th>EstimatedLoc</th>\n    </tr>\n  </thead>\n  <tbody>\n    <tr>\n      <th>0</th>\n      <td>N1</td>\n      <td>1.800</td>\n      <td>Box Culvert</td>\n      <td>LRP001a</td>\n      <td>.</td>\n      <td>11.30</td>\n      <td>A</td>\n      <td>117861</td>\n      <td>Dhaka (Jatrabari)-Comilla (Mainamati)-Chittago...</td>\n      <td>1.800</td>\n      <td>19.5</td>\n      <td>2005.0</td>\n      <td>2.0</td>\n      <td>Dhaka</td>\n      <td>Dhaka</td>\n      <td>Narayanganj</td>\n      <td>Narayanganj-1</td>\n      <td>23.698739</td>\n      <td>90.458861</td>\n      <td>interpolate</td>\n    </tr>\n    <tr>\n      <th>1</th>\n      <td>N1</td>\n      <td>4.925</td>\n      <td>Box Culvert</td>\n      <td>LRP004b</td>\n      <td>.</td>\n      <td>6.60</td>\n      <td>A</td>\n      <td>117862</td>\n      <td>Dhaka (Jatrabari)-Comilla (Mainamati)-Chittago...</td>\n      <td>4.925</td>\n      <td>35.4</td>\n      <td>2006.0</td>\n      <td>1.0</td>\n      <td>Dhaka</td>\n      <td>Dhaka</td>\n      <td>Narayanganj</td>\n      <td>Narayanganj-1</td>\n      <td>23.694664</td>\n      <td>90.487775</td>\n      <td>interpolate</td>\n    </tr>\n    <tr>\n      <th>2</th>\n      <td>N1</td>\n      <td>8.976</td>\n      <td>PC Girder Bridge</td>\n      <td>LRP008b</td>\n      <td>Kanch pur Bridge.</td>\n      <td>394.23</td>\n      <td>A</td>\n      <td>119889</td>\n      <td>Dhaka (Jatrabari)-Comilla (Mainamati)-Chittago...</td>\n      <td>8.976</td>\n      <td>NaN</td>\n      <td>NaN</td>\n      <td>NaN</td>\n      <td>Dhaka</td>\n      <td>Dhaka</td>\n      <td>Narayanganj</td>\n      <td>Narayanganj-1</td>\n      <td>23.705060</td>\n      <td>90.523214</td>\n      <td>interpolate</td>\n    </tr>\n    <tr>\n      <th>3</th>\n      <td>N1</td>\n      <td>10.880</td>\n      <td>Box Culvert</td>\n      <td>LRP010b</td>\n      <td>NOYAPARA CULVERT</td>\n      <td>6.30</td>\n      <td>A</td>\n      <td>112531</td>\n      <td>Dhaka (Jatrabari)-Comilla (Mainamati)-Chittago...</td>\n      <td>10.880</td>\n      <td>12.2</td>\n      <td>1992.0</td>\n      <td>2.0</td>\n      <td>Dhaka</td>\n      <td>Dhaka</td>\n      <td>Narayanganj</td>\n      <td>Vitikandi</td>\n      <td>23.694391</td>\n      <td>90.537574</td>\n      <td>interpolate</td>\n    </tr>\n    <tr>\n      <th>4</th>\n      <td>N1</td>\n      <td>10.897</td>\n      <td>Box Culvert</td>\n      <td>LRP010c</td>\n      <td>ADUPUR CULVERT</td>\n      <td>6.30</td>\n      <td>A</td>\n      <td>112532</td>\n      <td>Dhaka (Jatrabari)-Comilla (Mainamati)-Chittago...</td>\n      <td>10.897</td>\n      <td>12.2</td>\n      <td>1984.0</td>\n      <td>2.0</td>\n      <td>Dhaka</td>\n      <td>Dhaka</td>\n      <td>Narayanganj</td>\n      <td>Vitikandi</td>\n      <td>23.694302</td>\n      <td>90.537707</td>\n      <td>interpolate</td>\n    </tr>\n    <tr>\n      <th>...</th>\n      <td>...</td>\n      <td>...</td>\n      <td>...</td>\n      <td>...</td>\n      <td>...</td>\n      <td>...</td>\n      <td>...</td>\n      <td>...</td>\n      <td>...</td>\n      <td>...</td>\n      <td>...</td>\n      <td>...</td>\n      <td>...</td>\n      <td>...</td>\n      <td>...</td>\n      <td>...</td>\n      <td>...</td>\n      <td>...</td>\n      <td>...</td>\n      <td>...</td>\n    </tr>\n    <tr>\n      <th>19378</th>\n      <td>N1</td>\n      <td>426.915</td>\n      <td>RCC Girder Bridge</td>\n      <td>LRP423b</td>\n      <td>Balu Khali Bridge</td>\n      <td>7.90</td>\n      <td>D</td>\n      <td>120493</td>\n      <td>Dhaka (Jatrabari)-Comilla (Mainamati)-Chittago...</td>\n      <td>426.915</td>\n      <td>NaN</td>\n      <td>NaN</td>\n      <td>NaN</td>\n      <td>Chittagong</td>\n      <td>Chittagong</td>\n      <td>Cox's Bazar</td>\n      <td>Cox's Bazar - 2</td>\n      <td>21.129768</td>\n      <td>92.187047</td>\n      <td>interpolate</td>\n    </tr>\n    <tr>\n      <th>19379</th>\n      <td>N1</td>\n      <td>427.622</td>\n      <td>RCC Girder Bridge</td>\n      <td>LRP424a</td>\n      <td>Wheke Kang Bridge</td>\n      <td>6.40</td>\n      <td>D</td>\n      <td>120498</td>\n      <td>Dhaka (Jatrabari)-Comilla (Mainamati)-Chittago...</td>\n      <td>427.622</td>\n      <td>NaN</td>\n      <td>NaN</td>\n      <td>NaN</td>\n      <td>Chittagong</td>\n      <td>Chittagong</td>\n      <td>Cox's Bazar</td>\n      <td>Cox's Bazar - 2</td>\n      <td>21.125104</td>\n      <td>92.191367</td>\n      <td>interpolate</td>\n    </tr>\n    <tr>\n      <th>19380</th>\n      <td>N1</td>\n      <td>429.081</td>\n      <td>RCC Girder Bridge</td>\n      <td>LRP425c</td>\n      <td>Tasse Bridge</td>\n      <td>12.80</td>\n      <td>D</td>\n      <td>120507</td>\n      <td>Dhaka (Jatrabari)-Comilla (Mainamati)-Chittago...</td>\n      <td>429.081</td>\n      <td>NaN</td>\n      <td>NaN</td>\n      <td>NaN</td>\n      <td>Chittagong</td>\n      <td>Chittagong</td>\n      <td>Cox's Bazar</td>\n      <td>Cox's Bazar - 2</td>\n      <td>21.114558</td>\n      <td>92.198021</td>\n      <td>interpolate</td>\n    </tr>\n    <tr>\n      <th>19381</th>\n      <td>N1</td>\n      <td>436.789</td>\n      <td>RCC Girder Bridge</td>\n      <td>LRP433b</td>\n      <td>Naya Bazar(2) Bridge</td>\n      <td>9.40</td>\n      <td>D</td>\n      <td>120524</td>\n      <td>Dhaka (Jatrabari)-Comilla (Mainamati)-Chittago...</td>\n      <td>436.789</td>\n      <td>NaN</td>\n      <td>NaN</td>\n      <td>NaN</td>\n      <td>Chittagong</td>\n      <td>Chittagong</td>\n      <td>Cox's Bazar</td>\n      <td>Cox's Bazar - 2</td>\n      <td>21.056294</td>\n      <td>92.226645</td>\n      <td>interpolate</td>\n    </tr>\n    <tr>\n      <th>19382</th>\n      <td>N1</td>\n      <td>453.372</td>\n      <td>Slab Culvert</td>\n      <td>LRP449f</td>\n      <td>DONMIA</td>\n      <td>2.70</td>\n      <td>D</td>\n      <td>100933</td>\n      <td>Dhaka (Jatrabari)-Comilla (Mainamati)-Chittago...</td>\n      <td>453.372</td>\n      <td>11.2</td>\n      <td>1972.0</td>\n      <td>1.0</td>\n      <td>Chittagong</td>\n      <td>Chittagong</td>\n      <td>Cox's Bazar</td>\n      <td>Cox's Bazar - 2</td>\n      <td>20.925389</td>\n      <td>92.264945</td>\n      <td>interpolate</td>\n    </tr>\n  </tbody>\n</table>\n<p>787 rows × 20 columns</p>\n</div>"
     },
     "execution_count": 6,
     "metadata": {},
     "output_type": "execute_result"
    }
   ],
   "source": [
    "bmms[bmms['road'] == 'N1']"
   ],
   "metadata": {
    "collapsed": false,
    "ExecuteTime": {
     "end_time": "2024-02-26T14:50:43.415817700Z",
     "start_time": "2024-02-26T14:50:43.356668100Z"
    }
   },
   "id": "de4dd40f3f9100dc"
  },
  {
   "cell_type": "code",
   "execution_count": 7,
   "outputs": [
    {
     "data": {
      "text/plain": "Empty DataFrame\nColumns: [road, id, model_type, name, lat, lon, length]\nIndex: []",
      "text/html": "<div>\n<style scoped>\n    .dataframe tbody tr th:only-of-type {\n        vertical-align: middle;\n    }\n\n    .dataframe tbody tr th {\n        vertical-align: top;\n    }\n\n    .dataframe thead th {\n        text-align: right;\n    }\n</style>\n<table border=\"1\" class=\"dataframe\">\n  <thead>\n    <tr style=\"text-align: right;\">\n      <th></th>\n      <th>road</th>\n      <th>id</th>\n      <th>model_type</th>\n      <th>name</th>\n      <th>lat</th>\n      <th>lon</th>\n      <th>length</th>\n    </tr>\n  </thead>\n  <tbody>\n  </tbody>\n</table>\n</div>"
     },
     "execution_count": 7,
     "metadata": {},
     "output_type": "execute_result"
    }
   ],
   "source": [
    "# Define the columns for the empty DataFrame\n",
    "columns = ['road', 'id', 'model_type', 'name', 'lat', 'lon', 'length']\n",
    "\n",
    "# Create an empty DataFrame with the specified columns\n",
    "df = pd.DataFrame(columns=columns)\n",
    "\n",
    "# Display the empty DataFrame\n",
    "df"
   ],
   "metadata": {
    "collapsed": false,
    "ExecuteTime": {
     "end_time": "2024-02-26T14:50:43.455166600Z",
     "start_time": "2024-02-26T14:50:43.394203400Z"
    }
   },
   "id": "59fcee4510583800"
  },
  {
   "cell_type": "code",
   "execution_count": 8,
   "outputs": [
    {
     "name": "stderr",
     "output_type": "stream",
     "text": [
      "C:\\Users\\svenk\\AppData\\Local\\Temp\\ipykernel_22096\\2401421442.py:5: SettingWithCopyWarning: \n",
      "A value is trying to be set on a copy of a slice from a DataFrame.\n",
      "Try using .loc[row_indexer,col_indexer] = value instead\n",
      "\n",
      "See the caveats in the documentation: https://pandas.pydata.org/pandas-docs/stable/user_guide/indexing.html#returning-a-view-versus-a-copy\n",
      "  n1_roads['id'] = range(1, len(n1_roads) + 1)\n",
      "C:\\Users\\svenk\\AppData\\Local\\Temp\\ipykernel_22096\\2401421442.py:8: SettingWithCopyWarning: \n",
      "A value is trying to be set on a copy of a slice from a DataFrame.\n",
      "Try using .loc[row_indexer,col_indexer] = value instead\n",
      "\n",
      "See the caveats in the documentation: https://pandas.pydata.org/pandas-docs/stable/user_guide/indexing.html#returning-a-view-versus-a-copy\n",
      "  n1_roads['model_type'] = 'link'\n",
      "C:\\Users\\svenk\\AppData\\Local\\Temp\\ipykernel_22096\\2401421442.py:11: SettingWithCopyWarning: \n",
      "A value is trying to be set on a copy of a slice from a DataFrame.\n",
      "Try using .loc[row_indexer,col_indexer] = value instead\n",
      "\n",
      "See the caveats in the documentation: https://pandas.pydata.org/pandas-docs/stable/user_guide/indexing.html#returning-a-view-versus-a-copy\n",
      "  n1_roads['name'] = ['Link ' + str(id) for id in n1_roads['id']]\n",
      "C:\\Users\\svenk\\AppData\\Local\\Temp\\ipykernel_22096\\2401421442.py:15: SettingWithCopyWarning: \n",
      "A value is trying to be set on a copy of a slice from a DataFrame.\n",
      "Try using .loc[row_indexer,col_indexer] = value instead\n",
      "\n",
      "See the caveats in the documentation: https://pandas.pydata.org/pandas-docs/stable/user_guide/indexing.html#returning-a-view-versus-a-copy\n",
      "  n1_roads['length'] = (n1_roads['chainage'].shift(-1) - n1_roads['chainage']).fillna(0)\n"
     ]
    },
    {
     "data": {
      "text/plain": "     road    id model_type       name        lat        lon  length  chainage\n0      N1     1       link     Link 1  23.706028  90.443333   0.814     0.000\n1      N1     2       link     Link 2  23.702917  90.450417   0.008     0.814\n2      N1     3       link     Link 3  23.702778  90.450472   0.178     0.822\n3      N1     4       link     Link 4  23.702139  90.451972   1.000     1.000\n4      N1     5       link     Link 5  23.697889  90.460583   0.130     2.000\n...   ...   ...        ...        ...        ...        ...     ...       ...\n1334   N1  1335       link  Link 1335  20.868860  92.298222   0.428   461.476\n1335   N1  1336       link  Link 1336  20.865028  92.298250   0.042   461.904\n1336   N1  1337       link  Link 1337  20.864667  92.298194   0.178   461.946\n1337   N1  1338       link  Link 1338  20.862972  92.298083   0.130   462.124\n1338   N1  1339       link  Link 1339  20.862917  92.298083   0.000   462.254\n\n[1339 rows x 8 columns]",
      "text/html": "<div>\n<style scoped>\n    .dataframe tbody tr th:only-of-type {\n        vertical-align: middle;\n    }\n\n    .dataframe tbody tr th {\n        vertical-align: top;\n    }\n\n    .dataframe thead th {\n        text-align: right;\n    }\n</style>\n<table border=\"1\" class=\"dataframe\">\n  <thead>\n    <tr style=\"text-align: right;\">\n      <th></th>\n      <th>road</th>\n      <th>id</th>\n      <th>model_type</th>\n      <th>name</th>\n      <th>lat</th>\n      <th>lon</th>\n      <th>length</th>\n      <th>chainage</th>\n    </tr>\n  </thead>\n  <tbody>\n    <tr>\n      <th>0</th>\n      <td>N1</td>\n      <td>1</td>\n      <td>link</td>\n      <td>Link 1</td>\n      <td>23.706028</td>\n      <td>90.443333</td>\n      <td>0.814</td>\n      <td>0.000</td>\n    </tr>\n    <tr>\n      <th>1</th>\n      <td>N1</td>\n      <td>2</td>\n      <td>link</td>\n      <td>Link 2</td>\n      <td>23.702917</td>\n      <td>90.450417</td>\n      <td>0.008</td>\n      <td>0.814</td>\n    </tr>\n    <tr>\n      <th>2</th>\n      <td>N1</td>\n      <td>3</td>\n      <td>link</td>\n      <td>Link 3</td>\n      <td>23.702778</td>\n      <td>90.450472</td>\n      <td>0.178</td>\n      <td>0.822</td>\n    </tr>\n    <tr>\n      <th>3</th>\n      <td>N1</td>\n      <td>4</td>\n      <td>link</td>\n      <td>Link 4</td>\n      <td>23.702139</td>\n      <td>90.451972</td>\n      <td>1.000</td>\n      <td>1.000</td>\n    </tr>\n    <tr>\n      <th>4</th>\n      <td>N1</td>\n      <td>5</td>\n      <td>link</td>\n      <td>Link 5</td>\n      <td>23.697889</td>\n      <td>90.460583</td>\n      <td>0.130</td>\n      <td>2.000</td>\n    </tr>\n    <tr>\n      <th>...</th>\n      <td>...</td>\n      <td>...</td>\n      <td>...</td>\n      <td>...</td>\n      <td>...</td>\n      <td>...</td>\n      <td>...</td>\n      <td>...</td>\n    </tr>\n    <tr>\n      <th>1334</th>\n      <td>N1</td>\n      <td>1335</td>\n      <td>link</td>\n      <td>Link 1335</td>\n      <td>20.868860</td>\n      <td>92.298222</td>\n      <td>0.428</td>\n      <td>461.476</td>\n    </tr>\n    <tr>\n      <th>1335</th>\n      <td>N1</td>\n      <td>1336</td>\n      <td>link</td>\n      <td>Link 1336</td>\n      <td>20.865028</td>\n      <td>92.298250</td>\n      <td>0.042</td>\n      <td>461.904</td>\n    </tr>\n    <tr>\n      <th>1336</th>\n      <td>N1</td>\n      <td>1337</td>\n      <td>link</td>\n      <td>Link 1337</td>\n      <td>20.864667</td>\n      <td>92.298194</td>\n      <td>0.178</td>\n      <td>461.946</td>\n    </tr>\n    <tr>\n      <th>1337</th>\n      <td>N1</td>\n      <td>1338</td>\n      <td>link</td>\n      <td>Link 1338</td>\n      <td>20.862972</td>\n      <td>92.298083</td>\n      <td>0.130</td>\n      <td>462.124</td>\n    </tr>\n    <tr>\n      <th>1338</th>\n      <td>N1</td>\n      <td>1339</td>\n      <td>link</td>\n      <td>Link 1339</td>\n      <td>20.862917</td>\n      <td>92.298083</td>\n      <td>0.000</td>\n      <td>462.254</td>\n    </tr>\n  </tbody>\n</table>\n<p>1339 rows × 8 columns</p>\n</div>"
     },
     "execution_count": 8,
     "metadata": {},
     "output_type": "execute_result"
    }
   ],
   "source": [
    "# Filter the 'roads' DataFrame for rows where the 'road' column is 'N1'\n",
    "n1_roads = roads[roads['road'] == 'N1']\n",
    "\n",
    "# Generate an ID sequence starting from 1\n",
    "n1_roads['id'] = range(1, len(n1_roads) + 1)\n",
    "\n",
    "# Set model_type to 'link' for all rows\n",
    "n1_roads['model_type'] = 'Link'\n",
    "\n",
    "# Generate 'name' as \"Link\" + id as string\n",
    "n1_roads['name'] = ['Link ' + str(id) for id in n1_roads['id']]\n",
    "\n",
    "# Calculate 'length' as difference between this row's 'chainage' and the next row's 'chainage'\n",
    "# Shift(-1) moves the chainage up by one row to subtract, fillna(0) to handle the last item\n",
    "n1_roads['length'] = (n1_roads['chainage'].shift(-1) - n1_roads['chainage']).fillna(0)\n",
    "\n",
    "# Selecting the columns needed for the empty DataFrame\n",
    "n1_roads_final = n1_roads[['road', 'id', 'model_type', 'name', 'lat', 'lon', 'length', 'chainage']]\n",
    "\n",
    "# Display the first few rows of the final DataFrame\n",
    "n1_roads_final\n"
   ],
   "metadata": {
    "collapsed": false,
    "ExecuteTime": {
     "end_time": "2024-02-26T14:50:43.589251500Z",
     "start_time": "2024-02-26T14:50:43.409130400Z"
    }
   },
   "id": "79f9c77b9c32c33c"
  },
  {
   "cell_type": "code",
   "execution_count": 9,
   "outputs": [
    {
     "data": {
      "text/plain": "     road    id model_type       name        lat        lon  length  chainage  \\\n0      N1     1       link     Link 1  23.706028  90.443333   0.814     0.000   \n1      N1     2       link     Link 2  23.702917  90.450417   0.008     0.814   \n2      N1     3       link     Link 3  23.702778  90.450472   0.178     0.822   \n3      N1     4       link     Link 4  23.702139  90.451972   1.000     1.000   \n1339   N1  1340     Bridge   Bridge 1  23.698739  90.458861  11.300     1.800   \n...   ...   ...        ...        ...        ...        ...     ...       ...   \n1334   N1  1335       link  Link 1335  20.868860  92.298222   0.428   461.476   \n1335   N1  1336       link  Link 1336  20.865028  92.298250   0.042   461.904   \n1336   N1  1337       link  Link 1337  20.864667  92.298194   0.178   461.946   \n1337   N1  1338       link  Link 1338  20.862972  92.298083   0.130   462.124   \n1338   N1  1339       link  Link 1339  20.862917  92.298083   0.000   462.254   \n\n     condition  \n0          NaN  \n1          NaN  \n2          NaN  \n3          NaN  \n1339         A  \n...        ...  \n1334       NaN  \n1335       NaN  \n1336       NaN  \n1337       NaN  \n1338       NaN  \n\n[2126 rows x 9 columns]",
      "text/html": "<div>\n<style scoped>\n    .dataframe tbody tr th:only-of-type {\n        vertical-align: middle;\n    }\n\n    .dataframe tbody tr th {\n        vertical-align: top;\n    }\n\n    .dataframe thead th {\n        text-align: right;\n    }\n</style>\n<table border=\"1\" class=\"dataframe\">\n  <thead>\n    <tr style=\"text-align: right;\">\n      <th></th>\n      <th>road</th>\n      <th>id</th>\n      <th>model_type</th>\n      <th>name</th>\n      <th>lat</th>\n      <th>lon</th>\n      <th>length</th>\n      <th>chainage</th>\n      <th>condition</th>\n    </tr>\n  </thead>\n  <tbody>\n    <tr>\n      <th>0</th>\n      <td>N1</td>\n      <td>1</td>\n      <td>link</td>\n      <td>Link 1</td>\n      <td>23.706028</td>\n      <td>90.443333</td>\n      <td>0.814</td>\n      <td>0.000</td>\n      <td>NaN</td>\n    </tr>\n    <tr>\n      <th>1</th>\n      <td>N1</td>\n      <td>2</td>\n      <td>link</td>\n      <td>Link 2</td>\n      <td>23.702917</td>\n      <td>90.450417</td>\n      <td>0.008</td>\n      <td>0.814</td>\n      <td>NaN</td>\n    </tr>\n    <tr>\n      <th>2</th>\n      <td>N1</td>\n      <td>3</td>\n      <td>link</td>\n      <td>Link 3</td>\n      <td>23.702778</td>\n      <td>90.450472</td>\n      <td>0.178</td>\n      <td>0.822</td>\n      <td>NaN</td>\n    </tr>\n    <tr>\n      <th>3</th>\n      <td>N1</td>\n      <td>4</td>\n      <td>link</td>\n      <td>Link 4</td>\n      <td>23.702139</td>\n      <td>90.451972</td>\n      <td>1.000</td>\n      <td>1.000</td>\n      <td>NaN</td>\n    </tr>\n    <tr>\n      <th>1339</th>\n      <td>N1</td>\n      <td>1340</td>\n      <td>Bridge</td>\n      <td>Bridge 1</td>\n      <td>23.698739</td>\n      <td>90.458861</td>\n      <td>11.300</td>\n      <td>1.800</td>\n      <td>A</td>\n    </tr>\n    <tr>\n      <th>...</th>\n      <td>...</td>\n      <td>...</td>\n      <td>...</td>\n      <td>...</td>\n      <td>...</td>\n      <td>...</td>\n      <td>...</td>\n      <td>...</td>\n      <td>...</td>\n    </tr>\n    <tr>\n      <th>1334</th>\n      <td>N1</td>\n      <td>1335</td>\n      <td>link</td>\n      <td>Link 1335</td>\n      <td>20.868860</td>\n      <td>92.298222</td>\n      <td>0.428</td>\n      <td>461.476</td>\n      <td>NaN</td>\n    </tr>\n    <tr>\n      <th>1335</th>\n      <td>N1</td>\n      <td>1336</td>\n      <td>link</td>\n      <td>Link 1336</td>\n      <td>20.865028</td>\n      <td>92.298250</td>\n      <td>0.042</td>\n      <td>461.904</td>\n      <td>NaN</td>\n    </tr>\n    <tr>\n      <th>1336</th>\n      <td>N1</td>\n      <td>1337</td>\n      <td>link</td>\n      <td>Link 1337</td>\n      <td>20.864667</td>\n      <td>92.298194</td>\n      <td>0.178</td>\n      <td>461.946</td>\n      <td>NaN</td>\n    </tr>\n    <tr>\n      <th>1337</th>\n      <td>N1</td>\n      <td>1338</td>\n      <td>link</td>\n      <td>Link 1338</td>\n      <td>20.862972</td>\n      <td>92.298083</td>\n      <td>0.130</td>\n      <td>462.124</td>\n      <td>NaN</td>\n    </tr>\n    <tr>\n      <th>1338</th>\n      <td>N1</td>\n      <td>1339</td>\n      <td>link</td>\n      <td>Link 1339</td>\n      <td>20.862917</td>\n      <td>92.298083</td>\n      <td>0.000</td>\n      <td>462.254</td>\n      <td>NaN</td>\n    </tr>\n  </tbody>\n</table>\n<p>2126 rows × 9 columns</p>\n</div>"
     },
     "execution_count": 9,
     "metadata": {},
     "output_type": "execute_result"
    }
   ],
   "source": [
    "# Filter BMMS data for road 'N1'\n",
    "bmms_n1 = bmms[bmms['road'] == 'N1'].copy()\n",
    "\n",
    "# Set up for new entries\n",
    "bmms_n1['model_type'] = 'Bridge'\n",
    "bmms_n1['name'] = ['Bridge ' + str(i+1) for i in range(bmms_n1.shape[0])]\n",
    "bmms_n1['id'] = range(n1_roads_final['id'].max() + 1, n1_roads_final['id'].max() + 1 + bmms_n1.shape[0])\n",
    "bmms_n1['chainage'] = bmms_n1['km']  # Use 'km' as 'chainage'\n",
    "\n",
    "# Select and rename columns to match the format of `n1_roads_final_with_chainage`\n",
    "bmms_n1_formatted = bmms_n1[['road', 'id', 'model_type', 'name', 'lat', 'lon', 'chainage', 'length', 'condition']]\n",
    "\n",
    "# Combine the dataframes and sort by chainage\n",
    "combined_df = pd.concat([n1_roads_final, bmms_n1_formatted], ignore_index=True).sort_values(by='chainage')\n",
    "\n",
    "# Display the first few rows of the combined and sorted DataFrame\n",
    "combined_df\n"
   ],
   "metadata": {
    "collapsed": false,
    "ExecuteTime": {
     "end_time": "2024-02-26T14:50:43.636097700Z",
     "start_time": "2024-02-26T14:50:43.435521300Z"
    }
   },
   "id": "c39fed29ffccda55"
  },
  {
   "cell_type": "code",
   "execution_count": 12,
   "outputs": [],
   "source": [
    "combined_df.to_csv('../data/n1_model.csv', index=False)"
   ],
   "metadata": {
    "collapsed": false,
    "ExecuteTime": {
     "end_time": "2024-02-26T14:57:42.161395800Z",
     "start_time": "2024-02-26T14:57:42.124112100Z"
    }
   },
   "id": "66667b68acf618b1"
  },
  {
   "cell_type": "code",
   "execution_count": 9,
   "outputs": [],
   "source": [],
   "metadata": {
    "collapsed": false,
    "ExecuteTime": {
     "end_time": "2024-02-26T14:50:43.674730100Z",
     "start_time": "2024-02-26T14:50:43.468623600Z"
    }
   },
   "id": "5717d174086fa561"
  },
  {
   "cell_type": "code",
   "execution_count": 9,
   "outputs": [],
   "source": [],
   "metadata": {
    "collapsed": false,
    "ExecuteTime": {
     "end_time": "2024-02-26T14:50:43.675747600Z",
     "start_time": "2024-02-26T14:50:43.472731400Z"
    }
   },
   "id": "81dd268eb6fe58a5"
  },
  {
   "cell_type": "code",
   "execution_count": 9,
   "outputs": [],
   "source": [],
   "metadata": {
    "collapsed": false,
    "ExecuteTime": {
     "end_time": "2024-02-26T14:50:43.676775300Z",
     "start_time": "2024-02-26T14:50:43.475992900Z"
    }
   },
   "id": "1aa3e7e0b70e8d0f"
  },
  {
   "cell_type": "code",
   "execution_count": 9,
   "outputs": [],
   "source": [],
   "metadata": {
    "collapsed": false,
    "ExecuteTime": {
     "end_time": "2024-02-26T14:50:43.718114200Z",
     "start_time": "2024-02-26T14:50:43.481058600Z"
    }
   },
   "id": "eea97fec7a15857a"
  },
  {
   "cell_type": "code",
   "execution_count": 9,
   "outputs": [],
   "source": [],
   "metadata": {
    "collapsed": false,
    "ExecuteTime": {
     "end_time": "2024-02-26T14:50:43.719117Z",
     "start_time": "2024-02-26T14:50:43.483061900Z"
    }
   },
   "id": "63c6958619ae9a39"
  },
  {
   "cell_type": "code",
   "execution_count": 9,
   "outputs": [],
   "source": [],
   "metadata": {
    "collapsed": false,
    "ExecuteTime": {
     "end_time": "2024-02-26T14:50:43.723481100Z",
     "start_time": "2024-02-26T14:50:43.488215600Z"
    }
   },
   "id": "debd4525b8efcae"
  },
  {
   "cell_type": "code",
   "execution_count": 9,
   "outputs": [],
   "source": [],
   "metadata": {
    "collapsed": false,
    "ExecuteTime": {
     "end_time": "2024-02-26T14:50:43.724527200Z",
     "start_time": "2024-02-26T14:50:43.491341Z"
    }
   },
   "id": "1037bc467eac5e52"
  },
  {
   "cell_type": "code",
   "execution_count": 9,
   "outputs": [],
   "source": [],
   "metadata": {
    "collapsed": false,
    "ExecuteTime": {
     "end_time": "2024-02-26T14:50:43.772538600Z",
     "start_time": "2024-02-26T14:50:43.494874Z"
    }
   },
   "id": "4e8b708c3ee46d00"
  },
  {
   "cell_type": "code",
   "execution_count": 9,
   "outputs": [],
   "source": [],
   "metadata": {
    "collapsed": false,
    "ExecuteTime": {
     "end_time": "2024-02-26T14:50:43.773682700Z",
     "start_time": "2024-02-26T14:50:43.498086100Z"
    }
   },
   "id": "39651d3833a18c2a"
  },
  {
   "cell_type": "code",
   "execution_count": 9,
   "outputs": [],
   "source": [],
   "metadata": {
    "collapsed": false,
    "ExecuteTime": {
     "end_time": "2024-02-26T14:50:43.773682700Z",
     "start_time": "2024-02-26T14:50:43.500356600Z"
    }
   },
   "id": "c9be4495eec526f7"
  },
  {
   "cell_type": "code",
   "execution_count": 9,
   "outputs": [],
   "source": [],
   "metadata": {
    "collapsed": false,
    "ExecuteTime": {
     "end_time": "2024-02-26T14:50:43.775860800Z",
     "start_time": "2024-02-26T14:50:43.504550500Z"
    }
   },
   "id": "6e256c28b736e762"
  },
  {
   "cell_type": "code",
   "execution_count": 9,
   "outputs": [],
   "source": [],
   "metadata": {
    "collapsed": false,
    "ExecuteTime": {
     "end_time": "2024-02-26T14:50:43.787556900Z",
     "start_time": "2024-02-26T14:50:43.508499900Z"
    }
   },
   "id": "b20892e7104fb0ae"
  },
  {
   "cell_type": "code",
   "execution_count": 9,
   "outputs": [],
   "source": [],
   "metadata": {
    "collapsed": false,
    "ExecuteTime": {
     "end_time": "2024-02-26T14:50:43.788647200Z",
     "start_time": "2024-02-26T14:50:43.513076900Z"
    }
   },
   "id": "9549a1857a2d2571"
  },
  {
   "cell_type": "code",
   "execution_count": 9,
   "outputs": [],
   "source": [],
   "metadata": {
    "collapsed": false,
    "ExecuteTime": {
     "end_time": "2024-02-26T14:50:43.789684900Z",
     "start_time": "2024-02-26T14:50:43.515083900Z"
    }
   },
   "id": "ce747128ed0d2285"
  },
  {
   "cell_type": "code",
   "execution_count": 9,
   "outputs": [],
   "source": [],
   "metadata": {
    "collapsed": false,
    "ExecuteTime": {
     "end_time": "2024-02-26T14:50:43.789684900Z",
     "start_time": "2024-02-26T14:50:43.521586100Z"
    }
   },
   "id": "e9128a36a8319e61"
  },
  {
   "cell_type": "code",
   "execution_count": null,
   "outputs": [],
   "source": [],
   "metadata": {
    "collapsed": false
   },
   "id": "8035a61ca594ce6d"
  }
 ],
 "metadata": {
  "kernelspec": {
   "display_name": "Python 3",
   "language": "python",
   "name": "python3"
  },
  "language_info": {
   "codemirror_mode": {
    "name": "ipython",
    "version": 2
   },
   "file_extension": ".py",
   "mimetype": "text/x-python",
   "name": "python",
   "nbconvert_exporter": "python",
   "pygments_lexer": "ipython2",
   "version": "2.7.6"
  }
 },
 "nbformat": 4,
 "nbformat_minor": 5
}
