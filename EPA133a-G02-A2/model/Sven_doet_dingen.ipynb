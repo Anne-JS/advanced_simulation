{
 "cells": [
  {
   "cell_type": "code",
   "execution_count": null,
   "outputs": [],
   "source": [],
   "metadata": {
    "collapsed": false,
    "ExecuteTime": {
     "end_time": "2024-02-28T12:58:06.064275700Z",
     "start_time": "2024-02-28T12:58:06.062242200Z"
    }
   },
   "id": "6f417fe34efaac36"
  },
  {
   "cell_type": "code",
   "execution_count": 1,
   "id": "initial_id",
   "metadata": {
    "collapsed": true,
    "ExecuteTime": {
     "end_time": "2024-02-28T12:58:06.971401700Z",
     "start_time": "2024-02-28T12:58:06.069822300Z"
    }
   },
   "outputs": [],
   "source": [
    "import pandas as pd"
   ]
  },
  {
   "cell_type": "code",
   "execution_count": 2,
   "outputs": [],
   "source": [
    "demo1 = pd.read_csv('../data/demo-1.csv')"
   ],
   "metadata": {
    "collapsed": false,
    "ExecuteTime": {
     "end_time": "2024-02-28T12:58:06.997081500Z",
     "start_time": "2024-02-28T12:58:06.973402300Z"
    }
   },
   "id": "f3761e108dfd2294"
  },
  {
   "cell_type": "code",
   "execution_count": 3,
   "outputs": [
    {
     "data": {
      "text/plain": "   road       id model_type      name  lat  lon  length\n0    N1  1000000     source    source    0    0       4\n1    N1  1000001       link    link 1    1    1    1800\n2    N1  1000002     bridge  bridge 1    2    2     200\n3    N1  1000003       link    link 2    3    3    1500\n4    N1  1000004     bridge  bridge 2    4    4       8\n5    N1  1000005       link    link 3    5    5    2000\n6    N1  1000006     bridge  bridge 3    6    6       4\n7    N1  1000007       link    link 4    7    7    2500\n8    N1  1000008     bridge  bridge 4    8    8     500\n9    N1  1000009       link    link 5    9    9     800\n10   N1  1000010       sink      sink   10   10      20",
      "text/html": "<div>\n<style scoped>\n    .dataframe tbody tr th:only-of-type {\n        vertical-align: middle;\n    }\n\n    .dataframe tbody tr th {\n        vertical-align: top;\n    }\n\n    .dataframe thead th {\n        text-align: right;\n    }\n</style>\n<table border=\"1\" class=\"dataframe\">\n  <thead>\n    <tr style=\"text-align: right;\">\n      <th></th>\n      <th>road</th>\n      <th>id</th>\n      <th>model_type</th>\n      <th>name</th>\n      <th>lat</th>\n      <th>lon</th>\n      <th>length</th>\n    </tr>\n  </thead>\n  <tbody>\n    <tr>\n      <th>0</th>\n      <td>N1</td>\n      <td>1000000</td>\n      <td>source</td>\n      <td>source</td>\n      <td>0</td>\n      <td>0</td>\n      <td>4</td>\n    </tr>\n    <tr>\n      <th>1</th>\n      <td>N1</td>\n      <td>1000001</td>\n      <td>link</td>\n      <td>link 1</td>\n      <td>1</td>\n      <td>1</td>\n      <td>1800</td>\n    </tr>\n    <tr>\n      <th>2</th>\n      <td>N1</td>\n      <td>1000002</td>\n      <td>bridge</td>\n      <td>bridge 1</td>\n      <td>2</td>\n      <td>2</td>\n      <td>200</td>\n    </tr>\n    <tr>\n      <th>3</th>\n      <td>N1</td>\n      <td>1000003</td>\n      <td>link</td>\n      <td>link 2</td>\n      <td>3</td>\n      <td>3</td>\n      <td>1500</td>\n    </tr>\n    <tr>\n      <th>4</th>\n      <td>N1</td>\n      <td>1000004</td>\n      <td>bridge</td>\n      <td>bridge 2</td>\n      <td>4</td>\n      <td>4</td>\n      <td>8</td>\n    </tr>\n    <tr>\n      <th>5</th>\n      <td>N1</td>\n      <td>1000005</td>\n      <td>link</td>\n      <td>link 3</td>\n      <td>5</td>\n      <td>5</td>\n      <td>2000</td>\n    </tr>\n    <tr>\n      <th>6</th>\n      <td>N1</td>\n      <td>1000006</td>\n      <td>bridge</td>\n      <td>bridge 3</td>\n      <td>6</td>\n      <td>6</td>\n      <td>4</td>\n    </tr>\n    <tr>\n      <th>7</th>\n      <td>N1</td>\n      <td>1000007</td>\n      <td>link</td>\n      <td>link 4</td>\n      <td>7</td>\n      <td>7</td>\n      <td>2500</td>\n    </tr>\n    <tr>\n      <th>8</th>\n      <td>N1</td>\n      <td>1000008</td>\n      <td>bridge</td>\n      <td>bridge 4</td>\n      <td>8</td>\n      <td>8</td>\n      <td>500</td>\n    </tr>\n    <tr>\n      <th>9</th>\n      <td>N1</td>\n      <td>1000009</td>\n      <td>link</td>\n      <td>link 5</td>\n      <td>9</td>\n      <td>9</td>\n      <td>800</td>\n    </tr>\n    <tr>\n      <th>10</th>\n      <td>N1</td>\n      <td>1000010</td>\n      <td>sink</td>\n      <td>sink</td>\n      <td>10</td>\n      <td>10</td>\n      <td>20</td>\n    </tr>\n  </tbody>\n</table>\n</div>"
     },
     "execution_count": 3,
     "metadata": {},
     "output_type": "execute_result"
    }
   ],
   "source": [
    "demo1"
   ],
   "metadata": {
    "collapsed": false,
    "ExecuteTime": {
     "end_time": "2024-02-28T12:58:07.003085600Z",
     "start_time": "2024-02-28T12:58:06.985096900Z"
    }
   },
   "id": "f85f95d0fd684ad1"
  },
  {
   "cell_type": "code",
   "execution_count": 4,
   "outputs": [],
   "source": [
    "roads = pd.read_csv('../data/_roads3.csv')\n",
    "bmms = pd.read_excel('../data/BMMS_overview.xlsx')"
   ],
   "metadata": {
    "collapsed": false,
    "ExecuteTime": {
     "end_time": "2024-02-28T12:58:11.159996100Z",
     "start_time": "2024-02-28T12:58:07.000084700Z"
    }
   },
   "id": "d6da2cf8fc2274a5"
  },
  {
   "cell_type": "code",
   "execution_count": 5,
   "outputs": [
    {
     "data": {
      "text/plain": "    road   id model_type      name        lat        lon  length  chainage\n0     N1    1       link    Link 1  23.706028  90.443333   0.814     0.000\n1     N1    2       link    Link 2  23.702917  90.450417   0.008     0.814\n2     N1    3       link    Link 3  23.702778  90.450472   0.178     0.822\n3     N1    4       link    Link 4  23.702139  90.451972   1.000     1.000\n4     N1    5       link    Link 5  23.697889  90.460583   0.130     2.000\n..   ...  ...        ...       ...        ...        ...     ...       ...\n560   N1  561       link  Link 561  22.376472  91.770416   0.019   231.442\n561   N1  562       link  Link 562  22.376225  91.770543   0.545   231.461\n562   N1  563       link  Link 563  22.369166  91.774194   0.555   232.006\n563   N1  564       link  Link 564  22.369138  91.777666   8.895   232.561\n566   N1  565       link  Link 565  22.364611  91.850833   0.000   241.456\n\n[565 rows x 8 columns]",
      "text/html": "<div>\n<style scoped>\n    .dataframe tbody tr th:only-of-type {\n        vertical-align: middle;\n    }\n\n    .dataframe tbody tr th {\n        vertical-align: top;\n    }\n\n    .dataframe thead th {\n        text-align: right;\n    }\n</style>\n<table border=\"1\" class=\"dataframe\">\n  <thead>\n    <tr style=\"text-align: right;\">\n      <th></th>\n      <th>road</th>\n      <th>id</th>\n      <th>model_type</th>\n      <th>name</th>\n      <th>lat</th>\n      <th>lon</th>\n      <th>length</th>\n      <th>chainage</th>\n    </tr>\n  </thead>\n  <tbody>\n    <tr>\n      <th>0</th>\n      <td>N1</td>\n      <td>1</td>\n      <td>link</td>\n      <td>Link 1</td>\n      <td>23.706028</td>\n      <td>90.443333</td>\n      <td>0.814</td>\n      <td>0.000</td>\n    </tr>\n    <tr>\n      <th>1</th>\n      <td>N1</td>\n      <td>2</td>\n      <td>link</td>\n      <td>Link 2</td>\n      <td>23.702917</td>\n      <td>90.450417</td>\n      <td>0.008</td>\n      <td>0.814</td>\n    </tr>\n    <tr>\n      <th>2</th>\n      <td>N1</td>\n      <td>3</td>\n      <td>link</td>\n      <td>Link 3</td>\n      <td>23.702778</td>\n      <td>90.450472</td>\n      <td>0.178</td>\n      <td>0.822</td>\n    </tr>\n    <tr>\n      <th>3</th>\n      <td>N1</td>\n      <td>4</td>\n      <td>link</td>\n      <td>Link 4</td>\n      <td>23.702139</td>\n      <td>90.451972</td>\n      <td>1.000</td>\n      <td>1.000</td>\n    </tr>\n    <tr>\n      <th>4</th>\n      <td>N1</td>\n      <td>5</td>\n      <td>link</td>\n      <td>Link 5</td>\n      <td>23.697889</td>\n      <td>90.460583</td>\n      <td>0.130</td>\n      <td>2.000</td>\n    </tr>\n    <tr>\n      <th>...</th>\n      <td>...</td>\n      <td>...</td>\n      <td>...</td>\n      <td>...</td>\n      <td>...</td>\n      <td>...</td>\n      <td>...</td>\n      <td>...</td>\n    </tr>\n    <tr>\n      <th>560</th>\n      <td>N1</td>\n      <td>561</td>\n      <td>link</td>\n      <td>Link 561</td>\n      <td>22.376472</td>\n      <td>91.770416</td>\n      <td>0.019</td>\n      <td>231.442</td>\n    </tr>\n    <tr>\n      <th>561</th>\n      <td>N1</td>\n      <td>562</td>\n      <td>link</td>\n      <td>Link 562</td>\n      <td>22.376225</td>\n      <td>91.770543</td>\n      <td>0.545</td>\n      <td>231.461</td>\n    </tr>\n    <tr>\n      <th>562</th>\n      <td>N1</td>\n      <td>563</td>\n      <td>link</td>\n      <td>Link 563</td>\n      <td>22.369166</td>\n      <td>91.774194</td>\n      <td>0.555</td>\n      <td>232.006</td>\n    </tr>\n    <tr>\n      <th>563</th>\n      <td>N1</td>\n      <td>564</td>\n      <td>link</td>\n      <td>Link 564</td>\n      <td>22.369138</td>\n      <td>91.777666</td>\n      <td>8.895</td>\n      <td>232.561</td>\n    </tr>\n    <tr>\n      <th>566</th>\n      <td>N1</td>\n      <td>565</td>\n      <td>link</td>\n      <td>Link 565</td>\n      <td>22.364611</td>\n      <td>91.850833</td>\n      <td>0.000</td>\n      <td>241.456</td>\n    </tr>\n  </tbody>\n</table>\n<p>565 rows × 8 columns</p>\n</div>"
     },
     "execution_count": 5,
     "metadata": {},
     "output_type": "execute_result"
    }
   ],
   "source": [
    "# Filter the 'roads' DataFrame for rows where the 'road' column is 'N1'\n",
    "n1_roads = roads[roads['road'] == 'N1']\n",
    "n1_roads = n1_roads[(n1_roads['lon'] >= 90.44) & (n1_roads['lon'] <= 91.851) &\n",
    "                 (n1_roads['lat'] >= 22.363) & (n1_roads['lat'] <= 23.711)]\n",
    "\n",
    "# Generate an ID sequence starting from 1\n",
    "n1_roads['id'] = range(1, len(n1_roads) + 1)\n",
    "\n",
    "# Set model_type to 'link' for all rows\n",
    "n1_roads['model_type'] = 'link'\n",
    "\n",
    "# Generate 'name' as \"Link\" + id as string\n",
    "n1_roads['name'] = ['Link ' + str(id) for id in n1_roads['id']]\n",
    "\n",
    "# Calculate 'length' as difference between this row's 'chainage' and the next row's 'chainage'\n",
    "# Shift(-1) moves the chainage up by one row to subtract, fillna(0) to handle the last item\n",
    "n1_roads['length'] = (n1_roads['chainage'].shift(-1) - n1_roads['chainage']).fillna(0)\n",
    "\n",
    "# Selecting the columns needed for the empty DataFrame\n",
    "n1_roads_final = n1_roads[['road', 'id', 'model_type', 'name', 'lat', 'lon', 'length', 'chainage']]\n",
    "\n",
    "# Display the first few rows of the final DataFrame\n",
    "n1_roads_final\n"
   ],
   "metadata": {
    "collapsed": false,
    "ExecuteTime": {
     "end_time": "2024-02-28T12:58:11.195704900Z",
     "start_time": "2024-02-28T12:58:11.164150400Z"
    }
   },
   "id": "79f9c77b9c32c33c"
  },
  {
   "cell_type": "code",
   "execution_count": 6,
   "outputs": [
    {
     "data": {
      "text/plain": "    road   id model_type        name        lat        lon  length  chainage  \\\n0     N1    1       link      Link 1  23.706028  90.443333  0.8140     0.000   \n1     N1    2       link      Link 2  23.702917  90.450417  0.0080     0.814   \n2     N1    3       link      Link 3  23.702778  90.450472  0.1780     0.822   \n3     N1    4       link      Link 4  23.702139  90.451972  1.0000     1.000   \n565   N1  566     bridge    Bridge 1  23.698739  90.458861  0.0113     1.800   \n..   ...  ...        ...         ...        ...        ...     ...       ...   \n561   N1  562       link    Link 562  22.376225  91.770543  0.5450   231.461   \n706   N1  707     bridge  Bridge 142  22.369684  91.773926  0.0030   231.966   \n562   N1  563       link    Link 563  22.369166  91.774194  0.5550   232.006   \n563   N1  564       link    Link 564  22.369138  91.777666  8.8950   232.561   \n564   N1  565       link    Link 565  22.364611  91.850833  0.0000   241.456   \n\n    condition  \n0         NaN  \n1         NaN  \n2         NaN  \n3         NaN  \n565         A  \n..        ...  \n561       NaN  \n706         A  \n562       NaN  \n563       NaN  \n564       NaN  \n\n[808 rows x 9 columns]",
      "text/html": "<div>\n<style scoped>\n    .dataframe tbody tr th:only-of-type {\n        vertical-align: middle;\n    }\n\n    .dataframe tbody tr th {\n        vertical-align: top;\n    }\n\n    .dataframe thead th {\n        text-align: right;\n    }\n</style>\n<table border=\"1\" class=\"dataframe\">\n  <thead>\n    <tr style=\"text-align: right;\">\n      <th></th>\n      <th>road</th>\n      <th>id</th>\n      <th>model_type</th>\n      <th>name</th>\n      <th>lat</th>\n      <th>lon</th>\n      <th>length</th>\n      <th>chainage</th>\n      <th>condition</th>\n    </tr>\n  </thead>\n  <tbody>\n    <tr>\n      <th>0</th>\n      <td>N1</td>\n      <td>1</td>\n      <td>link</td>\n      <td>Link 1</td>\n      <td>23.706028</td>\n      <td>90.443333</td>\n      <td>0.8140</td>\n      <td>0.000</td>\n      <td>NaN</td>\n    </tr>\n    <tr>\n      <th>1</th>\n      <td>N1</td>\n      <td>2</td>\n      <td>link</td>\n      <td>Link 2</td>\n      <td>23.702917</td>\n      <td>90.450417</td>\n      <td>0.0080</td>\n      <td>0.814</td>\n      <td>NaN</td>\n    </tr>\n    <tr>\n      <th>2</th>\n      <td>N1</td>\n      <td>3</td>\n      <td>link</td>\n      <td>Link 3</td>\n      <td>23.702778</td>\n      <td>90.450472</td>\n      <td>0.1780</td>\n      <td>0.822</td>\n      <td>NaN</td>\n    </tr>\n    <tr>\n      <th>3</th>\n      <td>N1</td>\n      <td>4</td>\n      <td>link</td>\n      <td>Link 4</td>\n      <td>23.702139</td>\n      <td>90.451972</td>\n      <td>1.0000</td>\n      <td>1.000</td>\n      <td>NaN</td>\n    </tr>\n    <tr>\n      <th>565</th>\n      <td>N1</td>\n      <td>566</td>\n      <td>bridge</td>\n      <td>Bridge 1</td>\n      <td>23.698739</td>\n      <td>90.458861</td>\n      <td>0.0113</td>\n      <td>1.800</td>\n      <td>A</td>\n    </tr>\n    <tr>\n      <th>...</th>\n      <td>...</td>\n      <td>...</td>\n      <td>...</td>\n      <td>...</td>\n      <td>...</td>\n      <td>...</td>\n      <td>...</td>\n      <td>...</td>\n      <td>...</td>\n    </tr>\n    <tr>\n      <th>561</th>\n      <td>N1</td>\n      <td>562</td>\n      <td>link</td>\n      <td>Link 562</td>\n      <td>22.376225</td>\n      <td>91.770543</td>\n      <td>0.5450</td>\n      <td>231.461</td>\n      <td>NaN</td>\n    </tr>\n    <tr>\n      <th>706</th>\n      <td>N1</td>\n      <td>707</td>\n      <td>bridge</td>\n      <td>Bridge 142</td>\n      <td>22.369684</td>\n      <td>91.773926</td>\n      <td>0.0030</td>\n      <td>231.966</td>\n      <td>A</td>\n    </tr>\n    <tr>\n      <th>562</th>\n      <td>N1</td>\n      <td>563</td>\n      <td>link</td>\n      <td>Link 563</td>\n      <td>22.369166</td>\n      <td>91.774194</td>\n      <td>0.5550</td>\n      <td>232.006</td>\n      <td>NaN</td>\n    </tr>\n    <tr>\n      <th>563</th>\n      <td>N1</td>\n      <td>564</td>\n      <td>link</td>\n      <td>Link 564</td>\n      <td>22.369138</td>\n      <td>91.777666</td>\n      <td>8.8950</td>\n      <td>232.561</td>\n      <td>NaN</td>\n    </tr>\n    <tr>\n      <th>564</th>\n      <td>N1</td>\n      <td>565</td>\n      <td>link</td>\n      <td>Link 565</td>\n      <td>22.364611</td>\n      <td>91.850833</td>\n      <td>0.0000</td>\n      <td>241.456</td>\n      <td>NaN</td>\n    </tr>\n  </tbody>\n</table>\n<p>808 rows × 9 columns</p>\n</div>"
     },
     "execution_count": 6,
     "metadata": {},
     "output_type": "execute_result"
    }
   ],
   "source": [
    "# Filter BMMS data for road 'N1'\n",
    "bmms_n1 = bmms[bmms['road'] == 'N1'].copy()\n",
    "bmms_n1 = bmms_n1[(bmms_n1['lon'] >= 90.44) & (bmms_n1['lon'] <= 91.851) &\n",
    "                 (bmms_n1['lat'] >= 22.363) & (bmms_n1['lat'] <= 23.711)]\n",
    "\n",
    "bmms_n1 = bmms_n1[~bmms_n1['name'].str.contains(r\"\\(R\\)\", na=False)]\n",
    "bmms_n1 = bmms_n1[~bmms_n1['name'].str.contains(\"right\", case=False, na=False)]\n",
    "bmms_n1 = bmms_n1[~bmms_n1['name'].str.contains(\"RIGHT\", case=False, na=False)]\n",
    "bmms_n1 = bmms_n1[~bmms_n1['name'].str.contains(r\"\\( R \\)\", na=False)]\n",
    "\n",
    "# Set up for new entries\n",
    "bmms_n1['model_type'] = 'bridge'\n",
    "bmms_n1['name'] = ['Bridge ' + str(i+1) for i in range(bmms_n1.shape[0])]\n",
    "bmms_n1['id'] = range(n1_roads_final['id'].max() + 1, n1_roads_final['id'].max() + 1 + bmms_n1.shape[0])\n",
    "bmms_n1['chainage'] = bmms_n1['km']  # Use 'km' as 'chainage'\n",
    "bmms_n1['length'] = bmms_n1['length'] / 1000\n",
    "\n",
    "# Select and rename columns to match the format of `n1_roads_final_with_chainage`\n",
    "bmms_n1_formatted = bmms_n1[['road', 'id', 'model_type', 'name', 'lat', 'lon', 'chainage', 'length', 'condition']]\n",
    "\n",
    "# Combine the dataframes and sort by chainage\n",
    "combined_df = pd.concat([n1_roads_final, bmms_n1_formatted], ignore_index=True).sort_values(by='chainage')\n",
    "\n",
    "# Display the first few rows of the combined and sorted DataFrame\n",
    "combined_df\n"
   ],
   "metadata": {
    "collapsed": false,
    "ExecuteTime": {
     "end_time": "2024-02-28T12:58:11.230137400Z",
     "start_time": "2024-02-28T12:58:11.189093600Z"
    }
   },
   "id": "c39fed29ffccda55"
  },
  {
   "cell_type": "code",
   "execution_count": 7,
   "outputs": [],
   "source": [
    "combined_df.iloc[0, 2] = 'source'\n",
    "combined_df.iloc[-1, combined_df.columns.get_loc('model_type')] = 'sink'\n",
    "combined_df.reset_index(drop=True, inplace=True)\n",
    "count = 1\n",
    "for index, row in combined_df.iterrows():\n",
    "    combined_df.iloc[index, 1] = count\n",
    "    count += 1\n"
   ],
   "metadata": {
    "collapsed": false,
    "ExecuteTime": {
     "end_time": "2024-02-28T12:58:11.353552Z",
     "start_time": "2024-02-28T12:58:11.212798700Z"
    }
   },
   "id": "a1e064c49d275b64"
  },
  {
   "cell_type": "code",
   "execution_count": 8,
   "outputs": [
    {
     "name": "stderr",
     "output_type": "stream",
     "text": [
      "C:\\Users\\svenk\\AppData\\Local\\Temp\\ipykernel_25820\\2745667964.py:28: FutureWarning: The behavior of DataFrame concatenation with empty or all-NA entries is deprecated. In a future version, this will no longer exclude empty or all-NA columns when determining the result dtypes. To retain the old behavior, exclude the relevant entries before the concat operation.\n",
      "  n1_combined = pd.concat([n1_combined, pd.DataFrame(rows_to_add)], ignore_index=True)\n"
     ]
    },
    {
     "data": {
      "text/plain": "    road   id model_type        name  length condition\n0     N1    1     source      Link 1  0.8140       NaN\n1     N1    4       link      Link 4  1.1860       NaN\n2     N1    5     bridge    Bridge 1  0.0113         A\n3     N1   10       link      Link 9  3.0000       NaN\n4     N1   11     bridge    Bridge 2  0.0066         A\n..   ...  ...        ...         ...     ...       ...\n432   N1  801     bridge  Bridge 141  0.0083         A\n433   N1  804       link    Link 562  1.0000       NaN\n434   N1  805     bridge  Bridge 142  0.0030         A\n435   N1  807       link    Link 564  9.4500       NaN\n436   N1  808       sink    Link 565  0.0000       NaN\n\n[437 rows x 6 columns]",
      "text/html": "<div>\n<style scoped>\n    .dataframe tbody tr th:only-of-type {\n        vertical-align: middle;\n    }\n\n    .dataframe tbody tr th {\n        vertical-align: top;\n    }\n\n    .dataframe thead th {\n        text-align: right;\n    }\n</style>\n<table border=\"1\" class=\"dataframe\">\n  <thead>\n    <tr style=\"text-align: right;\">\n      <th></th>\n      <th>road</th>\n      <th>id</th>\n      <th>model_type</th>\n      <th>name</th>\n      <th>length</th>\n      <th>condition</th>\n    </tr>\n  </thead>\n  <tbody>\n    <tr>\n      <th>0</th>\n      <td>N1</td>\n      <td>1</td>\n      <td>source</td>\n      <td>Link 1</td>\n      <td>0.8140</td>\n      <td>NaN</td>\n    </tr>\n    <tr>\n      <th>1</th>\n      <td>N1</td>\n      <td>4</td>\n      <td>link</td>\n      <td>Link 4</td>\n      <td>1.1860</td>\n      <td>NaN</td>\n    </tr>\n    <tr>\n      <th>2</th>\n      <td>N1</td>\n      <td>5</td>\n      <td>bridge</td>\n      <td>Bridge 1</td>\n      <td>0.0113</td>\n      <td>A</td>\n    </tr>\n    <tr>\n      <th>3</th>\n      <td>N1</td>\n      <td>10</td>\n      <td>link</td>\n      <td>Link 9</td>\n      <td>3.0000</td>\n      <td>NaN</td>\n    </tr>\n    <tr>\n      <th>4</th>\n      <td>N1</td>\n      <td>11</td>\n      <td>bridge</td>\n      <td>Bridge 2</td>\n      <td>0.0066</td>\n      <td>A</td>\n    </tr>\n    <tr>\n      <th>...</th>\n      <td>...</td>\n      <td>...</td>\n      <td>...</td>\n      <td>...</td>\n      <td>...</td>\n      <td>...</td>\n    </tr>\n    <tr>\n      <th>432</th>\n      <td>N1</td>\n      <td>801</td>\n      <td>bridge</td>\n      <td>Bridge 141</td>\n      <td>0.0083</td>\n      <td>A</td>\n    </tr>\n    <tr>\n      <th>433</th>\n      <td>N1</td>\n      <td>804</td>\n      <td>link</td>\n      <td>Link 562</td>\n      <td>1.0000</td>\n      <td>NaN</td>\n    </tr>\n    <tr>\n      <th>434</th>\n      <td>N1</td>\n      <td>805</td>\n      <td>bridge</td>\n      <td>Bridge 142</td>\n      <td>0.0030</td>\n      <td>A</td>\n    </tr>\n    <tr>\n      <th>435</th>\n      <td>N1</td>\n      <td>807</td>\n      <td>link</td>\n      <td>Link 564</td>\n      <td>9.4500</td>\n      <td>NaN</td>\n    </tr>\n    <tr>\n      <th>436</th>\n      <td>N1</td>\n      <td>808</td>\n      <td>sink</td>\n      <td>Link 565</td>\n      <td>0.0000</td>\n      <td>NaN</td>\n    </tr>\n  </tbody>\n</table>\n<p>437 rows × 6 columns</p>\n</div>"
     },
     "execution_count": 8,
     "metadata": {},
     "output_type": "execute_result"
    }
   ],
   "source": [
    "#add together the links\n",
    "length = 0\n",
    "rows_to_add = []  # List to accumulate rows\n",
    "last_row = None\n",
    "\n",
    "# Initialize the DataFrame\n",
    "n1_combined = pd.DataFrame(columns=['road', \"id\", 'model_type', 'name', 'length', 'condition'])\n",
    "\n",
    "for index, row in combined_df.iterrows():\n",
    "    if row['model_type'] == 'source':\n",
    "        rows_to_add.append({'road': row['road'], 'id': row['id'], 'model_type': row['model_type'],\n",
    "                            'name': row['name'], 'length': row['length'], 'condition': row['condition']})\n",
    "        length = 0  # Reset length after adding the combined link\n",
    "    elif row['model_type'] == 'link':\n",
    "        length += row['length']\n",
    "    elif row['model_type'] in ['bridge', 'sink']:\n",
    "        if last_row is not None and last_row['model_type'] == 'link':\n",
    "            # Add the previous link with the new length\n",
    "            rows_to_add.append({'road': last_row['road'], 'id': last_row['id'], 'model_type': last_row['model_type'],\n",
    "                                'name': last_row['name'], 'length': length, 'condition': last_row['condition']})\n",
    "        # Now add the current row (bridge or sink)\n",
    "        rows_to_add.append({'road': row['road'], 'id': row['id'], 'model_type': row['model_type'],\n",
    "                            'name': row['name'], 'length': row['length'], 'condition': row['condition']})\n",
    "        length = 0  # Reset length after adding the combined link\n",
    "    last_row = row\n",
    "\n",
    "# Once the loop is complete, add all accumulated rows to n1_combined\n",
    "n1_combined = pd.concat([n1_combined, pd.DataFrame(rows_to_add)], ignore_index=True)\n",
    "n1_combined"
   ],
   "metadata": {
    "collapsed": false,
    "ExecuteTime": {
     "end_time": "2024-02-28T12:58:11.383448800Z",
     "start_time": "2024-02-28T12:58:11.291351700Z"
    }
   },
   "id": "cf4be2e200adf063"
  },
  {
   "cell_type": "code",
   "execution_count": 9,
   "outputs": [],
   "source": [
    "combined_df.to_csv('../data/n1_model.csv', index=False)"
   ],
   "metadata": {
    "collapsed": false,
    "ExecuteTime": {
     "end_time": "2024-02-28T12:58:11.385449200Z",
     "start_time": "2024-02-28T12:58:11.343976200Z"
    }
   },
   "id": "66667b68acf618b1"
  },
  {
   "cell_type": "code",
   "execution_count": 10,
   "outputs": [],
   "source": [
    "n1 = pd.read_csv('../data/n1_model.csv')"
   ],
   "metadata": {
    "collapsed": false,
    "ExecuteTime": {
     "end_time": "2024-02-28T12:58:11.386449500Z",
     "start_time": "2024-02-28T12:58:11.358092500Z"
    }
   },
   "id": "5717d174086fa561"
  },
  {
   "cell_type": "code",
   "execution_count": 11,
   "outputs": [
    {
     "data": {
      "text/plain": "    road   id model_type        name        lat        lon  length  chainage  \\\n0     N1    1     source      Link 1  23.706028  90.443333  0.8140     0.000   \n1     N1    2       link      Link 2  23.702917  90.450417  0.0080     0.814   \n2     N1    3       link      Link 3  23.702778  90.450472  0.1780     0.822   \n3     N1    4       link      Link 4  23.702139  90.451972  1.0000     1.000   \n4     N1    5     bridge    Bridge 1  23.698739  90.458861  0.0113     1.800   \n..   ...  ...        ...         ...        ...        ...     ...       ...   \n803   N1  804       link    Link 562  22.376225  91.770543  0.5450   231.461   \n804   N1  805     bridge  Bridge 142  22.369684  91.773926  0.0030   231.966   \n805   N1  806       link    Link 563  22.369166  91.774194  0.5550   232.006   \n806   N1  807       link    Link 564  22.369138  91.777666  8.8950   232.561   \n807   N1  808       sink    Link 565  22.364611  91.850833  0.0000   241.456   \n\n    condition  \n0         NaN  \n1         NaN  \n2         NaN  \n3         NaN  \n4           A  \n..        ...  \n803       NaN  \n804         A  \n805       NaN  \n806       NaN  \n807       NaN  \n\n[808 rows x 9 columns]",
      "text/html": "<div>\n<style scoped>\n    .dataframe tbody tr th:only-of-type {\n        vertical-align: middle;\n    }\n\n    .dataframe tbody tr th {\n        vertical-align: top;\n    }\n\n    .dataframe thead th {\n        text-align: right;\n    }\n</style>\n<table border=\"1\" class=\"dataframe\">\n  <thead>\n    <tr style=\"text-align: right;\">\n      <th></th>\n      <th>road</th>\n      <th>id</th>\n      <th>model_type</th>\n      <th>name</th>\n      <th>lat</th>\n      <th>lon</th>\n      <th>length</th>\n      <th>chainage</th>\n      <th>condition</th>\n    </tr>\n  </thead>\n  <tbody>\n    <tr>\n      <th>0</th>\n      <td>N1</td>\n      <td>1</td>\n      <td>source</td>\n      <td>Link 1</td>\n      <td>23.706028</td>\n      <td>90.443333</td>\n      <td>0.8140</td>\n      <td>0.000</td>\n      <td>NaN</td>\n    </tr>\n    <tr>\n      <th>1</th>\n      <td>N1</td>\n      <td>2</td>\n      <td>link</td>\n      <td>Link 2</td>\n      <td>23.702917</td>\n      <td>90.450417</td>\n      <td>0.0080</td>\n      <td>0.814</td>\n      <td>NaN</td>\n    </tr>\n    <tr>\n      <th>2</th>\n      <td>N1</td>\n      <td>3</td>\n      <td>link</td>\n      <td>Link 3</td>\n      <td>23.702778</td>\n      <td>90.450472</td>\n      <td>0.1780</td>\n      <td>0.822</td>\n      <td>NaN</td>\n    </tr>\n    <tr>\n      <th>3</th>\n      <td>N1</td>\n      <td>4</td>\n      <td>link</td>\n      <td>Link 4</td>\n      <td>23.702139</td>\n      <td>90.451972</td>\n      <td>1.0000</td>\n      <td>1.000</td>\n      <td>NaN</td>\n    </tr>\n    <tr>\n      <th>4</th>\n      <td>N1</td>\n      <td>5</td>\n      <td>bridge</td>\n      <td>Bridge 1</td>\n      <td>23.698739</td>\n      <td>90.458861</td>\n      <td>0.0113</td>\n      <td>1.800</td>\n      <td>A</td>\n    </tr>\n    <tr>\n      <th>...</th>\n      <td>...</td>\n      <td>...</td>\n      <td>...</td>\n      <td>...</td>\n      <td>...</td>\n      <td>...</td>\n      <td>...</td>\n      <td>...</td>\n      <td>...</td>\n    </tr>\n    <tr>\n      <th>803</th>\n      <td>N1</td>\n      <td>804</td>\n      <td>link</td>\n      <td>Link 562</td>\n      <td>22.376225</td>\n      <td>91.770543</td>\n      <td>0.5450</td>\n      <td>231.461</td>\n      <td>NaN</td>\n    </tr>\n    <tr>\n      <th>804</th>\n      <td>N1</td>\n      <td>805</td>\n      <td>bridge</td>\n      <td>Bridge 142</td>\n      <td>22.369684</td>\n      <td>91.773926</td>\n      <td>0.0030</td>\n      <td>231.966</td>\n      <td>A</td>\n    </tr>\n    <tr>\n      <th>805</th>\n      <td>N1</td>\n      <td>806</td>\n      <td>link</td>\n      <td>Link 563</td>\n      <td>22.369166</td>\n      <td>91.774194</td>\n      <td>0.5550</td>\n      <td>232.006</td>\n      <td>NaN</td>\n    </tr>\n    <tr>\n      <th>806</th>\n      <td>N1</td>\n      <td>807</td>\n      <td>link</td>\n      <td>Link 564</td>\n      <td>22.369138</td>\n      <td>91.777666</td>\n      <td>8.8950</td>\n      <td>232.561</td>\n      <td>NaN</td>\n    </tr>\n    <tr>\n      <th>807</th>\n      <td>N1</td>\n      <td>808</td>\n      <td>sink</td>\n      <td>Link 565</td>\n      <td>22.364611</td>\n      <td>91.850833</td>\n      <td>0.0000</td>\n      <td>241.456</td>\n      <td>NaN</td>\n    </tr>\n  </tbody>\n</table>\n<p>808 rows × 9 columns</p>\n</div>"
     },
     "execution_count": 11,
     "metadata": {},
     "output_type": "execute_result"
    }
   ],
   "source": [
    "n1"
   ],
   "metadata": {
    "collapsed": false,
    "ExecuteTime": {
     "end_time": "2024-02-28T12:58:11.387763600Z",
     "start_time": "2024-02-28T12:58:11.371165Z"
    }
   },
   "id": "81dd268eb6fe58a5"
  },
  {
   "cell_type": "code",
   "execution_count": 12,
   "outputs": [
    {
     "name": "stderr",
     "output_type": "stream",
     "text": [
      "C:\\Users\\svenk\\AppData\\Local\\Temp\\ipykernel_25820\\452721347.py:28: FutureWarning: The behavior of DataFrame concatenation with empty or all-NA entries is deprecated. In a future version, this will no longer exclude empty or all-NA columns when determining the result dtypes. To retain the old behavior, exclude the relevant entries before the concat operation.\n",
      "  n1_combined = pd.concat([n1_combined, pd.DataFrame(rows_to_add)], ignore_index=True)\n"
     ]
    },
    {
     "data": {
      "text/plain": "    road   id model_type        name  length condition\n0     N1    1     source      Link 1  0.8140       NaN\n1     N1    4       link      Link 4  1.1860       NaN\n2     N1    5     bridge    Bridge 1  0.0113         A\n3     N1   10       link      Link 9  3.0000       NaN\n4     N1   11     bridge    Bridge 2  0.0066         A\n..   ...  ...        ...         ...     ...       ...\n432   N1  801     bridge  Bridge 141  0.0083         A\n433   N1  804       link    Link 562  1.0000       NaN\n434   N1  805     bridge  Bridge 142  0.0030         A\n435   N1  807       link    Link 564  9.4500       NaN\n436   N1  808       sink    Link 565  0.0000       NaN\n\n[437 rows x 6 columns]",
      "text/html": "<div>\n<style scoped>\n    .dataframe tbody tr th:only-of-type {\n        vertical-align: middle;\n    }\n\n    .dataframe tbody tr th {\n        vertical-align: top;\n    }\n\n    .dataframe thead th {\n        text-align: right;\n    }\n</style>\n<table border=\"1\" class=\"dataframe\">\n  <thead>\n    <tr style=\"text-align: right;\">\n      <th></th>\n      <th>road</th>\n      <th>id</th>\n      <th>model_type</th>\n      <th>name</th>\n      <th>length</th>\n      <th>condition</th>\n    </tr>\n  </thead>\n  <tbody>\n    <tr>\n      <th>0</th>\n      <td>N1</td>\n      <td>1</td>\n      <td>source</td>\n      <td>Link 1</td>\n      <td>0.8140</td>\n      <td>NaN</td>\n    </tr>\n    <tr>\n      <th>1</th>\n      <td>N1</td>\n      <td>4</td>\n      <td>link</td>\n      <td>Link 4</td>\n      <td>1.1860</td>\n      <td>NaN</td>\n    </tr>\n    <tr>\n      <th>2</th>\n      <td>N1</td>\n      <td>5</td>\n      <td>bridge</td>\n      <td>Bridge 1</td>\n      <td>0.0113</td>\n      <td>A</td>\n    </tr>\n    <tr>\n      <th>3</th>\n      <td>N1</td>\n      <td>10</td>\n      <td>link</td>\n      <td>Link 9</td>\n      <td>3.0000</td>\n      <td>NaN</td>\n    </tr>\n    <tr>\n      <th>4</th>\n      <td>N1</td>\n      <td>11</td>\n      <td>bridge</td>\n      <td>Bridge 2</td>\n      <td>0.0066</td>\n      <td>A</td>\n    </tr>\n    <tr>\n      <th>...</th>\n      <td>...</td>\n      <td>...</td>\n      <td>...</td>\n      <td>...</td>\n      <td>...</td>\n      <td>...</td>\n    </tr>\n    <tr>\n      <th>432</th>\n      <td>N1</td>\n      <td>801</td>\n      <td>bridge</td>\n      <td>Bridge 141</td>\n      <td>0.0083</td>\n      <td>A</td>\n    </tr>\n    <tr>\n      <th>433</th>\n      <td>N1</td>\n      <td>804</td>\n      <td>link</td>\n      <td>Link 562</td>\n      <td>1.0000</td>\n      <td>NaN</td>\n    </tr>\n    <tr>\n      <th>434</th>\n      <td>N1</td>\n      <td>805</td>\n      <td>bridge</td>\n      <td>Bridge 142</td>\n      <td>0.0030</td>\n      <td>A</td>\n    </tr>\n    <tr>\n      <th>435</th>\n      <td>N1</td>\n      <td>807</td>\n      <td>link</td>\n      <td>Link 564</td>\n      <td>9.4500</td>\n      <td>NaN</td>\n    </tr>\n    <tr>\n      <th>436</th>\n      <td>N1</td>\n      <td>808</td>\n      <td>sink</td>\n      <td>Link 565</td>\n      <td>0.0000</td>\n      <td>NaN</td>\n    </tr>\n  </tbody>\n</table>\n<p>437 rows × 6 columns</p>\n</div>"
     },
     "execution_count": 12,
     "metadata": {},
     "output_type": "execute_result"
    }
   ],
   "source": [
    "#add together the links\n",
    "length = 0\n",
    "rows_to_add = []  # List to accumulate rows\n",
    "last_row = None\n",
    "\n",
    "# Initialize the DataFrame\n",
    "n1_combined = pd.DataFrame(columns=['road', \"id\", 'model_type', 'name', 'length', 'condition'])\n",
    "\n",
    "for index, row in n1.iterrows():\n",
    "    if row['model_type'] == 'source':\n",
    "        rows_to_add.append({'road': row['road'], 'id': row['id'], 'model_type': row['model_type'],\n",
    "                            'name': row['name'], 'length': row['length'], 'condition': row['condition']})\n",
    "        length = 0  # Reset length after adding the combined link\n",
    "    elif row['model_type'] == 'link':\n",
    "        length += row['length']\n",
    "    elif row['model_type'] in ['bridge', 'sink']:\n",
    "        if last_row is not None and last_row['model_type'] == 'link':\n",
    "            # Add the previous link with the new length\n",
    "            rows_to_add.append({'road': last_row['road'], 'id': last_row['id'], 'model_type': last_row['model_type'],\n",
    "                                'name': last_row['name'], 'length': length, 'condition': last_row['condition']})\n",
    "        # Now add the current row (bridge or sink)\n",
    "        rows_to_add.append({'road': row['road'], 'id': row['id'], 'model_type': row['model_type'],\n",
    "                            'name': row['name'], 'length': row['length'], 'condition': row['condition']})\n",
    "        length = 0  # Reset length after adding the combined link\n",
    "    last_row = row\n",
    "\n",
    "# Once the loop is complete, add all accumulated rows to n1_combined\n",
    "n1_combined = pd.concat([n1_combined, pd.DataFrame(rows_to_add)], ignore_index=True)\n",
    "n1_combined"
   ],
   "metadata": {
    "collapsed": false,
    "ExecuteTime": {
     "end_time": "2024-02-28T12:58:25.187965100Z",
     "start_time": "2024-02-28T12:58:25.140266Z"
    }
   },
   "id": "eea97fec7a15857a"
  },
  {
   "cell_type": "code",
   "execution_count": 26,
   "outputs": [
    {
     "data": {
      "text/plain": "      road       km               type  LRPName        name   length  \\\n0       N1    1.800        Box Culvert  LRP001a    Bridge 1  0.01130   \n1       N1    4.925        Box Culvert  LRP004b    Bridge 2  0.00660   \n2       N1    8.976   PC Girder Bridge  LRP008b    Bridge 3  0.39423   \n3       N1   10.880        Box Culvert  LRP010b    Bridge 4  0.00630   \n4       N1   10.897        Box Culvert  LRP010c    Bridge 5  0.00630   \n...    ...      ...                ...      ...         ...      ...   \n14659   N1  220.725  RCC Girder Bridge  LRP223a  Bridge 267  0.02320   \n14660   N1  225.702   PC Girder Bridge  LRP228a  Bridge 268  0.03510   \n15617   N1  222.687  RCC Girder Bridge  LRP225a  Bridge 269  0.02630   \n19366   N1  218.441  RCC Girder Bridge  LRP220b  Bridge 270  0.02433   \n19367   N1  220.725  RCC Girder Bridge  LRP223a  Bridge 271  0.02432   \n\n      condition  structureNr  \\\n0             A       117861   \n1             A       117862   \n2             A       119889   \n3             A       112531   \n4             A       112532   \n...         ...          ...   \n14659         B       100611   \n14660         B       100616   \n15617         C       100613   \n19366         D       121352   \n19367         D       121354   \n\n                                                roadName  chainage  ...  \\\n0      Dhaka (Jatrabari)-Comilla (Mainamati)-Chittago...     1.800  ...   \n1      Dhaka (Jatrabari)-Comilla (Mainamati)-Chittago...     4.925  ...   \n2      Dhaka (Jatrabari)-Comilla (Mainamati)-Chittago...     8.976  ...   \n3      Dhaka (Jatrabari)-Comilla (Mainamati)-Chittago...    10.880  ...   \n4      Dhaka (Jatrabari)-Comilla (Mainamati)-Chittago...    10.897  ...   \n...                                                  ...       ...  ...   \n14659  Dhaka (Jatrabari)-Comilla (Mainamati)-Chittago...   220.725  ...   \n14660  Dhaka (Jatrabari)-Comilla (Mainamati)-Chittago...   225.702  ...   \n15617  Dhaka (Jatrabari)-Comilla (Mainamati)-Chittago...   222.687  ...   \n19366  Dhaka (Jatrabari)-Comilla (Mainamati)-Chittago...   218.441  ...   \n19367  Dhaka (Jatrabari)-Comilla (Mainamati)-Chittago...   220.725  ...   \n\n       spans        zone      circle     division   sub-division        lat  \\\n0        2.0       Dhaka       Dhaka  Narayanganj  Narayanganj-1  23.698739   \n1        1.0       Dhaka       Dhaka  Narayanganj  Narayanganj-1  23.694664   \n2        NaN       Dhaka       Dhaka  Narayanganj  Narayanganj-1  23.705060   \n3        2.0       Dhaka       Dhaka  Narayanganj      Vitikandi  23.694391   \n4        2.0       Dhaka       Dhaka  Narayanganj      Vitikandi  23.694302   \n...      ...         ...         ...          ...            ...        ...   \n14659    3.0  Chittagong  Chittagong   Chittagong      Sitakunda  22.462439   \n14660    3.0  Chittagong  Chittagong   Chittagong      Sitakunda  22.422042   \n15617    3.0  Chittagong  Chittagong   Chittagong      Sitakunda  22.446079   \n19366    NaN  Chittagong  Chittagong   Chittagong      Sitakunda  22.481164   \n19367    NaN  Chittagong  Chittagong   Chittagong      Sitakunda  22.462439   \n\n             lon  EstimatedLoc  model_type   id  \n0      90.458861   interpolate      bridge  566  \n1      90.487775   interpolate      bridge  567  \n2      90.523214   interpolate      bridge  568  \n3      90.537574   interpolate      bridge  569  \n4      90.537707   interpolate      bridge  570  \n...          ...           ...         ...  ...  \n14659  91.728531   interpolate      bridge  832  \n14660  91.748021   interpolate      bridge  833  \n15617  91.735367   interpolate      bridge  834  \n19366  91.720363   interpolate      bridge  835  \n19367  91.728531   interpolate      bridge  836  \n\n[271 rows x 22 columns]",
      "text/html": "<div>\n<style scoped>\n    .dataframe tbody tr th:only-of-type {\n        vertical-align: middle;\n    }\n\n    .dataframe tbody tr th {\n        vertical-align: top;\n    }\n\n    .dataframe thead th {\n        text-align: right;\n    }\n</style>\n<table border=\"1\" class=\"dataframe\">\n  <thead>\n    <tr style=\"text-align: right;\">\n      <th></th>\n      <th>road</th>\n      <th>km</th>\n      <th>type</th>\n      <th>LRPName</th>\n      <th>name</th>\n      <th>length</th>\n      <th>condition</th>\n      <th>structureNr</th>\n      <th>roadName</th>\n      <th>chainage</th>\n      <th>...</th>\n      <th>spans</th>\n      <th>zone</th>\n      <th>circle</th>\n      <th>division</th>\n      <th>sub-division</th>\n      <th>lat</th>\n      <th>lon</th>\n      <th>EstimatedLoc</th>\n      <th>model_type</th>\n      <th>id</th>\n    </tr>\n  </thead>\n  <tbody>\n    <tr>\n      <th>0</th>\n      <td>N1</td>\n      <td>1.800</td>\n      <td>Box Culvert</td>\n      <td>LRP001a</td>\n      <td>Bridge 1</td>\n      <td>0.01130</td>\n      <td>A</td>\n      <td>117861</td>\n      <td>Dhaka (Jatrabari)-Comilla (Mainamati)-Chittago...</td>\n      <td>1.800</td>\n      <td>...</td>\n      <td>2.0</td>\n      <td>Dhaka</td>\n      <td>Dhaka</td>\n      <td>Narayanganj</td>\n      <td>Narayanganj-1</td>\n      <td>23.698739</td>\n      <td>90.458861</td>\n      <td>interpolate</td>\n      <td>bridge</td>\n      <td>566</td>\n    </tr>\n    <tr>\n      <th>1</th>\n      <td>N1</td>\n      <td>4.925</td>\n      <td>Box Culvert</td>\n      <td>LRP004b</td>\n      <td>Bridge 2</td>\n      <td>0.00660</td>\n      <td>A</td>\n      <td>117862</td>\n      <td>Dhaka (Jatrabari)-Comilla (Mainamati)-Chittago...</td>\n      <td>4.925</td>\n      <td>...</td>\n      <td>1.0</td>\n      <td>Dhaka</td>\n      <td>Dhaka</td>\n      <td>Narayanganj</td>\n      <td>Narayanganj-1</td>\n      <td>23.694664</td>\n      <td>90.487775</td>\n      <td>interpolate</td>\n      <td>bridge</td>\n      <td>567</td>\n    </tr>\n    <tr>\n      <th>2</th>\n      <td>N1</td>\n      <td>8.976</td>\n      <td>PC Girder Bridge</td>\n      <td>LRP008b</td>\n      <td>Bridge 3</td>\n      <td>0.39423</td>\n      <td>A</td>\n      <td>119889</td>\n      <td>Dhaka (Jatrabari)-Comilla (Mainamati)-Chittago...</td>\n      <td>8.976</td>\n      <td>...</td>\n      <td>NaN</td>\n      <td>Dhaka</td>\n      <td>Dhaka</td>\n      <td>Narayanganj</td>\n      <td>Narayanganj-1</td>\n      <td>23.705060</td>\n      <td>90.523214</td>\n      <td>interpolate</td>\n      <td>bridge</td>\n      <td>568</td>\n    </tr>\n    <tr>\n      <th>3</th>\n      <td>N1</td>\n      <td>10.880</td>\n      <td>Box Culvert</td>\n      <td>LRP010b</td>\n      <td>Bridge 4</td>\n      <td>0.00630</td>\n      <td>A</td>\n      <td>112531</td>\n      <td>Dhaka (Jatrabari)-Comilla (Mainamati)-Chittago...</td>\n      <td>10.880</td>\n      <td>...</td>\n      <td>2.0</td>\n      <td>Dhaka</td>\n      <td>Dhaka</td>\n      <td>Narayanganj</td>\n      <td>Vitikandi</td>\n      <td>23.694391</td>\n      <td>90.537574</td>\n      <td>interpolate</td>\n      <td>bridge</td>\n      <td>569</td>\n    </tr>\n    <tr>\n      <th>4</th>\n      <td>N1</td>\n      <td>10.897</td>\n      <td>Box Culvert</td>\n      <td>LRP010c</td>\n      <td>Bridge 5</td>\n      <td>0.00630</td>\n      <td>A</td>\n      <td>112532</td>\n      <td>Dhaka (Jatrabari)-Comilla (Mainamati)-Chittago...</td>\n      <td>10.897</td>\n      <td>...</td>\n      <td>2.0</td>\n      <td>Dhaka</td>\n      <td>Dhaka</td>\n      <td>Narayanganj</td>\n      <td>Vitikandi</td>\n      <td>23.694302</td>\n      <td>90.537707</td>\n      <td>interpolate</td>\n      <td>bridge</td>\n      <td>570</td>\n    </tr>\n    <tr>\n      <th>...</th>\n      <td>...</td>\n      <td>...</td>\n      <td>...</td>\n      <td>...</td>\n      <td>...</td>\n      <td>...</td>\n      <td>...</td>\n      <td>...</td>\n      <td>...</td>\n      <td>...</td>\n      <td>...</td>\n      <td>...</td>\n      <td>...</td>\n      <td>...</td>\n      <td>...</td>\n      <td>...</td>\n      <td>...</td>\n      <td>...</td>\n      <td>...</td>\n      <td>...</td>\n      <td>...</td>\n    </tr>\n    <tr>\n      <th>14659</th>\n      <td>N1</td>\n      <td>220.725</td>\n      <td>RCC Girder Bridge</td>\n      <td>LRP223a</td>\n      <td>Bridge 267</td>\n      <td>0.02320</td>\n      <td>B</td>\n      <td>100611</td>\n      <td>Dhaka (Jatrabari)-Comilla (Mainamati)-Chittago...</td>\n      <td>220.725</td>\n      <td>...</td>\n      <td>3.0</td>\n      <td>Chittagong</td>\n      <td>Chittagong</td>\n      <td>Chittagong</td>\n      <td>Sitakunda</td>\n      <td>22.462439</td>\n      <td>91.728531</td>\n      <td>interpolate</td>\n      <td>bridge</td>\n      <td>832</td>\n    </tr>\n    <tr>\n      <th>14660</th>\n      <td>N1</td>\n      <td>225.702</td>\n      <td>PC Girder Bridge</td>\n      <td>LRP228a</td>\n      <td>Bridge 268</td>\n      <td>0.03510</td>\n      <td>B</td>\n      <td>100616</td>\n      <td>Dhaka (Jatrabari)-Comilla (Mainamati)-Chittago...</td>\n      <td>225.702</td>\n      <td>...</td>\n      <td>3.0</td>\n      <td>Chittagong</td>\n      <td>Chittagong</td>\n      <td>Chittagong</td>\n      <td>Sitakunda</td>\n      <td>22.422042</td>\n      <td>91.748021</td>\n      <td>interpolate</td>\n      <td>bridge</td>\n      <td>833</td>\n    </tr>\n    <tr>\n      <th>15617</th>\n      <td>N1</td>\n      <td>222.687</td>\n      <td>RCC Girder Bridge</td>\n      <td>LRP225a</td>\n      <td>Bridge 269</td>\n      <td>0.02630</td>\n      <td>C</td>\n      <td>100613</td>\n      <td>Dhaka (Jatrabari)-Comilla (Mainamati)-Chittago...</td>\n      <td>222.687</td>\n      <td>...</td>\n      <td>3.0</td>\n      <td>Chittagong</td>\n      <td>Chittagong</td>\n      <td>Chittagong</td>\n      <td>Sitakunda</td>\n      <td>22.446079</td>\n      <td>91.735367</td>\n      <td>interpolate</td>\n      <td>bridge</td>\n      <td>834</td>\n    </tr>\n    <tr>\n      <th>19366</th>\n      <td>N1</td>\n      <td>218.441</td>\n      <td>RCC Girder Bridge</td>\n      <td>LRP220b</td>\n      <td>Bridge 270</td>\n      <td>0.02433</td>\n      <td>D</td>\n      <td>121352</td>\n      <td>Dhaka (Jatrabari)-Comilla (Mainamati)-Chittago...</td>\n      <td>218.441</td>\n      <td>...</td>\n      <td>NaN</td>\n      <td>Chittagong</td>\n      <td>Chittagong</td>\n      <td>Chittagong</td>\n      <td>Sitakunda</td>\n      <td>22.481164</td>\n      <td>91.720363</td>\n      <td>interpolate</td>\n      <td>bridge</td>\n      <td>835</td>\n    </tr>\n    <tr>\n      <th>19367</th>\n      <td>N1</td>\n      <td>220.725</td>\n      <td>RCC Girder Bridge</td>\n      <td>LRP223a</td>\n      <td>Bridge 271</td>\n      <td>0.02432</td>\n      <td>D</td>\n      <td>121354</td>\n      <td>Dhaka (Jatrabari)-Comilla (Mainamati)-Chittago...</td>\n      <td>220.725</td>\n      <td>...</td>\n      <td>NaN</td>\n      <td>Chittagong</td>\n      <td>Chittagong</td>\n      <td>Chittagong</td>\n      <td>Sitakunda</td>\n      <td>22.462439</td>\n      <td>91.728531</td>\n      <td>interpolate</td>\n      <td>bridge</td>\n      <td>836</td>\n    </tr>\n  </tbody>\n</table>\n<p>271 rows × 22 columns</p>\n</div>"
     },
     "execution_count": 26,
     "metadata": {},
     "output_type": "execute_result"
    }
   ],
   "source": [
    "bmms_n1"
   ],
   "metadata": {
    "collapsed": false,
    "ExecuteTime": {
     "end_time": "2024-02-28T11:20:55.625226200Z",
     "start_time": "2024-02-28T11:20:55.536671500Z"
    }
   },
   "id": "63c6958619ae9a39"
  },
  {
   "cell_type": "code",
   "execution_count": 32,
   "outputs": [
    {
     "data": {
      "text/plain": "      road       km               type  LRPName                 name  length  \\\n0       N1    1.800        Box Culvert  LRP001a                    .   11.30   \n1       N1    4.925        Box Culvert  LRP004b                    .    6.60   \n2       N1    8.976   PC Girder Bridge  LRP008b    Kanch pur Bridge.  394.23   \n3       N1   10.880        Box Culvert  LRP010b     NOYAPARA CULVERT    6.30   \n4       N1   10.897        Box Culvert  LRP010c       ADUPUR CULVERT    6.30   \n...    ...      ...                ...      ...                  ...     ...   \n14659   N1  220.725  RCC Girder Bridge  LRP223a  SHLAKHAR PAD BRIDGE   23.20   \n14660   N1  225.702   PC Girder Bridge  LRP228a    DHAMAKHALI BRIDGE   35.10   \n15617   N1  222.687  RCC Girder Bridge  LRP225a   SALAKHARPAD BRIDGE   26.30   \n19366   N1  218.441  RCC Girder Bridge  LRP220b           Baro Aulia   24.33   \n19367   N1  220.725  RCC Girder Bridge  LRP223a      Modonhat Bridge   24.32   \n\n      condition  structureNr  \\\n0             A       117861   \n1             A       117862   \n2             A       119889   \n3             A       112531   \n4             A       112532   \n...         ...          ...   \n14659         B       100611   \n14660         B       100616   \n15617         C       100613   \n19366         D       121352   \n19367         D       121354   \n\n                                                roadName  chainage  width  \\\n0      Dhaka (Jatrabari)-Comilla (Mainamati)-Chittago...     1.800   19.5   \n1      Dhaka (Jatrabari)-Comilla (Mainamati)-Chittago...     4.925   35.4   \n2      Dhaka (Jatrabari)-Comilla (Mainamati)-Chittago...     8.976    NaN   \n3      Dhaka (Jatrabari)-Comilla (Mainamati)-Chittago...    10.880   12.2   \n4      Dhaka (Jatrabari)-Comilla (Mainamati)-Chittago...    10.897   12.2   \n...                                                  ...       ...    ...   \n14659  Dhaka (Jatrabari)-Comilla (Mainamati)-Chittago...   220.725   12.4   \n14660  Dhaka (Jatrabari)-Comilla (Mainamati)-Chittago...   225.702   12.6   \n15617  Dhaka (Jatrabari)-Comilla (Mainamati)-Chittago...   222.687   12.7   \n19366  Dhaka (Jatrabari)-Comilla (Mainamati)-Chittago...   218.441    NaN   \n19367  Dhaka (Jatrabari)-Comilla (Mainamati)-Chittago...   220.725    NaN   \n\n       constructionYear  spans        zone      circle     division  \\\n0                2005.0    2.0       Dhaka       Dhaka  Narayanganj   \n1                2006.0    1.0       Dhaka       Dhaka  Narayanganj   \n2                   NaN    NaN       Dhaka       Dhaka  Narayanganj   \n3                1992.0    2.0       Dhaka       Dhaka  Narayanganj   \n4                1984.0    2.0       Dhaka       Dhaka  Narayanganj   \n...                 ...    ...         ...         ...          ...   \n14659            1986.0    3.0  Chittagong  Chittagong   Chittagong   \n14660            1990.0    3.0  Chittagong  Chittagong   Chittagong   \n15617            1984.0    3.0  Chittagong  Chittagong   Chittagong   \n19366               NaN    NaN  Chittagong  Chittagong   Chittagong   \n19367               NaN    NaN  Chittagong  Chittagong   Chittagong   \n\n        sub-division        lat        lon EstimatedLoc  \n0      Narayanganj-1  23.698739  90.458861  interpolate  \n1      Narayanganj-1  23.694664  90.487775  interpolate  \n2      Narayanganj-1  23.705060  90.523214  interpolate  \n3          Vitikandi  23.694391  90.537574  interpolate  \n4          Vitikandi  23.694302  90.537707  interpolate  \n...              ...        ...        ...          ...  \n14659      Sitakunda  22.462439  91.728531  interpolate  \n14660      Sitakunda  22.422042  91.748021  interpolate  \n15617      Sitakunda  22.446079  91.735367  interpolate  \n19366      Sitakunda  22.481164  91.720363  interpolate  \n19367      Sitakunda  22.462439  91.728531  interpolate  \n\n[271 rows x 20 columns]",
      "text/html": "<div>\n<style scoped>\n    .dataframe tbody tr th:only-of-type {\n        vertical-align: middle;\n    }\n\n    .dataframe tbody tr th {\n        vertical-align: top;\n    }\n\n    .dataframe thead th {\n        text-align: right;\n    }\n</style>\n<table border=\"1\" class=\"dataframe\">\n  <thead>\n    <tr style=\"text-align: right;\">\n      <th></th>\n      <th>road</th>\n      <th>km</th>\n      <th>type</th>\n      <th>LRPName</th>\n      <th>name</th>\n      <th>length</th>\n      <th>condition</th>\n      <th>structureNr</th>\n      <th>roadName</th>\n      <th>chainage</th>\n      <th>width</th>\n      <th>constructionYear</th>\n      <th>spans</th>\n      <th>zone</th>\n      <th>circle</th>\n      <th>division</th>\n      <th>sub-division</th>\n      <th>lat</th>\n      <th>lon</th>\n      <th>EstimatedLoc</th>\n    </tr>\n  </thead>\n  <tbody>\n    <tr>\n      <th>0</th>\n      <td>N1</td>\n      <td>1.800</td>\n      <td>Box Culvert</td>\n      <td>LRP001a</td>\n      <td>.</td>\n      <td>11.30</td>\n      <td>A</td>\n      <td>117861</td>\n      <td>Dhaka (Jatrabari)-Comilla (Mainamati)-Chittago...</td>\n      <td>1.800</td>\n      <td>19.5</td>\n      <td>2005.0</td>\n      <td>2.0</td>\n      <td>Dhaka</td>\n      <td>Dhaka</td>\n      <td>Narayanganj</td>\n      <td>Narayanganj-1</td>\n      <td>23.698739</td>\n      <td>90.458861</td>\n      <td>interpolate</td>\n    </tr>\n    <tr>\n      <th>1</th>\n      <td>N1</td>\n      <td>4.925</td>\n      <td>Box Culvert</td>\n      <td>LRP004b</td>\n      <td>.</td>\n      <td>6.60</td>\n      <td>A</td>\n      <td>117862</td>\n      <td>Dhaka (Jatrabari)-Comilla (Mainamati)-Chittago...</td>\n      <td>4.925</td>\n      <td>35.4</td>\n      <td>2006.0</td>\n      <td>1.0</td>\n      <td>Dhaka</td>\n      <td>Dhaka</td>\n      <td>Narayanganj</td>\n      <td>Narayanganj-1</td>\n      <td>23.694664</td>\n      <td>90.487775</td>\n      <td>interpolate</td>\n    </tr>\n    <tr>\n      <th>2</th>\n      <td>N1</td>\n      <td>8.976</td>\n      <td>PC Girder Bridge</td>\n      <td>LRP008b</td>\n      <td>Kanch pur Bridge.</td>\n      <td>394.23</td>\n      <td>A</td>\n      <td>119889</td>\n      <td>Dhaka (Jatrabari)-Comilla (Mainamati)-Chittago...</td>\n      <td>8.976</td>\n      <td>NaN</td>\n      <td>NaN</td>\n      <td>NaN</td>\n      <td>Dhaka</td>\n      <td>Dhaka</td>\n      <td>Narayanganj</td>\n      <td>Narayanganj-1</td>\n      <td>23.705060</td>\n      <td>90.523214</td>\n      <td>interpolate</td>\n    </tr>\n    <tr>\n      <th>3</th>\n      <td>N1</td>\n      <td>10.880</td>\n      <td>Box Culvert</td>\n      <td>LRP010b</td>\n      <td>NOYAPARA CULVERT</td>\n      <td>6.30</td>\n      <td>A</td>\n      <td>112531</td>\n      <td>Dhaka (Jatrabari)-Comilla (Mainamati)-Chittago...</td>\n      <td>10.880</td>\n      <td>12.2</td>\n      <td>1992.0</td>\n      <td>2.0</td>\n      <td>Dhaka</td>\n      <td>Dhaka</td>\n      <td>Narayanganj</td>\n      <td>Vitikandi</td>\n      <td>23.694391</td>\n      <td>90.537574</td>\n      <td>interpolate</td>\n    </tr>\n    <tr>\n      <th>4</th>\n      <td>N1</td>\n      <td>10.897</td>\n      <td>Box Culvert</td>\n      <td>LRP010c</td>\n      <td>ADUPUR CULVERT</td>\n      <td>6.30</td>\n      <td>A</td>\n      <td>112532</td>\n      <td>Dhaka (Jatrabari)-Comilla (Mainamati)-Chittago...</td>\n      <td>10.897</td>\n      <td>12.2</td>\n      <td>1984.0</td>\n      <td>2.0</td>\n      <td>Dhaka</td>\n      <td>Dhaka</td>\n      <td>Narayanganj</td>\n      <td>Vitikandi</td>\n      <td>23.694302</td>\n      <td>90.537707</td>\n      <td>interpolate</td>\n    </tr>\n    <tr>\n      <th>...</th>\n      <td>...</td>\n      <td>...</td>\n      <td>...</td>\n      <td>...</td>\n      <td>...</td>\n      <td>...</td>\n      <td>...</td>\n      <td>...</td>\n      <td>...</td>\n      <td>...</td>\n      <td>...</td>\n      <td>...</td>\n      <td>...</td>\n      <td>...</td>\n      <td>...</td>\n      <td>...</td>\n      <td>...</td>\n      <td>...</td>\n      <td>...</td>\n      <td>...</td>\n    </tr>\n    <tr>\n      <th>14659</th>\n      <td>N1</td>\n      <td>220.725</td>\n      <td>RCC Girder Bridge</td>\n      <td>LRP223a</td>\n      <td>SHLAKHAR PAD BRIDGE</td>\n      <td>23.20</td>\n      <td>B</td>\n      <td>100611</td>\n      <td>Dhaka (Jatrabari)-Comilla (Mainamati)-Chittago...</td>\n      <td>220.725</td>\n      <td>12.4</td>\n      <td>1986.0</td>\n      <td>3.0</td>\n      <td>Chittagong</td>\n      <td>Chittagong</td>\n      <td>Chittagong</td>\n      <td>Sitakunda</td>\n      <td>22.462439</td>\n      <td>91.728531</td>\n      <td>interpolate</td>\n    </tr>\n    <tr>\n      <th>14660</th>\n      <td>N1</td>\n      <td>225.702</td>\n      <td>PC Girder Bridge</td>\n      <td>LRP228a</td>\n      <td>DHAMAKHALI BRIDGE</td>\n      <td>35.10</td>\n      <td>B</td>\n      <td>100616</td>\n      <td>Dhaka (Jatrabari)-Comilla (Mainamati)-Chittago...</td>\n      <td>225.702</td>\n      <td>12.6</td>\n      <td>1990.0</td>\n      <td>3.0</td>\n      <td>Chittagong</td>\n      <td>Chittagong</td>\n      <td>Chittagong</td>\n      <td>Sitakunda</td>\n      <td>22.422042</td>\n      <td>91.748021</td>\n      <td>interpolate</td>\n    </tr>\n    <tr>\n      <th>15617</th>\n      <td>N1</td>\n      <td>222.687</td>\n      <td>RCC Girder Bridge</td>\n      <td>LRP225a</td>\n      <td>SALAKHARPAD BRIDGE</td>\n      <td>26.30</td>\n      <td>C</td>\n      <td>100613</td>\n      <td>Dhaka (Jatrabari)-Comilla (Mainamati)-Chittago...</td>\n      <td>222.687</td>\n      <td>12.7</td>\n      <td>1984.0</td>\n      <td>3.0</td>\n      <td>Chittagong</td>\n      <td>Chittagong</td>\n      <td>Chittagong</td>\n      <td>Sitakunda</td>\n      <td>22.446079</td>\n      <td>91.735367</td>\n      <td>interpolate</td>\n    </tr>\n    <tr>\n      <th>19366</th>\n      <td>N1</td>\n      <td>218.441</td>\n      <td>RCC Girder Bridge</td>\n      <td>LRP220b</td>\n      <td>Baro Aulia</td>\n      <td>24.33</td>\n      <td>D</td>\n      <td>121352</td>\n      <td>Dhaka (Jatrabari)-Comilla (Mainamati)-Chittago...</td>\n      <td>218.441</td>\n      <td>NaN</td>\n      <td>NaN</td>\n      <td>NaN</td>\n      <td>Chittagong</td>\n      <td>Chittagong</td>\n      <td>Chittagong</td>\n      <td>Sitakunda</td>\n      <td>22.481164</td>\n      <td>91.720363</td>\n      <td>interpolate</td>\n    </tr>\n    <tr>\n      <th>19367</th>\n      <td>N1</td>\n      <td>220.725</td>\n      <td>RCC Girder Bridge</td>\n      <td>LRP223a</td>\n      <td>Modonhat Bridge</td>\n      <td>24.32</td>\n      <td>D</td>\n      <td>121354</td>\n      <td>Dhaka (Jatrabari)-Comilla (Mainamati)-Chittago...</td>\n      <td>220.725</td>\n      <td>NaN</td>\n      <td>NaN</td>\n      <td>NaN</td>\n      <td>Chittagong</td>\n      <td>Chittagong</td>\n      <td>Chittagong</td>\n      <td>Sitakunda</td>\n      <td>22.462439</td>\n      <td>91.728531</td>\n      <td>interpolate</td>\n    </tr>\n  </tbody>\n</table>\n<p>271 rows × 20 columns</p>\n</div>"
     },
     "execution_count": 32,
     "metadata": {},
     "output_type": "execute_result"
    }
   ],
   "source": [
    "bmms_n1 = bmms[bmms['road'] == 'N1'].copy()\n",
    "bmms_n1 = bmms_n1[(bmms_n1['lon'] >= 90.44) & (bmms_n1['lon'] <= 91.851) &\n",
    "                 (bmms_n1['lat'] >= 22.363) & (bmms_n1['lat'] <= 23.711)]\n",
    "bmms_n1 "
   ],
   "metadata": {
    "collapsed": false,
    "ExecuteTime": {
     "end_time": "2024-02-28T12:13:37.042943300Z",
     "start_time": "2024-02-28T12:13:36.972628200Z"
    }
   },
   "id": "1037bc467eac5e52"
  },
  {
   "cell_type": "code",
   "execution_count": 43,
   "outputs": [],
   "source": [
    "bmms_n1 = bmms_n1[~bmms_n1['name'].str.contains(r\"\\(R\\)\", na=False)]\n",
    "bmms_n1 = bmms_n1[~bmms_n1['name'].str.contains(\"right\", case=False, na=False)]\n",
    "bmms_n1 = bmms_n1[~bmms_n1['name'].str.contains(\"RIGHT\", case=False, na=False)]\n",
    "bmms_n1 = bmms_n1[~bmms_n1['name'].str.contains(r\"\\( R \\)\", na=False)]\n"
   ],
   "metadata": {
    "collapsed": false,
    "ExecuteTime": {
     "end_time": "2024-02-28T12:23:04.043089800Z",
     "start_time": "2024-02-28T12:23:04.013951700Z"
    }
   },
   "id": "4e8b708c3ee46d00"
  },
  {
   "cell_type": "code",
   "execution_count": 44,
   "outputs": [],
   "source": [
    "duplicates_df = bmms_n1[bmms_n1.duplicated('km', keep=False)]"
   ],
   "metadata": {
    "collapsed": false,
    "ExecuteTime": {
     "end_time": "2024-02-28T12:23:04.233929200Z",
     "start_time": "2024-02-28T12:23:04.210318200Z"
    }
   },
   "id": "39651d3833a18c2a"
  },
  {
   "cell_type": "code",
   "execution_count": 49,
   "outputs": [
    {
     "name": "stderr",
     "output_type": "stream",
     "text": [
      "C:\\Users\\svenk\\AppData\\Local\\Temp\\ipykernel_3192\\355141723.py:4: SettingWithCopyWarning: \n",
      "A value is trying to be set on a copy of a slice from a DataFrame.\n",
      "Try using .loc[row_indexer,col_indexer] = value instead\n",
      "\n",
      "See the caveats in the documentation: https://pandas.pydata.org/pandas-docs/stable/user_guide/indexing.html#returning-a-view-versus-a-copy\n",
      "  duplicates_df['condition_num'] = duplicates_df['condition'].map(condition_mapping)\n"
     ]
    },
    {
     "data": {
      "text/plain": "      road       km               type  LRPName                    name  \\\n2       N1    8.976   PC Girder Bridge  LRP008b       Kanch pur Bridge.   \n8       N1   12.660   PC Girder Bridge  LRP013a     Madanpur Bridge.(L)   \n10      N1   12.660   PC Girder Bridge  LRP013a      MADANPUR BRIDGE(L)   \n15      N1   18.093   PC Girder Bridge  LRP018c      Sonakhal Bridge(L)   \n17      N1   21.184   PC Girder Bridge  LRP021c     Marikhali Bridge(L)   \n...    ...      ...                ...      ...                     ...   \n14648   N1  165.183   PC Girder Bridge  LRP166a    DHOOM GHAT PC GIRDER   \n14658   N1  218.441  RCC Girder Bridge  LRP220b  MUDDO SONAISORI BRIDGE   \n14659   N1  220.725  RCC Girder Bridge  LRP223a     SHLAKHAR PAD BRIDGE   \n19366   N1  218.441  RCC Girder Bridge  LRP220b              Baro Aulia   \n19367   N1  220.725  RCC Girder Bridge  LRP223a         Modonhat Bridge   \n\n       length condition  structureNr  \\\n2      394.23         A       119889   \n8       27.50         A       119897   \n10      26.30         A       109838   \n15      25.50         A       119933   \n17      86.92         A       119944   \n...       ...       ...          ...   \n14648  220.60         B       101258   \n14658   23.20         B       100608   \n14659   23.20         B       100611   \n19366   24.33         D       121352   \n19367   24.32         D       121354   \n\n                                                roadName  chainage  ...  \\\n2      Dhaka (Jatrabari)-Comilla (Mainamati)-Chittago...     8.976  ...   \n8      Dhaka (Jatrabari)-Comilla (Mainamati)-Chittago...    12.660  ...   \n10     Dhaka (Jatrabari)-Comilla (Mainamati)-Chittago...    12.660  ...   \n15     Dhaka (Jatrabari)-Comilla (Mainamati)-Chittago...    18.093  ...   \n17     Dhaka (Jatrabari)-Comilla (Mainamati)-Chittago...    21.184  ...   \n...                                                  ...       ...  ...   \n14648  Dhaka (Jatrabari)-Comilla (Mainamati)-Chittago...   165.183  ...   \n14658  Dhaka (Jatrabari)-Comilla (Mainamati)-Chittago...   218.441  ...   \n14659  Dhaka (Jatrabari)-Comilla (Mainamati)-Chittago...   220.725  ...   \n19366  Dhaka (Jatrabari)-Comilla (Mainamati)-Chittago...   218.441  ...   \n19367  Dhaka (Jatrabari)-Comilla (Mainamati)-Chittago...   220.725  ...   \n\n       constructionYear  spans        zone      circle     division  \\\n2                   NaN    NaN       Dhaka       Dhaka  Narayanganj   \n8                   NaN    NaN       Dhaka       Dhaka  Narayanganj   \n10               2003.0    1.0       Dhaka       Dhaka  Narayanganj   \n15                  NaN    NaN       Dhaka       Dhaka  Narayanganj   \n17                  NaN    NaN       Dhaka       Dhaka  Narayanganj   \n...                 ...    ...         ...         ...          ...   \n14648            1985.0    7.0     Comilla    Noakhali         Feni   \n14658            1987.0    3.0  Chittagong  Chittagong   Chittagong   \n14659            1986.0    3.0  Chittagong  Chittagong   Chittagong   \n19366               NaN    NaN  Chittagong  Chittagong   Chittagong   \n19367               NaN    NaN  Chittagong  Chittagong   Chittagong   \n\n        sub-division        lat        lon  EstimatedLoc condition_num  \n2      Narayanganj-1  23.705060  90.523214   interpolate             1  \n8          Vitikandi  23.685583  90.551208   interpolate             1  \n10         Vitikandi  23.685583  90.551208   interpolate             1  \n15         Vitikandi  23.649754  90.584549   interpolate             1  \n17         Vitikandi  23.628467  90.602302   interpolate             1  \n...              ...        ...        ...           ...           ...  \n14648         Feni-1  22.914965  91.526290   interpolate             2  \n14658      Sitakunda  22.481164  91.720363   interpolate             2  \n14659      Sitakunda  22.462439  91.728531   interpolate             2  \n19366      Sitakunda  22.481164  91.720363   interpolate             4  \n19367      Sitakunda  22.462439  91.728531   interpolate             4  \n\n[70 rows x 21 columns]",
      "text/html": "<div>\n<style scoped>\n    .dataframe tbody tr th:only-of-type {\n        vertical-align: middle;\n    }\n\n    .dataframe tbody tr th {\n        vertical-align: top;\n    }\n\n    .dataframe thead th {\n        text-align: right;\n    }\n</style>\n<table border=\"1\" class=\"dataframe\">\n  <thead>\n    <tr style=\"text-align: right;\">\n      <th></th>\n      <th>road</th>\n      <th>km</th>\n      <th>type</th>\n      <th>LRPName</th>\n      <th>name</th>\n      <th>length</th>\n      <th>condition</th>\n      <th>structureNr</th>\n      <th>roadName</th>\n      <th>chainage</th>\n      <th>...</th>\n      <th>constructionYear</th>\n      <th>spans</th>\n      <th>zone</th>\n      <th>circle</th>\n      <th>division</th>\n      <th>sub-division</th>\n      <th>lat</th>\n      <th>lon</th>\n      <th>EstimatedLoc</th>\n      <th>condition_num</th>\n    </tr>\n  </thead>\n  <tbody>\n    <tr>\n      <th>2</th>\n      <td>N1</td>\n      <td>8.976</td>\n      <td>PC Girder Bridge</td>\n      <td>LRP008b</td>\n      <td>Kanch pur Bridge.</td>\n      <td>394.23</td>\n      <td>A</td>\n      <td>119889</td>\n      <td>Dhaka (Jatrabari)-Comilla (Mainamati)-Chittago...</td>\n      <td>8.976</td>\n      <td>...</td>\n      <td>NaN</td>\n      <td>NaN</td>\n      <td>Dhaka</td>\n      <td>Dhaka</td>\n      <td>Narayanganj</td>\n      <td>Narayanganj-1</td>\n      <td>23.705060</td>\n      <td>90.523214</td>\n      <td>interpolate</td>\n      <td>1</td>\n    </tr>\n    <tr>\n      <th>8</th>\n      <td>N1</td>\n      <td>12.660</td>\n      <td>PC Girder Bridge</td>\n      <td>LRP013a</td>\n      <td>Madanpur Bridge.(L)</td>\n      <td>27.50</td>\n      <td>A</td>\n      <td>119897</td>\n      <td>Dhaka (Jatrabari)-Comilla (Mainamati)-Chittago...</td>\n      <td>12.660</td>\n      <td>...</td>\n      <td>NaN</td>\n      <td>NaN</td>\n      <td>Dhaka</td>\n      <td>Dhaka</td>\n      <td>Narayanganj</td>\n      <td>Vitikandi</td>\n      <td>23.685583</td>\n      <td>90.551208</td>\n      <td>interpolate</td>\n      <td>1</td>\n    </tr>\n    <tr>\n      <th>10</th>\n      <td>N1</td>\n      <td>12.660</td>\n      <td>PC Girder Bridge</td>\n      <td>LRP013a</td>\n      <td>MADANPUR BRIDGE(L)</td>\n      <td>26.30</td>\n      <td>A</td>\n      <td>109838</td>\n      <td>Dhaka (Jatrabari)-Comilla (Mainamati)-Chittago...</td>\n      <td>12.660</td>\n      <td>...</td>\n      <td>2003.0</td>\n      <td>1.0</td>\n      <td>Dhaka</td>\n      <td>Dhaka</td>\n      <td>Narayanganj</td>\n      <td>Vitikandi</td>\n      <td>23.685583</td>\n      <td>90.551208</td>\n      <td>interpolate</td>\n      <td>1</td>\n    </tr>\n    <tr>\n      <th>15</th>\n      <td>N1</td>\n      <td>18.093</td>\n      <td>PC Girder Bridge</td>\n      <td>LRP018c</td>\n      <td>Sonakhal Bridge(L)</td>\n      <td>25.50</td>\n      <td>A</td>\n      <td>119933</td>\n      <td>Dhaka (Jatrabari)-Comilla (Mainamati)-Chittago...</td>\n      <td>18.093</td>\n      <td>...</td>\n      <td>NaN</td>\n      <td>NaN</td>\n      <td>Dhaka</td>\n      <td>Dhaka</td>\n      <td>Narayanganj</td>\n      <td>Vitikandi</td>\n      <td>23.649754</td>\n      <td>90.584549</td>\n      <td>interpolate</td>\n      <td>1</td>\n    </tr>\n    <tr>\n      <th>17</th>\n      <td>N1</td>\n      <td>21.184</td>\n      <td>PC Girder Bridge</td>\n      <td>LRP021c</td>\n      <td>Marikhali Bridge(L)</td>\n      <td>86.92</td>\n      <td>A</td>\n      <td>119944</td>\n      <td>Dhaka (Jatrabari)-Comilla (Mainamati)-Chittago...</td>\n      <td>21.184</td>\n      <td>...</td>\n      <td>NaN</td>\n      <td>NaN</td>\n      <td>Dhaka</td>\n      <td>Dhaka</td>\n      <td>Narayanganj</td>\n      <td>Vitikandi</td>\n      <td>23.628467</td>\n      <td>90.602302</td>\n      <td>interpolate</td>\n      <td>1</td>\n    </tr>\n    <tr>\n      <th>...</th>\n      <td>...</td>\n      <td>...</td>\n      <td>...</td>\n      <td>...</td>\n      <td>...</td>\n      <td>...</td>\n      <td>...</td>\n      <td>...</td>\n      <td>...</td>\n      <td>...</td>\n      <td>...</td>\n      <td>...</td>\n      <td>...</td>\n      <td>...</td>\n      <td>...</td>\n      <td>...</td>\n      <td>...</td>\n      <td>...</td>\n      <td>...</td>\n      <td>...</td>\n      <td>...</td>\n    </tr>\n    <tr>\n      <th>14648</th>\n      <td>N1</td>\n      <td>165.183</td>\n      <td>PC Girder Bridge</td>\n      <td>LRP166a</td>\n      <td>DHOOM GHAT PC GIRDER</td>\n      <td>220.60</td>\n      <td>B</td>\n      <td>101258</td>\n      <td>Dhaka (Jatrabari)-Comilla (Mainamati)-Chittago...</td>\n      <td>165.183</td>\n      <td>...</td>\n      <td>1985.0</td>\n      <td>7.0</td>\n      <td>Comilla</td>\n      <td>Noakhali</td>\n      <td>Feni</td>\n      <td>Feni-1</td>\n      <td>22.914965</td>\n      <td>91.526290</td>\n      <td>interpolate</td>\n      <td>2</td>\n    </tr>\n    <tr>\n      <th>14658</th>\n      <td>N1</td>\n      <td>218.441</td>\n      <td>RCC Girder Bridge</td>\n      <td>LRP220b</td>\n      <td>MUDDO SONAISORI BRIDGE</td>\n      <td>23.20</td>\n      <td>B</td>\n      <td>100608</td>\n      <td>Dhaka (Jatrabari)-Comilla (Mainamati)-Chittago...</td>\n      <td>218.441</td>\n      <td>...</td>\n      <td>1987.0</td>\n      <td>3.0</td>\n      <td>Chittagong</td>\n      <td>Chittagong</td>\n      <td>Chittagong</td>\n      <td>Sitakunda</td>\n      <td>22.481164</td>\n      <td>91.720363</td>\n      <td>interpolate</td>\n      <td>2</td>\n    </tr>\n    <tr>\n      <th>14659</th>\n      <td>N1</td>\n      <td>220.725</td>\n      <td>RCC Girder Bridge</td>\n      <td>LRP223a</td>\n      <td>SHLAKHAR PAD BRIDGE</td>\n      <td>23.20</td>\n      <td>B</td>\n      <td>100611</td>\n      <td>Dhaka (Jatrabari)-Comilla (Mainamati)-Chittago...</td>\n      <td>220.725</td>\n      <td>...</td>\n      <td>1986.0</td>\n      <td>3.0</td>\n      <td>Chittagong</td>\n      <td>Chittagong</td>\n      <td>Chittagong</td>\n      <td>Sitakunda</td>\n      <td>22.462439</td>\n      <td>91.728531</td>\n      <td>interpolate</td>\n      <td>2</td>\n    </tr>\n    <tr>\n      <th>19366</th>\n      <td>N1</td>\n      <td>218.441</td>\n      <td>RCC Girder Bridge</td>\n      <td>LRP220b</td>\n      <td>Baro Aulia</td>\n      <td>24.33</td>\n      <td>D</td>\n      <td>121352</td>\n      <td>Dhaka (Jatrabari)-Comilla (Mainamati)-Chittago...</td>\n      <td>218.441</td>\n      <td>...</td>\n      <td>NaN</td>\n      <td>NaN</td>\n      <td>Chittagong</td>\n      <td>Chittagong</td>\n      <td>Chittagong</td>\n      <td>Sitakunda</td>\n      <td>22.481164</td>\n      <td>91.720363</td>\n      <td>interpolate</td>\n      <td>4</td>\n    </tr>\n    <tr>\n      <th>19367</th>\n      <td>N1</td>\n      <td>220.725</td>\n      <td>RCC Girder Bridge</td>\n      <td>LRP223a</td>\n      <td>Modonhat Bridge</td>\n      <td>24.32</td>\n      <td>D</td>\n      <td>121354</td>\n      <td>Dhaka (Jatrabari)-Comilla (Mainamati)-Chittago...</td>\n      <td>220.725</td>\n      <td>...</td>\n      <td>NaN</td>\n      <td>NaN</td>\n      <td>Chittagong</td>\n      <td>Chittagong</td>\n      <td>Chittagong</td>\n      <td>Sitakunda</td>\n      <td>22.462439</td>\n      <td>91.728531</td>\n      <td>interpolate</td>\n      <td>4</td>\n    </tr>\n  </tbody>\n</table>\n<p>70 rows × 21 columns</p>\n</div>"
     },
     "execution_count": 49,
     "metadata": {},
     "output_type": "execute_result"
    }
   ],
   "source": [
    "# Assuming duplicates_df is your DataFrame\n",
    "# Convert 'condition' to a numerical value for averaging\n",
    "condition_mapping = {'A': 1, 'B': 2, 'C': 3, 'D': 4, 'E': 5}\n",
    "duplicates_df['condition_num'] = duplicates_df['condition'].map(condition_mapping)\n",
    "duplicates_df"
   ],
   "metadata": {
    "collapsed": false,
    "ExecuteTime": {
     "end_time": "2024-02-28T12:38:46.604947Z",
     "start_time": "2024-02-28T12:38:46.542601200Z"
    }
   },
   "id": "c9be4495eec526f7"
  },
  {
   "cell_type": "code",
   "execution_count": 45,
   "outputs": [],
   "source": [
    "duplicates_df.sort_values(by='km', ascending=False, inplace=True)\n",
    "final_bmms = pd.DataFrame(columns = ['road', \"id\", 'model_type', 'name', 'length', 'condition', 'condition_num'])\n",
    "rows_to_add = []\n",
    "last_row = None\n",
    "count = 0\n",
    "sum_condition = 0\n",
    "for index, row in duplicates_df.iterrows():\n",
    "    if last_row is not None and last_row['km'] == row['km']:\n",
    "        count += 1\n",
    "        sum_condition += row['condition_num']\n",
    "    else:\n",
    "            rows_to_add.append({'road': last_row['road'], 'id': last_row['id'], 'model_type': last_row['model_type'],\n",
    "                            'name': last_row['name'], 'length': last_row['length'], 'condition': last_row['condition'], 'condition_num': sum_condition/count})\n",
    "           \n",
    "    "
   ],
   "metadata": {
    "collapsed": false,
    "ExecuteTime": {
     "end_time": "2024-02-28T12:23:04.523823200Z",
     "start_time": "2024-02-28T12:23:04.506832100Z"
    }
   },
   "id": "6e256c28b736e762"
  },
  {
   "cell_type": "markdown",
   "source": [],
   "metadata": {
    "collapsed": false
   },
   "id": "9a410a11b59a41bb"
  },
  {
   "cell_type": "code",
   "execution_count": 45,
   "outputs": [],
   "source": [],
   "metadata": {
    "collapsed": false,
    "ExecuteTime": {
     "end_time": "2024-02-28T12:23:04.660059900Z",
     "start_time": "2024-02-28T12:23:04.649918600Z"
    }
   },
   "id": "b20892e7104fb0ae"
  },
  {
   "cell_type": "code",
   "execution_count": null,
   "outputs": [],
   "source": [],
   "metadata": {
    "collapsed": false,
    "ExecuteTime": {
     "start_time": "2024-02-28T10:50:28.970186100Z"
    }
   },
   "id": "9549a1857a2d2571"
  },
  {
   "cell_type": "code",
   "execution_count": null,
   "outputs": [],
   "source": [],
   "metadata": {
    "collapsed": false,
    "ExecuteTime": {
     "start_time": "2024-02-28T10:50:28.972310Z"
    }
   },
   "id": "ce747128ed0d2285"
  },
  {
   "cell_type": "code",
   "execution_count": 9,
   "outputs": [],
   "source": [],
   "metadata": {
    "collapsed": false,
    "ExecuteTime": {
     "end_time": "2024-02-26T14:50:43.789684900Z",
     "start_time": "2024-02-26T14:50:43.521586100Z"
    }
   },
   "id": "e9128a36a8319e61"
  },
  {
   "cell_type": "code",
   "execution_count": null,
   "outputs": [],
   "source": [],
   "metadata": {
    "collapsed": false
   },
   "id": "8035a61ca594ce6d"
  }
 ],
 "metadata": {
  "kernelspec": {
   "display_name": "Python 3",
   "language": "python",
   "name": "python3"
  },
  "language_info": {
   "codemirror_mode": {
    "name": "ipython",
    "version": 2
   },
   "file_extension": ".py",
   "mimetype": "text/x-python",
   "name": "python",
   "nbconvert_exporter": "python",
   "pygments_lexer": "ipython2",
   "version": "2.7.6"
  }
 },
 "nbformat": 4,
 "nbformat_minor": 5
}
