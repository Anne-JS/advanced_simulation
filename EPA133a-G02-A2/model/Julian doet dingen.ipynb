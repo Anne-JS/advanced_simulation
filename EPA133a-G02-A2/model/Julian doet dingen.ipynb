{
 "cells": [
  {
   "cell_type": "code",
   "execution_count": 2,
   "id": "initial_id",
   "metadata": {
    "collapsed": true,
    "ExecuteTime": {
     "end_time": "2024-03-04T14:59:59.303250400Z",
     "start_time": "2024-03-04T14:59:59.292267300Z"
    }
   },
   "outputs": [],
   "source": [
    "import pandas as pd"
   ]
  },
  {
   "cell_type": "code",
   "outputs": [],
   "source": [
    "roads_test = pd.read_csv('../data/n1_model.csv')"
   ],
   "metadata": {
    "collapsed": false,
    "ExecuteTime": {
     "end_time": "2024-03-04T15:06:27.073925100Z",
     "start_time": "2024-03-04T15:06:27.052450300Z"
    }
   },
   "id": "99f65dead397b6b",
   "execution_count": 26
  },
  {
   "cell_type": "code",
   "outputs": [],
   "source": [
    "roads_test['lon'] = range(1, 386)\n",
    "roads_test['lat'] = range(1,386)\n",
    "\n",
    "roads_test.to_csv('../data/n1_test.csv', index=False)"
   ],
   "metadata": {
    "collapsed": false,
    "ExecuteTime": {
     "end_time": "2024-03-04T15:21:30.079247300Z",
     "start_time": "2024-03-04T15:21:29.967570500Z"
    }
   },
   "id": "837725c387ec20cc",
   "execution_count": 74
  }
 ],
 "metadata": {
  "kernelspec": {
   "display_name": "Python 3",
   "language": "python",
   "name": "python3"
  },
  "language_info": {
   "codemirror_mode": {
    "name": "ipython",
    "version": 2
   },
   "file_extension": ".py",
   "mimetype": "text/x-python",
   "name": "python",
   "nbconvert_exporter": "python",
   "pygments_lexer": "ipython2",
   "version": "2.7.6"
  }
 },
 "nbformat": 4,
 "nbformat_minor": 5
}
