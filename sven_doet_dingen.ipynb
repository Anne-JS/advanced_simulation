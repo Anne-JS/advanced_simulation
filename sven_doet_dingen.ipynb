{
 "cells": [
  {
   "cell_type": "code",
   "execution_count": 1,
   "id": "initial_id",
   "metadata": {
    "collapsed": true,
    "ExecuteTime": {
     "end_time": "2024-02-20T16:32:03.496321500Z",
     "start_time": "2024-02-20T16:32:02.850032800Z"
    }
   },
   "outputs": [],
   "source": [
    "import pandas as pd\n",
    "import Functions"
   ]
  },
  {
   "cell_type": "code",
   "execution_count": 2,
   "outputs": [
    {
     "name": "stderr",
     "output_type": "stream",
     "text": [
      "C:\\Users\\svenk\\Documents\\GitHub\\advanced_simulation\\Functions.py:199: FutureWarning: Series.__getitem__ treating keys as positions is deprecated. In a future version, integer keys will always be treated as labels (consistent with DataFrame behavior). To access a value by position, use `ser.iloc[pos]`\n",
      "  lsrp = row[i]\n",
      "C:\\Users\\svenk\\Documents\\GitHub\\advanced_simulation\\Functions.py:200: FutureWarning: Series.__getitem__ treating keys as positions is deprecated. In a future version, integer keys will always be treated as labels (consistent with DataFrame behavior). To access a value by position, use `ser.iloc[pos]`\n",
      "  lat = row[i + 1]\n",
      "C:\\Users\\svenk\\Documents\\GitHub\\advanced_simulation\\Functions.py:201: FutureWarning: Series.__getitem__ treating keys as positions is deprecated. In a future version, integer keys will always be treated as labels (consistent with DataFrame behavior). To access a value by position, use `ser.iloc[pos]`\n",
      "  lon = row[i + 2]\n",
      "C:\\Users\\svenk\\Documents\\GitHub\\advanced_simulation\\Functions.py:97: FutureWarning: Setting an item of incompatible dtype is deprecated and will raise in a future error of pandas. Value '[1076.58 1075.43]' has dtype incompatible with int64, please explicitly cast to a compatible dtype first.\n",
      "  df.loc[df['width'] > 45, df.select_dtypes(include=['number']).columns] = df.loc[df['width'] > 45, df.select_dtypes(include=['number']).columns] / 100\n"
     ]
    }
   ],
   "source": [
    "bmms, df_rds, df_road_ranges, df_rds_restructured = Functions.clean('BMMS_overview.xlsx', '_roads.tsv')"
   ],
   "metadata": {
    "collapsed": false,
    "ExecuteTime": {
     "end_time": "2024-02-20T16:33:28.640068600Z",
     "start_time": "2024-02-20T16:32:03.495319400Z"
    }
   },
   "id": "587e7b9785c2874f"
  },
  {
   "cell_type": "code",
   "execution_count": 4,
   "outputs": [
    {
     "data": {
      "text/plain": "        road      km                   type  LRPName  \\\n0         N1   1.800            Box Culvert  LRP001a   \n1         N1   4.925            Box Culvert  LRP004b   \n2         N1   8.976       PC Girder Bridge  LRP008b   \n3         N1   8.976       PC Girder Bridge  LRP008b   \n4         N1  10.543            Box Culvert  LRP010a   \n...      ...     ...                    ...      ...   \n21385  Z8948   0.640            Box Culvert    LRPSb   \n21386  Z8948   1.010            Box Culvert  LRP001a   \n21387  Z8948   2.070  Baily with Steel Deck  LRP002a   \n21388  Z8948   2.070  Steel Beam & RCC Slab  LRP002a   \n21389  Z8948   2.100  Steel Beam & RCC Slab  LRP002c   \n\n                            name  length condition  structureNr  \\\n0                              .   11.30         A     117861.0   \n1                              .    6.60         A     117862.0   \n2              Kanch pur Bridge.  394.23         A     119889.0   \n3      KANCHPUR PC GIRDER BRIDGE  397.00         C     101102.0   \n4           KATCHPUR BOX CULVERT    8.00         B     101106.0   \n...                          ...     ...       ...          ...   \n21385                          .    2.00         A     116833.0   \n21386                          .    2.00         A     116834.0   \n21387                        NaN   27.36         A     119862.0   \n21388                          .   18.50         A     116835.0   \n21389                          .   18.50         A     116836.0   \n\n                                                roadName chainage  width  \\\n0      Dhaka (Jatrabari)-Comilla (Mainamati)-Chittago...      1.8  19.50   \n1      Dhaka (Jatrabari)-Comilla (Mainamati)-Chittago...    4.925  35.40   \n2      Dhaka (Jatrabari)-Comilla (Mainamati)-Chittago...    8.976    NaN   \n3      Dhaka (Jatrabari)-Comilla (Mainamati)-Chittago...    8.976  14.65   \n4      Dhaka (Jatrabari)-Comilla (Mainamati)-Chittago...   10.543  21.70   \n...                                                  ...      ...    ...   \n21385                           Fakirhat-Khasherhat Road     0.64  10.00   \n21386                           Fakirhat-Khasherhat Road     1.01   9.70   \n21387                           Fakirhat-Khasherhat Road     2.07    NaN   \n21388                           Fakirhat-Khasherhat Road     2.07   3.00   \n21389                           Fakirhat-Khasherhat Road      2.1   3.00   \n\n       constructionYear  spans     zone   circle     division   sub-division  \\\n0                2005.0    2.0    Dhaka    Dhaka  Narayanganj  Narayanganj-1   \n1                2006.0    1.0    Dhaka    Dhaka  Narayanganj  Narayanganj-1   \n2                   NaN    NaN    Dhaka    Dhaka  Narayanganj  Narayanganj-1   \n3                1986.0    8.0    Dhaka    Dhaka  Narayanganj  Narayanganj-1   \n4                1987.0    2.0    Dhaka    Dhaka  Narayanganj      Vitikandi   \n...                 ...    ...      ...      ...          ...            ...   \n21385            1998.0    1.0  Barisal  Barisal        Bhola          Bhola   \n21386            1995.0    1.0  Barisal  Barisal        Bhola          Bhola   \n21387               NaN    NaN  Barisal  Barisal        Bhola          Bhola   \n21388            1994.0    3.0  Barisal  Barisal        Bhola          Bhola   \n21389            1990.0    3.0  Barisal  Barisal        Bhola          Bhola   \n\n             lat        lon  EstimatedLoc  \n0      23.702889  90.450389          bcs1  \n1      23.693611  90.478833          bcs1  \n2      23.704583  90.518833  road_precise  \n3      23.702083  90.515917          bcs1  \n4      23.702056  90.528194          bcs1  \n...          ...        ...           ...  \n21385  22.422778  90.787222          bcs1  \n21386  22.419167  90.787500          bcs1  \n21387        NaN        NaN          bcs1  \n21388  22.414167  90.791667          bcs1  \n21389  22.414167  90.791944          bcs1  \n\n[21390 rows x 20 columns]",
      "text/html": "<div>\n<style scoped>\n    .dataframe tbody tr th:only-of-type {\n        vertical-align: middle;\n    }\n\n    .dataframe tbody tr th {\n        vertical-align: top;\n    }\n\n    .dataframe thead th {\n        text-align: right;\n    }\n</style>\n<table border=\"1\" class=\"dataframe\">\n  <thead>\n    <tr style=\"text-align: right;\">\n      <th></th>\n      <th>road</th>\n      <th>km</th>\n      <th>type</th>\n      <th>LRPName</th>\n      <th>name</th>\n      <th>length</th>\n      <th>condition</th>\n      <th>structureNr</th>\n      <th>roadName</th>\n      <th>chainage</th>\n      <th>width</th>\n      <th>constructionYear</th>\n      <th>spans</th>\n      <th>zone</th>\n      <th>circle</th>\n      <th>division</th>\n      <th>sub-division</th>\n      <th>lat</th>\n      <th>lon</th>\n      <th>EstimatedLoc</th>\n    </tr>\n  </thead>\n  <tbody>\n    <tr>\n      <th>0</th>\n      <td>N1</td>\n      <td>1.800</td>\n      <td>Box Culvert</td>\n      <td>LRP001a</td>\n      <td>.</td>\n      <td>11.30</td>\n      <td>A</td>\n      <td>117861.0</td>\n      <td>Dhaka (Jatrabari)-Comilla (Mainamati)-Chittago...</td>\n      <td>1.8</td>\n      <td>19.50</td>\n      <td>2005.0</td>\n      <td>2.0</td>\n      <td>Dhaka</td>\n      <td>Dhaka</td>\n      <td>Narayanganj</td>\n      <td>Narayanganj-1</td>\n      <td>23.702889</td>\n      <td>90.450389</td>\n      <td>bcs1</td>\n    </tr>\n    <tr>\n      <th>1</th>\n      <td>N1</td>\n      <td>4.925</td>\n      <td>Box Culvert</td>\n      <td>LRP004b</td>\n      <td>.</td>\n      <td>6.60</td>\n      <td>A</td>\n      <td>117862.0</td>\n      <td>Dhaka (Jatrabari)-Comilla (Mainamati)-Chittago...</td>\n      <td>4.925</td>\n      <td>35.40</td>\n      <td>2006.0</td>\n      <td>1.0</td>\n      <td>Dhaka</td>\n      <td>Dhaka</td>\n      <td>Narayanganj</td>\n      <td>Narayanganj-1</td>\n      <td>23.693611</td>\n      <td>90.478833</td>\n      <td>bcs1</td>\n    </tr>\n    <tr>\n      <th>2</th>\n      <td>N1</td>\n      <td>8.976</td>\n      <td>PC Girder Bridge</td>\n      <td>LRP008b</td>\n      <td>Kanch pur Bridge.</td>\n      <td>394.23</td>\n      <td>A</td>\n      <td>119889.0</td>\n      <td>Dhaka (Jatrabari)-Comilla (Mainamati)-Chittago...</td>\n      <td>8.976</td>\n      <td>NaN</td>\n      <td>NaN</td>\n      <td>NaN</td>\n      <td>Dhaka</td>\n      <td>Dhaka</td>\n      <td>Narayanganj</td>\n      <td>Narayanganj-1</td>\n      <td>23.704583</td>\n      <td>90.518833</td>\n      <td>road_precise</td>\n    </tr>\n    <tr>\n      <th>3</th>\n      <td>N1</td>\n      <td>8.976</td>\n      <td>PC Girder Bridge</td>\n      <td>LRP008b</td>\n      <td>KANCHPUR PC GIRDER BRIDGE</td>\n      <td>397.00</td>\n      <td>C</td>\n      <td>101102.0</td>\n      <td>Dhaka (Jatrabari)-Comilla (Mainamati)-Chittago...</td>\n      <td>8.976</td>\n      <td>14.65</td>\n      <td>1986.0</td>\n      <td>8.0</td>\n      <td>Dhaka</td>\n      <td>Dhaka</td>\n      <td>Narayanganj</td>\n      <td>Narayanganj-1</td>\n      <td>23.702083</td>\n      <td>90.515917</td>\n      <td>bcs1</td>\n    </tr>\n    <tr>\n      <th>4</th>\n      <td>N1</td>\n      <td>10.543</td>\n      <td>Box Culvert</td>\n      <td>LRP010a</td>\n      <td>KATCHPUR BOX CULVERT</td>\n      <td>8.00</td>\n      <td>B</td>\n      <td>101106.0</td>\n      <td>Dhaka (Jatrabari)-Comilla (Mainamati)-Chittago...</td>\n      <td>10.543</td>\n      <td>21.70</td>\n      <td>1987.0</td>\n      <td>2.0</td>\n      <td>Dhaka</td>\n      <td>Dhaka</td>\n      <td>Narayanganj</td>\n      <td>Vitikandi</td>\n      <td>23.702056</td>\n      <td>90.528194</td>\n      <td>bcs1</td>\n    </tr>\n    <tr>\n      <th>...</th>\n      <td>...</td>\n      <td>...</td>\n      <td>...</td>\n      <td>...</td>\n      <td>...</td>\n      <td>...</td>\n      <td>...</td>\n      <td>...</td>\n      <td>...</td>\n      <td>...</td>\n      <td>...</td>\n      <td>...</td>\n      <td>...</td>\n      <td>...</td>\n      <td>...</td>\n      <td>...</td>\n      <td>...</td>\n      <td>...</td>\n      <td>...</td>\n      <td>...</td>\n    </tr>\n    <tr>\n      <th>21385</th>\n      <td>Z8948</td>\n      <td>0.640</td>\n      <td>Box Culvert</td>\n      <td>LRPSb</td>\n      <td>.</td>\n      <td>2.00</td>\n      <td>A</td>\n      <td>116833.0</td>\n      <td>Fakirhat-Khasherhat Road</td>\n      <td>0.64</td>\n      <td>10.00</td>\n      <td>1998.0</td>\n      <td>1.0</td>\n      <td>Barisal</td>\n      <td>Barisal</td>\n      <td>Bhola</td>\n      <td>Bhola</td>\n      <td>22.422778</td>\n      <td>90.787222</td>\n      <td>bcs1</td>\n    </tr>\n    <tr>\n      <th>21386</th>\n      <td>Z8948</td>\n      <td>1.010</td>\n      <td>Box Culvert</td>\n      <td>LRP001a</td>\n      <td>.</td>\n      <td>2.00</td>\n      <td>A</td>\n      <td>116834.0</td>\n      <td>Fakirhat-Khasherhat Road</td>\n      <td>1.01</td>\n      <td>9.70</td>\n      <td>1995.0</td>\n      <td>1.0</td>\n      <td>Barisal</td>\n      <td>Barisal</td>\n      <td>Bhola</td>\n      <td>Bhola</td>\n      <td>22.419167</td>\n      <td>90.787500</td>\n      <td>bcs1</td>\n    </tr>\n    <tr>\n      <th>21387</th>\n      <td>Z8948</td>\n      <td>2.070</td>\n      <td>Baily with Steel Deck</td>\n      <td>LRP002a</td>\n      <td>NaN</td>\n      <td>27.36</td>\n      <td>A</td>\n      <td>119862.0</td>\n      <td>Fakirhat-Khasherhat Road</td>\n      <td>2.07</td>\n      <td>NaN</td>\n      <td>NaN</td>\n      <td>NaN</td>\n      <td>Barisal</td>\n      <td>Barisal</td>\n      <td>Bhola</td>\n      <td>Bhola</td>\n      <td>NaN</td>\n      <td>NaN</td>\n      <td>bcs1</td>\n    </tr>\n    <tr>\n      <th>21388</th>\n      <td>Z8948</td>\n      <td>2.070</td>\n      <td>Steel Beam &amp; RCC Slab</td>\n      <td>LRP002a</td>\n      <td>.</td>\n      <td>18.50</td>\n      <td>A</td>\n      <td>116835.0</td>\n      <td>Fakirhat-Khasherhat Road</td>\n      <td>2.07</td>\n      <td>3.00</td>\n      <td>1994.0</td>\n      <td>3.0</td>\n      <td>Barisal</td>\n      <td>Barisal</td>\n      <td>Bhola</td>\n      <td>Bhola</td>\n      <td>22.414167</td>\n      <td>90.791667</td>\n      <td>bcs1</td>\n    </tr>\n    <tr>\n      <th>21389</th>\n      <td>Z8948</td>\n      <td>2.100</td>\n      <td>Steel Beam &amp; RCC Slab</td>\n      <td>LRP002c</td>\n      <td>.</td>\n      <td>18.50</td>\n      <td>A</td>\n      <td>116836.0</td>\n      <td>Fakirhat-Khasherhat Road</td>\n      <td>2.1</td>\n      <td>3.00</td>\n      <td>1990.0</td>\n      <td>3.0</td>\n      <td>Barisal</td>\n      <td>Barisal</td>\n      <td>Bhola</td>\n      <td>Bhola</td>\n      <td>22.414167</td>\n      <td>90.791944</td>\n      <td>bcs1</td>\n    </tr>\n  </tbody>\n</table>\n<p>21390 rows × 20 columns</p>\n</div>"
     },
     "execution_count": 4,
     "metadata": {},
     "output_type": "execute_result"
    }
   ],
   "source": [
    "bmms"
   ],
   "metadata": {
    "collapsed": false,
    "ExecuteTime": {
     "end_time": "2024-02-20T16:33:45.020023200Z",
     "start_time": "2024-02-20T16:33:44.993741700Z"
    }
   },
   "id": "a9361bdc4bf2e708"
  },
  {
   "cell_type": "code",
   "execution_count": 5,
   "outputs": [
    {
     "data": {
      "text/plain": "        road     km                    type LRPName  \\\n10105  Z1124  0.285  Truss With Timber Deck   LRPSa   \n10106  Z1124  0.290  Baily with Timber Deck   LRPSa   \n\n                                name  length condition  structureNr  \\\n10105  Aziz Nagar Dokhin Para Bridge    21.4         D     121679.0   \n10106                              .    21.4         C     117761.0   \n\n                                roadName chainage  width  constructionYear  \\\n10105  Harbang-Villagerpara-Toitong Road    0.285    NaN               NaN   \n10106  Harbang-Villagerpara-Toitong Road     0.29    4.9            1960.0   \n\n       spans        zone      circle     division sub-division        lat  \\\n10105    NaN  Chittagong  Chittagong  Cox's Bazar     Chakoria  21.846472   \n10106    1.0  Chittagong  Chittagong  Cox's Bazar     Chakoria  21.895667   \n\n             lon  EstimatedLoc  \n10105  92.059556  road_precise  \n10106  92.059556          bcs1  ",
      "text/html": "<div>\n<style scoped>\n    .dataframe tbody tr th:only-of-type {\n        vertical-align: middle;\n    }\n\n    .dataframe tbody tr th {\n        vertical-align: top;\n    }\n\n    .dataframe thead th {\n        text-align: right;\n    }\n</style>\n<table border=\"1\" class=\"dataframe\">\n  <thead>\n    <tr style=\"text-align: right;\">\n      <th></th>\n      <th>road</th>\n      <th>km</th>\n      <th>type</th>\n      <th>LRPName</th>\n      <th>name</th>\n      <th>length</th>\n      <th>condition</th>\n      <th>structureNr</th>\n      <th>roadName</th>\n      <th>chainage</th>\n      <th>width</th>\n      <th>constructionYear</th>\n      <th>spans</th>\n      <th>zone</th>\n      <th>circle</th>\n      <th>division</th>\n      <th>sub-division</th>\n      <th>lat</th>\n      <th>lon</th>\n      <th>EstimatedLoc</th>\n    </tr>\n  </thead>\n  <tbody>\n    <tr>\n      <th>10105</th>\n      <td>Z1124</td>\n      <td>0.285</td>\n      <td>Truss With Timber Deck</td>\n      <td>LRPSa</td>\n      <td>Aziz Nagar Dokhin Para Bridge</td>\n      <td>21.4</td>\n      <td>D</td>\n      <td>121679.0</td>\n      <td>Harbang-Villagerpara-Toitong Road</td>\n      <td>0.285</td>\n      <td>NaN</td>\n      <td>NaN</td>\n      <td>NaN</td>\n      <td>Chittagong</td>\n      <td>Chittagong</td>\n      <td>Cox's Bazar</td>\n      <td>Chakoria</td>\n      <td>21.846472</td>\n      <td>92.059556</td>\n      <td>road_precise</td>\n    </tr>\n    <tr>\n      <th>10106</th>\n      <td>Z1124</td>\n      <td>0.290</td>\n      <td>Baily with Timber Deck</td>\n      <td>LRPSa</td>\n      <td>.</td>\n      <td>21.4</td>\n      <td>C</td>\n      <td>117761.0</td>\n      <td>Harbang-Villagerpara-Toitong Road</td>\n      <td>0.29</td>\n      <td>4.9</td>\n      <td>1960.0</td>\n      <td>1.0</td>\n      <td>Chittagong</td>\n      <td>Chittagong</td>\n      <td>Cox's Bazar</td>\n      <td>Chakoria</td>\n      <td>21.895667</td>\n      <td>92.059556</td>\n      <td>bcs1</td>\n    </tr>\n  </tbody>\n</table>\n</div>"
     },
     "execution_count": 5,
     "metadata": {},
     "output_type": "execute_result"
    }
   ],
   "source": [
    "bmms[bmms['road'] == 'Z1124']"
   ],
   "metadata": {
    "collapsed": false,
    "ExecuteTime": {
     "end_time": "2024-02-20T16:33:46.822335400Z",
     "start_time": "2024-02-20T16:33:46.805138100Z"
    }
   },
   "id": "7b38da093a9d32af"
  },
  {
   "cell_type": "code",
   "execution_count": null,
   "outputs": [],
   "source": [
    "df_road_ranges"
   ],
   "metadata": {
    "collapsed": false,
    "ExecuteTime": {
     "start_time": "2024-02-20T16:13:31.547808600Z"
    }
   },
   "id": "921e4746b6f3e8cd"
  },
  {
   "cell_type": "code",
   "execution_count": 6,
   "outputs": [],
   "source": [
    "bmms.to_excel('BMMS_overview_new.xlsx')\n",
    "df_rds.to_csv('_roads_new.tsv', sep='\\t', index=False)"
   ],
   "metadata": {
    "collapsed": false,
    "ExecuteTime": {
     "end_time": "2024-02-19T15:22:05.321885100Z",
     "start_time": "2024-02-19T15:21:58.105815400Z"
    }
   },
   "id": "fa8047e19ed3e019"
  },
  {
   "cell_type": "code",
   "execution_count": 6,
   "outputs": [
    {
     "data": {
      "text/plain": "        road     km                   type  LRPName                 name  \\\n20452  Z8203  0.193  Baily with Steel Deck    LRPSa        Hasara Bridge   \n20453  Z8203  0.193  Baily with Steel Deck    LRPSa        CHOWDURE PARA   \n20454  Z8203  1.192  Baily with Steel Deck  LRP001a        HASHARA(EAST)   \n20455  Z8203  1.749  Baily with Steel Deck  LRP001c   SHADGONBAILY BRIGE   \n20456  Z8203  2.573  Baily with Steel Deck  LRP002a  BUCHID BAILY BRIDGE   \n20457  Z8203  3.492  Baily with Steel Deck  LRP003a    KATHAL BARI BAILY   \n20458  Z8203  3.930  Baily with Steel Deck  LRP003c        BIRTRA BRIDGE   \n20459  Z8203  4.717  Baily with Steel Deck  LRP004a               TINGOW   \n20460  Z8203  5.665  Baily with Steel Deck  LRP005a      BALETOLA BRIDGE   \n\n       length condition  structureNr  \\\n20452   24.60         B     120357.0   \n20453   24.30         D     107282.0   \n20454   24.20         D     107289.0   \n20455   27.30         D     107293.0   \n20456   24.35         B     107304.0   \n20457   36.30         B     107315.0   \n20458   30.00         B     107326.0   \n20459   18.30         B     107337.0   \n20460   36.50         B     107345.0   \n\n                                                roadName chainage  width  \\\n20452  Keraniganj (Sayedpur)-Hashara-Birtara-Singpara...    0.193    NaN   \n20453  Keraniganj (Sayedpur)-Hashara-Birtara-Singpara...    0.193   3.50   \n20454  Keraniganj (Sayedpur)-Hashara-Birtara-Singpara...    1.192   3.50   \n20455  Keraniganj (Sayedpur)-Hashara-Birtara-Singpara...    1.749   3.50   \n20456  Keraniganj (Sayedpur)-Hashara-Birtara-Singpara...    2.573   3.50   \n20457  Keraniganj (Sayedpur)-Hashara-Birtara-Singpara...    3.492   3.45   \n20458  Keraniganj (Sayedpur)-Hashara-Birtara-Singpara...     3.93   4.05   \n20459  Keraniganj (Sayedpur)-Hashara-Birtara-Singpara...    4.717   3.60   \n20460  Keraniganj (Sayedpur)-Hashara-Birtara-Singpara...    5.665   3.45   \n\n       constructionYear  spans   zone circle    division sub-division  \\\n20452               NaN    NaN  Dhaka  Dhaka  Munshiganj   Keraniganj   \n20453            1994.0    1.0  Dhaka  Dhaka  Munshiganj   Keraniganj   \n20454            1994.0    1.0  Dhaka  Dhaka  Munshiganj   Keraniganj   \n20455            1998.0    1.0  Dhaka  Dhaka  Munshiganj   Keraniganj   \n20456            1994.0    1.0  Dhaka  Dhaka  Munshiganj   Keraniganj   \n20457            1993.0    1.0  Dhaka  Dhaka  Munshiganj   Keraniganj   \n20458            1993.0    1.0  Dhaka  Dhaka  Munshiganj   Keraniganj   \n20459            1993.0    1.0  Dhaka  Dhaka  Munshiganj   Keraniganj   \n20460            1997.0    1.0  Dhaka  Dhaka  Munshiganj   Keraniganj   \n\n             lat        lon      EstimatedLoc  \n20452  23.589389  90.318611  road_interpolate  \n20453  72.877077  19.098529              bcs1  \n20454  23.588083  90.318583              bcs1  \n20455  23.583111  90.319694              bcs1  \n20456  23.576056  90.321889              bcs1  \n20457  23.568194  90.324333              bcs1  \n20458  23.581194  90.326028              bcs1  \n20459  23.557806  90.328083              bcs1  \n20460  23.549917  90.331250              bcs1  ",
      "text/html": "<div>\n<style scoped>\n    .dataframe tbody tr th:only-of-type {\n        vertical-align: middle;\n    }\n\n    .dataframe tbody tr th {\n        vertical-align: top;\n    }\n\n    .dataframe thead th {\n        text-align: right;\n    }\n</style>\n<table border=\"1\" class=\"dataframe\">\n  <thead>\n    <tr style=\"text-align: right;\">\n      <th></th>\n      <th>road</th>\n      <th>km</th>\n      <th>type</th>\n      <th>LRPName</th>\n      <th>name</th>\n      <th>length</th>\n      <th>condition</th>\n      <th>structureNr</th>\n      <th>roadName</th>\n      <th>chainage</th>\n      <th>width</th>\n      <th>constructionYear</th>\n      <th>spans</th>\n      <th>zone</th>\n      <th>circle</th>\n      <th>division</th>\n      <th>sub-division</th>\n      <th>lat</th>\n      <th>lon</th>\n      <th>EstimatedLoc</th>\n    </tr>\n  </thead>\n  <tbody>\n    <tr>\n      <th>20452</th>\n      <td>Z8203</td>\n      <td>0.193</td>\n      <td>Baily with Steel Deck</td>\n      <td>LRPSa</td>\n      <td>Hasara Bridge</td>\n      <td>24.60</td>\n      <td>B</td>\n      <td>120357.0</td>\n      <td>Keraniganj (Sayedpur)-Hashara-Birtara-Singpara...</td>\n      <td>0.193</td>\n      <td>NaN</td>\n      <td>NaN</td>\n      <td>NaN</td>\n      <td>Dhaka</td>\n      <td>Dhaka</td>\n      <td>Munshiganj</td>\n      <td>Keraniganj</td>\n      <td>23.589389</td>\n      <td>90.318611</td>\n      <td>road_interpolate</td>\n    </tr>\n    <tr>\n      <th>20453</th>\n      <td>Z8203</td>\n      <td>0.193</td>\n      <td>Baily with Steel Deck</td>\n      <td>LRPSa</td>\n      <td>CHOWDURE PARA</td>\n      <td>24.30</td>\n      <td>D</td>\n      <td>107282.0</td>\n      <td>Keraniganj (Sayedpur)-Hashara-Birtara-Singpara...</td>\n      <td>0.193</td>\n      <td>3.50</td>\n      <td>1994.0</td>\n      <td>1.0</td>\n      <td>Dhaka</td>\n      <td>Dhaka</td>\n      <td>Munshiganj</td>\n      <td>Keraniganj</td>\n      <td>72.877077</td>\n      <td>19.098529</td>\n      <td>bcs1</td>\n    </tr>\n    <tr>\n      <th>20454</th>\n      <td>Z8203</td>\n      <td>1.192</td>\n      <td>Baily with Steel Deck</td>\n      <td>LRP001a</td>\n      <td>HASHARA(EAST)</td>\n      <td>24.20</td>\n      <td>D</td>\n      <td>107289.0</td>\n      <td>Keraniganj (Sayedpur)-Hashara-Birtara-Singpara...</td>\n      <td>1.192</td>\n      <td>3.50</td>\n      <td>1994.0</td>\n      <td>1.0</td>\n      <td>Dhaka</td>\n      <td>Dhaka</td>\n      <td>Munshiganj</td>\n      <td>Keraniganj</td>\n      <td>23.588083</td>\n      <td>90.318583</td>\n      <td>bcs1</td>\n    </tr>\n    <tr>\n      <th>20455</th>\n      <td>Z8203</td>\n      <td>1.749</td>\n      <td>Baily with Steel Deck</td>\n      <td>LRP001c</td>\n      <td>SHADGONBAILY BRIGE</td>\n      <td>27.30</td>\n      <td>D</td>\n      <td>107293.0</td>\n      <td>Keraniganj (Sayedpur)-Hashara-Birtara-Singpara...</td>\n      <td>1.749</td>\n      <td>3.50</td>\n      <td>1998.0</td>\n      <td>1.0</td>\n      <td>Dhaka</td>\n      <td>Dhaka</td>\n      <td>Munshiganj</td>\n      <td>Keraniganj</td>\n      <td>23.583111</td>\n      <td>90.319694</td>\n      <td>bcs1</td>\n    </tr>\n    <tr>\n      <th>20456</th>\n      <td>Z8203</td>\n      <td>2.573</td>\n      <td>Baily with Steel Deck</td>\n      <td>LRP002a</td>\n      <td>BUCHID BAILY BRIDGE</td>\n      <td>24.35</td>\n      <td>B</td>\n      <td>107304.0</td>\n      <td>Keraniganj (Sayedpur)-Hashara-Birtara-Singpara...</td>\n      <td>2.573</td>\n      <td>3.50</td>\n      <td>1994.0</td>\n      <td>1.0</td>\n      <td>Dhaka</td>\n      <td>Dhaka</td>\n      <td>Munshiganj</td>\n      <td>Keraniganj</td>\n      <td>23.576056</td>\n      <td>90.321889</td>\n      <td>bcs1</td>\n    </tr>\n    <tr>\n      <th>20457</th>\n      <td>Z8203</td>\n      <td>3.492</td>\n      <td>Baily with Steel Deck</td>\n      <td>LRP003a</td>\n      <td>KATHAL BARI BAILY</td>\n      <td>36.30</td>\n      <td>B</td>\n      <td>107315.0</td>\n      <td>Keraniganj (Sayedpur)-Hashara-Birtara-Singpara...</td>\n      <td>3.492</td>\n      <td>3.45</td>\n      <td>1993.0</td>\n      <td>1.0</td>\n      <td>Dhaka</td>\n      <td>Dhaka</td>\n      <td>Munshiganj</td>\n      <td>Keraniganj</td>\n      <td>23.568194</td>\n      <td>90.324333</td>\n      <td>bcs1</td>\n    </tr>\n    <tr>\n      <th>20458</th>\n      <td>Z8203</td>\n      <td>3.930</td>\n      <td>Baily with Steel Deck</td>\n      <td>LRP003c</td>\n      <td>BIRTRA BRIDGE</td>\n      <td>30.00</td>\n      <td>B</td>\n      <td>107326.0</td>\n      <td>Keraniganj (Sayedpur)-Hashara-Birtara-Singpara...</td>\n      <td>3.93</td>\n      <td>4.05</td>\n      <td>1993.0</td>\n      <td>1.0</td>\n      <td>Dhaka</td>\n      <td>Dhaka</td>\n      <td>Munshiganj</td>\n      <td>Keraniganj</td>\n      <td>23.581194</td>\n      <td>90.326028</td>\n      <td>bcs1</td>\n    </tr>\n    <tr>\n      <th>20459</th>\n      <td>Z8203</td>\n      <td>4.717</td>\n      <td>Baily with Steel Deck</td>\n      <td>LRP004a</td>\n      <td>TINGOW</td>\n      <td>18.30</td>\n      <td>B</td>\n      <td>107337.0</td>\n      <td>Keraniganj (Sayedpur)-Hashara-Birtara-Singpara...</td>\n      <td>4.717</td>\n      <td>3.60</td>\n      <td>1993.0</td>\n      <td>1.0</td>\n      <td>Dhaka</td>\n      <td>Dhaka</td>\n      <td>Munshiganj</td>\n      <td>Keraniganj</td>\n      <td>23.557806</td>\n      <td>90.328083</td>\n      <td>bcs1</td>\n    </tr>\n    <tr>\n      <th>20460</th>\n      <td>Z8203</td>\n      <td>5.665</td>\n      <td>Baily with Steel Deck</td>\n      <td>LRP005a</td>\n      <td>BALETOLA BRIDGE</td>\n      <td>36.50</td>\n      <td>B</td>\n      <td>107345.0</td>\n      <td>Keraniganj (Sayedpur)-Hashara-Birtara-Singpara...</td>\n      <td>5.665</td>\n      <td>3.45</td>\n      <td>1997.0</td>\n      <td>1.0</td>\n      <td>Dhaka</td>\n      <td>Dhaka</td>\n      <td>Munshiganj</td>\n      <td>Keraniganj</td>\n      <td>23.549917</td>\n      <td>90.331250</td>\n      <td>bcs1</td>\n    </tr>\n  </tbody>\n</table>\n</div>"
     },
     "execution_count": 6,
     "metadata": {},
     "output_type": "execute_result"
    }
   ],
   "source": [
    "bmms[bmms['road'] == 'Z8203']"
   ],
   "metadata": {
    "collapsed": false,
    "ExecuteTime": {
     "end_time": "2024-02-20T16:33:57.397720300Z",
     "start_time": "2024-02-20T16:33:57.375097900Z"
    }
   },
   "id": "9534b8bbb5fe9559"
  },
  {
   "cell_type": "code",
   "execution_count": 8,
   "outputs": [
    {
     "data": {
      "text/plain": "      road    min_lat    max_lat    min_lon    max_lon\n822  Z8203  23.531888  23.666083  90.306167  90.339555",
      "text/html": "<div>\n<style scoped>\n    .dataframe tbody tr th:only-of-type {\n        vertical-align: middle;\n    }\n\n    .dataframe tbody tr th {\n        vertical-align: top;\n    }\n\n    .dataframe thead th {\n        text-align: right;\n    }\n</style>\n<table border=\"1\" class=\"dataframe\">\n  <thead>\n    <tr style=\"text-align: right;\">\n      <th></th>\n      <th>road</th>\n      <th>min_lat</th>\n      <th>max_lat</th>\n      <th>min_lon</th>\n      <th>max_lon</th>\n    </tr>\n  </thead>\n  <tbody>\n    <tr>\n      <th>822</th>\n      <td>Z8203</td>\n      <td>23.531888</td>\n      <td>23.666083</td>\n      <td>90.306167</td>\n      <td>90.339555</td>\n    </tr>\n  </tbody>\n</table>\n</div>"
     },
     "execution_count": 8,
     "metadata": {},
     "output_type": "execute_result"
    }
   ],
   "source": [
    "df_road_ranges[df_road_ranges['road'] == 'Z8203']"
   ],
   "metadata": {
    "collapsed": false,
    "ExecuteTime": {
     "end_time": "2024-02-19T15:22:05.364675Z",
     "start_time": "2024-02-19T15:22:05.347567500Z"
    }
   },
   "id": "494365bd7bb85c3d"
  },
  {
   "cell_type": "code",
   "execution_count": 8,
   "outputs": [],
   "source": [],
   "metadata": {
    "collapsed": false,
    "ExecuteTime": {
     "end_time": "2024-02-19T15:22:05.365675300Z",
     "start_time": "2024-02-19T15:22:05.358145800Z"
    }
   },
   "id": "6f3840321d8766c4"
  },
  {
   "cell_type": "code",
   "execution_count": 8,
   "outputs": [],
   "source": [],
   "metadata": {
    "collapsed": false,
    "ExecuteTime": {
     "end_time": "2024-02-19T15:05:23.245565500Z",
     "start_time": "2024-02-19T15:05:23.189457400Z"
    }
   },
   "id": "b2127a6e63d884bd"
  },
  {
   "cell_type": "code",
   "execution_count": 8,
   "outputs": [],
   "source": [],
   "metadata": {
    "collapsed": false,
    "ExecuteTime": {
     "end_time": "2024-02-19T15:05:23.246650500Z",
     "start_time": "2024-02-19T15:05:23.193428300Z"
    }
   },
   "id": "a13d7c1b2cce8b2f"
  },
  {
   "cell_type": "code",
   "execution_count": null,
   "outputs": [],
   "source": [],
   "metadata": {
    "collapsed": false
   },
   "id": "3d3d92bfc2e23f08"
  }
 ],
 "metadata": {
  "kernelspec": {
   "display_name": "Python 3",
   "language": "python",
   "name": "python3"
  },
  "language_info": {
   "codemirror_mode": {
    "name": "ipython",
    "version": 2
   },
   "file_extension": ".py",
   "mimetype": "text/x-python",
   "name": "python",
   "nbconvert_exporter": "python",
   "pygments_lexer": "ipython2",
   "version": "2.7.6"
  }
 },
 "nbformat": 4,
 "nbformat_minor": 5
}
