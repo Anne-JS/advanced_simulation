{
 "cells": [
  {
   "cell_type": "code",
   "execution_count": 1,
   "id": "initial_id",
   "metadata": {
    "collapsed": true,
    "ExecuteTime": {
     "end_time": "2024-02-19T14:43:14.357371300Z",
     "start_time": "2024-02-19T14:43:13.466556100Z"
    }
   },
   "outputs": [],
   "source": [
    "import pandas as pd\n",
    "import Functions"
   ]
  },
  {
   "cell_type": "code",
   "execution_count": 2,
   "outputs": [
    {
     "name": "stderr",
     "output_type": "stream",
     "text": [
      "C:\\Users\\svenk\\Documents\\GitHub\\advanced_simulation\\Functions.py:117: FutureWarning: Series.__getitem__ treating keys as positions is deprecated. In a future version, integer keys will always be treated as labels (consistent with DataFrame behavior). To access a value by position, use `ser.iloc[pos]`\n",
      "  lsrp = row[i]\n",
      "C:\\Users\\svenk\\Documents\\GitHub\\advanced_simulation\\Functions.py:118: FutureWarning: Series.__getitem__ treating keys as positions is deprecated. In a future version, integer keys will always be treated as labels (consistent with DataFrame behavior). To access a value by position, use `ser.iloc[pos]`\n",
      "  lat = row[i + 1]\n",
      "C:\\Users\\svenk\\Documents\\GitHub\\advanced_simulation\\Functions.py:119: FutureWarning: Series.__getitem__ treating keys as positions is deprecated. In a future version, integer keys will always be treated as labels (consistent with DataFrame behavior). To access a value by position, use `ser.iloc[pos]`\n",
      "  lon = row[i + 2]\n"
     ]
    },
    {
     "name": "stdout",
     "output_type": "stream",
     "text": [
      "Z1619 23.5245555555555 step 1\n",
      "Z1619 23.5245555555555 step 2\n",
      "Z1619 23.5245555555555 step 2\n",
      "Z1619 23.5245555555555 step 2\n",
      "Z1619 23.5245555555555 step 2\n",
      "Z1619 23.5245555555555 step 2\n",
      "Z1619 23.5245555555555 step 3\n",
      "Z1619 23.5245555555555 step 4\n"
     ]
    }
   ],
   "source": [
    "bmms, df_rds, df_road_ranges, df_rds_restructured = Functions.clean('BMMS_overview.xlsx', '_roads.tsv')"
   ],
   "metadata": {
    "collapsed": false,
    "ExecuteTime": {
     "end_time": "2024-02-19T14:44:47.866063Z",
     "start_time": "2024-02-19T14:43:14.350740500Z"
    }
   },
   "id": "587e7b9785c2874f"
  },
  {
   "cell_type": "code",
   "execution_count": 3,
   "outputs": [
    {
     "data": {
      "text/plain": "        road      km                   type  LRPName  \\\n0         N1   1.800            Box Culvert  LRP001a   \n1         N1   4.925            Box Culvert  LRP004b   \n2         N1   8.976       PC Girder Bridge  LRP008b   \n13420     N1   8.976       PC Girder Bridge  LRP008b   \n15398     N1  10.543            Box Culvert  LRP010a   \n...      ...     ...                    ...      ...   \n15393  Z8948   0.640            Box Culvert    LRPSb   \n15394  Z8948   1.010            Box Culvert  LRP001a   \n15395  Z8948   2.070  Baily with Steel Deck  LRP002a   \n15396  Z8948   2.070  Steel Beam & RCC Slab  LRP002a   \n15397  Z8948   2.100  Steel Beam & RCC Slab  LRP002c   \n\n                            name  length condition  structureNr  \\\n0                              .   11.30         A       117861   \n1                              .    6.60         A       117862   \n2              Kanch pur Bridge.  394.23         A       119889   \n13420  KANCHPUR PC GIRDER BRIDGE  397.00         C       101102   \n15398       KATCHPUR BOX CULVERT    8.00         B       101106   \n...                          ...     ...       ...          ...   \n15393                          .    2.00         A       116833   \n15394                          .    2.00         A       116834   \n15395                        NaN   27.36         A       119862   \n15396                          .   18.50         A       116835   \n15397                          .   18.50         A       116836   \n\n                                                roadName chainage  width  \\\n0      Dhaka (Jatrabari)-Comilla (Mainamati)-Chittago...      1.8  19.50   \n1      Dhaka (Jatrabari)-Comilla (Mainamati)-Chittago...    4.925  35.40   \n2      Dhaka (Jatrabari)-Comilla (Mainamati)-Chittago...    8.976    NaN   \n13420  Dhaka (Jatrabari)-Comilla (Mainamati)-Chittago...    8.976  14.65   \n15398  Dhaka (Jatrabari)-Comilla (Mainamati)-Chittago...   10.543  21.70   \n...                                                  ...      ...    ...   \n15393                           Fakirhat-Khasherhat Road     0.64  10.00   \n15394                           Fakirhat-Khasherhat Road     1.01   9.70   \n15395                           Fakirhat-Khasherhat Road     2.07    NaN   \n15396                           Fakirhat-Khasherhat Road     2.07   3.00   \n15397                           Fakirhat-Khasherhat Road      2.1   3.00   \n\n       constructionYear  spans     zone   circle     division   sub-division  \\\n0                2005.0    2.0    Dhaka    Dhaka  Narayanganj  Narayanganj-1   \n1                2006.0    1.0    Dhaka    Dhaka  Narayanganj  Narayanganj-1   \n2                   NaN    NaN    Dhaka    Dhaka  Narayanganj  Narayanganj-1   \n13420            1986.0    8.0    Dhaka    Dhaka  Narayanganj  Narayanganj-1   \n15398            1987.0    2.0    Dhaka    Dhaka  Narayanganj      Vitikandi   \n...                 ...    ...      ...      ...          ...            ...   \n15393            1998.0    1.0  Barisal  Barisal        Bhola          Bhola   \n15394            1995.0    1.0  Barisal  Barisal        Bhola          Bhola   \n15395               NaN    NaN  Barisal  Barisal        Bhola          Bhola   \n15396            1994.0    3.0  Barisal  Barisal        Bhola          Bhola   \n15397            1990.0    3.0  Barisal  Barisal        Bhola          Bhola   \n\n             lat        lon  EstimatedLoc  \n0      23.702889  90.450389          bcs1  \n1      23.693611  90.478833          bcs1  \n2      23.704583  90.518833  road_precise  \n13420  23.702083  90.515917          bcs1  \n15398  23.702056  90.528194          bcs1  \n...          ...        ...           ...  \n15393  22.422778  90.787222          bcs1  \n15394  22.419167  90.787500          bcs1  \n15395        NaN        NaN          bcs1  \n15396  22.414167  90.791667          bcs1  \n15397  22.414167  90.791944          bcs1  \n\n[21407 rows x 20 columns]",
      "text/html": "<div>\n<style scoped>\n    .dataframe tbody tr th:only-of-type {\n        vertical-align: middle;\n    }\n\n    .dataframe tbody tr th {\n        vertical-align: top;\n    }\n\n    .dataframe thead th {\n        text-align: right;\n    }\n</style>\n<table border=\"1\" class=\"dataframe\">\n  <thead>\n    <tr style=\"text-align: right;\">\n      <th></th>\n      <th>road</th>\n      <th>km</th>\n      <th>type</th>\n      <th>LRPName</th>\n      <th>name</th>\n      <th>length</th>\n      <th>condition</th>\n      <th>structureNr</th>\n      <th>roadName</th>\n      <th>chainage</th>\n      <th>width</th>\n      <th>constructionYear</th>\n      <th>spans</th>\n      <th>zone</th>\n      <th>circle</th>\n      <th>division</th>\n      <th>sub-division</th>\n      <th>lat</th>\n      <th>lon</th>\n      <th>EstimatedLoc</th>\n    </tr>\n  </thead>\n  <tbody>\n    <tr>\n      <th>0</th>\n      <td>N1</td>\n      <td>1.800</td>\n      <td>Box Culvert</td>\n      <td>LRP001a</td>\n      <td>.</td>\n      <td>11.30</td>\n      <td>A</td>\n      <td>117861</td>\n      <td>Dhaka (Jatrabari)-Comilla (Mainamati)-Chittago...</td>\n      <td>1.8</td>\n      <td>19.50</td>\n      <td>2005.0</td>\n      <td>2.0</td>\n      <td>Dhaka</td>\n      <td>Dhaka</td>\n      <td>Narayanganj</td>\n      <td>Narayanganj-1</td>\n      <td>23.702889</td>\n      <td>90.450389</td>\n      <td>bcs1</td>\n    </tr>\n    <tr>\n      <th>1</th>\n      <td>N1</td>\n      <td>4.925</td>\n      <td>Box Culvert</td>\n      <td>LRP004b</td>\n      <td>.</td>\n      <td>6.60</td>\n      <td>A</td>\n      <td>117862</td>\n      <td>Dhaka (Jatrabari)-Comilla (Mainamati)-Chittago...</td>\n      <td>4.925</td>\n      <td>35.40</td>\n      <td>2006.0</td>\n      <td>1.0</td>\n      <td>Dhaka</td>\n      <td>Dhaka</td>\n      <td>Narayanganj</td>\n      <td>Narayanganj-1</td>\n      <td>23.693611</td>\n      <td>90.478833</td>\n      <td>bcs1</td>\n    </tr>\n    <tr>\n      <th>2</th>\n      <td>N1</td>\n      <td>8.976</td>\n      <td>PC Girder Bridge</td>\n      <td>LRP008b</td>\n      <td>Kanch pur Bridge.</td>\n      <td>394.23</td>\n      <td>A</td>\n      <td>119889</td>\n      <td>Dhaka (Jatrabari)-Comilla (Mainamati)-Chittago...</td>\n      <td>8.976</td>\n      <td>NaN</td>\n      <td>NaN</td>\n      <td>NaN</td>\n      <td>Dhaka</td>\n      <td>Dhaka</td>\n      <td>Narayanganj</td>\n      <td>Narayanganj-1</td>\n      <td>23.704583</td>\n      <td>90.518833</td>\n      <td>road_precise</td>\n    </tr>\n    <tr>\n      <th>13420</th>\n      <td>N1</td>\n      <td>8.976</td>\n      <td>PC Girder Bridge</td>\n      <td>LRP008b</td>\n      <td>KANCHPUR PC GIRDER BRIDGE</td>\n      <td>397.00</td>\n      <td>C</td>\n      <td>101102</td>\n      <td>Dhaka (Jatrabari)-Comilla (Mainamati)-Chittago...</td>\n      <td>8.976</td>\n      <td>14.65</td>\n      <td>1986.0</td>\n      <td>8.0</td>\n      <td>Dhaka</td>\n      <td>Dhaka</td>\n      <td>Narayanganj</td>\n      <td>Narayanganj-1</td>\n      <td>23.702083</td>\n      <td>90.515917</td>\n      <td>bcs1</td>\n    </tr>\n    <tr>\n      <th>15398</th>\n      <td>N1</td>\n      <td>10.543</td>\n      <td>Box Culvert</td>\n      <td>LRP010a</td>\n      <td>KATCHPUR BOX CULVERT</td>\n      <td>8.00</td>\n      <td>B</td>\n      <td>101106</td>\n      <td>Dhaka (Jatrabari)-Comilla (Mainamati)-Chittago...</td>\n      <td>10.543</td>\n      <td>21.70</td>\n      <td>1987.0</td>\n      <td>2.0</td>\n      <td>Dhaka</td>\n      <td>Dhaka</td>\n      <td>Narayanganj</td>\n      <td>Vitikandi</td>\n      <td>23.702056</td>\n      <td>90.528194</td>\n      <td>bcs1</td>\n    </tr>\n    <tr>\n      <th>...</th>\n      <td>...</td>\n      <td>...</td>\n      <td>...</td>\n      <td>...</td>\n      <td>...</td>\n      <td>...</td>\n      <td>...</td>\n      <td>...</td>\n      <td>...</td>\n      <td>...</td>\n      <td>...</td>\n      <td>...</td>\n      <td>...</td>\n      <td>...</td>\n      <td>...</td>\n      <td>...</td>\n      <td>...</td>\n      <td>...</td>\n      <td>...</td>\n      <td>...</td>\n    </tr>\n    <tr>\n      <th>15393</th>\n      <td>Z8948</td>\n      <td>0.640</td>\n      <td>Box Culvert</td>\n      <td>LRPSb</td>\n      <td>.</td>\n      <td>2.00</td>\n      <td>A</td>\n      <td>116833</td>\n      <td>Fakirhat-Khasherhat Road</td>\n      <td>0.64</td>\n      <td>10.00</td>\n      <td>1998.0</td>\n      <td>1.0</td>\n      <td>Barisal</td>\n      <td>Barisal</td>\n      <td>Bhola</td>\n      <td>Bhola</td>\n      <td>22.422778</td>\n      <td>90.787222</td>\n      <td>bcs1</td>\n    </tr>\n    <tr>\n      <th>15394</th>\n      <td>Z8948</td>\n      <td>1.010</td>\n      <td>Box Culvert</td>\n      <td>LRP001a</td>\n      <td>.</td>\n      <td>2.00</td>\n      <td>A</td>\n      <td>116834</td>\n      <td>Fakirhat-Khasherhat Road</td>\n      <td>1.01</td>\n      <td>9.70</td>\n      <td>1995.0</td>\n      <td>1.0</td>\n      <td>Barisal</td>\n      <td>Barisal</td>\n      <td>Bhola</td>\n      <td>Bhola</td>\n      <td>22.419167</td>\n      <td>90.787500</td>\n      <td>bcs1</td>\n    </tr>\n    <tr>\n      <th>15395</th>\n      <td>Z8948</td>\n      <td>2.070</td>\n      <td>Baily with Steel Deck</td>\n      <td>LRP002a</td>\n      <td>NaN</td>\n      <td>27.36</td>\n      <td>A</td>\n      <td>119862</td>\n      <td>Fakirhat-Khasherhat Road</td>\n      <td>2.07</td>\n      <td>NaN</td>\n      <td>NaN</td>\n      <td>NaN</td>\n      <td>Barisal</td>\n      <td>Barisal</td>\n      <td>Bhola</td>\n      <td>Bhola</td>\n      <td>NaN</td>\n      <td>NaN</td>\n      <td>bcs1</td>\n    </tr>\n    <tr>\n      <th>15396</th>\n      <td>Z8948</td>\n      <td>2.070</td>\n      <td>Steel Beam &amp; RCC Slab</td>\n      <td>LRP002a</td>\n      <td>.</td>\n      <td>18.50</td>\n      <td>A</td>\n      <td>116835</td>\n      <td>Fakirhat-Khasherhat Road</td>\n      <td>2.07</td>\n      <td>3.00</td>\n      <td>1994.0</td>\n      <td>3.0</td>\n      <td>Barisal</td>\n      <td>Barisal</td>\n      <td>Bhola</td>\n      <td>Bhola</td>\n      <td>22.414167</td>\n      <td>90.791667</td>\n      <td>bcs1</td>\n    </tr>\n    <tr>\n      <th>15397</th>\n      <td>Z8948</td>\n      <td>2.100</td>\n      <td>Steel Beam &amp; RCC Slab</td>\n      <td>LRP002c</td>\n      <td>.</td>\n      <td>18.50</td>\n      <td>A</td>\n      <td>116836</td>\n      <td>Fakirhat-Khasherhat Road</td>\n      <td>2.1</td>\n      <td>3.00</td>\n      <td>1990.0</td>\n      <td>3.0</td>\n      <td>Barisal</td>\n      <td>Barisal</td>\n      <td>Bhola</td>\n      <td>Bhola</td>\n      <td>22.414167</td>\n      <td>90.791944</td>\n      <td>bcs1</td>\n    </tr>\n  </tbody>\n</table>\n<p>21407 rows × 20 columns</p>\n</div>"
     },
     "execution_count": 3,
     "metadata": {},
     "output_type": "execute_result"
    }
   ],
   "source": [
    "bmms"
   ],
   "metadata": {
    "collapsed": false,
    "ExecuteTime": {
     "end_time": "2024-02-19T14:44:47.889007200Z",
     "start_time": "2024-02-19T14:44:47.845613700Z"
    }
   },
   "id": "a9361bdc4bf2e708"
  },
  {
   "cell_type": "code",
   "execution_count": 4,
   "outputs": [
    {
     "data": {
      "text/plain": "        road     km                    type LRPName  \\\n20751  Z1124  0.285  Truss With Timber Deck   LRPSa   \n18301  Z1124  0.290  Baily with Timber Deck   LRPSa   \n\n                                name  length condition  structureNr  \\\n20751  Aziz Nagar Dokhin Para Bridge    21.4         D       121679   \n18301                              .    21.4         C       117761   \n\n                                roadName chainage  width  constructionYear  \\\n20751  Harbang-Villagerpara-Toitong Road    0.285    NaN               NaN   \n18301  Harbang-Villagerpara-Toitong Road     0.29    4.9            1960.0   \n\n       spans        zone      circle     division sub-division        lat  \\\n20751    NaN  Chittagong  Chittagong  Cox's Bazar     Chakoria  21.846472   \n18301    1.0  Chittagong  Chittagong  Cox's Bazar     Chakoria  21.895667   \n\n             lon  EstimatedLoc  \n20751  92.059556  road_precise  \n18301  92.059556          bcs1  ",
      "text/html": "<div>\n<style scoped>\n    .dataframe tbody tr th:only-of-type {\n        vertical-align: middle;\n    }\n\n    .dataframe tbody tr th {\n        vertical-align: top;\n    }\n\n    .dataframe thead th {\n        text-align: right;\n    }\n</style>\n<table border=\"1\" class=\"dataframe\">\n  <thead>\n    <tr style=\"text-align: right;\">\n      <th></th>\n      <th>road</th>\n      <th>km</th>\n      <th>type</th>\n      <th>LRPName</th>\n      <th>name</th>\n      <th>length</th>\n      <th>condition</th>\n      <th>structureNr</th>\n      <th>roadName</th>\n      <th>chainage</th>\n      <th>width</th>\n      <th>constructionYear</th>\n      <th>spans</th>\n      <th>zone</th>\n      <th>circle</th>\n      <th>division</th>\n      <th>sub-division</th>\n      <th>lat</th>\n      <th>lon</th>\n      <th>EstimatedLoc</th>\n    </tr>\n  </thead>\n  <tbody>\n    <tr>\n      <th>20751</th>\n      <td>Z1124</td>\n      <td>0.285</td>\n      <td>Truss With Timber Deck</td>\n      <td>LRPSa</td>\n      <td>Aziz Nagar Dokhin Para Bridge</td>\n      <td>21.4</td>\n      <td>D</td>\n      <td>121679</td>\n      <td>Harbang-Villagerpara-Toitong Road</td>\n      <td>0.285</td>\n      <td>NaN</td>\n      <td>NaN</td>\n      <td>NaN</td>\n      <td>Chittagong</td>\n      <td>Chittagong</td>\n      <td>Cox's Bazar</td>\n      <td>Chakoria</td>\n      <td>21.846472</td>\n      <td>92.059556</td>\n      <td>road_precise</td>\n    </tr>\n    <tr>\n      <th>18301</th>\n      <td>Z1124</td>\n      <td>0.290</td>\n      <td>Baily with Timber Deck</td>\n      <td>LRPSa</td>\n      <td>.</td>\n      <td>21.4</td>\n      <td>C</td>\n      <td>117761</td>\n      <td>Harbang-Villagerpara-Toitong Road</td>\n      <td>0.29</td>\n      <td>4.9</td>\n      <td>1960.0</td>\n      <td>1.0</td>\n      <td>Chittagong</td>\n      <td>Chittagong</td>\n      <td>Cox's Bazar</td>\n      <td>Chakoria</td>\n      <td>21.895667</td>\n      <td>92.059556</td>\n      <td>bcs1</td>\n    </tr>\n  </tbody>\n</table>\n</div>"
     },
     "execution_count": 4,
     "metadata": {},
     "output_type": "execute_result"
    }
   ],
   "source": [
    "bmms[bmms['road'] == 'Z1124']"
   ],
   "metadata": {
    "collapsed": false,
    "ExecuteTime": {
     "end_time": "2024-02-19T14:44:47.892238400Z",
     "start_time": "2024-02-19T14:44:47.876040400Z"
    }
   },
   "id": "7b38da093a9d32af"
  },
  {
   "cell_type": "code",
   "execution_count": 5,
   "outputs": [
    {
     "data": {
      "text/plain": "      road    min_lat    max_lat    min_lon    max_lon\n0       N1  20.862917  23.706083  90.443333  92.299639\n1     N101  23.451333  23.464028  91.211806  91.253389\n2     N102  23.478972  24.050611  91.021083  91.159139\n3     N103  23.957028  23.996889  91.109278  91.115528\n4     N104  22.825749  23.009861  91.096111  91.399416\n..     ...        ...        ...        ...        ...\n872  Z8910  22.418888  22.675916  90.408889  90.561417\n873  Z8913  22.335500  22.396083  90.682888  90.841611\n874  Z8915  22.589389  22.608972  90.619472  90.753167\n875  Z8916  22.595389  22.625499  90.661722  90.746666\n876  Z8943  22.423083  22.430249  90.768916  90.849472\n\n[877 rows x 5 columns]",
      "text/html": "<div>\n<style scoped>\n    .dataframe tbody tr th:only-of-type {\n        vertical-align: middle;\n    }\n\n    .dataframe tbody tr th {\n        vertical-align: top;\n    }\n\n    .dataframe thead th {\n        text-align: right;\n    }\n</style>\n<table border=\"1\" class=\"dataframe\">\n  <thead>\n    <tr style=\"text-align: right;\">\n      <th></th>\n      <th>road</th>\n      <th>min_lat</th>\n      <th>max_lat</th>\n      <th>min_lon</th>\n      <th>max_lon</th>\n    </tr>\n  </thead>\n  <tbody>\n    <tr>\n      <th>0</th>\n      <td>N1</td>\n      <td>20.862917</td>\n      <td>23.706083</td>\n      <td>90.443333</td>\n      <td>92.299639</td>\n    </tr>\n    <tr>\n      <th>1</th>\n      <td>N101</td>\n      <td>23.451333</td>\n      <td>23.464028</td>\n      <td>91.211806</td>\n      <td>91.253389</td>\n    </tr>\n    <tr>\n      <th>2</th>\n      <td>N102</td>\n      <td>23.478972</td>\n      <td>24.050611</td>\n      <td>91.021083</td>\n      <td>91.159139</td>\n    </tr>\n    <tr>\n      <th>3</th>\n      <td>N103</td>\n      <td>23.957028</td>\n      <td>23.996889</td>\n      <td>91.109278</td>\n      <td>91.115528</td>\n    </tr>\n    <tr>\n      <th>4</th>\n      <td>N104</td>\n      <td>22.825749</td>\n      <td>23.009861</td>\n      <td>91.096111</td>\n      <td>91.399416</td>\n    </tr>\n    <tr>\n      <th>...</th>\n      <td>...</td>\n      <td>...</td>\n      <td>...</td>\n      <td>...</td>\n      <td>...</td>\n    </tr>\n    <tr>\n      <th>872</th>\n      <td>Z8910</td>\n      <td>22.418888</td>\n      <td>22.675916</td>\n      <td>90.408889</td>\n      <td>90.561417</td>\n    </tr>\n    <tr>\n      <th>873</th>\n      <td>Z8913</td>\n      <td>22.335500</td>\n      <td>22.396083</td>\n      <td>90.682888</td>\n      <td>90.841611</td>\n    </tr>\n    <tr>\n      <th>874</th>\n      <td>Z8915</td>\n      <td>22.589389</td>\n      <td>22.608972</td>\n      <td>90.619472</td>\n      <td>90.753167</td>\n    </tr>\n    <tr>\n      <th>875</th>\n      <td>Z8916</td>\n      <td>22.595389</td>\n      <td>22.625499</td>\n      <td>90.661722</td>\n      <td>90.746666</td>\n    </tr>\n    <tr>\n      <th>876</th>\n      <td>Z8943</td>\n      <td>22.423083</td>\n      <td>22.430249</td>\n      <td>90.768916</td>\n      <td>90.849472</td>\n    </tr>\n  </tbody>\n</table>\n<p>877 rows × 5 columns</p>\n</div>"
     },
     "execution_count": 5,
     "metadata": {},
     "output_type": "execute_result"
    }
   ],
   "source": [
    "df_road_ranges"
   ],
   "metadata": {
    "collapsed": false,
    "ExecuteTime": {
     "end_time": "2024-02-19T14:44:47.912752900Z",
     "start_time": "2024-02-19T14:44:47.894165400Z"
    }
   },
   "id": "921e4746b6f3e8cd"
  },
  {
   "cell_type": "code",
   "execution_count": 6,
   "outputs": [],
   "source": [
    "bmms.to_excel('BMMS_overview_new.xlsx')\n",
    "df_rds.to_csv('_roads_new.tsv', sep='\\t', index=False)"
   ],
   "metadata": {
    "collapsed": false,
    "ExecuteTime": {
     "end_time": "2024-02-19T14:44:54.763752100Z",
     "start_time": "2024-02-19T14:44:47.906290200Z"
    }
   },
   "id": "fa8047e19ed3e019"
  },
  {
   "cell_type": "code",
   "execution_count": 9,
   "outputs": [
    {
     "data": {
      "text/plain": "        road      km                   type  LRPName  \\\n7343   Z1619   0.409             RCC Bridge    LRPSa   \n18576  Z1619   0.409  Truss with Steel Deck    LRPSa   \n12212  Z1619   1.353            Box Culvert  LRP001b   \n12213  Z1619   1.686            Box Culvert  LRP001d   \n18577  Z1619   1.859      RCC Girder Bridge  LRP001e   \n...      ...     ...                    ...      ...   \n12223  Z1619  22.385           Slab Culvert  LRP022a   \n12224  Z1619  22.713  Steel Beam & RCC Slab  LRP022b   \n7363   Z1619  23.164           Slab Culvert  LRP023a   \n7364   Z1619  23.632            Box Culvert  LRP023b   \n7365   Z1619  23.795           Slab Culvert  LRP023c   \n\n                                           name  length condition  \\\n7343                    Kalachin Chaduri Bridge   46.40         A   \n18576                             Saltar Bridge   49.57         C   \n12212                         dulinagar culvert    3.10         B   \n12213                            UTTOR DUINAGAR    6.10         B   \n18577                         DULIAGAR BRIDGE 2    7.50         C   \n...                                         ...     ...       ...   \n12223                    PAKI CHAR SLAB CULVERT    2.10         B   \n12224  SOUTH RANGAMATIA STEEL BEAM AND RCC SLAB    3.20         B   \n7363                         GIRTS SLAB CULVERT    2.70         A   \n7364                       HATIRPUR BOX CULVERT   11.50         A   \n7365                           BIBIR HAT BRIDEG    0.60         A   \n\n       structureNr                          roadName chainage  width  \\\n7343        102930  Raozan (Gohira)-Fatikchhari Road    0.409   3.50   \n18576       121324  Raozan (Gohira)-Fatikchhari Road    0.409    NaN   \n12212       102925  Raozan (Gohira)-Fatikchhari Road    1.353   7.40   \n12213       102929  Raozan (Gohira)-Fatikchhari Road    1.686   8.20   \n18577       102932  Raozan (Gohira)-Fatikchhari Road    1.859   3.55   \n...            ...                               ...      ...    ...   \n12223       102940  Raozan (Gohira)-Fatikchhari Road   22.385   4.25   \n12224       102944  Raozan (Gohira)-Fatikchhari Road   22.713   3.70   \n7363        102949  Raozan (Gohira)-Fatikchhari Road   23.164   4.20   \n7364        102952  Raozan (Gohira)-Fatikchhari Road   23.632   5.40   \n7365        108561  Raozan (Gohira)-Fatikchhari Road   23.795   5.66   \n\n       constructionYear  spans        zone      circle    division  \\\n7343             1982.0    3.0  Chittagong  Chittagong  Chittagong   \n18576               NaN    NaN  Chittagong  Chittagong  Chittagong   \n12212            1998.0    1.0  Chittagong  Chittagong  Chittagong   \n12213            1993.0    1.0  Chittagong  Chittagong  Chittagong   \n18577            1982.0    1.0  Chittagong  Chittagong  Chittagong   \n...                 ...    ...         ...         ...         ...   \n12223            1965.0    1.0  Chittagong  Chittagong  Chittagong   \n12224            1965.0    1.0  Chittagong  Chittagong  Chittagong   \n7363             1984.0    1.0  Chittagong  Chittagong  Chittagong   \n7364             1984.0    2.0  Chittagong  Chittagong  Chittagong   \n7365             1994.0    1.0  Chittagong  Chittagong  Chittagong   \n\n      sub-division        lat        lon  EstimatedLoc  \n7343    Fatikchari  22.554378  91.867000          bcs1  \n18576   Fatikchari  22.525166  91.866417  road_precise  \n12212   Fatikchari  22.530944  91.862583          bcs1  \n12213   Fatikchari  22.533889  91.863083          bcs1  \n18577   Fatikchari  22.535611  91.863306          bcs1  \n...            ...        ...        ...           ...  \n12223   Fatikchari  22.676944  91.803889          bcs1  \n12224   Fatikchari  22.683972  91.801111          bcs1  \n7363    Fatikchari  22.685639  91.814833          bcs1  \n7364    Fatikchari  22.686417  91.793667          bcs1  \n7365    Fatikchari  22.686278  91.792444          bcs1  \n\n[80 rows x 20 columns]",
      "text/html": "<div>\n<style scoped>\n    .dataframe tbody tr th:only-of-type {\n        vertical-align: middle;\n    }\n\n    .dataframe tbody tr th {\n        vertical-align: top;\n    }\n\n    .dataframe thead th {\n        text-align: right;\n    }\n</style>\n<table border=\"1\" class=\"dataframe\">\n  <thead>\n    <tr style=\"text-align: right;\">\n      <th></th>\n      <th>road</th>\n      <th>km</th>\n      <th>type</th>\n      <th>LRPName</th>\n      <th>name</th>\n      <th>length</th>\n      <th>condition</th>\n      <th>structureNr</th>\n      <th>roadName</th>\n      <th>chainage</th>\n      <th>width</th>\n      <th>constructionYear</th>\n      <th>spans</th>\n      <th>zone</th>\n      <th>circle</th>\n      <th>division</th>\n      <th>sub-division</th>\n      <th>lat</th>\n      <th>lon</th>\n      <th>EstimatedLoc</th>\n    </tr>\n  </thead>\n  <tbody>\n    <tr>\n      <th>7343</th>\n      <td>Z1619</td>\n      <td>0.409</td>\n      <td>RCC Bridge</td>\n      <td>LRPSa</td>\n      <td>Kalachin Chaduri Bridge</td>\n      <td>46.40</td>\n      <td>A</td>\n      <td>102930</td>\n      <td>Raozan (Gohira)-Fatikchhari Road</td>\n      <td>0.409</td>\n      <td>3.50</td>\n      <td>1982.0</td>\n      <td>3.0</td>\n      <td>Chittagong</td>\n      <td>Chittagong</td>\n      <td>Chittagong</td>\n      <td>Fatikchari</td>\n      <td>22.554378</td>\n      <td>91.867000</td>\n      <td>bcs1</td>\n    </tr>\n    <tr>\n      <th>18576</th>\n      <td>Z1619</td>\n      <td>0.409</td>\n      <td>Truss with Steel Deck</td>\n      <td>LRPSa</td>\n      <td>Saltar Bridge</td>\n      <td>49.57</td>\n      <td>C</td>\n      <td>121324</td>\n      <td>Raozan (Gohira)-Fatikchhari Road</td>\n      <td>0.409</td>\n      <td>NaN</td>\n      <td>NaN</td>\n      <td>NaN</td>\n      <td>Chittagong</td>\n      <td>Chittagong</td>\n      <td>Chittagong</td>\n      <td>Fatikchari</td>\n      <td>22.525166</td>\n      <td>91.866417</td>\n      <td>road_precise</td>\n    </tr>\n    <tr>\n      <th>12212</th>\n      <td>Z1619</td>\n      <td>1.353</td>\n      <td>Box Culvert</td>\n      <td>LRP001b</td>\n      <td>dulinagar culvert</td>\n      <td>3.10</td>\n      <td>B</td>\n      <td>102925</td>\n      <td>Raozan (Gohira)-Fatikchhari Road</td>\n      <td>1.353</td>\n      <td>7.40</td>\n      <td>1998.0</td>\n      <td>1.0</td>\n      <td>Chittagong</td>\n      <td>Chittagong</td>\n      <td>Chittagong</td>\n      <td>Fatikchari</td>\n      <td>22.530944</td>\n      <td>91.862583</td>\n      <td>bcs1</td>\n    </tr>\n    <tr>\n      <th>12213</th>\n      <td>Z1619</td>\n      <td>1.686</td>\n      <td>Box Culvert</td>\n      <td>LRP001d</td>\n      <td>UTTOR DUINAGAR</td>\n      <td>6.10</td>\n      <td>B</td>\n      <td>102929</td>\n      <td>Raozan (Gohira)-Fatikchhari Road</td>\n      <td>1.686</td>\n      <td>8.20</td>\n      <td>1993.0</td>\n      <td>1.0</td>\n      <td>Chittagong</td>\n      <td>Chittagong</td>\n      <td>Chittagong</td>\n      <td>Fatikchari</td>\n      <td>22.533889</td>\n      <td>91.863083</td>\n      <td>bcs1</td>\n    </tr>\n    <tr>\n      <th>18577</th>\n      <td>Z1619</td>\n      <td>1.859</td>\n      <td>RCC Girder Bridge</td>\n      <td>LRP001e</td>\n      <td>DULIAGAR BRIDGE 2</td>\n      <td>7.50</td>\n      <td>C</td>\n      <td>102932</td>\n      <td>Raozan (Gohira)-Fatikchhari Road</td>\n      <td>1.859</td>\n      <td>3.55</td>\n      <td>1982.0</td>\n      <td>1.0</td>\n      <td>Chittagong</td>\n      <td>Chittagong</td>\n      <td>Chittagong</td>\n      <td>Fatikchari</td>\n      <td>22.535611</td>\n      <td>91.863306</td>\n      <td>bcs1</td>\n    </tr>\n    <tr>\n      <th>...</th>\n      <td>...</td>\n      <td>...</td>\n      <td>...</td>\n      <td>...</td>\n      <td>...</td>\n      <td>...</td>\n      <td>...</td>\n      <td>...</td>\n      <td>...</td>\n      <td>...</td>\n      <td>...</td>\n      <td>...</td>\n      <td>...</td>\n      <td>...</td>\n      <td>...</td>\n      <td>...</td>\n      <td>...</td>\n      <td>...</td>\n      <td>...</td>\n      <td>...</td>\n    </tr>\n    <tr>\n      <th>12223</th>\n      <td>Z1619</td>\n      <td>22.385</td>\n      <td>Slab Culvert</td>\n      <td>LRP022a</td>\n      <td>PAKI CHAR SLAB CULVERT</td>\n      <td>2.10</td>\n      <td>B</td>\n      <td>102940</td>\n      <td>Raozan (Gohira)-Fatikchhari Road</td>\n      <td>22.385</td>\n      <td>4.25</td>\n      <td>1965.0</td>\n      <td>1.0</td>\n      <td>Chittagong</td>\n      <td>Chittagong</td>\n      <td>Chittagong</td>\n      <td>Fatikchari</td>\n      <td>22.676944</td>\n      <td>91.803889</td>\n      <td>bcs1</td>\n    </tr>\n    <tr>\n      <th>12224</th>\n      <td>Z1619</td>\n      <td>22.713</td>\n      <td>Steel Beam &amp; RCC Slab</td>\n      <td>LRP022b</td>\n      <td>SOUTH RANGAMATIA STEEL BEAM AND RCC SLAB</td>\n      <td>3.20</td>\n      <td>B</td>\n      <td>102944</td>\n      <td>Raozan (Gohira)-Fatikchhari Road</td>\n      <td>22.713</td>\n      <td>3.70</td>\n      <td>1965.0</td>\n      <td>1.0</td>\n      <td>Chittagong</td>\n      <td>Chittagong</td>\n      <td>Chittagong</td>\n      <td>Fatikchari</td>\n      <td>22.683972</td>\n      <td>91.801111</td>\n      <td>bcs1</td>\n    </tr>\n    <tr>\n      <th>7363</th>\n      <td>Z1619</td>\n      <td>23.164</td>\n      <td>Slab Culvert</td>\n      <td>LRP023a</td>\n      <td>GIRTS SLAB CULVERT</td>\n      <td>2.70</td>\n      <td>A</td>\n      <td>102949</td>\n      <td>Raozan (Gohira)-Fatikchhari Road</td>\n      <td>23.164</td>\n      <td>4.20</td>\n      <td>1984.0</td>\n      <td>1.0</td>\n      <td>Chittagong</td>\n      <td>Chittagong</td>\n      <td>Chittagong</td>\n      <td>Fatikchari</td>\n      <td>22.685639</td>\n      <td>91.814833</td>\n      <td>bcs1</td>\n    </tr>\n    <tr>\n      <th>7364</th>\n      <td>Z1619</td>\n      <td>23.632</td>\n      <td>Box Culvert</td>\n      <td>LRP023b</td>\n      <td>HATIRPUR BOX CULVERT</td>\n      <td>11.50</td>\n      <td>A</td>\n      <td>102952</td>\n      <td>Raozan (Gohira)-Fatikchhari Road</td>\n      <td>23.632</td>\n      <td>5.40</td>\n      <td>1984.0</td>\n      <td>2.0</td>\n      <td>Chittagong</td>\n      <td>Chittagong</td>\n      <td>Chittagong</td>\n      <td>Fatikchari</td>\n      <td>22.686417</td>\n      <td>91.793667</td>\n      <td>bcs1</td>\n    </tr>\n    <tr>\n      <th>7365</th>\n      <td>Z1619</td>\n      <td>23.795</td>\n      <td>Slab Culvert</td>\n      <td>LRP023c</td>\n      <td>BIBIR HAT BRIDEG</td>\n      <td>0.60</td>\n      <td>A</td>\n      <td>108561</td>\n      <td>Raozan (Gohira)-Fatikchhari Road</td>\n      <td>23.795</td>\n      <td>5.66</td>\n      <td>1994.0</td>\n      <td>1.0</td>\n      <td>Chittagong</td>\n      <td>Chittagong</td>\n      <td>Chittagong</td>\n      <td>Fatikchari</td>\n      <td>22.686278</td>\n      <td>91.792444</td>\n      <td>bcs1</td>\n    </tr>\n  </tbody>\n</table>\n<p>80 rows × 20 columns</p>\n</div>"
     },
     "execution_count": 9,
     "metadata": {},
     "output_type": "execute_result"
    }
   ],
   "source": [
    "bmms[bmms['road'] == 'Z1619']"
   ],
   "metadata": {
    "collapsed": false,
    "ExecuteTime": {
     "end_time": "2024-02-19T14:45:36.459743600Z",
     "start_time": "2024-02-19T14:45:36.439270100Z"
    }
   },
   "id": "9534b8bbb5fe9559"
  },
  {
   "cell_type": "code",
   "execution_count": 8,
   "outputs": [
    {
     "data": {
      "text/plain": "      road    min_lat    max_lat    min_lon    max_lon\n375  Z1619  22.521916  22.690916  91.791055  91.868027",
      "text/html": "<div>\n<style scoped>\n    .dataframe tbody tr th:only-of-type {\n        vertical-align: middle;\n    }\n\n    .dataframe tbody tr th {\n        vertical-align: top;\n    }\n\n    .dataframe thead th {\n        text-align: right;\n    }\n</style>\n<table border=\"1\" class=\"dataframe\">\n  <thead>\n    <tr style=\"text-align: right;\">\n      <th></th>\n      <th>road</th>\n      <th>min_lat</th>\n      <th>max_lat</th>\n      <th>min_lon</th>\n      <th>max_lon</th>\n    </tr>\n  </thead>\n  <tbody>\n    <tr>\n      <th>375</th>\n      <td>Z1619</td>\n      <td>22.521916</td>\n      <td>22.690916</td>\n      <td>91.791055</td>\n      <td>91.868027</td>\n    </tr>\n  </tbody>\n</table>\n</div>"
     },
     "execution_count": 8,
     "metadata": {},
     "output_type": "execute_result"
    }
   ],
   "source": [
    "df_road_ranges[df_road_ranges['road'] == 'Z1619']"
   ],
   "metadata": {
    "collapsed": false,
    "ExecuteTime": {
     "end_time": "2024-02-19T14:44:54.828583800Z",
     "start_time": "2024-02-19T14:44:54.786296300Z"
    }
   },
   "id": "494365bd7bb85c3d"
  },
  {
   "cell_type": "code",
   "execution_count": null,
   "outputs": [],
   "source": [],
   "metadata": {
    "collapsed": false,
    "ExecuteTime": {
     "start_time": "2024-02-19T14:34:42.509110300Z"
    }
   },
   "id": "6f3840321d8766c4"
  },
  {
   "cell_type": "code",
   "execution_count": 7,
   "outputs": [],
   "source": [],
   "metadata": {
    "collapsed": false,
    "ExecuteTime": {
     "end_time": "2024-02-19T13:47:29.004268100Z",
     "start_time": "2024-02-19T13:47:28.987627100Z"
    }
   },
   "id": "b2127a6e63d884bd"
  },
  {
   "cell_type": "code",
   "execution_count": null,
   "outputs": [],
   "source": [],
   "metadata": {
    "collapsed": false
   },
   "id": "a13d7c1b2cce8b2f"
  }
 ],
 "metadata": {
  "kernelspec": {
   "display_name": "Python 3",
   "language": "python",
   "name": "python3"
  },
  "language_info": {
   "codemirror_mode": {
    "name": "ipython",
    "version": 2
   },
   "file_extension": ".py",
   "mimetype": "text/x-python",
   "name": "python",
   "nbconvert_exporter": "python",
   "pygments_lexer": "ipython2",
   "version": "2.7.6"
  }
 },
 "nbformat": 4,
 "nbformat_minor": 5
}
