{
 "cells": [
  {
   "cell_type": "code",
   "execution_count": 1,
   "id": "initial_id",
   "metadata": {
    "collapsed": true,
    "ExecuteTime": {
     "end_time": "2024-02-16T10:52:57.477257700Z",
     "start_time": "2024-02-16T10:52:56.812668500Z"
    }
   },
   "outputs": [],
   "source": [
    "import pandas as pd\n",
    "import Functions"
   ]
  },
  {
   "cell_type": "code",
   "execution_count": 2,
   "outputs": [],
   "source": [
    "df_rds = pd.read_csv(\"_roads.tsv\", delimiter='\\t', low_memory = False)"
   ],
   "metadata": {
    "collapsed": false,
    "ExecuteTime": {
     "end_time": "2024-02-16T10:52:57.941923100Z",
     "start_time": "2024-02-16T10:52:57.478692800Z"
    }
   },
   "id": "587e7b9785c2874f"
  },
  {
   "cell_type": "code",
   "execution_count": 4,
   "outputs": [
    {
     "name": "stdout",
     "output_type": "stream",
     "text": [
      "[]\n"
     ]
    },
    {
     "name": "stderr",
     "output_type": "stream",
     "text": [
      "C:\\Users\\svenk\\Documents\\GitHub\\advanced_simulation\\Functions.py:83: FutureWarning: Series.__getitem__ treating keys as positions is deprecated. In a future version, integer keys will always be treated as labels (consistent with DataFrame behavior). To access a value by position, use `ser.iloc[pos]`\n",
      "  lsrp = row[i]\n",
      "C:\\Users\\svenk\\Documents\\GitHub\\advanced_simulation\\Functions.py:84: FutureWarning: Series.__getitem__ treating keys as positions is deprecated. In a future version, integer keys will always be treated as labels (consistent with DataFrame behavior). To access a value by position, use `ser.iloc[pos]`\n",
      "  lat = row[i + 1]\n",
      "C:\\Users\\svenk\\Documents\\GitHub\\advanced_simulation\\Functions.py:85: FutureWarning: Series.__getitem__ treating keys as positions is deprecated. In a future version, integer keys will always be treated as labels (consistent with DataFrame behavior). To access a value by position, use `ser.iloc[pos]`\n",
      "  lon = row[i + 2]\n"
     ]
    }
   ],
   "source": [
    "df_rds = Functions.lon_lat_errors_tsv(df_rds)\n",
    "df_rds = Functions.restructure_df(df_rds)"
   ],
   "metadata": {
    "collapsed": false,
    "ExecuteTime": {
     "end_time": "2024-02-16T10:54:51.488983700Z",
     "start_time": "2024-02-16T10:53:47.867149100Z"
    }
   },
   "id": "a9361bdc4bf2e708"
  },
  {
   "cell_type": "code",
   "execution_count": 5,
   "outputs": [
    {
     "data": {
      "text/plain": "        road     lsrp        lat        lon\n0         N1     LRPS  23.706028  90.443333\n1         N1    LRPSa  23.702917  90.450417\n2         N1    LRPSb  23.702778  90.450472\n3         N1   LRP001  23.702139  90.451972\n4         N1   LRP002  23.697889  90.460583\n...      ...      ...        ...        ...\n52205  Z8943   LRP007  22.429499  90.785722\n52206  Z8943   LRP008  22.430110  90.776333\n52207  Z8943  LRP008a  22.430249  90.774888\n52208  Z8943  LRP008b  22.430249  90.774860\n52209  Z8943     LRPE  22.430166  90.768916\n\n[52210 rows x 4 columns]",
      "text/html": "<div>\n<style scoped>\n    .dataframe tbody tr th:only-of-type {\n        vertical-align: middle;\n    }\n\n    .dataframe tbody tr th {\n        vertical-align: top;\n    }\n\n    .dataframe thead th {\n        text-align: right;\n    }\n</style>\n<table border=\"1\" class=\"dataframe\">\n  <thead>\n    <tr style=\"text-align: right;\">\n      <th></th>\n      <th>road</th>\n      <th>lsrp</th>\n      <th>lat</th>\n      <th>lon</th>\n    </tr>\n  </thead>\n  <tbody>\n    <tr>\n      <th>0</th>\n      <td>N1</td>\n      <td>LRPS</td>\n      <td>23.706028</td>\n      <td>90.443333</td>\n    </tr>\n    <tr>\n      <th>1</th>\n      <td>N1</td>\n      <td>LRPSa</td>\n      <td>23.702917</td>\n      <td>90.450417</td>\n    </tr>\n    <tr>\n      <th>2</th>\n      <td>N1</td>\n      <td>LRPSb</td>\n      <td>23.702778</td>\n      <td>90.450472</td>\n    </tr>\n    <tr>\n      <th>3</th>\n      <td>N1</td>\n      <td>LRP001</td>\n      <td>23.702139</td>\n      <td>90.451972</td>\n    </tr>\n    <tr>\n      <th>4</th>\n      <td>N1</td>\n      <td>LRP002</td>\n      <td>23.697889</td>\n      <td>90.460583</td>\n    </tr>\n    <tr>\n      <th>...</th>\n      <td>...</td>\n      <td>...</td>\n      <td>...</td>\n      <td>...</td>\n    </tr>\n    <tr>\n      <th>52205</th>\n      <td>Z8943</td>\n      <td>LRP007</td>\n      <td>22.429499</td>\n      <td>90.785722</td>\n    </tr>\n    <tr>\n      <th>52206</th>\n      <td>Z8943</td>\n      <td>LRP008</td>\n      <td>22.430110</td>\n      <td>90.776333</td>\n    </tr>\n    <tr>\n      <th>52207</th>\n      <td>Z8943</td>\n      <td>LRP008a</td>\n      <td>22.430249</td>\n      <td>90.774888</td>\n    </tr>\n    <tr>\n      <th>52208</th>\n      <td>Z8943</td>\n      <td>LRP008b</td>\n      <td>22.430249</td>\n      <td>90.774860</td>\n    </tr>\n    <tr>\n      <th>52209</th>\n      <td>Z8943</td>\n      <td>LRPE</td>\n      <td>22.430166</td>\n      <td>90.768916</td>\n    </tr>\n  </tbody>\n</table>\n<p>52210 rows × 4 columns</p>\n</div>"
     },
     "execution_count": 5,
     "metadata": {},
     "output_type": "execute_result"
    }
   ],
   "source": [
    "df_rds"
   ],
   "metadata": {
    "collapsed": false,
    "ExecuteTime": {
     "end_time": "2024-02-16T10:54:51.502660800Z",
     "start_time": "2024-02-16T10:54:51.490705600Z"
    }
   },
   "id": "f67bca6588ee6e50"
  },
  {
   "cell_type": "code",
   "execution_count": 6,
   "outputs": [
    {
     "name": "stdout",
     "output_type": "stream",
     "text": [
      "Empty DataFrame\n",
      "Columns: [road, min_lat, max_lat, min_lon, max_lon]\n",
      "Index: []\n"
     ]
    },
    {
     "ename": "AttributeError",
     "evalue": "'DataFrame' object has no attribute 'append'",
     "output_type": "error",
     "traceback": [
      "\u001B[1;31m---------------------------------------------------------------------------\u001B[0m",
      "\u001B[1;31mAttributeError\u001B[0m                            Traceback (most recent call last)",
      "\u001B[1;32m~\\AppData\\Local\\Temp\\ipykernel_11364\\2441191306.py\u001B[0m in \u001B[0;36m?\u001B[1;34m()\u001B[0m\n\u001B[1;32m----> 1\u001B[1;33m \u001B[0mdf_roads\u001B[0m \u001B[1;33m=\u001B[0m \u001B[0mFunctions\u001B[0m\u001B[1;33m.\u001B[0m\u001B[0mroad_range_lon_lat\u001B[0m\u001B[1;33m(\u001B[0m\u001B[0mdf_rds\u001B[0m\u001B[1;33m)\u001B[0m\u001B[1;33m\u001B[0m\u001B[1;33m\u001B[0m\u001B[0m\n\u001B[0m",
      "\u001B[1;32m~\\Documents\\GitHub\\advanced_simulation\\Functions.py\u001B[0m in \u001B[0;36m?\u001B[1;34m(df)\u001B[0m\n\u001B[0;32m    113\u001B[0m             new_row = {'road': row['road'],\n\u001B[0;32m    114\u001B[0m                        \u001B[1;34m'min_lat'\u001B[0m\u001B[1;33m:\u001B[0m \u001B[0mrow\u001B[0m\u001B[1;33m[\u001B[0m\u001B[1;34m'lat'\u001B[0m\u001B[1;33m]\u001B[0m\u001B[1;33m,\u001B[0m \u001B[1;34m'max_lat'\u001B[0m\u001B[1;33m:\u001B[0m \u001B[0mrow\u001B[0m\u001B[1;33m[\u001B[0m\u001B[1;34m'lat'\u001B[0m\u001B[1;33m]\u001B[0m\u001B[1;33m,\u001B[0m\u001B[1;33m\u001B[0m\u001B[1;33m\u001B[0m\u001B[0m\n\u001B[0;32m    115\u001B[0m                        \u001B[1;34m'min_lon'\u001B[0m\u001B[1;33m:\u001B[0m \u001B[0mrow\u001B[0m\u001B[1;33m[\u001B[0m\u001B[1;34m'lon'\u001B[0m\u001B[1;33m]\u001B[0m\u001B[1;33m,\u001B[0m \u001B[1;34m'max_lon'\u001B[0m\u001B[1;33m:\u001B[0m \u001B[0mrow\u001B[0m\u001B[1;33m[\u001B[0m\u001B[1;34m'lon'\u001B[0m\u001B[1;33m]\u001B[0m\u001B[1;33m}\u001B[0m\u001B[1;33m\u001B[0m\u001B[1;33m\u001B[0m\u001B[0m\n\u001B[0;32m    116\u001B[0m             \u001B[0mprint\u001B[0m\u001B[1;33m(\u001B[0m\u001B[0mdf_road_range\u001B[0m\u001B[1;33m)\u001B[0m\u001B[1;33m\u001B[0m\u001B[1;33m\u001B[0m\u001B[0m\n\u001B[1;32m--> 117\u001B[1;33m             \u001B[0mdf_road_range\u001B[0m \u001B[1;33m=\u001B[0m \u001B[0mdf_road_range\u001B[0m\u001B[1;33m.\u001B[0m\u001B[0mappend\u001B[0m\u001B[1;33m(\u001B[0m\u001B[0mnew_row\u001B[0m\u001B[1;33m,\u001B[0m \u001B[0mignore_index\u001B[0m\u001B[1;33m=\u001B[0m\u001B[1;32mTrue\u001B[0m\u001B[1;33m)\u001B[0m\u001B[1;33m\u001B[0m\u001B[1;33m\u001B[0m\u001B[0m\n\u001B[0m\u001B[0;32m    118\u001B[0m     \u001B[1;32mreturn\u001B[0m \u001B[0mdf_road_range\u001B[0m\u001B[1;33m\u001B[0m\u001B[1;33m\u001B[0m\u001B[0m\n",
      "\u001B[1;32m~\\AppData\\Local\\Programs\\Python\\Python312\\Lib\\site-packages\\pandas\\core\\generic.py\u001B[0m in \u001B[0;36m?\u001B[1;34m(self, name)\u001B[0m\n\u001B[0;32m   6200\u001B[0m             \u001B[1;32mand\u001B[0m \u001B[0mname\u001B[0m \u001B[1;32mnot\u001B[0m \u001B[1;32min\u001B[0m \u001B[0mself\u001B[0m\u001B[1;33m.\u001B[0m\u001B[0m_accessors\u001B[0m\u001B[1;33m\u001B[0m\u001B[1;33m\u001B[0m\u001B[0m\n\u001B[0;32m   6201\u001B[0m             \u001B[1;32mand\u001B[0m \u001B[0mself\u001B[0m\u001B[1;33m.\u001B[0m\u001B[0m_info_axis\u001B[0m\u001B[1;33m.\u001B[0m\u001B[0m_can_hold_identifiers_and_holds_name\u001B[0m\u001B[1;33m(\u001B[0m\u001B[0mname\u001B[0m\u001B[1;33m)\u001B[0m\u001B[1;33m\u001B[0m\u001B[1;33m\u001B[0m\u001B[0m\n\u001B[0;32m   6202\u001B[0m         \u001B[1;33m)\u001B[0m\u001B[1;33m:\u001B[0m\u001B[1;33m\u001B[0m\u001B[1;33m\u001B[0m\u001B[0m\n\u001B[0;32m   6203\u001B[0m             \u001B[1;32mreturn\u001B[0m \u001B[0mself\u001B[0m\u001B[1;33m[\u001B[0m\u001B[0mname\u001B[0m\u001B[1;33m]\u001B[0m\u001B[1;33m\u001B[0m\u001B[1;33m\u001B[0m\u001B[0m\n\u001B[1;32m-> 6204\u001B[1;33m         \u001B[1;32mreturn\u001B[0m \u001B[0mobject\u001B[0m\u001B[1;33m.\u001B[0m\u001B[0m__getattribute__\u001B[0m\u001B[1;33m(\u001B[0m\u001B[0mself\u001B[0m\u001B[1;33m,\u001B[0m \u001B[0mname\u001B[0m\u001B[1;33m)\u001B[0m\u001B[1;33m\u001B[0m\u001B[1;33m\u001B[0m\u001B[0m\n\u001B[0m",
      "\u001B[1;31mAttributeError\u001B[0m: 'DataFrame' object has no attribute 'append'"
     ]
    }
   ],
   "source": [
    "df_roads = Functions.road_range_lon_lat(df_rds)"
   ],
   "metadata": {
    "collapsed": false,
    "ExecuteTime": {
     "end_time": "2024-02-16T10:54:51.622830300Z",
     "start_time": "2024-02-16T10:54:51.503660600Z"
    }
   },
   "id": "ef06105d7d552fca"
  },
  {
   "cell_type": "code",
   "execution_count": null,
   "outputs": [],
   "source": [
    "df_roads"
   ],
   "metadata": {
    "collapsed": false,
    "ExecuteTime": {
     "start_time": "2024-02-16T10:54:51.603534300Z"
    }
   },
   "id": "7d290d859dade97f"
  },
  {
   "cell_type": "code",
   "execution_count": null,
   "outputs": [],
   "source": [],
   "metadata": {
    "collapsed": false,
    "ExecuteTime": {
     "start_time": "2024-02-16T10:48:18.725814100Z"
    }
   },
   "id": "c8645a66a996fb4f"
  },
  {
   "cell_type": "code",
   "execution_count": null,
   "outputs": [],
   "source": [],
   "metadata": {
    "collapsed": false
   },
   "id": "acb0da64ed7479f4"
  }
 ],
 "metadata": {
  "kernelspec": {
   "display_name": "Python 3",
   "language": "python",
   "name": "python3"
  },
  "language_info": {
   "codemirror_mode": {
    "name": "ipython",
    "version": 2
   },
   "file_extension": ".py",
   "mimetype": "text/x-python",
   "name": "python",
   "nbconvert_exporter": "python",
   "pygments_lexer": "ipython2",
   "version": "2.7.6"
  }
 },
 "nbformat": 4,
 "nbformat_minor": 5
}
