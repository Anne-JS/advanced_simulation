{
 "cells": [
  {
   "cell_type": "code",
   "execution_count": 1,
   "id": "initial_id",
   "metadata": {
    "collapsed": true,
    "ExecuteTime": {
     "end_time": "2024-02-19T15:20:27.952381500Z",
     "start_time": "2024-02-19T15:20:27.064232300Z"
    }
   },
   "outputs": [],
   "source": [
    "import pandas as pd\n",
    "import Functions"
   ]
  },
  {
   "cell_type": "code",
   "execution_count": 2,
   "outputs": [
    {
     "name": "stderr",
     "output_type": "stream",
     "text": [
      "C:\\Users\\svenk\\Documents\\GitHub\\advanced_simulation\\Functions.py:135: FutureWarning: Series.__getitem__ treating keys as positions is deprecated. In a future version, integer keys will always be treated as labels (consistent with DataFrame behavior). To access a value by position, use `ser.iloc[pos]`\n",
      "  lsrp = row[i]\n",
      "C:\\Users\\svenk\\Documents\\GitHub\\advanced_simulation\\Functions.py:136: FutureWarning: Series.__getitem__ treating keys as positions is deprecated. In a future version, integer keys will always be treated as labels (consistent with DataFrame behavior). To access a value by position, use `ser.iloc[pos]`\n",
      "  lat = row[i + 1]\n",
      "C:\\Users\\svenk\\Documents\\GitHub\\advanced_simulation\\Functions.py:137: FutureWarning: Series.__getitem__ treating keys as positions is deprecated. In a future version, integer keys will always be treated as labels (consistent with DataFrame behavior). To access a value by position, use `ser.iloc[pos]`\n",
      "  lon = row[i + 2]\n"
     ]
    },
    {
     "name": "stdout",
     "output_type": "stream",
     "text": [
      "Rows to be deleted:\n",
      "        road       km                    type  LRPName  \\\n",
      "6681   Z1405   51.682   Truss with Steel Deck  LRP054a   \n",
      "7456   Z1811  147.040   Baily with Steel Deck  LRP149a   \n",
      "7458   Z1811  147.506       RCC Girder Bridge  LRP149d   \n",
      "18641  Z1811  148.667  Baily with Timber Deck  LRP150b   \n",
      "7462   Z1811  149.145       RCC Girder Bridge  LRP151a   \n",
      "12415  Z2813   11.630        PC Girder Bridge  LRP011a   \n",
      "18761  Z2813   12.710       RCC Girder Bridge  LRP012b   \n",
      "12417  Z2813   18.250              RCC Bridge  LRP018a   \n",
      "12418  Z2813   24.510              RCC Bridge  LRP024c   \n",
      "21309  Z7718   38.930       RCC Girder Bridge  LRP038a   \n",
      "21362  Z8203    1.192   Baily with Steel Deck  LRP001a   \n",
      "20113  Z8203    1.749   Baily with Steel Deck  LRP001c   \n",
      "13369  Z8203    2.573   Baily with Steel Deck  LRP002a   \n",
      "14794  Z8203    3.492   Truss with Steel Deck  LRP003a   \n",
      "14795  Z8203    3.930   Truss with Steel Deck  LRP003c   \n",
      "20114  Z8203    4.717   Baily with Steel Deck  LRP004a   \n",
      "14796  Z8203    5.665   Truss with Steel Deck  LRP005a   \n",
      "\n",
      "                              name  length condition  structureNr  \\\n",
      "6681              Ajadnagar Bridge   81.51         A       121419   \n",
      "7456               Tulatoli Bridge   24.15         A       121607   \n",
      "7458   Naikhongchari Bazar Bridge.   12.50         A       121608   \n",
      "18641        Uttor Bisamara Bridge   15.60         C       121612   \n",
      "7462         South Bisamara Bridge    6.80         A       121620   \n",
      "12415               Barohal Bridge   60.00         B       121517   \n",
      "18761                Gutila Bridge   18.70         C       121520   \n",
      "12417             Pahartali Bridge   18.00         B       120087   \n",
      "12418              Jamalgar Bridge   15.00         B       121521   \n",
      "21309             Mithakali bridge   19.90         D       119191   \n",
      "21362         Hasara Bridge (East)   24.00         D       120345   \n",
      "20113               Satgaon Bridge   27.60         C       120347   \n",
      "13369               Buichid Bridge   24.70         B       120349   \n",
      "14794            Kathalbari Bridge   36.70         A       120350   \n",
      "14795               Birtara Bridge   31.20         A       120353   \n",
      "20114               Tingaon Bridge   18.50         C       120354   \n",
      "14796               Beltoli Bridge   36.80         A       120355   \n",
      "\n",
      "                                                roadName chainage  width  \\\n",
      "6681              Lakshmipur-Char Alaxandar-Sonapur Road   51.682    NaN   \n",
      "7456   Bandarban-Chimbuk-Thanchi-Alikadam-Baisari-Nai...   147.04    NaN   \n",
      "7458   Bandarban-Chimbuk-Thanchi-Alikadam-Baisari-Nai...  147.506    NaN   \n",
      "18641  Bandarban-Chimbuk-Thanchi-Alikadam-Baisari-Nai...  148.667    NaN   \n",
      "7462   Bandarban-Chimbuk-Thanchi-Alikadam-Baisari-Nai...  149.145    NaN   \n",
      "12415          Sunamganj-Tekerhat-Badaghat-Tahirpur Road    11.63    NaN   \n",
      "18761          Sunamganj-Tekerhat-Badaghat-Tahirpur Road    12.71    NaN   \n",
      "12417          Sunamganj-Tekerhat-Badaghat-Tahirpur Road    18.25    NaN   \n",
      "12418          Sunamganj-Tekerhat-Badaghat-Tahirpur Road    24.51    NaN   \n",
      "21309      Kachua (Pingoria)-Talighati-Herma-Rampal Road    38.93    NaN   \n",
      "21362  Keraniganj (Sayedpur)-Hashara-Birtara-Singpara...    1.192    NaN   \n",
      "20113  Keraniganj (Sayedpur)-Hashara-Birtara-Singpara...    1.749    NaN   \n",
      "13369  Keraniganj (Sayedpur)-Hashara-Birtara-Singpara...    2.573    NaN   \n",
      "14794  Keraniganj (Sayedpur)-Hashara-Birtara-Singpara...    3.492    NaN   \n",
      "14795  Keraniganj (Sayedpur)-Hashara-Birtara-Singpara...     3.93    NaN   \n",
      "20114  Keraniganj (Sayedpur)-Hashara-Birtara-Singpara...    4.717    NaN   \n",
      "14796  Keraniganj (Sayedpur)-Hashara-Birtara-Singpara...    5.665    NaN   \n",
      "\n",
      "       constructionYear  spans        zone     circle    division  \\\n",
      "6681                NaN    NaN     Comilla   Noakhali    Laxmipur   \n",
      "7456                NaN    NaN  Chittagong  Rangamati   Bandarban   \n",
      "7458                NaN    NaN  Chittagong  Rangamati   Bandarban   \n",
      "18641               NaN    NaN  Chittagong  Rangamati   Bandarban   \n",
      "7462                NaN    NaN  Chittagong  Rangamati   Bandarban   \n",
      "12415               NaN    NaN      Sylhet     Sylhet   Sunamganj   \n",
      "18761               NaN    NaN      Sylhet     Sylhet   Sunamganj   \n",
      "12417               NaN    NaN      Sylhet     Sylhet   Sunamganj   \n",
      "12418               NaN    NaN      Sylhet     Sylhet   Sunamganj   \n",
      "21309               NaN    NaN      Khulna     Khulna    Bagerhat   \n",
      "21362               NaN    NaN       Dhaka      Dhaka  Munshiganj   \n",
      "20113               NaN    NaN       Dhaka      Dhaka  Munshiganj   \n",
      "13369               NaN    NaN       Dhaka      Dhaka  Munshiganj   \n",
      "14794               NaN    NaN       Dhaka      Dhaka  Munshiganj   \n",
      "14795               NaN    NaN       Dhaka      Dhaka  Munshiganj   \n",
      "20114               NaN    NaN       Dhaka      Dhaka  Munshiganj   \n",
      "14796               NaN    NaN       Dhaka      Dhaka  Munshiganj   \n",
      "\n",
      "      sub-division  lat  lon      EstimatedLoc  \n",
      "6681      Laxmipur  0.0  0.0      road_precise  \n",
      "7456   Bandarban-1  0.0  0.0  road_interpolate  \n",
      "7458   Bandarban-1  0.0  0.0  road_interpolate  \n",
      "18641  Bandarban-1  0.0  0.0  road_interpolate  \n",
      "7462   Bandarban-1  0.0  0.0  road_interpolate  \n",
      "12415    Sunamganj  0.0  0.0  road_interpolate  \n",
      "18761    Sunamganj  0.0  0.0  road_interpolate  \n",
      "12417    Sunamganj  0.0  0.0  road_interpolate  \n",
      "12418    Sunamganj  0.0  0.0  road_interpolate  \n",
      "21309   Bagerhat-2  0.0  0.0  road_interpolate  \n",
      "21362   Keraniganj  0.0  0.0  road_interpolate  \n",
      "20113   Keraniganj  0.0  0.0  road_interpolate  \n",
      "13369   Keraniganj  0.0  0.0  road_interpolate  \n",
      "14794   Keraniganj  0.0  0.0  road_interpolate  \n",
      "14795   Keraniganj  0.0  0.0  road_interpolate  \n",
      "20114   Keraniganj  0.0  0.0  road_interpolate  \n",
      "14796   Keraniganj  0.0  0.0  road_interpolate  \n",
      "Z8203 72.8770765269 step 1\n",
      "Z8203 72.8770765269 step 2\n",
      "Z8203 72.8770765269 step 2\n",
      "Z8203 72.8770765269 step 2\n",
      "Z8203 72.8770765269 step 2\n",
      "Z8203 72.8770765269 step 2\n",
      "Z8203 72.8770765269 step 3\n",
      "Z8203 72.8770765269 step 4\n",
      "23.5824833333333\n",
      "Z8203, 90.3175555555555\n",
      "Z8203, 90.3185833333333\n",
      "Z8203, 90.3196944444444\n",
      "Z8203, 90.3218888888888\n",
      "Z8203, 90.3243333333333\n",
      "Z8203 72.8770765269 step 5 lon\n",
      "90.32041111111106\n"
     ]
    }
   ],
   "source": [
    "bmms, df_rds, df_road_ranges, df_rds_restructured = Functions.clean('BMMS_overview.xlsx', '_roads.tsv')"
   ],
   "metadata": {
    "collapsed": false,
    "ExecuteTime": {
     "end_time": "2024-02-19T15:21:58.054785100Z",
     "start_time": "2024-02-19T15:20:27.932581800Z"
    }
   },
   "id": "587e7b9785c2874f"
  },
  {
   "cell_type": "code",
   "execution_count": 3,
   "outputs": [
    {
     "data": {
      "text/plain": "        road      km                   type  LRPName  \\\n0         N1   1.800            Box Culvert  LRP001a   \n1         N1   4.925            Box Culvert  LRP004b   \n2         N1   8.976       PC Girder Bridge  LRP008b   \n3         N1   8.976       PC Girder Bridge  LRP008b   \n4         N1  10.543            Box Culvert  LRP010a   \n...      ...     ...                    ...      ...   \n21385  Z8948   0.640            Box Culvert    LRPSb   \n21386  Z8948   1.010            Box Culvert  LRP001a   \n21387  Z8948   2.070  Baily with Steel Deck  LRP002a   \n21388  Z8948   2.070  Steel Beam & RCC Slab  LRP002a   \n21389  Z8948   2.100  Steel Beam & RCC Slab  LRP002c   \n\n                            name  length condition  structureNr  \\\n0                              .   11.30         A       117861   \n1                              .    6.60         A       117862   \n2              Kanch pur Bridge.  394.23         A       119889   \n3      KANCHPUR PC GIRDER BRIDGE  397.00         C       101102   \n4           KATCHPUR BOX CULVERT    8.00         B       101106   \n...                          ...     ...       ...          ...   \n21385                          .    2.00         A       116833   \n21386                          .    2.00         A       116834   \n21387                        NaN   27.36         A       119862   \n21388                          .   18.50         A       116835   \n21389                          .   18.50         A       116836   \n\n                                                roadName chainage  width  \\\n0      Dhaka (Jatrabari)-Comilla (Mainamati)-Chittago...      1.8  19.50   \n1      Dhaka (Jatrabari)-Comilla (Mainamati)-Chittago...    4.925  35.40   \n2      Dhaka (Jatrabari)-Comilla (Mainamati)-Chittago...    8.976    NaN   \n3      Dhaka (Jatrabari)-Comilla (Mainamati)-Chittago...    8.976  14.65   \n4      Dhaka (Jatrabari)-Comilla (Mainamati)-Chittago...   10.543  21.70   \n...                                                  ...      ...    ...   \n21385                           Fakirhat-Khasherhat Road     0.64  10.00   \n21386                           Fakirhat-Khasherhat Road     1.01   9.70   \n21387                           Fakirhat-Khasherhat Road     2.07    NaN   \n21388                           Fakirhat-Khasherhat Road     2.07   3.00   \n21389                           Fakirhat-Khasherhat Road      2.1   3.00   \n\n       constructionYear  spans     zone   circle     division   sub-division  \\\n0                2005.0    2.0    Dhaka    Dhaka  Narayanganj  Narayanganj-1   \n1                2006.0    1.0    Dhaka    Dhaka  Narayanganj  Narayanganj-1   \n2                   NaN    NaN    Dhaka    Dhaka  Narayanganj  Narayanganj-1   \n3                1986.0    8.0    Dhaka    Dhaka  Narayanganj  Narayanganj-1   \n4                1987.0    2.0    Dhaka    Dhaka  Narayanganj      Vitikandi   \n...                 ...    ...      ...      ...          ...            ...   \n21385            1998.0    1.0  Barisal  Barisal        Bhola          Bhola   \n21386            1995.0    1.0  Barisal  Barisal        Bhola          Bhola   \n21387               NaN    NaN  Barisal  Barisal        Bhola          Bhola   \n21388            1994.0    3.0  Barisal  Barisal        Bhola          Bhola   \n21389            1990.0    3.0  Barisal  Barisal        Bhola          Bhola   \n\n             lat        lon  EstimatedLoc  \n0      23.702889  90.450389          bcs1  \n1      23.693611  90.478833          bcs1  \n2      23.704583  90.518833  road_precise  \n3      23.702083  90.515917          bcs1  \n4      23.702056  90.528194          bcs1  \n...          ...        ...           ...  \n21385  22.422778  90.787222          bcs1  \n21386  22.419167  90.787500          bcs1  \n21387        NaN        NaN          bcs1  \n21388  22.414167  90.791667          bcs1  \n21389  22.414167  90.791944          bcs1  \n\n[21390 rows x 20 columns]",
      "text/html": "<div>\n<style scoped>\n    .dataframe tbody tr th:only-of-type {\n        vertical-align: middle;\n    }\n\n    .dataframe tbody tr th {\n        vertical-align: top;\n    }\n\n    .dataframe thead th {\n        text-align: right;\n    }\n</style>\n<table border=\"1\" class=\"dataframe\">\n  <thead>\n    <tr style=\"text-align: right;\">\n      <th></th>\n      <th>road</th>\n      <th>km</th>\n      <th>type</th>\n      <th>LRPName</th>\n      <th>name</th>\n      <th>length</th>\n      <th>condition</th>\n      <th>structureNr</th>\n      <th>roadName</th>\n      <th>chainage</th>\n      <th>width</th>\n      <th>constructionYear</th>\n      <th>spans</th>\n      <th>zone</th>\n      <th>circle</th>\n      <th>division</th>\n      <th>sub-division</th>\n      <th>lat</th>\n      <th>lon</th>\n      <th>EstimatedLoc</th>\n    </tr>\n  </thead>\n  <tbody>\n    <tr>\n      <th>0</th>\n      <td>N1</td>\n      <td>1.800</td>\n      <td>Box Culvert</td>\n      <td>LRP001a</td>\n      <td>.</td>\n      <td>11.30</td>\n      <td>A</td>\n      <td>117861</td>\n      <td>Dhaka (Jatrabari)-Comilla (Mainamati)-Chittago...</td>\n      <td>1.8</td>\n      <td>19.50</td>\n      <td>2005.0</td>\n      <td>2.0</td>\n      <td>Dhaka</td>\n      <td>Dhaka</td>\n      <td>Narayanganj</td>\n      <td>Narayanganj-1</td>\n      <td>23.702889</td>\n      <td>90.450389</td>\n      <td>bcs1</td>\n    </tr>\n    <tr>\n      <th>1</th>\n      <td>N1</td>\n      <td>4.925</td>\n      <td>Box Culvert</td>\n      <td>LRP004b</td>\n      <td>.</td>\n      <td>6.60</td>\n      <td>A</td>\n      <td>117862</td>\n      <td>Dhaka (Jatrabari)-Comilla (Mainamati)-Chittago...</td>\n      <td>4.925</td>\n      <td>35.40</td>\n      <td>2006.0</td>\n      <td>1.0</td>\n      <td>Dhaka</td>\n      <td>Dhaka</td>\n      <td>Narayanganj</td>\n      <td>Narayanganj-1</td>\n      <td>23.693611</td>\n      <td>90.478833</td>\n      <td>bcs1</td>\n    </tr>\n    <tr>\n      <th>2</th>\n      <td>N1</td>\n      <td>8.976</td>\n      <td>PC Girder Bridge</td>\n      <td>LRP008b</td>\n      <td>Kanch pur Bridge.</td>\n      <td>394.23</td>\n      <td>A</td>\n      <td>119889</td>\n      <td>Dhaka (Jatrabari)-Comilla (Mainamati)-Chittago...</td>\n      <td>8.976</td>\n      <td>NaN</td>\n      <td>NaN</td>\n      <td>NaN</td>\n      <td>Dhaka</td>\n      <td>Dhaka</td>\n      <td>Narayanganj</td>\n      <td>Narayanganj-1</td>\n      <td>23.704583</td>\n      <td>90.518833</td>\n      <td>road_precise</td>\n    </tr>\n    <tr>\n      <th>3</th>\n      <td>N1</td>\n      <td>8.976</td>\n      <td>PC Girder Bridge</td>\n      <td>LRP008b</td>\n      <td>KANCHPUR PC GIRDER BRIDGE</td>\n      <td>397.00</td>\n      <td>C</td>\n      <td>101102</td>\n      <td>Dhaka (Jatrabari)-Comilla (Mainamati)-Chittago...</td>\n      <td>8.976</td>\n      <td>14.65</td>\n      <td>1986.0</td>\n      <td>8.0</td>\n      <td>Dhaka</td>\n      <td>Dhaka</td>\n      <td>Narayanganj</td>\n      <td>Narayanganj-1</td>\n      <td>23.702083</td>\n      <td>90.515917</td>\n      <td>bcs1</td>\n    </tr>\n    <tr>\n      <th>4</th>\n      <td>N1</td>\n      <td>10.543</td>\n      <td>Box Culvert</td>\n      <td>LRP010a</td>\n      <td>KATCHPUR BOX CULVERT</td>\n      <td>8.00</td>\n      <td>B</td>\n      <td>101106</td>\n      <td>Dhaka (Jatrabari)-Comilla (Mainamati)-Chittago...</td>\n      <td>10.543</td>\n      <td>21.70</td>\n      <td>1987.0</td>\n      <td>2.0</td>\n      <td>Dhaka</td>\n      <td>Dhaka</td>\n      <td>Narayanganj</td>\n      <td>Vitikandi</td>\n      <td>23.702056</td>\n      <td>90.528194</td>\n      <td>bcs1</td>\n    </tr>\n    <tr>\n      <th>...</th>\n      <td>...</td>\n      <td>...</td>\n      <td>...</td>\n      <td>...</td>\n      <td>...</td>\n      <td>...</td>\n      <td>...</td>\n      <td>...</td>\n      <td>...</td>\n      <td>...</td>\n      <td>...</td>\n      <td>...</td>\n      <td>...</td>\n      <td>...</td>\n      <td>...</td>\n      <td>...</td>\n      <td>...</td>\n      <td>...</td>\n      <td>...</td>\n      <td>...</td>\n    </tr>\n    <tr>\n      <th>21385</th>\n      <td>Z8948</td>\n      <td>0.640</td>\n      <td>Box Culvert</td>\n      <td>LRPSb</td>\n      <td>.</td>\n      <td>2.00</td>\n      <td>A</td>\n      <td>116833</td>\n      <td>Fakirhat-Khasherhat Road</td>\n      <td>0.64</td>\n      <td>10.00</td>\n      <td>1998.0</td>\n      <td>1.0</td>\n      <td>Barisal</td>\n      <td>Barisal</td>\n      <td>Bhola</td>\n      <td>Bhola</td>\n      <td>22.422778</td>\n      <td>90.787222</td>\n      <td>bcs1</td>\n    </tr>\n    <tr>\n      <th>21386</th>\n      <td>Z8948</td>\n      <td>1.010</td>\n      <td>Box Culvert</td>\n      <td>LRP001a</td>\n      <td>.</td>\n      <td>2.00</td>\n      <td>A</td>\n      <td>116834</td>\n      <td>Fakirhat-Khasherhat Road</td>\n      <td>1.01</td>\n      <td>9.70</td>\n      <td>1995.0</td>\n      <td>1.0</td>\n      <td>Barisal</td>\n      <td>Barisal</td>\n      <td>Bhola</td>\n      <td>Bhola</td>\n      <td>22.419167</td>\n      <td>90.787500</td>\n      <td>bcs1</td>\n    </tr>\n    <tr>\n      <th>21387</th>\n      <td>Z8948</td>\n      <td>2.070</td>\n      <td>Baily with Steel Deck</td>\n      <td>LRP002a</td>\n      <td>NaN</td>\n      <td>27.36</td>\n      <td>A</td>\n      <td>119862</td>\n      <td>Fakirhat-Khasherhat Road</td>\n      <td>2.07</td>\n      <td>NaN</td>\n      <td>NaN</td>\n      <td>NaN</td>\n      <td>Barisal</td>\n      <td>Barisal</td>\n      <td>Bhola</td>\n      <td>Bhola</td>\n      <td>NaN</td>\n      <td>NaN</td>\n      <td>bcs1</td>\n    </tr>\n    <tr>\n      <th>21388</th>\n      <td>Z8948</td>\n      <td>2.070</td>\n      <td>Steel Beam &amp; RCC Slab</td>\n      <td>LRP002a</td>\n      <td>.</td>\n      <td>18.50</td>\n      <td>A</td>\n      <td>116835</td>\n      <td>Fakirhat-Khasherhat Road</td>\n      <td>2.07</td>\n      <td>3.00</td>\n      <td>1994.0</td>\n      <td>3.0</td>\n      <td>Barisal</td>\n      <td>Barisal</td>\n      <td>Bhola</td>\n      <td>Bhola</td>\n      <td>22.414167</td>\n      <td>90.791667</td>\n      <td>bcs1</td>\n    </tr>\n    <tr>\n      <th>21389</th>\n      <td>Z8948</td>\n      <td>2.100</td>\n      <td>Steel Beam &amp; RCC Slab</td>\n      <td>LRP002c</td>\n      <td>.</td>\n      <td>18.50</td>\n      <td>A</td>\n      <td>116836</td>\n      <td>Fakirhat-Khasherhat Road</td>\n      <td>2.1</td>\n      <td>3.00</td>\n      <td>1990.0</td>\n      <td>3.0</td>\n      <td>Barisal</td>\n      <td>Barisal</td>\n      <td>Bhola</td>\n      <td>Bhola</td>\n      <td>22.414167</td>\n      <td>90.791944</td>\n      <td>bcs1</td>\n    </tr>\n  </tbody>\n</table>\n<p>21390 rows × 20 columns</p>\n</div>"
     },
     "execution_count": 3,
     "metadata": {},
     "output_type": "execute_result"
    }
   ],
   "source": [
    "bmms"
   ],
   "metadata": {
    "collapsed": false,
    "ExecuteTime": {
     "end_time": "2024-02-19T15:21:58.082891400Z",
     "start_time": "2024-02-19T15:21:58.043621700Z"
    }
   },
   "id": "a9361bdc4bf2e708"
  },
  {
   "cell_type": "code",
   "execution_count": 4,
   "outputs": [
    {
     "data": {
      "text/plain": "        road     km                    type LRPName  \\\n10105  Z1124  0.285  Truss With Timber Deck   LRPSa   \n10106  Z1124  0.290  Baily with Timber Deck   LRPSa   \n\n                                name  length condition  structureNr  \\\n10105  Aziz Nagar Dokhin Para Bridge    21.4         D       121679   \n10106                              .    21.4         C       117761   \n\n                                roadName chainage  width  constructionYear  \\\n10105  Harbang-Villagerpara-Toitong Road    0.285    NaN               NaN   \n10106  Harbang-Villagerpara-Toitong Road     0.29    4.9            1960.0   \n\n       spans        zone      circle     division sub-division        lat  \\\n10105    NaN  Chittagong  Chittagong  Cox's Bazar     Chakoria  21.846472   \n10106    1.0  Chittagong  Chittagong  Cox's Bazar     Chakoria  21.895667   \n\n             lon  EstimatedLoc  \n10105  92.059556  road_precise  \n10106  92.059556          bcs1  ",
      "text/html": "<div>\n<style scoped>\n    .dataframe tbody tr th:only-of-type {\n        vertical-align: middle;\n    }\n\n    .dataframe tbody tr th {\n        vertical-align: top;\n    }\n\n    .dataframe thead th {\n        text-align: right;\n    }\n</style>\n<table border=\"1\" class=\"dataframe\">\n  <thead>\n    <tr style=\"text-align: right;\">\n      <th></th>\n      <th>road</th>\n      <th>km</th>\n      <th>type</th>\n      <th>LRPName</th>\n      <th>name</th>\n      <th>length</th>\n      <th>condition</th>\n      <th>structureNr</th>\n      <th>roadName</th>\n      <th>chainage</th>\n      <th>width</th>\n      <th>constructionYear</th>\n      <th>spans</th>\n      <th>zone</th>\n      <th>circle</th>\n      <th>division</th>\n      <th>sub-division</th>\n      <th>lat</th>\n      <th>lon</th>\n      <th>EstimatedLoc</th>\n    </tr>\n  </thead>\n  <tbody>\n    <tr>\n      <th>10105</th>\n      <td>Z1124</td>\n      <td>0.285</td>\n      <td>Truss With Timber Deck</td>\n      <td>LRPSa</td>\n      <td>Aziz Nagar Dokhin Para Bridge</td>\n      <td>21.4</td>\n      <td>D</td>\n      <td>121679</td>\n      <td>Harbang-Villagerpara-Toitong Road</td>\n      <td>0.285</td>\n      <td>NaN</td>\n      <td>NaN</td>\n      <td>NaN</td>\n      <td>Chittagong</td>\n      <td>Chittagong</td>\n      <td>Cox's Bazar</td>\n      <td>Chakoria</td>\n      <td>21.846472</td>\n      <td>92.059556</td>\n      <td>road_precise</td>\n    </tr>\n    <tr>\n      <th>10106</th>\n      <td>Z1124</td>\n      <td>0.290</td>\n      <td>Baily with Timber Deck</td>\n      <td>LRPSa</td>\n      <td>.</td>\n      <td>21.4</td>\n      <td>C</td>\n      <td>117761</td>\n      <td>Harbang-Villagerpara-Toitong Road</td>\n      <td>0.29</td>\n      <td>4.9</td>\n      <td>1960.0</td>\n      <td>1.0</td>\n      <td>Chittagong</td>\n      <td>Chittagong</td>\n      <td>Cox's Bazar</td>\n      <td>Chakoria</td>\n      <td>21.895667</td>\n      <td>92.059556</td>\n      <td>bcs1</td>\n    </tr>\n  </tbody>\n</table>\n</div>"
     },
     "execution_count": 4,
     "metadata": {},
     "output_type": "execute_result"
    }
   ],
   "source": [
    "bmms[bmms['road'] == 'Z1124']"
   ],
   "metadata": {
    "collapsed": false,
    "ExecuteTime": {
     "end_time": "2024-02-19T15:21:58.097230600Z",
     "start_time": "2024-02-19T15:21:58.074861400Z"
    }
   },
   "id": "7b38da093a9d32af"
  },
  {
   "cell_type": "code",
   "execution_count": 5,
   "outputs": [
    {
     "data": {
      "text/plain": "      road    min_lat    max_lat    min_lon    max_lon\n0       N1  20.862917  23.706083  90.443333  92.299639\n1     N101  23.451333  23.464028  91.211806  91.253389\n2     N102  23.478972  24.050611  91.021083  91.159139\n3     N103  23.957028  23.996889  91.109278  91.115528\n4     N104  22.825749  23.009861  91.096111  91.399416\n..     ...        ...        ...        ...        ...\n872  Z8910  22.418888  22.675916  90.408889  90.561417\n873  Z8913  22.335500  22.396083  90.682888  90.841611\n874  Z8915  22.589389  22.608972  90.619472  90.753167\n875  Z8916  22.595389  22.625499  90.661722  90.746666\n876  Z8943  22.423083  22.430249  90.768916  90.849472\n\n[877 rows x 5 columns]",
      "text/html": "<div>\n<style scoped>\n    .dataframe tbody tr th:only-of-type {\n        vertical-align: middle;\n    }\n\n    .dataframe tbody tr th {\n        vertical-align: top;\n    }\n\n    .dataframe thead th {\n        text-align: right;\n    }\n</style>\n<table border=\"1\" class=\"dataframe\">\n  <thead>\n    <tr style=\"text-align: right;\">\n      <th></th>\n      <th>road</th>\n      <th>min_lat</th>\n      <th>max_lat</th>\n      <th>min_lon</th>\n      <th>max_lon</th>\n    </tr>\n  </thead>\n  <tbody>\n    <tr>\n      <th>0</th>\n      <td>N1</td>\n      <td>20.862917</td>\n      <td>23.706083</td>\n      <td>90.443333</td>\n      <td>92.299639</td>\n    </tr>\n    <tr>\n      <th>1</th>\n      <td>N101</td>\n      <td>23.451333</td>\n      <td>23.464028</td>\n      <td>91.211806</td>\n      <td>91.253389</td>\n    </tr>\n    <tr>\n      <th>2</th>\n      <td>N102</td>\n      <td>23.478972</td>\n      <td>24.050611</td>\n      <td>91.021083</td>\n      <td>91.159139</td>\n    </tr>\n    <tr>\n      <th>3</th>\n      <td>N103</td>\n      <td>23.957028</td>\n      <td>23.996889</td>\n      <td>91.109278</td>\n      <td>91.115528</td>\n    </tr>\n    <tr>\n      <th>4</th>\n      <td>N104</td>\n      <td>22.825749</td>\n      <td>23.009861</td>\n      <td>91.096111</td>\n      <td>91.399416</td>\n    </tr>\n    <tr>\n      <th>...</th>\n      <td>...</td>\n      <td>...</td>\n      <td>...</td>\n      <td>...</td>\n      <td>...</td>\n    </tr>\n    <tr>\n      <th>872</th>\n      <td>Z8910</td>\n      <td>22.418888</td>\n      <td>22.675916</td>\n      <td>90.408889</td>\n      <td>90.561417</td>\n    </tr>\n    <tr>\n      <th>873</th>\n      <td>Z8913</td>\n      <td>22.335500</td>\n      <td>22.396083</td>\n      <td>90.682888</td>\n      <td>90.841611</td>\n    </tr>\n    <tr>\n      <th>874</th>\n      <td>Z8915</td>\n      <td>22.589389</td>\n      <td>22.608972</td>\n      <td>90.619472</td>\n      <td>90.753167</td>\n    </tr>\n    <tr>\n      <th>875</th>\n      <td>Z8916</td>\n      <td>22.595389</td>\n      <td>22.625499</td>\n      <td>90.661722</td>\n      <td>90.746666</td>\n    </tr>\n    <tr>\n      <th>876</th>\n      <td>Z8943</td>\n      <td>22.423083</td>\n      <td>22.430249</td>\n      <td>90.768916</td>\n      <td>90.849472</td>\n    </tr>\n  </tbody>\n</table>\n<p>877 rows × 5 columns</p>\n</div>"
     },
     "execution_count": 5,
     "metadata": {},
     "output_type": "execute_result"
    }
   ],
   "source": [
    "df_road_ranges"
   ],
   "metadata": {
    "collapsed": false,
    "ExecuteTime": {
     "end_time": "2024-02-19T15:21:58.144687Z",
     "start_time": "2024-02-19T15:21:58.093230700Z"
    }
   },
   "id": "921e4746b6f3e8cd"
  },
  {
   "cell_type": "code",
   "execution_count": 6,
   "outputs": [],
   "source": [
    "bmms.to_excel('BMMS_overview_new.xlsx')\n",
    "df_rds.to_csv('_roads_new.tsv', sep='\\t', index=False)"
   ],
   "metadata": {
    "collapsed": false,
    "ExecuteTime": {
     "end_time": "2024-02-19T15:22:05.321885100Z",
     "start_time": "2024-02-19T15:21:58.105815400Z"
    }
   },
   "id": "fa8047e19ed3e019"
  },
  {
   "cell_type": "code",
   "execution_count": 7,
   "outputs": [
    {
     "data": {
      "text/plain": "        road     km                   type  LRPName                 name  \\\n20452  Z8203  0.193  Baily with Steel Deck    LRPSa        Hasara Bridge   \n20453  Z8203  0.193  Baily with Steel Deck    LRPSa        CHOWDURE PARA   \n20454  Z8203  1.192  Baily with Steel Deck  LRP001a        HASHARA(EAST)   \n20455  Z8203  1.749  Baily with Steel Deck  LRP001c   SHADGONBAILY BRIGE   \n20456  Z8203  2.573  Baily with Steel Deck  LRP002a  BUCHID BAILY BRIDGE   \n20457  Z8203  3.492  Baily with Steel Deck  LRP003a    KATHAL BARI BAILY   \n20458  Z8203  3.930  Baily with Steel Deck  LRP003c        BIRTRA BRIDGE   \n20459  Z8203  4.717  Baily with Steel Deck  LRP004a               TINGOW   \n20460  Z8203  5.665  Baily with Steel Deck  LRP005a      BALETOLA BRIDGE   \n\n       length condition  structureNr  \\\n20452   24.60         B       120357   \n20453   24.30         D       107282   \n20454   24.20         D       107289   \n20455   27.30         D       107293   \n20456   24.35         B       107304   \n20457   36.30         B       107315   \n20458   30.00         B       107326   \n20459   18.30         B       107337   \n20460   36.50         B       107345   \n\n                                                roadName chainage  width  \\\n20452  Keraniganj (Sayedpur)-Hashara-Birtara-Singpara...    0.193    NaN   \n20453  Keraniganj (Sayedpur)-Hashara-Birtara-Singpara...    0.193   3.50   \n20454  Keraniganj (Sayedpur)-Hashara-Birtara-Singpara...    1.192   3.50   \n20455  Keraniganj (Sayedpur)-Hashara-Birtara-Singpara...    1.749   3.50   \n20456  Keraniganj (Sayedpur)-Hashara-Birtara-Singpara...    2.573   3.50   \n20457  Keraniganj (Sayedpur)-Hashara-Birtara-Singpara...    3.492   3.45   \n20458  Keraniganj (Sayedpur)-Hashara-Birtara-Singpara...     3.93   4.05   \n20459  Keraniganj (Sayedpur)-Hashara-Birtara-Singpara...    4.717   3.60   \n20460  Keraniganj (Sayedpur)-Hashara-Birtara-Singpara...    5.665   3.45   \n\n       constructionYear  spans   zone circle    division sub-division  \\\n20452               NaN    NaN  Dhaka  Dhaka  Munshiganj   Keraniganj   \n20453            1994.0    1.0  Dhaka  Dhaka  Munshiganj   Keraniganj   \n20454            1994.0    1.0  Dhaka  Dhaka  Munshiganj   Keraniganj   \n20455            1998.0    1.0  Dhaka  Dhaka  Munshiganj   Keraniganj   \n20456            1994.0    1.0  Dhaka  Dhaka  Munshiganj   Keraniganj   \n20457            1993.0    1.0  Dhaka  Dhaka  Munshiganj   Keraniganj   \n20458            1993.0    1.0  Dhaka  Dhaka  Munshiganj   Keraniganj   \n20459            1993.0    1.0  Dhaka  Dhaka  Munshiganj   Keraniganj   \n20460            1997.0    1.0  Dhaka  Dhaka  Munshiganj   Keraniganj   \n\n             lat        lon      EstimatedLoc  \n20452  23.582483  90.320411  road_interpolate  \n20453  23.596972  90.317556              bcs1  \n20454  23.588083  90.318583              bcs1  \n20455  23.583111  90.319694              bcs1  \n20456  23.576056  90.321889              bcs1  \n20457  23.568194  90.324333              bcs1  \n20458  23.581194  90.326028              bcs1  \n20459  23.557806  90.328083              bcs1  \n20460  23.549917  90.331250              bcs1  ",
      "text/html": "<div>\n<style scoped>\n    .dataframe tbody tr th:only-of-type {\n        vertical-align: middle;\n    }\n\n    .dataframe tbody tr th {\n        vertical-align: top;\n    }\n\n    .dataframe thead th {\n        text-align: right;\n    }\n</style>\n<table border=\"1\" class=\"dataframe\">\n  <thead>\n    <tr style=\"text-align: right;\">\n      <th></th>\n      <th>road</th>\n      <th>km</th>\n      <th>type</th>\n      <th>LRPName</th>\n      <th>name</th>\n      <th>length</th>\n      <th>condition</th>\n      <th>structureNr</th>\n      <th>roadName</th>\n      <th>chainage</th>\n      <th>width</th>\n      <th>constructionYear</th>\n      <th>spans</th>\n      <th>zone</th>\n      <th>circle</th>\n      <th>division</th>\n      <th>sub-division</th>\n      <th>lat</th>\n      <th>lon</th>\n      <th>EstimatedLoc</th>\n    </tr>\n  </thead>\n  <tbody>\n    <tr>\n      <th>20452</th>\n      <td>Z8203</td>\n      <td>0.193</td>\n      <td>Baily with Steel Deck</td>\n      <td>LRPSa</td>\n      <td>Hasara Bridge</td>\n      <td>24.60</td>\n      <td>B</td>\n      <td>120357</td>\n      <td>Keraniganj (Sayedpur)-Hashara-Birtara-Singpara...</td>\n      <td>0.193</td>\n      <td>NaN</td>\n      <td>NaN</td>\n      <td>NaN</td>\n      <td>Dhaka</td>\n      <td>Dhaka</td>\n      <td>Munshiganj</td>\n      <td>Keraniganj</td>\n      <td>23.582483</td>\n      <td>90.320411</td>\n      <td>road_interpolate</td>\n    </tr>\n    <tr>\n      <th>20453</th>\n      <td>Z8203</td>\n      <td>0.193</td>\n      <td>Baily with Steel Deck</td>\n      <td>LRPSa</td>\n      <td>CHOWDURE PARA</td>\n      <td>24.30</td>\n      <td>D</td>\n      <td>107282</td>\n      <td>Keraniganj (Sayedpur)-Hashara-Birtara-Singpara...</td>\n      <td>0.193</td>\n      <td>3.50</td>\n      <td>1994.0</td>\n      <td>1.0</td>\n      <td>Dhaka</td>\n      <td>Dhaka</td>\n      <td>Munshiganj</td>\n      <td>Keraniganj</td>\n      <td>23.596972</td>\n      <td>90.317556</td>\n      <td>bcs1</td>\n    </tr>\n    <tr>\n      <th>20454</th>\n      <td>Z8203</td>\n      <td>1.192</td>\n      <td>Baily with Steel Deck</td>\n      <td>LRP001a</td>\n      <td>HASHARA(EAST)</td>\n      <td>24.20</td>\n      <td>D</td>\n      <td>107289</td>\n      <td>Keraniganj (Sayedpur)-Hashara-Birtara-Singpara...</td>\n      <td>1.192</td>\n      <td>3.50</td>\n      <td>1994.0</td>\n      <td>1.0</td>\n      <td>Dhaka</td>\n      <td>Dhaka</td>\n      <td>Munshiganj</td>\n      <td>Keraniganj</td>\n      <td>23.588083</td>\n      <td>90.318583</td>\n      <td>bcs1</td>\n    </tr>\n    <tr>\n      <th>20455</th>\n      <td>Z8203</td>\n      <td>1.749</td>\n      <td>Baily with Steel Deck</td>\n      <td>LRP001c</td>\n      <td>SHADGONBAILY BRIGE</td>\n      <td>27.30</td>\n      <td>D</td>\n      <td>107293</td>\n      <td>Keraniganj (Sayedpur)-Hashara-Birtara-Singpara...</td>\n      <td>1.749</td>\n      <td>3.50</td>\n      <td>1998.0</td>\n      <td>1.0</td>\n      <td>Dhaka</td>\n      <td>Dhaka</td>\n      <td>Munshiganj</td>\n      <td>Keraniganj</td>\n      <td>23.583111</td>\n      <td>90.319694</td>\n      <td>bcs1</td>\n    </tr>\n    <tr>\n      <th>20456</th>\n      <td>Z8203</td>\n      <td>2.573</td>\n      <td>Baily with Steel Deck</td>\n      <td>LRP002a</td>\n      <td>BUCHID BAILY BRIDGE</td>\n      <td>24.35</td>\n      <td>B</td>\n      <td>107304</td>\n      <td>Keraniganj (Sayedpur)-Hashara-Birtara-Singpara...</td>\n      <td>2.573</td>\n      <td>3.50</td>\n      <td>1994.0</td>\n      <td>1.0</td>\n      <td>Dhaka</td>\n      <td>Dhaka</td>\n      <td>Munshiganj</td>\n      <td>Keraniganj</td>\n      <td>23.576056</td>\n      <td>90.321889</td>\n      <td>bcs1</td>\n    </tr>\n    <tr>\n      <th>20457</th>\n      <td>Z8203</td>\n      <td>3.492</td>\n      <td>Baily with Steel Deck</td>\n      <td>LRP003a</td>\n      <td>KATHAL BARI BAILY</td>\n      <td>36.30</td>\n      <td>B</td>\n      <td>107315</td>\n      <td>Keraniganj (Sayedpur)-Hashara-Birtara-Singpara...</td>\n      <td>3.492</td>\n      <td>3.45</td>\n      <td>1993.0</td>\n      <td>1.0</td>\n      <td>Dhaka</td>\n      <td>Dhaka</td>\n      <td>Munshiganj</td>\n      <td>Keraniganj</td>\n      <td>23.568194</td>\n      <td>90.324333</td>\n      <td>bcs1</td>\n    </tr>\n    <tr>\n      <th>20458</th>\n      <td>Z8203</td>\n      <td>3.930</td>\n      <td>Baily with Steel Deck</td>\n      <td>LRP003c</td>\n      <td>BIRTRA BRIDGE</td>\n      <td>30.00</td>\n      <td>B</td>\n      <td>107326</td>\n      <td>Keraniganj (Sayedpur)-Hashara-Birtara-Singpara...</td>\n      <td>3.93</td>\n      <td>4.05</td>\n      <td>1993.0</td>\n      <td>1.0</td>\n      <td>Dhaka</td>\n      <td>Dhaka</td>\n      <td>Munshiganj</td>\n      <td>Keraniganj</td>\n      <td>23.581194</td>\n      <td>90.326028</td>\n      <td>bcs1</td>\n    </tr>\n    <tr>\n      <th>20459</th>\n      <td>Z8203</td>\n      <td>4.717</td>\n      <td>Baily with Steel Deck</td>\n      <td>LRP004a</td>\n      <td>TINGOW</td>\n      <td>18.30</td>\n      <td>B</td>\n      <td>107337</td>\n      <td>Keraniganj (Sayedpur)-Hashara-Birtara-Singpara...</td>\n      <td>4.717</td>\n      <td>3.60</td>\n      <td>1993.0</td>\n      <td>1.0</td>\n      <td>Dhaka</td>\n      <td>Dhaka</td>\n      <td>Munshiganj</td>\n      <td>Keraniganj</td>\n      <td>23.557806</td>\n      <td>90.328083</td>\n      <td>bcs1</td>\n    </tr>\n    <tr>\n      <th>20460</th>\n      <td>Z8203</td>\n      <td>5.665</td>\n      <td>Baily with Steel Deck</td>\n      <td>LRP005a</td>\n      <td>BALETOLA BRIDGE</td>\n      <td>36.50</td>\n      <td>B</td>\n      <td>107345</td>\n      <td>Keraniganj (Sayedpur)-Hashara-Birtara-Singpara...</td>\n      <td>5.665</td>\n      <td>3.45</td>\n      <td>1997.0</td>\n      <td>1.0</td>\n      <td>Dhaka</td>\n      <td>Dhaka</td>\n      <td>Munshiganj</td>\n      <td>Keraniganj</td>\n      <td>23.549917</td>\n      <td>90.331250</td>\n      <td>bcs1</td>\n    </tr>\n  </tbody>\n</table>\n</div>"
     },
     "execution_count": 7,
     "metadata": {},
     "output_type": "execute_result"
    }
   ],
   "source": [
    "bmms[bmms['road'] == 'Z8203']"
   ],
   "metadata": {
    "collapsed": false,
    "ExecuteTime": {
     "end_time": "2024-02-19T15:22:05.348567900Z",
     "start_time": "2024-02-19T15:22:05.320890400Z"
    }
   },
   "id": "9534b8bbb5fe9559"
  },
  {
   "cell_type": "code",
   "execution_count": 8,
   "outputs": [
    {
     "data": {
      "text/plain": "      road    min_lat    max_lat    min_lon    max_lon\n822  Z8203  23.531888  23.666083  90.306167  90.339555",
      "text/html": "<div>\n<style scoped>\n    .dataframe tbody tr th:only-of-type {\n        vertical-align: middle;\n    }\n\n    .dataframe tbody tr th {\n        vertical-align: top;\n    }\n\n    .dataframe thead th {\n        text-align: right;\n    }\n</style>\n<table border=\"1\" class=\"dataframe\">\n  <thead>\n    <tr style=\"text-align: right;\">\n      <th></th>\n      <th>road</th>\n      <th>min_lat</th>\n      <th>max_lat</th>\n      <th>min_lon</th>\n      <th>max_lon</th>\n    </tr>\n  </thead>\n  <tbody>\n    <tr>\n      <th>822</th>\n      <td>Z8203</td>\n      <td>23.531888</td>\n      <td>23.666083</td>\n      <td>90.306167</td>\n      <td>90.339555</td>\n    </tr>\n  </tbody>\n</table>\n</div>"
     },
     "execution_count": 8,
     "metadata": {},
     "output_type": "execute_result"
    }
   ],
   "source": [
    "df_road_ranges[df_road_ranges['road'] == 'Z8203']"
   ],
   "metadata": {
    "collapsed": false,
    "ExecuteTime": {
     "end_time": "2024-02-19T15:22:05.364675Z",
     "start_time": "2024-02-19T15:22:05.347567500Z"
    }
   },
   "id": "494365bd7bb85c3d"
  },
  {
   "cell_type": "code",
   "execution_count": 8,
   "outputs": [],
   "source": [],
   "metadata": {
    "collapsed": false,
    "ExecuteTime": {
     "end_time": "2024-02-19T15:22:05.365675300Z",
     "start_time": "2024-02-19T15:22:05.358145800Z"
    }
   },
   "id": "6f3840321d8766c4"
  },
  {
   "cell_type": "code",
   "execution_count": 8,
   "outputs": [],
   "source": [],
   "metadata": {
    "collapsed": false,
    "ExecuteTime": {
     "end_time": "2024-02-19T15:05:23.245565500Z",
     "start_time": "2024-02-19T15:05:23.189457400Z"
    }
   },
   "id": "b2127a6e63d884bd"
  },
  {
   "cell_type": "code",
   "execution_count": 8,
   "outputs": [],
   "source": [],
   "metadata": {
    "collapsed": false,
    "ExecuteTime": {
     "end_time": "2024-02-19T15:05:23.246650500Z",
     "start_time": "2024-02-19T15:05:23.193428300Z"
    }
   },
   "id": "a13d7c1b2cce8b2f"
  },
  {
   "cell_type": "code",
   "execution_count": null,
   "outputs": [],
   "source": [],
   "metadata": {
    "collapsed": false
   },
   "id": "3d3d92bfc2e23f08"
  }
 ],
 "metadata": {
  "kernelspec": {
   "display_name": "Python 3",
   "language": "python",
   "name": "python3"
  },
  "language_info": {
   "codemirror_mode": {
    "name": "ipython",
    "version": 2
   },
   "file_extension": ".py",
   "mimetype": "text/x-python",
   "name": "python",
   "nbconvert_exporter": "python",
   "pygments_lexer": "ipython2",
   "version": "2.7.6"
  }
 },
 "nbformat": 4,
 "nbformat_minor": 5
}
